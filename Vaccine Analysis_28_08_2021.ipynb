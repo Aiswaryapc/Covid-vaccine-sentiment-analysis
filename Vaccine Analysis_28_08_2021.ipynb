{
 "cells": [
  {
   "cell_type": "markdown",
   "metadata": {
    "id": "oO2QyN6ahz0g"
   },
   "source": [
    "# Sentiment Analysis of COVID-19 Vaccine Tweets (28/08/2021)\n"
   ]
  },
  {
   "cell_type": "markdown",
   "metadata": {},
   "source": [
    "## Data Access"
   ]
  },
  {
   "cell_type": "code",
   "execution_count": 93,
   "metadata": {
    "ExecuteTime": {
     "end_time": "2021-03-22T18:44:58.367629Z",
     "start_time": "2021-03-22T18:44:53.430729Z"
    },
    "id": "FaNuhwK7qIgY"
   },
   "outputs": [],
   "source": [
    "import pandas as pd\n",
    "pd.options.mode.chained_assignment = None\n",
    "import numpy as np\n",
    "import matplotlib.pyplot as plt\n",
    "import re\n",
    "import seaborn as sns\n",
    "from textblob import TextBlob\n",
    "import plotly.express as px"
   ]
  },
  {
   "cell_type": "code",
   "execution_count": 94,
   "metadata": {
    "ExecuteTime": {
     "end_time": "2021-03-22T18:44:58.738760Z",
     "start_time": "2021-03-22T18:44:58.376003Z"
    },
    "colab": {
     "base_uri": "https://localhost:8080/",
     "height": 1000
    },
    "id": "XsCbO6-seA4C",
    "outputId": "e382f731-d867-401c-b101-6d90b8979634"
   },
   "outputs": [
    {
     "data": {
      "text/html": [
       "<div>\n",
       "<style scoped>\n",
       "    .dataframe tbody tr th:only-of-type {\n",
       "        vertical-align: middle;\n",
       "    }\n",
       "\n",
       "    .dataframe tbody tr th {\n",
       "        vertical-align: top;\n",
       "    }\n",
       "\n",
       "    .dataframe thead th {\n",
       "        text-align: right;\n",
       "    }\n",
       "</style>\n",
       "<table border=\"1\" class=\"dataframe\">\n",
       "  <thead>\n",
       "    <tr style=\"text-align: right;\">\n",
       "      <th></th>\n",
       "      <th>id</th>\n",
       "      <th>user_name</th>\n",
       "      <th>user_location</th>\n",
       "      <th>user_description</th>\n",
       "      <th>user_created</th>\n",
       "      <th>user_followers</th>\n",
       "      <th>user_friends</th>\n",
       "      <th>user_favourites</th>\n",
       "      <th>user_verified</th>\n",
       "      <th>date</th>\n",
       "      <th>text</th>\n",
       "      <th>hashtags</th>\n",
       "      <th>source</th>\n",
       "      <th>retweets</th>\n",
       "      <th>favorites</th>\n",
       "      <th>is_retweet</th>\n",
       "    </tr>\n",
       "  </thead>\n",
       "  <tbody>\n",
       "    <tr>\n",
       "      <th>0</th>\n",
       "      <td>1340539111971516416</td>\n",
       "      <td>Rachel Roh</td>\n",
       "      <td>La Crescenta-Montrose, CA</td>\n",
       "      <td>Aggregator of Asian American news; scanning diverse sources 24/7/365. RT's, Follows and 'Likes' will fuel me 👩‍💻</td>\n",
       "      <td>2009-04-08 17:52:46</td>\n",
       "      <td>405</td>\n",
       "      <td>1692</td>\n",
       "      <td>3247</td>\n",
       "      <td>False</td>\n",
       "      <td>2020-12-20 06:06:44</td>\n",
       "      <td>Same folks said daikon paste could treat a cytokine storm #PfizerBioNTech https://t.co/xeHhIMg1kF</td>\n",
       "      <td>['PfizerBioNTech']</td>\n",
       "      <td>Twitter for Android</td>\n",
       "      <td>0</td>\n",
       "      <td>0</td>\n",
       "      <td>False</td>\n",
       "    </tr>\n",
       "    <tr>\n",
       "      <th>2</th>\n",
       "      <td>1337858199140118533</td>\n",
       "      <td>eli🇱🇹🇪🇺👌</td>\n",
       "      <td>Your Bed</td>\n",
       "      <td>heil, hydra 🖐☺</td>\n",
       "      <td>2020-06-25 23:30:28</td>\n",
       "      <td>10</td>\n",
       "      <td>88</td>\n",
       "      <td>155</td>\n",
       "      <td>False</td>\n",
       "      <td>2020-12-12 20:33:45</td>\n",
       "      <td>#coronavirus #SputnikV #AstraZeneca #PfizerBioNTech #Moderna #Covid_19 Russian vaccine is created to last 2-4 years… https://t.co/ieYlCKBr8P</td>\n",
       "      <td>['coronavirus', 'SputnikV', 'AstraZeneca', 'PfizerBioNTech', 'Moderna', 'Covid_19']</td>\n",
       "      <td>Twitter for Android</td>\n",
       "      <td>0</td>\n",
       "      <td>0</td>\n",
       "      <td>False</td>\n",
       "    </tr>\n",
       "    <tr>\n",
       "      <th>6</th>\n",
       "      <td>1337851215875608579</td>\n",
       "      <td>Gunther Fehlinger</td>\n",
       "      <td>Austria, Ukraine and Kosovo</td>\n",
       "      <td>End North Stream 2 now - the pipeline of corruption, funding Russias war against Ukraine,Georgia, Syria and political intervention in USA and EU must be stopped</td>\n",
       "      <td>2013-06-10 17:49:22</td>\n",
       "      <td>2731</td>\n",
       "      <td>5001</td>\n",
       "      <td>69344</td>\n",
       "      <td>False</td>\n",
       "      <td>2020-12-12 20:06:00</td>\n",
       "      <td>it is a bit sad to claim the fame for success of #vaccination on patriotic competition between USA, Canada, UK and… https://t.co/IfMrAyGyTP</td>\n",
       "      <td>['vaccination']</td>\n",
       "      <td>Twitter Web App</td>\n",
       "      <td>0</td>\n",
       "      <td>4</td>\n",
       "      <td>False</td>\n",
       "    </tr>\n",
       "    <tr>\n",
       "      <th>9</th>\n",
       "      <td>1337842295857623042</td>\n",
       "      <td>Ch.Amjad Ali</td>\n",
       "      <td>Islamabad</td>\n",
       "      <td>#ProudPakistani #LovePakArmy #PMIK @insafianspower1\\n#PoliticalScience #InternationalAffairs \\n#PAKUSTV #Newyork #Islamabad</td>\n",
       "      <td>2012-11-12 04:18:12</td>\n",
       "      <td>671</td>\n",
       "      <td>2368</td>\n",
       "      <td>20469</td>\n",
       "      <td>False</td>\n",
       "      <td>2020-12-12 19:30:33</td>\n",
       "      <td>#CovidVaccine \\n\\nStates will start getting #COVID19Vaccine Monday, #US says \\n#pakustv #NYC #Healthcare #GlobalGoals… https://t.co/MksOvBvs5w</td>\n",
       "      <td>['CovidVaccine', 'COVID19Vaccine', 'US', 'pakustv', 'NYC', 'Healthcare', 'GlobalGoals']</td>\n",
       "      <td>Twitter Web App</td>\n",
       "      <td>0</td>\n",
       "      <td>0</td>\n",
       "      <td>False</td>\n",
       "    </tr>\n",
       "    <tr>\n",
       "      <th>10</th>\n",
       "      <td>1337841934170255365</td>\n",
       "      <td>Tamer Yazar</td>\n",
       "      <td>Turkey-Israel</td>\n",
       "      <td>Im Market Analyst, also Editor... working (freelance) for some companies that need analysis for their products in Int. Markets \\n- Instagram :  tamervisits -</td>\n",
       "      <td>2009-09-17 16:45:16</td>\n",
       "      <td>1302</td>\n",
       "      <td>78</td>\n",
       "      <td>339</td>\n",
       "      <td>False</td>\n",
       "      <td>2020-12-12 19:29:07</td>\n",
       "      <td>while deaths are closing in on the 300,000 mark... millions of people wait #PfizerBioNTech #Vaccine !\\n-\\nThe first U… https://t.co/uQ3A2f7SVP</td>\n",
       "      <td>['PfizerBioNTech', 'Vaccine']</td>\n",
       "      <td>Twitter Web App</td>\n",
       "      <td>0</td>\n",
       "      <td>0</td>\n",
       "      <td>False</td>\n",
       "    </tr>\n",
       "    <tr>\n",
       "      <th>...</th>\n",
       "      <td>...</td>\n",
       "      <td>...</td>\n",
       "      <td>...</td>\n",
       "      <td>...</td>\n",
       "      <td>...</td>\n",
       "      <td>...</td>\n",
       "      <td>...</td>\n",
       "      <td>...</td>\n",
       "      <td>...</td>\n",
       "      <td>...</td>\n",
       "      <td>...</td>\n",
       "      <td>...</td>\n",
       "      <td>...</td>\n",
       "      <td>...</td>\n",
       "      <td>...</td>\n",
       "      <td>...</td>\n",
       "    </tr>\n",
       "    <tr>\n",
       "      <th>177011</th>\n",
       "      <td>1428288192210374662</td>\n",
       "      <td>VaxBLR</td>\n",
       "      <td>Bengaluru, India</td>\n",
       "      <td>Hourly updates on FREE and PAID 18+ and 45+ vaccine slot availability across #Bengaluru BBMP,URBAN &amp; RURAL</td>\n",
       "      <td>2021-06-21 08:44:34</td>\n",
       "      <td>24</td>\n",
       "      <td>0</td>\n",
       "      <td>0</td>\n",
       "      <td>False</td>\n",
       "      <td>2021-08-19 09:30:15</td>\n",
       "      <td>18-44 #URBAN #Bengaluru #CovidVaccine Availability for 19/08 at 03:00PM\\nFREE Slots 0\\nPAID Slots \\n#COVISHIELD - Dose… https://t.co/C9116FQSvC</td>\n",
       "      <td>['URBAN', 'Bengaluru', 'CovidVaccine', 'COVISHIELD']</td>\n",
       "      <td>VaxBlr</td>\n",
       "      <td>0</td>\n",
       "      <td>0</td>\n",
       "      <td>False</td>\n",
       "    </tr>\n",
       "    <tr>\n",
       "      <th>177012</th>\n",
       "      <td>1428280699883200512</td>\n",
       "      <td>VaxBLR</td>\n",
       "      <td>Bengaluru, India</td>\n",
       "      <td>Hourly updates on FREE and PAID 18+ and 45+ vaccine slot availability across #Bengaluru BBMP,URBAN &amp; RURAL</td>\n",
       "      <td>2021-06-21 08:44:34</td>\n",
       "      <td>24</td>\n",
       "      <td>0</td>\n",
       "      <td>0</td>\n",
       "      <td>False</td>\n",
       "      <td>2021-08-19 09:00:29</td>\n",
       "      <td>45+ #BBMP #Bengaluru #CovidVaccine Availability for 19/08 at 02:30PM\\nFREE Slots \\n#COVISHIELD - Dose1:9, Dose2:2… https://t.co/plTlxFM6Bp</td>\n",
       "      <td>['BBMP', 'Bengaluru', 'CovidVaccine', 'COVISHIELD']</td>\n",
       "      <td>VaxBlr</td>\n",
       "      <td>0</td>\n",
       "      <td>1</td>\n",
       "      <td>False</td>\n",
       "    </tr>\n",
       "    <tr>\n",
       "      <th>177013</th>\n",
       "      <td>1428280655767502850</td>\n",
       "      <td>VaxBLR</td>\n",
       "      <td>Bengaluru, India</td>\n",
       "      <td>Hourly updates on FREE and PAID 18+ and 45+ vaccine slot availability across #Bengaluru BBMP,URBAN &amp; RURAL</td>\n",
       "      <td>2021-06-21 08:44:34</td>\n",
       "      <td>24</td>\n",
       "      <td>0</td>\n",
       "      <td>0</td>\n",
       "      <td>False</td>\n",
       "      <td>2021-08-19 09:00:19</td>\n",
       "      <td>45+ #URBAN #Bengaluru #CovidVaccine Availability for 19/08 at 02:30PM\\nFREE Slots 0\\nPAID Slots \\n#COVISHIELD - Dose1:… https://t.co/PnrO67Ts47</td>\n",
       "      <td>['URBAN', 'Bengaluru', 'CovidVaccine', 'COVISHIELD']</td>\n",
       "      <td>VaxBlr</td>\n",
       "      <td>0</td>\n",
       "      <td>0</td>\n",
       "      <td>False</td>\n",
       "    </tr>\n",
       "    <tr>\n",
       "      <th>177014</th>\n",
       "      <td>1428273162270035969</td>\n",
       "      <td>VaxBLR</td>\n",
       "      <td>Bengaluru, India</td>\n",
       "      <td>Hourly updates on FREE and PAID 18+ and 45+ vaccine slot availability across #Bengaluru BBMP,URBAN &amp; RURAL</td>\n",
       "      <td>2021-06-21 08:44:34</td>\n",
       "      <td>24</td>\n",
       "      <td>0</td>\n",
       "      <td>0</td>\n",
       "      <td>False</td>\n",
       "      <td>2021-08-19 08:30:32</td>\n",
       "      <td>18-44 #BBMP #Bengaluru #CovidVaccine Availability for 19/08 at 02:00PM\\nFREE Slots \\n#COVISHIELD - Dose1:1, Dose2:0\\nP… https://t.co/XVFLUSUypq</td>\n",
       "      <td>['BBMP', 'Bengaluru', 'CovidVaccine', 'COVISHIELD']</td>\n",
       "      <td>VaxBlr</td>\n",
       "      <td>0</td>\n",
       "      <td>1</td>\n",
       "      <td>False</td>\n",
       "    </tr>\n",
       "    <tr>\n",
       "      <th>177015</th>\n",
       "      <td>1428273118229925889</td>\n",
       "      <td>VaxBLR</td>\n",
       "      <td>Bengaluru, India</td>\n",
       "      <td>Hourly updates on FREE and PAID 18+ and 45+ vaccine slot availability across #Bengaluru BBMP,URBAN &amp; RURAL</td>\n",
       "      <td>2021-06-21 08:44:34</td>\n",
       "      <td>24</td>\n",
       "      <td>0</td>\n",
       "      <td>0</td>\n",
       "      <td>False</td>\n",
       "      <td>2021-08-19 08:30:22</td>\n",
       "      <td>18-44 #URBAN #Bengaluru #CovidVaccine Availability for 19/08 at 02:00PM\\nFREE Slots 0\\nPAID Slots \\n#COVISHIELD - Dose… https://t.co/CaY3SvBesk</td>\n",
       "      <td>['URBAN', 'Bengaluru', 'CovidVaccine', 'COVISHIELD']</td>\n",
       "      <td>VaxBlr</td>\n",
       "      <td>0</td>\n",
       "      <td>0</td>\n",
       "      <td>False</td>\n",
       "    </tr>\n",
       "  </tbody>\n",
       "</table>\n",
       "<p>89477 rows × 16 columns</p>\n",
       "</div>"
      ],
      "text/plain": [
       "                         id          user_name                user_location  \\\n",
       "0       1340539111971516416         Rachel Roh    La Crescenta-Montrose, CA   \n",
       "2       1337858199140118533           eli🇱🇹🇪🇺👌                     Your Bed   \n",
       "6       1337851215875608579  Gunther Fehlinger  Austria, Ukraine and Kosovo   \n",
       "9       1337842295857623042       Ch.Amjad Ali                    Islamabad   \n",
       "10      1337841934170255365        Tamer Yazar                Turkey-Israel   \n",
       "...                     ...                ...                          ...   \n",
       "177011  1428288192210374662             VaxBLR             Bengaluru, India   \n",
       "177012  1428280699883200512             VaxBLR             Bengaluru, India   \n",
       "177013  1428280655767502850             VaxBLR             Bengaluru, India   \n",
       "177014  1428273162270035969             VaxBLR             Bengaluru, India   \n",
       "177015  1428273118229925889             VaxBLR             Bengaluru, India   \n",
       "\n",
       "                                                                                                                                                        user_description  \\\n",
       "0                                                       Aggregator of Asian American news; scanning diverse sources 24/7/365. RT's, Follows and 'Likes' will fuel me 👩‍💻   \n",
       "2                                                                                                                                                         heil, hydra 🖐☺   \n",
       "6       End North Stream 2 now - the pipeline of corruption, funding Russias war against Ukraine,Georgia, Syria and political intervention in USA and EU must be stopped   \n",
       "9                                            #ProudPakistani #LovePakArmy #PMIK @insafianspower1\\n#PoliticalScience #InternationalAffairs \\n#PAKUSTV #Newyork #Islamabad   \n",
       "10         Im Market Analyst, also Editor... working (freelance) for some companies that need analysis for their products in Int. Markets \\n- Instagram :  tamervisits -   \n",
       "...                                                                                                                                                                  ...   \n",
       "177011                                                        Hourly updates on FREE and PAID 18+ and 45+ vaccine slot availability across #Bengaluru BBMP,URBAN & RURAL   \n",
       "177012                                                        Hourly updates on FREE and PAID 18+ and 45+ vaccine slot availability across #Bengaluru BBMP,URBAN & RURAL   \n",
       "177013                                                        Hourly updates on FREE and PAID 18+ and 45+ vaccine slot availability across #Bengaluru BBMP,URBAN & RURAL   \n",
       "177014                                                        Hourly updates on FREE and PAID 18+ and 45+ vaccine slot availability across #Bengaluru BBMP,URBAN & RURAL   \n",
       "177015                                                        Hourly updates on FREE and PAID 18+ and 45+ vaccine slot availability across #Bengaluru BBMP,URBAN & RURAL   \n",
       "\n",
       "               user_created  user_followers  user_friends  user_favourites  \\\n",
       "0       2009-04-08 17:52:46             405          1692             3247   \n",
       "2       2020-06-25 23:30:28              10            88              155   \n",
       "6       2013-06-10 17:49:22            2731          5001            69344   \n",
       "9       2012-11-12 04:18:12             671          2368            20469   \n",
       "10      2009-09-17 16:45:16            1302            78              339   \n",
       "...                     ...             ...           ...              ...   \n",
       "177011  2021-06-21 08:44:34              24             0                0   \n",
       "177012  2021-06-21 08:44:34              24             0                0   \n",
       "177013  2021-06-21 08:44:34              24             0                0   \n",
       "177014  2021-06-21 08:44:34              24             0                0   \n",
       "177015  2021-06-21 08:44:34              24             0                0   \n",
       "\n",
       "        user_verified                 date  \\\n",
       "0               False  2020-12-20 06:06:44   \n",
       "2               False  2020-12-12 20:33:45   \n",
       "6               False  2020-12-12 20:06:00   \n",
       "9               False  2020-12-12 19:30:33   \n",
       "10              False  2020-12-12 19:29:07   \n",
       "...               ...                  ...   \n",
       "177011          False  2021-08-19 09:30:15   \n",
       "177012          False  2021-08-19 09:00:29   \n",
       "177013          False  2021-08-19 09:00:19   \n",
       "177014          False  2021-08-19 08:30:32   \n",
       "177015          False  2021-08-19 08:30:22   \n",
       "\n",
       "                                                                                                                                                   text  \\\n",
       "0                                                     Same folks said daikon paste could treat a cytokine storm #PfizerBioNTech https://t.co/xeHhIMg1kF   \n",
       "2          #coronavirus #SputnikV #AstraZeneca #PfizerBioNTech #Moderna #Covid_19 Russian vaccine is created to last 2-4 years… https://t.co/ieYlCKBr8P   \n",
       "6           it is a bit sad to claim the fame for success of #vaccination on patriotic competition between USA, Canada, UK and… https://t.co/IfMrAyGyTP   \n",
       "9        #CovidVaccine \\n\\nStates will start getting #COVID19Vaccine Monday, #US says \\n#pakustv #NYC #Healthcare #GlobalGoals… https://t.co/MksOvBvs5w   \n",
       "10       while deaths are closing in on the 300,000 mark... millions of people wait #PfizerBioNTech #Vaccine !\\n-\\nThe first U… https://t.co/uQ3A2f7SVP   \n",
       "...                                                                                                                                                 ...   \n",
       "177011  18-44 #URBAN #Bengaluru #CovidVaccine Availability for 19/08 at 03:00PM\\nFREE Slots 0\\nPAID Slots \\n#COVISHIELD - Dose… https://t.co/C9116FQSvC   \n",
       "177012       45+ #BBMP #Bengaluru #CovidVaccine Availability for 19/08 at 02:30PM\\nFREE Slots \\n#COVISHIELD - Dose1:9, Dose2:2… https://t.co/plTlxFM6Bp   \n",
       "177013  45+ #URBAN #Bengaluru #CovidVaccine Availability for 19/08 at 02:30PM\\nFREE Slots 0\\nPAID Slots \\n#COVISHIELD - Dose1:… https://t.co/PnrO67Ts47   \n",
       "177014  18-44 #BBMP #Bengaluru #CovidVaccine Availability for 19/08 at 02:00PM\\nFREE Slots \\n#COVISHIELD - Dose1:1, Dose2:0\\nP… https://t.co/XVFLUSUypq   \n",
       "177015  18-44 #URBAN #Bengaluru #CovidVaccine Availability for 19/08 at 02:00PM\\nFREE Slots 0\\nPAID Slots \\n#COVISHIELD - Dose… https://t.co/CaY3SvBesk   \n",
       "\n",
       "                                                                                       hashtags  \\\n",
       "0                                                                            ['PfizerBioNTech']   \n",
       "2           ['coronavirus', 'SputnikV', 'AstraZeneca', 'PfizerBioNTech', 'Moderna', 'Covid_19']   \n",
       "6                                                                               ['vaccination']   \n",
       "9       ['CovidVaccine', 'COVID19Vaccine', 'US', 'pakustv', 'NYC', 'Healthcare', 'GlobalGoals']   \n",
       "10                                                                ['PfizerBioNTech', 'Vaccine']   \n",
       "...                                                                                         ...   \n",
       "177011                                     ['URBAN', 'Bengaluru', 'CovidVaccine', 'COVISHIELD']   \n",
       "177012                                      ['BBMP', 'Bengaluru', 'CovidVaccine', 'COVISHIELD']   \n",
       "177013                                     ['URBAN', 'Bengaluru', 'CovidVaccine', 'COVISHIELD']   \n",
       "177014                                      ['BBMP', 'Bengaluru', 'CovidVaccine', 'COVISHIELD']   \n",
       "177015                                     ['URBAN', 'Bengaluru', 'CovidVaccine', 'COVISHIELD']   \n",
       "\n",
       "                     source  retweets  favorites  is_retweet  \n",
       "0       Twitter for Android         0          0       False  \n",
       "2       Twitter for Android         0          0       False  \n",
       "6           Twitter Web App         0          4       False  \n",
       "9           Twitter Web App         0          0       False  \n",
       "10          Twitter Web App         0          0       False  \n",
       "...                     ...       ...        ...         ...  \n",
       "177011               VaxBlr         0          0       False  \n",
       "177012               VaxBlr         0          1       False  \n",
       "177013               VaxBlr         0          0       False  \n",
       "177014               VaxBlr         0          1       False  \n",
       "177015               VaxBlr         0          0       False  \n",
       "\n",
       "[89477 rows x 16 columns]"
      ]
     },
     "execution_count": 94,
     "metadata": {},
     "output_type": "execute_result"
    }
   ],
   "source": [
    "df = pd.read_csv(\"D:/DataScience/project/Workspace/vaccination_all_tweets.csv\", quotechar='\"', delimiter=',').dropna()\n",
    "df"
   ]
  },
  {
   "cell_type": "code",
   "execution_count": 95,
   "metadata": {
    "ExecuteTime": {
     "end_time": "2021-03-22T18:44:58.753693Z",
     "start_time": "2021-03-22T18:44:58.746063Z"
    },
    "colab": {
     "base_uri": "https://localhost:8080/"
    },
    "id": "qXJs07O6hLwu",
    "outputId": "9d5dd444-fa42-465b-fac1-853dfbbf569b"
   },
   "outputs": [
    {
     "name": "stdout",
     "output_type": "stream",
     "text": [
      "Index(['id', 'user_name', 'user_location', 'user_description', 'user_created',\n",
      "       'user_followers', 'user_friends', 'user_favourites', 'user_verified',\n",
      "       'date', 'text', 'hashtags', 'source', 'retweets', 'favorites',\n",
      "       'is_retweet'],\n",
      "      dtype='object')\n",
      "(89477, 16)\n"
     ]
    }
   ],
   "source": [
    "print(df.columns)\n",
    "print(df.shape)"
   ]
  },
  {
   "cell_type": "code",
   "execution_count": 96,
   "metadata": {
    "ExecuteTime": {
     "end_time": "2021-03-22T18:44:58.800465Z",
     "start_time": "2021-03-22T18:44:58.778476Z"
    },
    "colab": {
     "base_uri": "https://localhost:8080/"
    },
    "id": "uBAP9DvPh5Q_",
    "outputId": "dc34a376-e2b7-44c4-baf1-dd5872dbedf0"
   },
   "outputs": [
    {
     "name": "stdout",
     "output_type": "stream",
     "text": [
      "<class 'pandas.core.frame.DataFrame'>\n",
      "Int64Index: 89477 entries, 0 to 177015\n",
      "Data columns (total 16 columns):\n",
      " #   Column            Non-Null Count  Dtype \n",
      "---  ------            --------------  ----- \n",
      " 0   id                89477 non-null  int64 \n",
      " 1   user_name         89477 non-null  object\n",
      " 2   user_location     89477 non-null  object\n",
      " 3   user_description  89477 non-null  object\n",
      " 4   user_created      89477 non-null  object\n",
      " 5   user_followers    89477 non-null  int64 \n",
      " 6   user_friends      89477 non-null  int64 \n",
      " 7   user_favourites   89477 non-null  int64 \n",
      " 8   user_verified     89477 non-null  bool  \n",
      " 9   date              89477 non-null  object\n",
      " 10  text              89477 non-null  object\n",
      " 11  hashtags          89477 non-null  object\n",
      " 12  source            89477 non-null  object\n",
      " 13  retweets          89477 non-null  int64 \n",
      " 14  favorites         89477 non-null  int64 \n",
      " 15  is_retweet        89477 non-null  bool  \n",
      "dtypes: bool(2), int64(6), object(8)\n",
      "memory usage: 10.4+ MB\n"
     ]
    }
   ],
   "source": [
    "df.info()"
   ]
  },
  {
   "cell_type": "markdown",
   "metadata": {
    "id": "o1SiO9b-rV1H"
   },
   "source": [
    "# Data Wrangling & Preprocessing"
   ]
  },
  {
   "cell_type": "code",
   "execution_count": 97,
   "metadata": {
    "ExecuteTime": {
     "end_time": "2021-03-22T18:44:58.902506Z",
     "start_time": "2021-03-22T18:44:58.867912Z"
    },
    "colab": {
     "base_uri": "https://localhost:8080/"
    },
    "id": "7Y07wzyue8UU",
    "outputId": "92b7ca4c-f015-4761-bb8a-abb346b9657d"
   },
   "outputs": [
    {
     "name": "stdout",
     "output_type": "stream",
     "text": [
      "(89354, 16)\n"
     ]
    }
   ],
   "source": [
    "df = df.drop_duplicates('text')\n",
    "print(df.shape)"
   ]
  },
  {
   "cell_type": "code",
   "execution_count": 98,
   "metadata": {
    "ExecuteTime": {
     "end_time": "2021-03-22T18:44:59.110278Z",
     "start_time": "2021-03-22T18:44:58.916217Z"
    },
    "colab": {
     "base_uri": "https://localhost:8080/",
     "height": 479
    },
    "id": "9ygDMXo5fUrF",
    "outputId": "87bde875-896b-42f1-b965-59c7d4898580"
   },
   "outputs": [
    {
     "data": {
      "text/html": [
       "<div>\n",
       "<style scoped>\n",
       "    .dataframe tbody tr th:only-of-type {\n",
       "        vertical-align: middle;\n",
       "    }\n",
       "\n",
       "    .dataframe tbody tr th {\n",
       "        vertical-align: top;\n",
       "    }\n",
       "\n",
       "    .dataframe thead th {\n",
       "        text-align: right;\n",
       "    }\n",
       "</style>\n",
       "<table border=\"1\" class=\"dataframe\">\n",
       "  <thead>\n",
       "    <tr style=\"text-align: right;\">\n",
       "      <th></th>\n",
       "      <th>id</th>\n",
       "      <th>user_name</th>\n",
       "      <th>user_location</th>\n",
       "      <th>user_description</th>\n",
       "      <th>user_created</th>\n",
       "      <th>user_followers</th>\n",
       "      <th>user_friends</th>\n",
       "      <th>user_favourites</th>\n",
       "      <th>user_verified</th>\n",
       "      <th>date</th>\n",
       "      <th>text</th>\n",
       "      <th>hashtags</th>\n",
       "      <th>source</th>\n",
       "      <th>retweets</th>\n",
       "      <th>favorites</th>\n",
       "      <th>is_retweet</th>\n",
       "    </tr>\n",
       "  </thead>\n",
       "  <tbody>\n",
       "    <tr>\n",
       "      <th>0</th>\n",
       "      <td>1340539111971516416</td>\n",
       "      <td>Rachel Roh</td>\n",
       "      <td>La Crescenta-Montrose, CA</td>\n",
       "      <td>Aggregator of Asian American news; scanning diverse sources 24/7/365. RT's, Follows and 'Likes' will fuel me 👩‍💻</td>\n",
       "      <td>2009-04-08 17:52:46</td>\n",
       "      <td>405</td>\n",
       "      <td>1692</td>\n",
       "      <td>3247</td>\n",
       "      <td>False</td>\n",
       "      <td>2020-12-20 06:06:44</td>\n",
       "      <td>Same folks said daikon paste could treat a cytokine storm #PfizerBioNTech https://t.co/xeHhIMg1kF</td>\n",
       "      <td>['PfizerBioNTech']</td>\n",
       "      <td>Twitter for Android</td>\n",
       "      <td>0</td>\n",
       "      <td>0</td>\n",
       "      <td>False</td>\n",
       "    </tr>\n",
       "    <tr>\n",
       "      <th>2</th>\n",
       "      <td>1337858199140118533</td>\n",
       "      <td>eli🇱🇹🇪🇺👌</td>\n",
       "      <td>Your Bed</td>\n",
       "      <td>heil, hydra 🖐☺</td>\n",
       "      <td>2020-06-25 23:30:28</td>\n",
       "      <td>10</td>\n",
       "      <td>88</td>\n",
       "      <td>155</td>\n",
       "      <td>False</td>\n",
       "      <td>2020-12-12 20:33:45</td>\n",
       "      <td>#coronavirus #SputnikV #AstraZeneca #PfizerBioNTech #Moderna #Covid_19 Russian vaccine is created to last 2-4 years… https://t.co/ieYlCKBr8P</td>\n",
       "      <td>['coronavirus', 'SputnikV', 'AstraZeneca', 'PfizerBioNTech', 'Moderna', 'Covid_19']</td>\n",
       "      <td>Twitter for Android</td>\n",
       "      <td>0</td>\n",
       "      <td>0</td>\n",
       "      <td>False</td>\n",
       "    </tr>\n",
       "    <tr>\n",
       "      <th>6</th>\n",
       "      <td>1337851215875608579</td>\n",
       "      <td>Gunther Fehlinger</td>\n",
       "      <td>Austria, Ukraine and Kosovo</td>\n",
       "      <td>End North Stream 2 now - the pipeline of corruption, funding Russias war against Ukraine,Georgia, Syria and political intervention in USA and EU must be stopped</td>\n",
       "      <td>2013-06-10 17:49:22</td>\n",
       "      <td>2731</td>\n",
       "      <td>5001</td>\n",
       "      <td>69344</td>\n",
       "      <td>False</td>\n",
       "      <td>2020-12-12 20:06:00</td>\n",
       "      <td>it is a bit sad to claim the fame for success of #vaccination on patriotic competition between USA, Canada, UK and… https://t.co/IfMrAyGyTP</td>\n",
       "      <td>['vaccination']</td>\n",
       "      <td>Twitter Web App</td>\n",
       "      <td>0</td>\n",
       "      <td>4</td>\n",
       "      <td>False</td>\n",
       "    </tr>\n",
       "    <tr>\n",
       "      <th>9</th>\n",
       "      <td>1337842295857623042</td>\n",
       "      <td>Ch.Amjad Ali</td>\n",
       "      <td>Islamabad</td>\n",
       "      <td>#ProudPakistani #LovePakArmy #PMIK @insafianspower1\\n#PoliticalScience #InternationalAffairs \\n#PAKUSTV #Newyork #Islamabad</td>\n",
       "      <td>2012-11-12 04:18:12</td>\n",
       "      <td>671</td>\n",
       "      <td>2368</td>\n",
       "      <td>20469</td>\n",
       "      <td>False</td>\n",
       "      <td>2020-12-12 19:30:33</td>\n",
       "      <td>#CovidVaccine \\n\\nStates will start getting #COVID19Vaccine Monday, #US says \\n#pakustv #NYC #Healthcare #GlobalGoals… https://t.co/MksOvBvs5w</td>\n",
       "      <td>['CovidVaccine', 'COVID19Vaccine', 'US', 'pakustv', 'NYC', 'Healthcare', 'GlobalGoals']</td>\n",
       "      <td>Twitter Web App</td>\n",
       "      <td>0</td>\n",
       "      <td>0</td>\n",
       "      <td>False</td>\n",
       "    </tr>\n",
       "    <tr>\n",
       "      <th>10</th>\n",
       "      <td>1337841934170255365</td>\n",
       "      <td>Tamer Yazar</td>\n",
       "      <td>Turkey-Israel</td>\n",
       "      <td>Im Market Analyst, also Editor... working (freelance) for some companies that need analysis for their products in Int. Markets \\n- Instagram :  tamervisits -</td>\n",
       "      <td>2009-09-17 16:45:16</td>\n",
       "      <td>1302</td>\n",
       "      <td>78</td>\n",
       "      <td>339</td>\n",
       "      <td>False</td>\n",
       "      <td>2020-12-12 19:29:07</td>\n",
       "      <td>while deaths are closing in on the 300,000 mark... millions of people wait #PfizerBioNTech #Vaccine !\\n-\\nThe first U… https://t.co/uQ3A2f7SVP</td>\n",
       "      <td>['PfizerBioNTech', 'Vaccine']</td>\n",
       "      <td>Twitter Web App</td>\n",
       "      <td>0</td>\n",
       "      <td>0</td>\n",
       "      <td>False</td>\n",
       "    </tr>\n",
       "  </tbody>\n",
       "</table>\n",
       "</div>"
      ],
      "text/plain": [
       "                     id          user_name                user_location  \\\n",
       "0   1340539111971516416         Rachel Roh    La Crescenta-Montrose, CA   \n",
       "2   1337858199140118533           eli🇱🇹🇪🇺👌                     Your Bed   \n",
       "6   1337851215875608579  Gunther Fehlinger  Austria, Ukraine and Kosovo   \n",
       "9   1337842295857623042       Ch.Amjad Ali                    Islamabad   \n",
       "10  1337841934170255365        Tamer Yazar                Turkey-Israel   \n",
       "\n",
       "                                                                                                                                                    user_description  \\\n",
       "0                                                   Aggregator of Asian American news; scanning diverse sources 24/7/365. RT's, Follows and 'Likes' will fuel me 👩‍💻   \n",
       "2                                                                                                                                                     heil, hydra 🖐☺   \n",
       "6   End North Stream 2 now - the pipeline of corruption, funding Russias war against Ukraine,Georgia, Syria and political intervention in USA and EU must be stopped   \n",
       "9                                        #ProudPakistani #LovePakArmy #PMIK @insafianspower1\\n#PoliticalScience #InternationalAffairs \\n#PAKUSTV #Newyork #Islamabad   \n",
       "10     Im Market Analyst, also Editor... working (freelance) for some companies that need analysis for their products in Int. Markets \\n- Instagram :  tamervisits -   \n",
       "\n",
       "           user_created  user_followers  user_friends  user_favourites  \\\n",
       "0   2009-04-08 17:52:46             405          1692             3247   \n",
       "2   2020-06-25 23:30:28              10            88              155   \n",
       "6   2013-06-10 17:49:22            2731          5001            69344   \n",
       "9   2012-11-12 04:18:12             671          2368            20469   \n",
       "10  2009-09-17 16:45:16            1302            78              339   \n",
       "\n",
       "    user_verified                 date  \\\n",
       "0           False  2020-12-20 06:06:44   \n",
       "2           False  2020-12-12 20:33:45   \n",
       "6           False  2020-12-12 20:06:00   \n",
       "9           False  2020-12-12 19:30:33   \n",
       "10          False  2020-12-12 19:29:07   \n",
       "\n",
       "                                                                                                                                              text  \\\n",
       "0                                                Same folks said daikon paste could treat a cytokine storm #PfizerBioNTech https://t.co/xeHhIMg1kF   \n",
       "2     #coronavirus #SputnikV #AstraZeneca #PfizerBioNTech #Moderna #Covid_19 Russian vaccine is created to last 2-4 years… https://t.co/ieYlCKBr8P   \n",
       "6      it is a bit sad to claim the fame for success of #vaccination on patriotic competition between USA, Canada, UK and… https://t.co/IfMrAyGyTP   \n",
       "9   #CovidVaccine \\n\\nStates will start getting #COVID19Vaccine Monday, #US says \\n#pakustv #NYC #Healthcare #GlobalGoals… https://t.co/MksOvBvs5w   \n",
       "10  while deaths are closing in on the 300,000 mark... millions of people wait #PfizerBioNTech #Vaccine !\\n-\\nThe first U… https://t.co/uQ3A2f7SVP   \n",
       "\n",
       "                                                                                   hashtags  \\\n",
       "0                                                                        ['PfizerBioNTech']   \n",
       "2       ['coronavirus', 'SputnikV', 'AstraZeneca', 'PfizerBioNTech', 'Moderna', 'Covid_19']   \n",
       "6                                                                           ['vaccination']   \n",
       "9   ['CovidVaccine', 'COVID19Vaccine', 'US', 'pakustv', 'NYC', 'Healthcare', 'GlobalGoals']   \n",
       "10                                                            ['PfizerBioNTech', 'Vaccine']   \n",
       "\n",
       "                 source  retweets  favorites  is_retweet  \n",
       "0   Twitter for Android         0          0       False  \n",
       "2   Twitter for Android         0          0       False  \n",
       "6       Twitter Web App         0          4       False  \n",
       "9       Twitter Web App         0          0       False  \n",
       "10      Twitter Web App         0          0       False  "
      ]
     },
     "execution_count": 98,
     "metadata": {},
     "output_type": "execute_result"
    }
   ],
   "source": [
    "\n",
    "def clean_tweet_text(text):\n",
    "    text = re.sub(r'@\\w+', '', text)\n",
    "    text = re.sub(r'#', '', text)\n",
    "    text = re.sub(r'RT[\\s]+', '', text)\n",
    "    text = re.sub(r'https?:\\/\\/\\S+', '', text)\n",
    "    text = text.lower()\n",
    "    return text\n",
    "\n",
    "\n",
    "df['text'].transform(clean_tweet_text)\n",
    "df.head()"
   ]
  },
  {
   "cell_type": "code",
   "execution_count": 99,
   "metadata": {
    "ExecuteTime": {
     "end_time": "2021-03-22T18:44:59.151321Z",
     "start_time": "2021-03-22T18:44:59.113783Z"
    },
    "colab": {
     "base_uri": "https://localhost:8080/",
     "height": 479
    },
    "id": "31S2WT694ODu",
    "outputId": "e66d04bf-eb2d-4f8d-baa6-d5455c4582c6"
   },
   "outputs": [
    {
     "data": {
      "text/html": [
       "<div>\n",
       "<style scoped>\n",
       "    .dataframe tbody tr th:only-of-type {\n",
       "        vertical-align: middle;\n",
       "    }\n",
       "\n",
       "    .dataframe tbody tr th {\n",
       "        vertical-align: top;\n",
       "    }\n",
       "\n",
       "    .dataframe thead th {\n",
       "        text-align: right;\n",
       "    }\n",
       "</style>\n",
       "<table border=\"1\" class=\"dataframe\">\n",
       "  <thead>\n",
       "    <tr style=\"text-align: right;\">\n",
       "      <th></th>\n",
       "      <th>id</th>\n",
       "      <th>user_name</th>\n",
       "      <th>user_location</th>\n",
       "      <th>user_description</th>\n",
       "      <th>user_created</th>\n",
       "      <th>user_followers</th>\n",
       "      <th>user_friends</th>\n",
       "      <th>user_favourites</th>\n",
       "      <th>user_verified</th>\n",
       "      <th>date</th>\n",
       "      <th>text</th>\n",
       "      <th>hashtags</th>\n",
       "      <th>source</th>\n",
       "      <th>retweets</th>\n",
       "      <th>favorites</th>\n",
       "      <th>is_retweet</th>\n",
       "    </tr>\n",
       "  </thead>\n",
       "  <tbody>\n",
       "    <tr>\n",
       "      <th>0</th>\n",
       "      <td>1340539111971516416</td>\n",
       "      <td>Rachel Roh</td>\n",
       "      <td>La Crescenta-Montrose, CA</td>\n",
       "      <td>Aggregator of Asian American news; scanning diverse sources 24/7/365. RT's, Follows and 'Likes' will fuel me 👩‍💻</td>\n",
       "      <td>2009-04-08 17:52:46</td>\n",
       "      <td>405</td>\n",
       "      <td>1692</td>\n",
       "      <td>3247</td>\n",
       "      <td>False</td>\n",
       "      <td>2020-12-20</td>\n",
       "      <td>Same folks said daikon paste could treat a cytokine storm #PfizerBioNTech https://t.co/xeHhIMg1kF</td>\n",
       "      <td>['PfizerBioNTech']</td>\n",
       "      <td>Twitter for Android</td>\n",
       "      <td>0</td>\n",
       "      <td>0</td>\n",
       "      <td>False</td>\n",
       "    </tr>\n",
       "    <tr>\n",
       "      <th>2</th>\n",
       "      <td>1337858199140118533</td>\n",
       "      <td>eli🇱🇹🇪🇺👌</td>\n",
       "      <td>Your Bed</td>\n",
       "      <td>heil, hydra 🖐☺</td>\n",
       "      <td>2020-06-25 23:30:28</td>\n",
       "      <td>10</td>\n",
       "      <td>88</td>\n",
       "      <td>155</td>\n",
       "      <td>False</td>\n",
       "      <td>2020-12-12</td>\n",
       "      <td>#coronavirus #SputnikV #AstraZeneca #PfizerBioNTech #Moderna #Covid_19 Russian vaccine is created to last 2-4 years… https://t.co/ieYlCKBr8P</td>\n",
       "      <td>['coronavirus', 'SputnikV', 'AstraZeneca', 'PfizerBioNTech', 'Moderna', 'Covid_19']</td>\n",
       "      <td>Twitter for Android</td>\n",
       "      <td>0</td>\n",
       "      <td>0</td>\n",
       "      <td>False</td>\n",
       "    </tr>\n",
       "    <tr>\n",
       "      <th>6</th>\n",
       "      <td>1337851215875608579</td>\n",
       "      <td>Gunther Fehlinger</td>\n",
       "      <td>Austria, Ukraine and Kosovo</td>\n",
       "      <td>End North Stream 2 now - the pipeline of corruption, funding Russias war against Ukraine,Georgia, Syria and political intervention in USA and EU must be stopped</td>\n",
       "      <td>2013-06-10 17:49:22</td>\n",
       "      <td>2731</td>\n",
       "      <td>5001</td>\n",
       "      <td>69344</td>\n",
       "      <td>False</td>\n",
       "      <td>2020-12-12</td>\n",
       "      <td>it is a bit sad to claim the fame for success of #vaccination on patriotic competition between USA, Canada, UK and… https://t.co/IfMrAyGyTP</td>\n",
       "      <td>['vaccination']</td>\n",
       "      <td>Twitter Web App</td>\n",
       "      <td>0</td>\n",
       "      <td>4</td>\n",
       "      <td>False</td>\n",
       "    </tr>\n",
       "    <tr>\n",
       "      <th>9</th>\n",
       "      <td>1337842295857623042</td>\n",
       "      <td>Ch.Amjad Ali</td>\n",
       "      <td>Islamabad</td>\n",
       "      <td>#ProudPakistani #LovePakArmy #PMIK @insafianspower1\\n#PoliticalScience #InternationalAffairs \\n#PAKUSTV #Newyork #Islamabad</td>\n",
       "      <td>2012-11-12 04:18:12</td>\n",
       "      <td>671</td>\n",
       "      <td>2368</td>\n",
       "      <td>20469</td>\n",
       "      <td>False</td>\n",
       "      <td>2020-12-12</td>\n",
       "      <td>#CovidVaccine \\n\\nStates will start getting #COVID19Vaccine Monday, #US says \\n#pakustv #NYC #Healthcare #GlobalGoals… https://t.co/MksOvBvs5w</td>\n",
       "      <td>['CovidVaccine', 'COVID19Vaccine', 'US', 'pakustv', 'NYC', 'Healthcare', 'GlobalGoals']</td>\n",
       "      <td>Twitter Web App</td>\n",
       "      <td>0</td>\n",
       "      <td>0</td>\n",
       "      <td>False</td>\n",
       "    </tr>\n",
       "    <tr>\n",
       "      <th>10</th>\n",
       "      <td>1337841934170255365</td>\n",
       "      <td>Tamer Yazar</td>\n",
       "      <td>Turkey-Israel</td>\n",
       "      <td>Im Market Analyst, also Editor... working (freelance) for some companies that need analysis for their products in Int. Markets \\n- Instagram :  tamervisits -</td>\n",
       "      <td>2009-09-17 16:45:16</td>\n",
       "      <td>1302</td>\n",
       "      <td>78</td>\n",
       "      <td>339</td>\n",
       "      <td>False</td>\n",
       "      <td>2020-12-12</td>\n",
       "      <td>while deaths are closing in on the 300,000 mark... millions of people wait #PfizerBioNTech #Vaccine !\\n-\\nThe first U… https://t.co/uQ3A2f7SVP</td>\n",
       "      <td>['PfizerBioNTech', 'Vaccine']</td>\n",
       "      <td>Twitter Web App</td>\n",
       "      <td>0</td>\n",
       "      <td>0</td>\n",
       "      <td>False</td>\n",
       "    </tr>\n",
       "  </tbody>\n",
       "</table>\n",
       "</div>"
      ],
      "text/plain": [
       "                     id          user_name                user_location  \\\n",
       "0   1340539111971516416         Rachel Roh    La Crescenta-Montrose, CA   \n",
       "2   1337858199140118533           eli🇱🇹🇪🇺👌                     Your Bed   \n",
       "6   1337851215875608579  Gunther Fehlinger  Austria, Ukraine and Kosovo   \n",
       "9   1337842295857623042       Ch.Amjad Ali                    Islamabad   \n",
       "10  1337841934170255365        Tamer Yazar                Turkey-Israel   \n",
       "\n",
       "                                                                                                                                                    user_description  \\\n",
       "0                                                   Aggregator of Asian American news; scanning diverse sources 24/7/365. RT's, Follows and 'Likes' will fuel me 👩‍💻   \n",
       "2                                                                                                                                                     heil, hydra 🖐☺   \n",
       "6   End North Stream 2 now - the pipeline of corruption, funding Russias war against Ukraine,Georgia, Syria and political intervention in USA and EU must be stopped   \n",
       "9                                        #ProudPakistani #LovePakArmy #PMIK @insafianspower1\\n#PoliticalScience #InternationalAffairs \\n#PAKUSTV #Newyork #Islamabad   \n",
       "10     Im Market Analyst, also Editor... working (freelance) for some companies that need analysis for their products in Int. Markets \\n- Instagram :  tamervisits -   \n",
       "\n",
       "           user_created  user_followers  user_friends  user_favourites  \\\n",
       "0   2009-04-08 17:52:46             405          1692             3247   \n",
       "2   2020-06-25 23:30:28              10            88              155   \n",
       "6   2013-06-10 17:49:22            2731          5001            69344   \n",
       "9   2012-11-12 04:18:12             671          2368            20469   \n",
       "10  2009-09-17 16:45:16            1302            78              339   \n",
       "\n",
       "    user_verified        date  \\\n",
       "0           False  2020-12-20   \n",
       "2           False  2020-12-12   \n",
       "6           False  2020-12-12   \n",
       "9           False  2020-12-12   \n",
       "10          False  2020-12-12   \n",
       "\n",
       "                                                                                                                                              text  \\\n",
       "0                                                Same folks said daikon paste could treat a cytokine storm #PfizerBioNTech https://t.co/xeHhIMg1kF   \n",
       "2     #coronavirus #SputnikV #AstraZeneca #PfizerBioNTech #Moderna #Covid_19 Russian vaccine is created to last 2-4 years… https://t.co/ieYlCKBr8P   \n",
       "6      it is a bit sad to claim the fame for success of #vaccination on patriotic competition between USA, Canada, UK and… https://t.co/IfMrAyGyTP   \n",
       "9   #CovidVaccine \\n\\nStates will start getting #COVID19Vaccine Monday, #US says \\n#pakustv #NYC #Healthcare #GlobalGoals… https://t.co/MksOvBvs5w   \n",
       "10  while deaths are closing in on the 300,000 mark... millions of people wait #PfizerBioNTech #Vaccine !\\n-\\nThe first U… https://t.co/uQ3A2f7SVP   \n",
       "\n",
       "                                                                                   hashtags  \\\n",
       "0                                                                        ['PfizerBioNTech']   \n",
       "2       ['coronavirus', 'SputnikV', 'AstraZeneca', 'PfizerBioNTech', 'Moderna', 'Covid_19']   \n",
       "6                                                                           ['vaccination']   \n",
       "9   ['CovidVaccine', 'COVID19Vaccine', 'US', 'pakustv', 'NYC', 'Healthcare', 'GlobalGoals']   \n",
       "10                                                            ['PfizerBioNTech', 'Vaccine']   \n",
       "\n",
       "                 source  retweets  favorites  is_retweet  \n",
       "0   Twitter for Android         0          0       False  \n",
       "2   Twitter for Android         0          0       False  \n",
       "6       Twitter Web App         0          4       False  \n",
       "9       Twitter Web App         0          0       False  \n",
       "10      Twitter Web App         0          0       False  "
      ]
     },
     "execution_count": 99,
     "metadata": {},
     "output_type": "execute_result"
    }
   ],
   "source": [
    "\n",
    "df['date'] = pd.to_datetime(df['date']).dt.date\n",
    "df.head()"
   ]
  },
  {
   "cell_type": "markdown",
   "metadata": {
    "id": "GK4F8NgVrh-c"
   },
   "source": [
    "# Exploratory Data Analysis (EDA)"
   ]
  },
  {
   "cell_type": "code",
   "execution_count": 100,
   "metadata": {
    "ExecuteTime": {
     "end_time": "2021-03-22T18:44:59.602033Z",
     "start_time": "2021-03-22T18:44:59.158795Z"
    },
    "colab": {
     "base_uri": "https://localhost:8080/",
     "height": 297
    },
    "id": "e4-pzmICe5AG",
    "outputId": "9a316a94-de5c-4817-d8cf-d07e83bea70c"
   },
   "outputs": [
    {
     "data": {
      "text/html": [
       "<div>\n",
       "<style scoped>\n",
       "    .dataframe tbody tr th:only-of-type {\n",
       "        vertical-align: middle;\n",
       "    }\n",
       "\n",
       "    .dataframe tbody tr th {\n",
       "        vertical-align: top;\n",
       "    }\n",
       "\n",
       "    .dataframe thead th {\n",
       "        text-align: right;\n",
       "    }\n",
       "</style>\n",
       "<table border=\"1\" class=\"dataframe\">\n",
       "  <thead>\n",
       "    <tr style=\"text-align: right;\">\n",
       "      <th></th>\n",
       "      <th>id</th>\n",
       "      <th>user_followers</th>\n",
       "      <th>user_friends</th>\n",
       "      <th>user_favourites</th>\n",
       "      <th>retweets</th>\n",
       "      <th>favorites</th>\n",
       "    </tr>\n",
       "  </thead>\n",
       "  <tbody>\n",
       "    <tr>\n",
       "      <th>count</th>\n",
       "      <td>8.935400e+04</td>\n",
       "      <td>8.935400e+04</td>\n",
       "      <td>89354.000000</td>\n",
       "      <td>8.935400e+04</td>\n",
       "      <td>89354.000000</td>\n",
       "      <td>89354.000000</td>\n",
       "    </tr>\n",
       "    <tr>\n",
       "      <th>mean</th>\n",
       "      <td>1.393098e+18</td>\n",
       "      <td>1.616463e+05</td>\n",
       "      <td>1403.080825</td>\n",
       "      <td>1.551215e+04</td>\n",
       "      <td>3.570797</td>\n",
       "      <td>16.030642</td>\n",
       "    </tr>\n",
       "    <tr>\n",
       "      <th>std</th>\n",
       "      <td>2.207549e+16</td>\n",
       "      <td>1.110727e+06</td>\n",
       "      <td>6741.785908</td>\n",
       "      <td>4.369745e+04</td>\n",
       "      <td>59.713161</td>\n",
       "      <td>209.520655</td>\n",
       "    </tr>\n",
       "    <tr>\n",
       "      <th>min</th>\n",
       "      <td>1.337728e+18</td>\n",
       "      <td>0.000000e+00</td>\n",
       "      <td>0.000000</td>\n",
       "      <td>0.000000e+00</td>\n",
       "      <td>0.000000</td>\n",
       "      <td>0.000000</td>\n",
       "    </tr>\n",
       "    <tr>\n",
       "      <th>25%</th>\n",
       "      <td>1.375200e+18</td>\n",
       "      <td>1.420000e+02</td>\n",
       "      <td>145.000000</td>\n",
       "      <td>3.490000e+02</td>\n",
       "      <td>0.000000</td>\n",
       "      <td>0.000000</td>\n",
       "    </tr>\n",
       "    <tr>\n",
       "      <th>50%</th>\n",
       "      <td>1.394919e+18</td>\n",
       "      <td>6.880000e+02</td>\n",
       "      <td>427.000000</td>\n",
       "      <td>2.356000e+03</td>\n",
       "      <td>0.000000</td>\n",
       "      <td>1.000000</td>\n",
       "    </tr>\n",
       "    <tr>\n",
       "      <th>75%</th>\n",
       "      <td>1.410135e+18</td>\n",
       "      <td>3.584000e+03</td>\n",
       "      <td>1186.000000</td>\n",
       "      <td>1.145875e+04</td>\n",
       "      <td>1.000000</td>\n",
       "      <td>4.000000</td>\n",
       "    </tr>\n",
       "    <tr>\n",
       "      <th>max</th>\n",
       "      <td>1.431187e+18</td>\n",
       "      <td>1.603999e+07</td>\n",
       "      <td>516578.000000</td>\n",
       "      <td>1.214813e+06</td>\n",
       "      <td>11288.000000</td>\n",
       "      <td>25724.000000</td>\n",
       "    </tr>\n",
       "  </tbody>\n",
       "</table>\n",
       "</div>"
      ],
      "text/plain": [
       "                 id  user_followers   user_friends  user_favourites  \\\n",
       "count  8.935400e+04    8.935400e+04   89354.000000     8.935400e+04   \n",
       "mean   1.393098e+18    1.616463e+05    1403.080825     1.551215e+04   \n",
       "std    2.207549e+16    1.110727e+06    6741.785908     4.369745e+04   \n",
       "min    1.337728e+18    0.000000e+00       0.000000     0.000000e+00   \n",
       "25%    1.375200e+18    1.420000e+02     145.000000     3.490000e+02   \n",
       "50%    1.394919e+18    6.880000e+02     427.000000     2.356000e+03   \n",
       "75%    1.410135e+18    3.584000e+03    1186.000000     1.145875e+04   \n",
       "max    1.431187e+18    1.603999e+07  516578.000000     1.214813e+06   \n",
       "\n",
       "           retweets     favorites  \n",
       "count  89354.000000  89354.000000  \n",
       "mean       3.570797     16.030642  \n",
       "std       59.713161    209.520655  \n",
       "min        0.000000      0.000000  \n",
       "25%        0.000000      0.000000  \n",
       "50%        0.000000      1.000000  \n",
       "75%        1.000000      4.000000  \n",
       "max    11288.000000  25724.000000  "
      ]
     },
     "execution_count": 100,
     "metadata": {},
     "output_type": "execute_result"
    }
   ],
   "source": [
    "df.describe()"
   ]
  },
  {
   "cell_type": "code",
   "execution_count": 101,
   "metadata": {
    "ExecuteTime": {
     "end_time": "2021-03-22T18:45:00.101575Z",
     "start_time": "2021-03-22T18:44:59.612030Z"
    },
    "colab": {
     "base_uri": "https://localhost:8080/",
     "height": 374
    },
    "id": "Xva5DRIie7jz",
    "outputId": "e9b4e022-77aa-4c93-9f40-9c0f783fbb60"
   },
   "outputs": [
    {
     "data": {
      "text/plain": [
       "<AxesSubplot:>"
      ]
     },
     "execution_count": 101,
     "metadata": {},
     "output_type": "execute_result"
    },
    {
     "data": {
      "image/png": "[encoded data removed]",
      "text/plain": [
       "<Figure size 432x288 with 1 Axes>"
      ]
     },
     "metadata": {
      "needs_background": "light"
     },
     "output_type": "display_data"
    }
   ],
   "source": [
    "\n",
    "df['source'].value_counts().head(n=5).plot.bar()"
   ]
  },
  {
   "cell_type": "code",
   "execution_count": 102,
   "metadata": {
    "ExecuteTime": {
     "end_time": "2021-03-22T18:45:00.366679Z",
     "start_time": "2021-03-22T18:45:00.108240Z"
    }
   },
   "outputs": [
    {
     "data": {
      "text/plain": [
       "<AxesSubplot:>"
      ]
     },
     "execution_count": 102,
     "metadata": {},
     "output_type": "execute_result"
    },
    {
     "data": {
      "image/png": "[encoded data removed]",
      "text/plain": [
       "<Figure size 432x288 with 1 Axes>"
      ]
     },
     "metadata": {
      "needs_background": "light"
     },
     "output_type": "display_data"
    }
   ],
   "source": [
    "df['user_verified'].value_counts().head(n=10).plot.bar()"
   ]
  },
  {
   "cell_type": "code",
   "execution_count": 103,
   "metadata": {
    "ExecuteTime": {
     "end_time": "2021-03-22T18:45:00.451526Z",
     "start_time": "2021-03-22T18:45:00.382647Z"
    }
   },
   "outputs": [
    {
     "data": {
      "text/html": [
       "<div>\n",
       "<style scoped>\n",
       "    .dataframe tbody tr th:only-of-type {\n",
       "        vertical-align: middle;\n",
       "    }\n",
       "\n",
       "    .dataframe tbody tr th {\n",
       "        vertical-align: top;\n",
       "    }\n",
       "\n",
       "    .dataframe thead th {\n",
       "        text-align: right;\n",
       "    }\n",
       "</style>\n",
       "<table border=\"1\" class=\"dataframe\">\n",
       "  <thead>\n",
       "    <tr style=\"text-align: right;\">\n",
       "      <th></th>\n",
       "      <th>id</th>\n",
       "      <th>user_name</th>\n",
       "      <th>user_location</th>\n",
       "      <th>user_description</th>\n",
       "      <th>user_created</th>\n",
       "      <th>user_followers</th>\n",
       "      <th>user_friends</th>\n",
       "      <th>user_favourites</th>\n",
       "      <th>user_verified</th>\n",
       "      <th>date</th>\n",
       "      <th>text</th>\n",
       "      <th>hashtags</th>\n",
       "      <th>source</th>\n",
       "      <th>retweets</th>\n",
       "      <th>favorites</th>\n",
       "      <th>is_retweet</th>\n",
       "    </tr>\n",
       "  </thead>\n",
       "  <tbody>\n",
       "    <tr>\n",
       "      <th>15</th>\n",
       "      <td>1337789467038523394</td>\n",
       "      <td>City A.M.</td>\n",
       "      <td>London, England</td>\n",
       "      <td>London's business newspaper - News, Opinion, and Analysis. For all distribution queries, see @CityAMDist.</td>\n",
       "      <td>2009-06-09 13:53:06</td>\n",
       "      <td>66224</td>\n",
       "      <td>603</td>\n",
       "      <td>771</td>\n",
       "      <td>True</td>\n",
       "      <td>2020-12-12</td>\n",
       "      <td>Trump announces #vaccine rollout 'in less than 24 hours'\\n\\nThe first Americans will be vaccinated against… https://t.co/2FzQSMnhoY</td>\n",
       "      <td>['vaccine']</td>\n",
       "      <td>Twitter for iPhone</td>\n",
       "      <td>0</td>\n",
       "      <td>1</td>\n",
       "      <td>False</td>\n",
       "    </tr>\n",
       "    <tr>\n",
       "      <th>17</th>\n",
       "      <td>1337783770070409218</td>\n",
       "      <td>ILKHA</td>\n",
       "      <td>Türkiye</td>\n",
       "      <td>Official Twitter account of Ilke News Agency /</td>\n",
       "      <td>2015-05-22 08:31:12</td>\n",
       "      <td>4056</td>\n",
       "      <td>6</td>\n",
       "      <td>3</td>\n",
       "      <td>True</td>\n",
       "      <td>2020-12-12</td>\n",
       "      <td>Coronavirus: Iran reports 8,201 new cases, 221 deaths in the last 24 hours #Iran #coronavirus #PfizerBioNTech… https://t.co/mwDNAdmb7F</td>\n",
       "      <td>['Iran', 'coronavirus', 'PfizerBioNTech']</td>\n",
       "      <td>TweetDeck</td>\n",
       "      <td>3</td>\n",
       "      <td>5</td>\n",
       "      <td>False</td>\n",
       "    </tr>\n",
       "    <tr>\n",
       "      <th>22</th>\n",
       "      <td>1337773965595598848</td>\n",
       "      <td>City A.M.</td>\n",
       "      <td>London, England</td>\n",
       "      <td>London's business newspaper - News, Opinion, and Analysis. For all distribution queries, see @CityAMDist.</td>\n",
       "      <td>2009-06-09 13:53:06</td>\n",
       "      <td>66224</td>\n",
       "      <td>603</td>\n",
       "      <td>771</td>\n",
       "      <td>True</td>\n",
       "      <td>2020-12-12</td>\n",
       "      <td>Trump announces #vaccine rollout 'in less than 24 hours'\\n\\nThe first Americans will be vaccinated against… https://t.co/P9esXr3zpS</td>\n",
       "      <td>['vaccine']</td>\n",
       "      <td>Buffer</td>\n",
       "      <td>1</td>\n",
       "      <td>0</td>\n",
       "      <td>False</td>\n",
       "    </tr>\n",
       "    <tr>\n",
       "      <th>43</th>\n",
       "      <td>1337728701820268544</td>\n",
       "      <td>City A.M.</td>\n",
       "      <td>London, England</td>\n",
       "      <td>London's business newspaper - News, Opinion, and Analysis. For all distribution queries, see @CityAMDist.</td>\n",
       "      <td>2009-06-09 13:53:06</td>\n",
       "      <td>66224</td>\n",
       "      <td>603</td>\n",
       "      <td>771</td>\n",
       "      <td>True</td>\n",
       "      <td>2020-12-12</td>\n",
       "      <td>Trump announces #vaccine rollout 'in less than 24 hours'\\n\\nThe first Americans will be vaccinated against… https://t.co/6379SZjNQi</td>\n",
       "      <td>['vaccine']</td>\n",
       "      <td>Twitter Web App</td>\n",
       "      <td>0</td>\n",
       "      <td>2</td>\n",
       "      <td>False</td>\n",
       "    </tr>\n",
       "    <tr>\n",
       "      <th>44</th>\n",
       "      <td>1337727767551553536</td>\n",
       "      <td>Daily News Egypt</td>\n",
       "      <td>Egypt</td>\n",
       "      <td>Egypt's Only Daily Independent Newspaper in English</td>\n",
       "      <td>2009-04-26 07:56:24</td>\n",
       "      <td>278080</td>\n",
       "      <td>116</td>\n",
       "      <td>765</td>\n",
       "      <td>True</td>\n",
       "      <td>2020-12-12</td>\n",
       "      <td>#FDA authorizes #PfizerBioNTech #coronavirus vaccine for emergency use\\nhttps://t.co/VZ6bDPbbPG</td>\n",
       "      <td>['FDA', 'PfizerBioNTech', 'coronavirus']</td>\n",
       "      <td>Twitter Web App</td>\n",
       "      <td>1</td>\n",
       "      <td>1</td>\n",
       "      <td>False</td>\n",
       "    </tr>\n",
       "  </tbody>\n",
       "</table>\n",
       "</div>"
      ],
      "text/plain": [
       "                     id         user_name    user_location  \\\n",
       "15  1337789467038523394         City A.M.  London, England   \n",
       "17  1337783770070409218             ILKHA          Türkiye   \n",
       "22  1337773965595598848         City A.M.  London, England   \n",
       "43  1337728701820268544         City A.M.  London, England   \n",
       "44  1337727767551553536  Daily News Egypt            Egypt   \n",
       "\n",
       "                                                                                             user_description  \\\n",
       "15  London's business newspaper - News, Opinion, and Analysis. For all distribution queries, see @CityAMDist.   \n",
       "17                                                             Official Twitter account of Ilke News Agency /   \n",
       "22  London's business newspaper - News, Opinion, and Analysis. For all distribution queries, see @CityAMDist.   \n",
       "43  London's business newspaper - News, Opinion, and Analysis. For all distribution queries, see @CityAMDist.   \n",
       "44                                                        Egypt's Only Daily Independent Newspaper in English   \n",
       "\n",
       "           user_created  user_followers  user_friends  user_favourites  \\\n",
       "15  2009-06-09 13:53:06           66224           603              771   \n",
       "17  2015-05-22 08:31:12            4056             6                3   \n",
       "22  2009-06-09 13:53:06           66224           603              771   \n",
       "43  2009-06-09 13:53:06           66224           603              771   \n",
       "44  2009-04-26 07:56:24          278080           116              765   \n",
       "\n",
       "    user_verified        date  \\\n",
       "15           True  2020-12-12   \n",
       "17           True  2020-12-12   \n",
       "22           True  2020-12-12   \n",
       "43           True  2020-12-12   \n",
       "44           True  2020-12-12   \n",
       "\n",
       "                                                                                                                                      text  \\\n",
       "15     Trump announces #vaccine rollout 'in less than 24 hours'\\n\\nThe first Americans will be vaccinated against… https://t.co/2FzQSMnhoY   \n",
       "17  Coronavirus: Iran reports 8,201 new cases, 221 deaths in the last 24 hours #Iran #coronavirus #PfizerBioNTech… https://t.co/mwDNAdmb7F   \n",
       "22     Trump announces #vaccine rollout 'in less than 24 hours'\\n\\nThe first Americans will be vaccinated against… https://t.co/P9esXr3zpS   \n",
       "43     Trump announces #vaccine rollout 'in less than 24 hours'\\n\\nThe first Americans will be vaccinated against… https://t.co/6379SZjNQi   \n",
       "44                                         #FDA authorizes #PfizerBioNTech #coronavirus vaccine for emergency use\\nhttps://t.co/VZ6bDPbbPG   \n",
       "\n",
       "                                     hashtags              source  retweets  \\\n",
       "15                                ['vaccine']  Twitter for iPhone         0   \n",
       "17  ['Iran', 'coronavirus', 'PfizerBioNTech']           TweetDeck         3   \n",
       "22                                ['vaccine']              Buffer         1   \n",
       "43                                ['vaccine']     Twitter Web App         0   \n",
       "44   ['FDA', 'PfizerBioNTech', 'coronavirus']     Twitter Web App         1   \n",
       "\n",
       "    favorites  is_retweet  \n",
       "15          1       False  \n",
       "17          5       False  \n",
       "22          0       False  \n",
       "43          2       False  \n",
       "44          1       False  "
      ]
     },
     "execution_count": 103,
     "metadata": {},
     "output_type": "execute_result"
    }
   ],
   "source": [
    "df[df['user_verified'] == True].head()"
   ]
  },
  {
   "cell_type": "code",
   "execution_count": 104,
   "metadata": {
    "ExecuteTime": {
     "end_time": "2021-03-22T18:45:00.500129Z",
     "start_time": "2021-03-22T18:45:00.459041Z"
    },
    "id": "Gd9UqrjRfWrv"
   },
   "outputs": [
    {
     "data": {
      "text/html": [
       "<div>\n",
       "<style scoped>\n",
       "    .dataframe tbody tr th:only-of-type {\n",
       "        vertical-align: middle;\n",
       "    }\n",
       "\n",
       "    .dataframe tbody tr th {\n",
       "        vertical-align: top;\n",
       "    }\n",
       "\n",
       "    .dataframe thead th {\n",
       "        text-align: right;\n",
       "    }\n",
       "</style>\n",
       "<table border=\"1\" class=\"dataframe\">\n",
       "  <thead>\n",
       "    <tr style=\"text-align: right;\">\n",
       "      <th></th>\n",
       "      <th>text</th>\n",
       "      <th>date</th>\n",
       "      <th>user_name</th>\n",
       "      <th>user_location</th>\n",
       "      <th>hashtags</th>\n",
       "      <th>favorites</th>\n",
       "      <th>retweets</th>\n",
       "    </tr>\n",
       "  </thead>\n",
       "  <tbody>\n",
       "    <tr>\n",
       "      <th>68358</th>\n",
       "      <td>RDIF, Laboratorios Richmond launched production of #SputnikV in Argentina, the first country in Latin America to ma… https://t.co/oEMaUwVR92</td>\n",
       "      <td>2021-04-20</td>\n",
       "      <td>Sputnik V</td>\n",
       "      <td>Moscow, Russia</td>\n",
       "      <td>['SputnikV']</td>\n",
       "      <td>25724</td>\n",
       "      <td>11288</td>\n",
       "    </tr>\n",
       "    <tr>\n",
       "      <th>46053</th>\n",
       "      <td>Why we need Two Doses of mRNA Vaccine 💉 #vaccines #COVID19 #Pfizer #moderna #VaccinesSaveLives #vaccinated https://t.co/RFRmPAyubD</td>\n",
       "      <td>2021-04-01</td>\n",
       "      <td>hotvickkrishna</td>\n",
       "      <td>Manhattan, NY</td>\n",
       "      <td>['vaccines', 'COVID19', 'Pfizer', 'moderna', 'VaccinesSaveLives', 'vaccinated']</td>\n",
       "      <td>19622</td>\n",
       "      <td>7695</td>\n",
       "    </tr>\n",
       "    <tr>\n",
       "      <th>66822</th>\n",
       "      <td>ICMR study shows #COVAXIN neutralises against multiple variants of SARS-CoV-2 and effectively neutralises the doubl… https://t.co/0IYwr0KymJ</td>\n",
       "      <td>2021-04-21</td>\n",
       "      <td>ICMR</td>\n",
       "      <td>New Delhi</td>\n",
       "      <td>['COVAXIN']</td>\n",
       "      <td>11995</td>\n",
       "      <td>4851</td>\n",
       "    </tr>\n",
       "    <tr>\n",
       "      <th>76306</th>\n",
       "      <td>#Argentina's actor breaks into a live TV to show his #SputnikV vaccination certificate &amp;amp; express his gratitude. \\n\\nT… https://t.co/N1NwjkD83y</td>\n",
       "      <td>2021-05-19</td>\n",
       "      <td>Sputnik V</td>\n",
       "      <td>Moscow, Russia</td>\n",
       "      <td>['Argentina', 'SputnikV']</td>\n",
       "      <td>14412</td>\n",
       "      <td>2550</td>\n",
       "    </tr>\n",
       "    <tr>\n",
       "      <th>17118</th>\n",
       "      <td>Got my jab. For the curious, it was #Covaxin. \\n\\nFelt secure, will travel safely. https://t.co/8PL7PZMEsf</td>\n",
       "      <td>2021-03-01</td>\n",
       "      <td>Dr. S. Jaishankar</td>\n",
       "      <td>New Delhi, India</td>\n",
       "      <td>['Covaxin']</td>\n",
       "      <td>22815</td>\n",
       "      <td>2360</td>\n",
       "    </tr>\n",
       "    <tr>\n",
       "      <th>53045</th>\n",
       "      <td>I see it’s going around with signature cropped....so here is the original:) #covid 19 #vaccine #pfizer #moderna… https://t.co/eoqT74V78A</td>\n",
       "      <td>2021-04-12</td>\n",
       "      <td>dawnymock</td>\n",
       "      <td>Fredericton New Brunswick</td>\n",
       "      <td>['covid', 'vaccine', 'pfizer', 'moderna']</td>\n",
       "      <td>10175</td>\n",
       "      <td>2299</td>\n",
       "    </tr>\n",
       "    <tr>\n",
       "      <th>7126</th>\n",
       "      <td>New research published in Microbiology &amp;amp; Infectious Diseases, immunologist J. Bart Classen warns #mRNA technology u… https://t.co/OWUTf5ShHO</td>\n",
       "      <td>2021-02-10</td>\n",
       "      <td>Robert F. Kennedy Jr</td>\n",
       "      <td>Los Angles, California</td>\n",
       "      <td>['mRNA']</td>\n",
       "      <td>3090</td>\n",
       "      <td>2247</td>\n",
       "    </tr>\n",
       "    <tr>\n",
       "      <th>24268</th>\n",
       "      <td>#Covaxin 🇮🇳 , made by Hyderabad-based Bharat Biotech International Limited, has been declared \"Safe, Immunogenic wi… https://t.co/FAUOEHJmAw</td>\n",
       "      <td>2021-03-09</td>\n",
       "      <td>Megh Updates 🚨</td>\n",
       "      <td>Turn on Notification 🔔</td>\n",
       "      <td>['Covaxin']</td>\n",
       "      <td>9458</td>\n",
       "      <td>2095</td>\n",
       "    </tr>\n",
       "    <tr>\n",
       "      <th>32826</th>\n",
       "      <td>A batch of fake Sputnik V vaccines was confiscated in Mexico. See this comparison of the genuine #SputnikV with a f… https://t.co/J7PxMq2e1M</td>\n",
       "      <td>2021-03-18</td>\n",
       "      <td>Sputnik V</td>\n",
       "      <td>Moscow, Russia</td>\n",
       "      <td>['SputnikV']</td>\n",
       "      <td>3473</td>\n",
       "      <td>1980</td>\n",
       "    </tr>\n",
       "    <tr>\n",
       "      <th>17543</th>\n",
       "      <td>Prime Minister Narendra Modi choose early morning time to take #covaxin . No traffic was stopped . Traveled normall… https://t.co/udxAqk9xEC</td>\n",
       "      <td>2021-03-01</td>\n",
       "      <td>Megh Updates 🚨</td>\n",
       "      <td>Turn on Notification 🔔</td>\n",
       "      <td>['covaxin']</td>\n",
       "      <td>8153</td>\n",
       "      <td>1980</td>\n",
       "    </tr>\n",
       "  </tbody>\n",
       "</table>\n",
       "</div>"
      ],
      "text/plain": [
       "                                                                                                                                                     text  \\\n",
       "68358        RDIF, Laboratorios Richmond launched production of #SputnikV in Argentina, the first country in Latin America to ma… https://t.co/oEMaUwVR92   \n",
       "46053                  Why we need Two Doses of mRNA Vaccine 💉 #vaccines #COVID19 #Pfizer #moderna #VaccinesSaveLives #vaccinated https://t.co/RFRmPAyubD   \n",
       "66822        ICMR study shows #COVAXIN neutralises against multiple variants of SARS-CoV-2 and effectively neutralises the doubl… https://t.co/0IYwr0KymJ   \n",
       "76306  #Argentina's actor breaks into a live TV to show his #SputnikV vaccination certificate &amp; express his gratitude. \\n\\nT… https://t.co/N1NwjkD83y   \n",
       "17118                                          Got my jab. For the curious, it was #Covaxin. \\n\\nFelt secure, will travel safely. https://t.co/8PL7PZMEsf   \n",
       "53045            I see it’s going around with signature cropped....so here is the original:) #covid 19 #vaccine #pfizer #moderna… https://t.co/eoqT74V78A   \n",
       "7126     New research published in Microbiology &amp; Infectious Diseases, immunologist J. Bart Classen warns #mRNA technology u… https://t.co/OWUTf5ShHO   \n",
       "24268        #Covaxin 🇮🇳 , made by Hyderabad-based Bharat Biotech International Limited, has been declared \"Safe, Immunogenic wi… https://t.co/FAUOEHJmAw   \n",
       "32826        A batch of fake Sputnik V vaccines was confiscated in Mexico. See this comparison of the genuine #SputnikV with a f… https://t.co/J7PxMq2e1M   \n",
       "17543        Prime Minister Narendra Modi choose early morning time to take #covaxin . No traffic was stopped . Traveled normall… https://t.co/udxAqk9xEC   \n",
       "\n",
       "             date             user_name              user_location  \\\n",
       "68358  2021-04-20             Sputnik V            Moscow, Russia    \n",
       "46053  2021-04-01        hotvickkrishna              Manhattan, NY   \n",
       "66822  2021-04-21                  ICMR                  New Delhi   \n",
       "76306  2021-05-19             Sputnik V            Moscow, Russia    \n",
       "17118  2021-03-01     Dr. S. Jaishankar           New Delhi, India   \n",
       "53045  2021-04-12             dawnymock  Fredericton New Brunswick   \n",
       "7126   2021-02-10  Robert F. Kennedy Jr     Los Angles, California   \n",
       "24268  2021-03-09        Megh Updates 🚨     Turn on Notification 🔔   \n",
       "32826  2021-03-18             Sputnik V            Moscow, Russia    \n",
       "17543  2021-03-01        Megh Updates 🚨     Turn on Notification 🔔   \n",
       "\n",
       "                                                                              hashtags  \\\n",
       "68358                                                                     ['SputnikV']   \n",
       "46053  ['vaccines', 'COVID19', 'Pfizer', 'moderna', 'VaccinesSaveLives', 'vaccinated']   \n",
       "66822                                                                      ['COVAXIN']   \n",
       "76306                                                        ['Argentina', 'SputnikV']   \n",
       "17118                                                                      ['Covaxin']   \n",
       "53045                                        ['covid', 'vaccine', 'pfizer', 'moderna']   \n",
       "7126                                                                          ['mRNA']   \n",
       "24268                                                                      ['Covaxin']   \n",
       "32826                                                                     ['SputnikV']   \n",
       "17543                                                                      ['covaxin']   \n",
       "\n",
       "       favorites  retweets  \n",
       "68358      25724     11288  \n",
       "46053      19622      7695  \n",
       "66822      11995      4851  \n",
       "76306      14412      2550  \n",
       "17118      22815      2360  \n",
       "53045      10175      2299  \n",
       "7126        3090      2247  \n",
       "24268       9458      2095  \n",
       "32826       3473      1980  \n",
       "17543       8153      1980  "
      ]
     },
     "execution_count": 104,
     "metadata": {},
     "output_type": "execute_result"
    }
   ],
   "source": [
    "# what are the top 10 most retweeted tweets\n",
    "pd.set_option('display.max_colwidth', 400)\n",
    "df.sort_values(by='retweets', ascending=False)[['text', 'date', 'user_name', 'user_location', 'hashtags', 'favorites', 'retweets']].head(n=10)"
   ]
  },
  {
   "cell_type": "code",
   "execution_count": 105,
   "metadata": {
    "ExecuteTime": {
     "end_time": "2021-03-22T18:45:00.547852Z",
     "start_time": "2021-03-22T18:45:00.503799Z"
    }
   },
   "outputs": [
    {
     "data": {
      "text/html": [
       "<div>\n",
       "<style scoped>\n",
       "    .dataframe tbody tr th:only-of-type {\n",
       "        vertical-align: middle;\n",
       "    }\n",
       "\n",
       "    .dataframe tbody tr th {\n",
       "        vertical-align: top;\n",
       "    }\n",
       "\n",
       "    .dataframe thead th {\n",
       "        text-align: right;\n",
       "    }\n",
       "</style>\n",
       "<table border=\"1\" class=\"dataframe\">\n",
       "  <thead>\n",
       "    <tr style=\"text-align: right;\">\n",
       "      <th></th>\n",
       "      <th>text</th>\n",
       "      <th>date</th>\n",
       "      <th>user_name</th>\n",
       "      <th>user_location</th>\n",
       "      <th>hashtags</th>\n",
       "      <th>favorites</th>\n",
       "      <th>retweets</th>\n",
       "    </tr>\n",
       "  </thead>\n",
       "  <tbody>\n",
       "    <tr>\n",
       "      <th>35</th>\n",
       "      <td>An immigrant Muslim couple find the COVID-19 Vaccine. \\n\\n#CovidVaccine #PfizerBioNTech #Pfizervaccine #PfizerProud</td>\n",
       "      <td>2020-12-12</td>\n",
       "      <td>Shahjhan Malik | #WearAMask</td>\n",
       "      <td>Nottinghamshire, England</td>\n",
       "      <td>['CovidVaccine', 'PfizerBioNTech', 'Pfizervaccine', 'PfizerProud']</td>\n",
       "      <td>37</td>\n",
       "      <td>2</td>\n",
       "    </tr>\n",
       "    <tr>\n",
       "      <th>293</th>\n",
       "      <td>#UnitedStates : The Federal Aviation Administration (FAA) said Saturday it had approved the use of the… https://t.co/xvwUEvZZk2</td>\n",
       "      <td>2020-12-12</td>\n",
       "      <td>DD News</td>\n",
       "      <td>New Delhi, India</td>\n",
       "      <td>['UnitedStates']</td>\n",
       "      <td>21</td>\n",
       "      <td>4</td>\n",
       "    </tr>\n",
       "    <tr>\n",
       "      <th>25</th>\n",
       "      <td>No.1 of 2 done.\\n\\n#ThankYouNHS @NHSuk @MHRAgovuk and #PfizerBioNTech @pfizer for making the #CovidVaccine dream poss… https://t.co/3KvJ7UP432</td>\n",
       "      <td>2020-12-12</td>\n",
       "      <td>Devan Surendran</td>\n",
       "      <td>Nottingham, England</td>\n",
       "      <td>['ThankYouNHS', 'PfizerBioNTech', 'CovidVaccine']</td>\n",
       "      <td>10</td>\n",
       "      <td>1</td>\n",
       "    </tr>\n",
       "    <tr>\n",
       "      <th>17</th>\n",
       "      <td>Coronavirus: Iran reports 8,201 new cases, 221 deaths in the last 24 hours #Iran #coronavirus #PfizerBioNTech… https://t.co/mwDNAdmb7F</td>\n",
       "      <td>2020-12-12</td>\n",
       "      <td>ILKHA</td>\n",
       "      <td>Türkiye</td>\n",
       "      <td>['Iran', 'coronavirus', 'PfizerBioNTech']</td>\n",
       "      <td>5</td>\n",
       "      <td>3</td>\n",
       "    </tr>\n",
       "    <tr>\n",
       "      <th>298</th>\n",
       "      <td>#UnitedStates : The Federal Aviation Administration (FAA) said Saturday it had approved the use of the… https://t.co/Lyq594UEks</td>\n",
       "      <td>2020-12-12</td>\n",
       "      <td>DD India</td>\n",
       "      <td>New Delhi, India</td>\n",
       "      <td>['UnitedStates']</td>\n",
       "      <td>5</td>\n",
       "      <td>0</td>\n",
       "    </tr>\n",
       "    <tr>\n",
       "      <th>6</th>\n",
       "      <td>it is a bit sad to claim the fame for success of #vaccination on patriotic competition between USA, Canada, UK and… https://t.co/IfMrAyGyTP</td>\n",
       "      <td>2020-12-12</td>\n",
       "      <td>Gunther Fehlinger</td>\n",
       "      <td>Austria, Ukraine and Kosovo</td>\n",
       "      <td>['vaccination']</td>\n",
       "      <td>4</td>\n",
       "      <td>0</td>\n",
       "    </tr>\n",
       "    <tr>\n",
       "      <th>301</th>\n",
       "      <td>I am beyond relieved to share that I’ll be among the first to receive the #CovidVaccine from #PfizerBioNTech. Thank… https://t.co/1py4jUhGzU</td>\n",
       "      <td>2020-12-12</td>\n",
       "      <td>Taryn Schuelke, CT, CCLS</td>\n",
       "      <td>Houston, TX</td>\n",
       "      <td>['CovidVaccine', 'PfizerBioNTech']</td>\n",
       "      <td>4</td>\n",
       "      <td>2</td>\n",
       "    </tr>\n",
       "    <tr>\n",
       "      <th>18</th>\n",
       "      <td>.@Pfizer will rake in billions from its expensive #CovidVaccine but @AlbertBourla refuses to cut the price for lowe… https://t.co/eC94w3TUl0</td>\n",
       "      <td>2020-12-12</td>\n",
       "      <td>Braderz73🌹#GTTO 🇪🇺 🇬🇧</td>\n",
       "      <td>Bristol, UK</td>\n",
       "      <td>['CovidVaccine']</td>\n",
       "      <td>3</td>\n",
       "      <td>3</td>\n",
       "    </tr>\n",
       "    <tr>\n",
       "      <th>16</th>\n",
       "      <td>UPDATED: #YellowFever &amp;amp; #COVID19 #ImmunityPassports - Part Two\\n\\n#SARSCoV2 #PfizerBioNtech #Britain #December… https://t.co/qKT7Rst9aW</td>\n",
       "      <td>2020-12-12</td>\n",
       "      <td>STOPCOMMONPASS.ORG</td>\n",
       "      <td>Global</td>\n",
       "      <td>['YellowFever', 'COVID19', 'ImmunityPassports', 'SARSCoV2', 'PfizerBioNtech', 'Britain', 'December']</td>\n",
       "      <td>2</td>\n",
       "      <td>2</td>\n",
       "    </tr>\n",
       "    <tr>\n",
       "      <th>21</th>\n",
       "      <td>Anyone wondering why day after #PfizerBioNTech approval in the UK people were getting vaccinated but all we are tol… https://t.co/tPSyL9CUYE</td>\n",
       "      <td>2020-12-12</td>\n",
       "      <td>Richard Dunne, MD</td>\n",
       "      <td>Rochester, NY</td>\n",
       "      <td>['PfizerBioNTech']</td>\n",
       "      <td>2</td>\n",
       "      <td>0</td>\n",
       "    </tr>\n",
       "  </tbody>\n",
       "</table>\n",
       "</div>"
      ],
      "text/plain": [
       "                                                                                                                                               text  \\\n",
       "35                              An immigrant Muslim couple find the COVID-19 Vaccine. \\n\\n#CovidVaccine #PfizerBioNTech #Pfizervaccine #PfizerProud   \n",
       "293                 #UnitedStates : The Federal Aviation Administration (FAA) said Saturday it had approved the use of the… https://t.co/xvwUEvZZk2   \n",
       "25   No.1 of 2 done.\\n\\n#ThankYouNHS @NHSuk @MHRAgovuk and #PfizerBioNTech @pfizer for making the #CovidVaccine dream poss… https://t.co/3KvJ7UP432   \n",
       "17           Coronavirus: Iran reports 8,201 new cases, 221 deaths in the last 24 hours #Iran #coronavirus #PfizerBioNTech… https://t.co/mwDNAdmb7F   \n",
       "298                 #UnitedStates : The Federal Aviation Administration (FAA) said Saturday it had approved the use of the… https://t.co/Lyq594UEks   \n",
       "6       it is a bit sad to claim the fame for success of #vaccination on patriotic competition between USA, Canada, UK and… https://t.co/IfMrAyGyTP   \n",
       "301    I am beyond relieved to share that I’ll be among the first to receive the #CovidVaccine from #PfizerBioNTech. Thank… https://t.co/1py4jUhGzU   \n",
       "18     .@Pfizer will rake in billions from its expensive #CovidVaccine but @AlbertBourla refuses to cut the price for lowe… https://t.co/eC94w3TUl0   \n",
       "16      UPDATED: #YellowFever &amp; #COVID19 #ImmunityPassports - Part Two\\n\\n#SARSCoV2 #PfizerBioNtech #Britain #December… https://t.co/qKT7Rst9aW   \n",
       "21     Anyone wondering why day after #PfizerBioNTech approval in the UK people were getting vaccinated but all we are tol… https://t.co/tPSyL9CUYE   \n",
       "\n",
       "           date                    user_name                user_location  \\\n",
       "35   2020-12-12  Shahjhan Malik | #WearAMask     Nottinghamshire, England   \n",
       "293  2020-12-12                      DD News             New Delhi, India   \n",
       "25   2020-12-12              Devan Surendran          Nottingham, England   \n",
       "17   2020-12-12                        ILKHA                      Türkiye   \n",
       "298  2020-12-12                     DD India             New Delhi, India   \n",
       "6    2020-12-12            Gunther Fehlinger  Austria, Ukraine and Kosovo   \n",
       "301  2020-12-12     Taryn Schuelke, CT, CCLS                  Houston, TX   \n",
       "18   2020-12-12        Braderz73🌹#GTTO 🇪🇺 🇬🇧                  Bristol, UK   \n",
       "16   2020-12-12           STOPCOMMONPASS.ORG                       Global   \n",
       "21   2020-12-12            Richard Dunne, MD                Rochester, NY   \n",
       "\n",
       "                                                                                                 hashtags  \\\n",
       "35                                     ['CovidVaccine', 'PfizerBioNTech', 'Pfizervaccine', 'PfizerProud']   \n",
       "293                                                                                      ['UnitedStates']   \n",
       "25                                                      ['ThankYouNHS', 'PfizerBioNTech', 'CovidVaccine']   \n",
       "17                                                              ['Iran', 'coronavirus', 'PfizerBioNTech']   \n",
       "298                                                                                      ['UnitedStates']   \n",
       "6                                                                                         ['vaccination']   \n",
       "301                                                                    ['CovidVaccine', 'PfizerBioNTech']   \n",
       "18                                                                                       ['CovidVaccine']   \n",
       "16   ['YellowFever', 'COVID19', 'ImmunityPassports', 'SARSCoV2', 'PfizerBioNtech', 'Britain', 'December']   \n",
       "21                                                                                     ['PfizerBioNTech']   \n",
       "\n",
       "     favorites  retweets  \n",
       "35          37         2  \n",
       "293         21         4  \n",
       "25          10         1  \n",
       "17           5         3  \n",
       "298          5         0  \n",
       "6            4         0  \n",
       "301          4         2  \n",
       "18           3         3  \n",
       "16           2         2  \n",
       "21           2         0  "
      ]
     },
     "execution_count": 105,
     "metadata": {},
     "output_type": "execute_result"
    }
   ],
   "source": [
    "df.sort_values(by=['date', 'favorites'], ascending=[True, False])[['text', 'date', 'user_name', 'user_location', 'hashtags', 'favorites', 'retweets']].head(n=10)"
   ]
  },
  {
   "cell_type": "markdown",
   "metadata": {
    "id": "UIgMKXjTrefU"
   },
   "source": [
    "# Sentiment Analysis"
   ]
  },
  {
   "cell_type": "markdown",
   "metadata": {
    "id": "BzITOALl5wMW"
   },
   "source": [
    "We will be using the `TextBlob` library to perform sentiment analysis on the tweets in our dataset. `TextBlob` provides a simple API for diving into common natural language processing (NLP) tasks such as part-of-speech tagging, noun phrase extraction, sentiment analysis, classification, translation, and more."
   ]
  },
  {
   "cell_type": "code",
   "execution_count": 106,
   "metadata": {
    "ExecuteTime": {
     "end_time": "2021-03-22T18:45:00.724224Z",
     "start_time": "2021-03-22T18:45:00.558369Z"
    }
   },
   "outputs": [
    {
     "name": "stdout",
     "output_type": "stream",
     "text": [
      "Sentiment(polarity=0.46875, subjectivity=0.75)\n",
      "Sentiment(polarity=-0.7, subjectivity=0.9)\n",
      "Sentiment(polarity=0.0, subjectivity=0.0)\n"
     ]
    }
   ],
   "source": [
    "testimonial = TextBlob(\"So excited to get my vaccine!\")\n",
    "print(testimonial.sentiment)\n",
    "testimonial = TextBlob(\"Is the vaccine painful?\")\n",
    "print(testimonial.sentiment)\n",
    "testimonial = TextBlob(\"The Pfizer vaccine is now FDA approved\")\n",
    "print(testimonial.sentiment)"
   ]
  },
  {
   "cell_type": "code",
   "execution_count": 107,
   "metadata": {
    "ExecuteTime": {
     "end_time": "2021-03-22T18:45:00.751630Z",
     "start_time": "2021-03-22T18:45:00.729739Z"
    }
   },
   "outputs": [
    {
     "name": "stdout",
     "output_type": "stream",
     "text": [
      "Sentiment(polarity=0.22727272727272727, subjectivity=0.5454545454545454)\n"
     ]
    }
   ],
   "source": [
    "testimonial = TextBlob(\"I tested positive for COVID-19\")\n",
    "print(testimonial.sentiment)"
   ]
  },
  {
   "cell_type": "code",
   "execution_count": 108,
   "metadata": {
    "ExecuteTime": {
     "end_time": "2021-03-22T18:45:00.800885Z",
     "start_time": "2021-03-22T18:45:00.795160Z"
    },
    "id": "axa3BTQy5vwJ"
   },
   "outputs": [],
   "source": [
    "# tweet from Texas Governor Greg Abbott\n",
    "text = \"\"\"\n",
    "Today Texas surpassed 8 million vaccinations. It was just 4 days ago that we passed 7 million.\n",
    "\n",
    "The positivity rate dropped even lower--to 6.08%--the lowest since May 31st.\n",
    "\n",
    "Hospitalizations went down again also.\n",
    "\n",
    "Great job Texans!\n",
    "\n",
    "Vaccines are always voluntary, never forced.\n",
    "\"\"\"\n",
    "blob = TextBlob(text)"
   ]
  },
  {
   "cell_type": "code",
   "execution_count": 109,
   "metadata": {
    "ExecuteTime": {
     "end_time": "2021-03-22T18:45:05.024958Z",
     "start_time": "2021-03-22T18:45:00.834016Z"
    },
    "colab": {
     "base_uri": "https://localhost:8080/"
    },
    "id": "odVK-un_ELfj",
    "outputId": "f3977941-b74f-4c8e-dfa4-b58fe36a61e6"
   },
   "outputs": [
    {
     "name": "stdout",
     "output_type": "stream",
     "text": [
      "Tags\n",
      "[('Today', 'NN'), ('Texas', 'NNP'), ('surpassed', 'VBD'), ('8', 'CD'), ('million', 'CD'), ('vaccinations', 'NNS'), ('It', 'PRP'), ('was', 'VBD'), ('just', 'RB'), ('4', 'CD'), ('days', 'NNS'), ('ago', 'RB'), ('that', 'IN'), ('we', 'PRP'), ('passed', 'VBD'), ('7', 'CD'), ('million', 'CD'), ('The', 'DT'), ('positivity', 'NN'), ('rate', 'NN'), ('dropped', 'VBD'), ('even', 'RB'), ('lower', 'JJR'), ('to', 'TO'), ('6.08', 'CD'), ('%', 'NN'), ('the', 'DT'), ('lowest', 'JJS'), ('since', 'IN'), ('May', 'NNP'), ('31st', 'CD'), ('Hospitalizations', 'NNS'), ('went', 'VBD'), ('down', 'RB'), ('again', 'RB'), ('also', 'RB'), ('Great', 'NNP'), ('job', 'NN'), ('Texans', 'NNPS'), ('Vaccines', 'NNS'), ('are', 'VBP'), ('always', 'RB'), ('voluntary', 'JJ'), ('never', 'RB'), ('forced', 'VBN')]\n",
      "\n",
      "Noun Phrases\n",
      "['texas', 'positivity rate', 'may', 'hospitalizations', 'great job', 'vaccines']\n",
      "\n",
      "Words\n",
      "['Today', 'Texas', 'surpassed', '8', 'million', 'vaccinations', 'It', 'was', 'just', '4', 'days', 'ago', 'that', 'we', 'passed', '7', 'million', 'The', 'positivity', 'rate', 'dropped', 'even', 'lower', 'to', '6.08', 'the', 'lowest', 'since', 'May', '31st', 'Hospitalizations', 'went', 'down', 'again', 'also', 'Great', 'job', 'Texans', 'Vaccines', 'are', 'always', 'voluntary', 'never', 'forced']\n",
      "\n",
      "Sentences\n",
      "[Sentence(\"\n",
      "Today Texas surpassed 8 million vaccinations.\"), Sentence(\"It was just 4 days ago that we passed 7 million.\"), Sentence(\"The positivity rate dropped even lower--to 6.08%--the lowest since May 31st.\"), Sentence(\"Hospitalizations went down again also.\"), Sentence(\"Great job Texans!\"), Sentence(\"Vaccines are always voluntary, never forced.\")]\n",
      "\n"
     ]
    }
   ],
   "source": [
    "print(\"Tags\")\n",
    "print(blob.tags, end=\"\\n\\n\")\n",
    "\n",
    "print(\"Noun Phrases\")\n",
    "print(blob.noun_phrases, end=\"\\n\\n\")\n",
    "\n",
    "print(\"Words\")\n",
    "print(blob.words, end=\"\\n\\n\")\n",
    "\n",
    "print(\"Sentences\")\n",
    "print(blob.sentences, end=\"\\n\\n\")"
   ]
  },
  {
   "cell_type": "code",
   "execution_count": 110,
   "metadata": {
    "ExecuteTime": {
     "end_time": "2021-03-22T18:45:05.103238Z",
     "start_time": "2021-03-22T18:45:05.047089Z"
    },
    "colab": {
     "base_uri": "https://localhost:8080/"
    },
    "id": "FxpqsaFzESeE",
    "outputId": "ef4b1b49-32f7-474e-919c-311af3ffbf2e"
   },
   "outputs": [
    {
     "name": "stdout",
     "output_type": "stream",
     "text": [
      "\n",
      "Today Texas surpassed 8 million vaccinations.\n",
      "polarity: 0.0\n",
      "subjectivity: 0.0\n",
      "\n",
      "It was just 4 days ago that we passed 7 million.\n",
      "polarity: 0.0\n",
      "subjectivity: 0.0\n",
      "\n",
      "The positivity rate dropped even lower--to 6.08%--the lowest since May 31st.\n",
      "polarity: 0.0\n",
      "subjectivity: 0.0\n",
      "\n",
      "Hospitalizations went down again also.\n",
      "polarity: -0.15555555555555559\n",
      "subjectivity: 0.2888888888888889\n",
      "\n",
      "Great job Texans!\n",
      "polarity: 1.0\n",
      "subjectivity: 0.75\n",
      "\n",
      "Vaccines are always voluntary, never forced.\n",
      "polarity: 0.15000000000000002\n",
      "subjectivity: 0.2\n",
      "\n"
     ]
    }
   ],
   "source": [
    "for sentence in blob.sentences:\n",
    "    print(sentence)\n",
    "    print(\"polarity:\", sentence.sentiment.polarity)\n",
    "    print(\"subjectivity:\", sentence.sentiment.subjectivity)\n",
    "    print()"
   ]
  },
  {
   "cell_type": "code",
   "execution_count": 111,
   "metadata": {
    "ExecuteTime": {
     "end_time": "2021-03-22T18:45:14.754708Z",
     "start_time": "2021-03-22T18:45:05.111697Z"
    },
    "colab": {
     "base_uri": "https://localhost:8080/",
     "height": 479
    },
    "id": "TOsT5Im9JJN_",
    "outputId": "369b9b0b-ae8c-4a4d-e51d-69e538ddc115"
   },
   "outputs": [
    {
     "data": {
      "text/html": [
       "<div>\n",
       "<style scoped>\n",
       "    .dataframe tbody tr th:only-of-type {\n",
       "        vertical-align: middle;\n",
       "    }\n",
       "\n",
       "    .dataframe tbody tr th {\n",
       "        vertical-align: top;\n",
       "    }\n",
       "\n",
       "    .dataframe thead th {\n",
       "        text-align: right;\n",
       "    }\n",
       "</style>\n",
       "<table border=\"1\" class=\"dataframe\">\n",
       "  <thead>\n",
       "    <tr style=\"text-align: right;\">\n",
       "      <th></th>\n",
       "      <th>id</th>\n",
       "      <th>user_name</th>\n",
       "      <th>user_location</th>\n",
       "      <th>user_description</th>\n",
       "      <th>user_created</th>\n",
       "      <th>user_followers</th>\n",
       "      <th>user_friends</th>\n",
       "      <th>user_favourites</th>\n",
       "      <th>user_verified</th>\n",
       "      <th>date</th>\n",
       "      <th>text</th>\n",
       "      <th>hashtags</th>\n",
       "      <th>source</th>\n",
       "      <th>retweets</th>\n",
       "      <th>favorites</th>\n",
       "      <th>is_retweet</th>\n",
       "      <th>polarity</th>\n",
       "      <th>subjectivity</th>\n",
       "    </tr>\n",
       "  </thead>\n",
       "  <tbody>\n",
       "    <tr>\n",
       "      <th>0</th>\n",
       "      <td>1340539111971516416</td>\n",
       "      <td>Rachel Roh</td>\n",
       "      <td>La Crescenta-Montrose, CA</td>\n",
       "      <td>Aggregator of Asian American news; scanning diverse sources 24/7/365. RT's, Follows and 'Likes' will fuel me 👩‍💻</td>\n",
       "      <td>2009-04-08 17:52:46</td>\n",
       "      <td>405</td>\n",
       "      <td>1692</td>\n",
       "      <td>3247</td>\n",
       "      <td>False</td>\n",
       "      <td>2020-12-20</td>\n",
       "      <td>Same folks said daikon paste could treat a cytokine storm #PfizerBioNTech https://t.co/xeHhIMg1kF</td>\n",
       "      <td>['PfizerBioNTech']</td>\n",
       "      <td>Twitter for Android</td>\n",
       "      <td>0</td>\n",
       "      <td>0</td>\n",
       "      <td>False</td>\n",
       "      <td>0.00</td>\n",
       "      <td>0.125000</td>\n",
       "    </tr>\n",
       "    <tr>\n",
       "      <th>2</th>\n",
       "      <td>1337858199140118533</td>\n",
       "      <td>eli🇱🇹🇪🇺👌</td>\n",
       "      <td>Your Bed</td>\n",
       "      <td>heil, hydra 🖐☺</td>\n",
       "      <td>2020-06-25 23:30:28</td>\n",
       "      <td>10</td>\n",
       "      <td>88</td>\n",
       "      <td>155</td>\n",
       "      <td>False</td>\n",
       "      <td>2020-12-12</td>\n",
       "      <td>#coronavirus #SputnikV #AstraZeneca #PfizerBioNTech #Moderna #Covid_19 Russian vaccine is created to last 2-4 years… https://t.co/ieYlCKBr8P</td>\n",
       "      <td>['coronavirus', 'SputnikV', 'AstraZeneca', 'PfizerBioNTech', 'Moderna', 'Covid_19']</td>\n",
       "      <td>Twitter for Android</td>\n",
       "      <td>0</td>\n",
       "      <td>0</td>\n",
       "      <td>False</td>\n",
       "      <td>0.00</td>\n",
       "      <td>0.033333</td>\n",
       "    </tr>\n",
       "    <tr>\n",
       "      <th>6</th>\n",
       "      <td>1337851215875608579</td>\n",
       "      <td>Gunther Fehlinger</td>\n",
       "      <td>Austria, Ukraine and Kosovo</td>\n",
       "      <td>End North Stream 2 now - the pipeline of corruption, funding Russias war against Ukraine,Georgia, Syria and political intervention in USA and EU must be stopped</td>\n",
       "      <td>2013-06-10 17:49:22</td>\n",
       "      <td>2731</td>\n",
       "      <td>5001</td>\n",
       "      <td>69344</td>\n",
       "      <td>False</td>\n",
       "      <td>2020-12-12</td>\n",
       "      <td>it is a bit sad to claim the fame for success of #vaccination on patriotic competition between USA, Canada, UK and… https://t.co/IfMrAyGyTP</td>\n",
       "      <td>['vaccination']</td>\n",
       "      <td>Twitter Web App</td>\n",
       "      <td>0</td>\n",
       "      <td>4</td>\n",
       "      <td>False</td>\n",
       "      <td>-0.10</td>\n",
       "      <td>0.500000</td>\n",
       "    </tr>\n",
       "    <tr>\n",
       "      <th>9</th>\n",
       "      <td>1337842295857623042</td>\n",
       "      <td>Ch.Amjad Ali</td>\n",
       "      <td>Islamabad</td>\n",
       "      <td>#ProudPakistani #LovePakArmy #PMIK @insafianspower1\\n#PoliticalScience #InternationalAffairs \\n#PAKUSTV #Newyork #Islamabad</td>\n",
       "      <td>2012-11-12 04:18:12</td>\n",
       "      <td>671</td>\n",
       "      <td>2368</td>\n",
       "      <td>20469</td>\n",
       "      <td>False</td>\n",
       "      <td>2020-12-12</td>\n",
       "      <td>#CovidVaccine \\n\\nStates will start getting #COVID19Vaccine Monday, #US says \\n#pakustv #NYC #Healthcare #GlobalGoals… https://t.co/MksOvBvs5w</td>\n",
       "      <td>['CovidVaccine', 'COVID19Vaccine', 'US', 'pakustv', 'NYC', 'Healthcare', 'GlobalGoals']</td>\n",
       "      <td>Twitter Web App</td>\n",
       "      <td>0</td>\n",
       "      <td>0</td>\n",
       "      <td>False</td>\n",
       "      <td>0.00</td>\n",
       "      <td>0.000000</td>\n",
       "    </tr>\n",
       "    <tr>\n",
       "      <th>10</th>\n",
       "      <td>1337841934170255365</td>\n",
       "      <td>Tamer Yazar</td>\n",
       "      <td>Turkey-Israel</td>\n",
       "      <td>Im Market Analyst, also Editor... working (freelance) for some companies that need analysis for their products in Int. Markets \\n- Instagram :  tamervisits -</td>\n",
       "      <td>2009-09-17 16:45:16</td>\n",
       "      <td>1302</td>\n",
       "      <td>78</td>\n",
       "      <td>339</td>\n",
       "      <td>False</td>\n",
       "      <td>2020-12-12</td>\n",
       "      <td>while deaths are closing in on the 300,000 mark... millions of people wait #PfizerBioNTech #Vaccine !\\n-\\nThe first U… https://t.co/uQ3A2f7SVP</td>\n",
       "      <td>['PfizerBioNTech', 'Vaccine']</td>\n",
       "      <td>Twitter Web App</td>\n",
       "      <td>0</td>\n",
       "      <td>0</td>\n",
       "      <td>False</td>\n",
       "      <td>0.25</td>\n",
       "      <td>0.333333</td>\n",
       "    </tr>\n",
       "  </tbody>\n",
       "</table>\n",
       "</div>"
      ],
      "text/plain": [
       "                     id          user_name                user_location  \\\n",
       "0   1340539111971516416         Rachel Roh    La Crescenta-Montrose, CA   \n",
       "2   1337858199140118533           eli🇱🇹🇪🇺👌                     Your Bed   \n",
       "6   1337851215875608579  Gunther Fehlinger  Austria, Ukraine and Kosovo   \n",
       "9   1337842295857623042       Ch.Amjad Ali                    Islamabad   \n",
       "10  1337841934170255365        Tamer Yazar                Turkey-Israel   \n",
       "\n",
       "                                                                                                                                                    user_description  \\\n",
       "0                                                   Aggregator of Asian American news; scanning diverse sources 24/7/365. RT's, Follows and 'Likes' will fuel me 👩‍💻   \n",
       "2                                                                                                                                                     heil, hydra 🖐☺   \n",
       "6   End North Stream 2 now - the pipeline of corruption, funding Russias war against Ukraine,Georgia, Syria and political intervention in USA and EU must be stopped   \n",
       "9                                        #ProudPakistani #LovePakArmy #PMIK @insafianspower1\\n#PoliticalScience #InternationalAffairs \\n#PAKUSTV #Newyork #Islamabad   \n",
       "10     Im Market Analyst, also Editor... working (freelance) for some companies that need analysis for their products in Int. Markets \\n- Instagram :  tamervisits -   \n",
       "\n",
       "           user_created  user_followers  user_friends  user_favourites  \\\n",
       "0   2009-04-08 17:52:46             405          1692             3247   \n",
       "2   2020-06-25 23:30:28              10            88              155   \n",
       "6   2013-06-10 17:49:22            2731          5001            69344   \n",
       "9   2012-11-12 04:18:12             671          2368            20469   \n",
       "10  2009-09-17 16:45:16            1302            78              339   \n",
       "\n",
       "    user_verified        date  \\\n",
       "0           False  2020-12-20   \n",
       "2           False  2020-12-12   \n",
       "6           False  2020-12-12   \n",
       "9           False  2020-12-12   \n",
       "10          False  2020-12-12   \n",
       "\n",
       "                                                                                                                                              text  \\\n",
       "0                                                Same folks said daikon paste could treat a cytokine storm #PfizerBioNTech https://t.co/xeHhIMg1kF   \n",
       "2     #coronavirus #SputnikV #AstraZeneca #PfizerBioNTech #Moderna #Covid_19 Russian vaccine is created to last 2-4 years… https://t.co/ieYlCKBr8P   \n",
       "6      it is a bit sad to claim the fame for success of #vaccination on patriotic competition between USA, Canada, UK and… https://t.co/IfMrAyGyTP   \n",
       "9   #CovidVaccine \\n\\nStates will start getting #COVID19Vaccine Monday, #US says \\n#pakustv #NYC #Healthcare #GlobalGoals… https://t.co/MksOvBvs5w   \n",
       "10  while deaths are closing in on the 300,000 mark... millions of people wait #PfizerBioNTech #Vaccine !\\n-\\nThe first U… https://t.co/uQ3A2f7SVP   \n",
       "\n",
       "                                                                                   hashtags  \\\n",
       "0                                                                        ['PfizerBioNTech']   \n",
       "2       ['coronavirus', 'SputnikV', 'AstraZeneca', 'PfizerBioNTech', 'Moderna', 'Covid_19']   \n",
       "6                                                                           ['vaccination']   \n",
       "9   ['CovidVaccine', 'COVID19Vaccine', 'US', 'pakustv', 'NYC', 'Healthcare', 'GlobalGoals']   \n",
       "10                                                            ['PfizerBioNTech', 'Vaccine']   \n",
       "\n",
       "                 source  retweets  favorites  is_retweet  polarity  \\\n",
       "0   Twitter for Android         0          0       False      0.00   \n",
       "2   Twitter for Android         0          0       False      0.00   \n",
       "6       Twitter Web App         0          4       False     -0.10   \n",
       "9       Twitter Web App         0          0       False      0.00   \n",
       "10      Twitter Web App         0          0       False      0.25   \n",
       "\n",
       "    subjectivity  \n",
       "0       0.125000  \n",
       "2       0.033333  \n",
       "6       0.500000  \n",
       "9       0.000000  \n",
       "10      0.333333  "
      ]
     },
     "execution_count": 111,
     "metadata": {},
     "output_type": "execute_result"
    }
   ],
   "source": [
    "# let's apply the TextBlob API onto our tweet data to perform sentiment analysis!\n",
    "df['polarity'] = df['text'].apply(lambda x: TextBlob(x).sentiment.polarity)\n",
    "df['subjectivity'] = df['text'].apply(lambda x: TextBlob(x).sentiment.subjectivity)\n",
    "df.head()"
   ]
  },
  {
   "cell_type": "code",
   "execution_count": 112,
   "metadata": {
    "ExecuteTime": {
     "end_time": "2021-03-22T18:45:15.215447Z",
     "start_time": "2021-03-22T18:45:14.759953Z"
    },
    "colab": {
     "base_uri": "https://localhost:8080/",
     "height": 282
    },
    "id": "1pVf79PBJg_l",
    "outputId": "c7aea31c-0859-49aa-e864-45570a0e2cd8"
   },
   "outputs": [
    {
     "data": {
      "image/png": "[encoded data removed]",
      "text/plain": [
       "<Figure size 720x432 with 1 Axes>"
      ]
     },
     "metadata": {
      "needs_background": "light"
     },
     "output_type": "display_data"
    }
   ],
   "source": [
    "fig = plt.figure(figsize=(10, 6))\n",
    "df['polarity'].hist()\n",
    "plt.xlabel('Polarity Score', fontsize=18)\n",
    "plt.ylabel('Frequency', fontsize=18)\n",
    "plt.xticks(fontsize=16)\n",
    "plt.yticks(fontsize=16)\n",
    "fig.savefig(\"D:/DataScience/project/Workspace/polarity.png\")"
   ]
  },
  {
   "cell_type": "code",
   "execution_count": 113,
   "metadata": {
    "ExecuteTime": {
     "end_time": "2021-03-22T18:45:15.666617Z",
     "start_time": "2021-03-22T18:45:15.218729Z"
    },
    "colab": {
     "base_uri": "https://localhost:8080/",
     "height": 282
    },
    "id": "vj0wy9o7Jj4m",
    "outputId": "c64ba53b-fe84-404e-d9b1-9b62ee6d561f"
   },
   "outputs": [
    {
     "data": {
      "image/png": "[encoded data removed]",
      "text/plain": [
       "<Figure size 720x432 with 1 Axes>"
      ]
     },
     "metadata": {
      "needs_background": "light"
     },
     "output_type": "display_data"
    }
   ],
   "source": [
    "fig = plt.figure(figsize=(10, 6))\n",
    "df['subjectivity'].hist()\n",
    "plt.xlabel('Subjectivity Score', fontsize=18)\n",
    "plt.ylabel('Frequency', fontsize=18)\n",
    "plt.xticks(fontsize=16)\n",
    "plt.yticks(fontsize=16)\n",
    "fig.savefig(\"D:/DataScience/project/Workspace/subjectivity.png\")"
   ]
  },
  {
   "cell_type": "markdown",
   "metadata": {
    "id": "_6f4uSzNpgCG"
   },
   "source": [
    "## Inspection"
   ]
  },
  {
   "cell_type": "code",
   "execution_count": 114,
   "metadata": {
    "ExecuteTime": {
     "end_time": "2021-03-22T18:45:15.721279Z",
     "start_time": "2021-03-22T18:45:15.677521Z"
    },
    "colab": {
     "base_uri": "https://localhost:8080/"
    },
    "id": "aIYU-inWJrPp",
    "outputId": "1f586b86-17f4-47bd-8d2f-334b42bc1378"
   },
   "outputs": [
    {
     "data": {
      "text/html": [
       "<div>\n",
       "<style scoped>\n",
       "    .dataframe tbody tr th:only-of-type {\n",
       "        vertical-align: middle;\n",
       "    }\n",
       "\n",
       "    .dataframe tbody tr th {\n",
       "        vertical-align: top;\n",
       "    }\n",
       "\n",
       "    .dataframe thead th {\n",
       "        text-align: right;\n",
       "    }\n",
       "</style>\n",
       "<table border=\"1\" class=\"dataframe\">\n",
       "  <thead>\n",
       "    <tr style=\"text-align: right;\">\n",
       "      <th></th>\n",
       "      <th>text</th>\n",
       "      <th>polarity</th>\n",
       "      <th>subjectivity</th>\n",
       "    </tr>\n",
       "  </thead>\n",
       "  <tbody>\n",
       "    <tr>\n",
       "      <th>0</th>\n",
       "      <td>Moderna #2 is done! 💉 So blessed to be fully vaccinated against this devastating virus. #vaccinated #500kdeaths #COVID19 #Moderna</td>\n",
       "      <td>-1.0</td>\n",
       "      <td>1.0</td>\n",
       "    </tr>\n",
       "    <tr>\n",
       "      <th>1</th>\n",
       "      <td>#PfizerBioNTech #Vaccin #COVID19 #Moderna \\nWHAT THE FUCK !!!!!!\\n😂😂😂😂🤣🤣🤣🤣🤣😱😱😱😱😱 https://t.co/NaPnpvhY5W</td>\n",
       "      <td>-1.0</td>\n",
       "      <td>0.6</td>\n",
       "    </tr>\n",
       "    <tr>\n",
       "      <th>2</th>\n",
       "      <td>Terrifying account of taking the #Oxford  / #OxfordAstraZeneca / #AstraZenaca vack-seeen. \\nThink I’ll just take my… https://t.co/cClLy4u3ds</td>\n",
       "      <td>-1.0</td>\n",
       "      <td>1.0</td>\n",
       "    </tr>\n",
       "    <tr>\n",
       "      <th>3</th>\n",
       "      <td>@bppoddar terrible and horrible arrangements. No one should get jabbed here. #covaxin</td>\n",
       "      <td>-1.0</td>\n",
       "      <td>1.0</td>\n",
       "    </tr>\n",
       "    <tr>\n",
       "      <th>4</th>\n",
       "      <td>@ajay43 And I m still feeling horrible after yesterday’s jab 😫#Covaxin , grocery #Petrol 😫😫</td>\n",
       "      <td>-1.0</td>\n",
       "      <td>1.0</td>\n",
       "    </tr>\n",
       "    <tr>\n",
       "      <th>5</th>\n",
       "      <td>This Government's administration's DESPERATION to cover up for #BigPharma #Pfizer and #Moderna is DISGUSTING 🤮🤮🤮🤮🤮🤮… https://t.co/LtSwDBobzd</td>\n",
       "      <td>-1.0</td>\n",
       "      <td>1.0</td>\n",
       "    </tr>\n",
       "    <tr>\n",
       "      <th>6</th>\n",
       "      <td>Charging Indians for #COVID19 vaccines is horrible, letting vaccine producers charge what they like is unconscionab… https://t.co/wSE2IQpfw0</td>\n",
       "      <td>-1.0</td>\n",
       "      <td>1.0</td>\n",
       "    </tr>\n",
       "    <tr>\n",
       "      <th>7</th>\n",
       "      <td>Any one who has had #COVID19 did you get some nasty after taste/smell in your nose/throat? #CoronaUpdate #pfizer #moderna #AstraZeneca</td>\n",
       "      <td>-1.0</td>\n",
       "      <td>1.0</td>\n",
       "    </tr>\n",
       "    <tr>\n",
       "      <th>8</th>\n",
       "      <td>Holy crap! I think my arm is about to explode. #armpitpain #Moderna</td>\n",
       "      <td>-1.0</td>\n",
       "      <td>0.8</td>\n",
       "    </tr>\n",
       "    <tr>\n",
       "      <th>9</th>\n",
       "      <td>Had the #OxfordAstraZeneca jab yesterday and just had an awful night,Sweating,Feeling Sick,Headache from hell and a… https://t.co/YcfEizcLND</td>\n",
       "      <td>-1.0</td>\n",
       "      <td>1.0</td>\n",
       "    </tr>\n",
       "  </tbody>\n",
       "</table>\n",
       "</div>"
      ],
      "text/plain": [
       "                                                                                                                                           text  \\\n",
       "0             Moderna #2 is done! 💉 So blessed to be fully vaccinated against this devastating virus. #vaccinated #500kdeaths #COVID19 #Moderna   \n",
       "1                                      #PfizerBioNTech #Vaccin #COVID19 #Moderna \\nWHAT THE FUCK !!!!!!\\n😂😂😂😂🤣🤣🤣🤣🤣😱😱😱😱😱 https://t.co/NaPnpvhY5W   \n",
       "2  Terrifying account of taking the #Oxford  / #OxfordAstraZeneca / #AstraZenaca vack-seeen. \\nThink I’ll just take my… https://t.co/cClLy4u3ds   \n",
       "3                                                         @bppoddar terrible and horrible arrangements. No one should get jabbed here. #covaxin   \n",
       "4                                                   @ajay43 And I m still feeling horrible after yesterday’s jab 😫#Covaxin , grocery #Petrol 😫😫   \n",
       "5  This Government's administration's DESPERATION to cover up for #BigPharma #Pfizer and #Moderna is DISGUSTING 🤮🤮🤮🤮🤮🤮… https://t.co/LtSwDBobzd   \n",
       "6  Charging Indians for #COVID19 vaccines is horrible, letting vaccine producers charge what they like is unconscionab… https://t.co/wSE2IQpfw0   \n",
       "7        Any one who has had #COVID19 did you get some nasty after taste/smell in your nose/throat? #CoronaUpdate #pfizer #moderna #AstraZeneca   \n",
       "8                                                                           Holy crap! I think my arm is about to explode. #armpitpain #Moderna   \n",
       "9  Had the #OxfordAstraZeneca jab yesterday and just had an awful night,Sweating,Feeling Sick,Headache from hell and a… https://t.co/YcfEizcLND   \n",
       "\n",
       "   polarity  subjectivity  \n",
       "0      -1.0           1.0  \n",
       "1      -1.0           0.6  \n",
       "2      -1.0           1.0  \n",
       "3      -1.0           1.0  \n",
       "4      -1.0           1.0  \n",
       "5      -1.0           1.0  \n",
       "6      -1.0           1.0  \n",
       "7      -1.0           1.0  \n",
       "8      -1.0           0.8  \n",
       "9      -1.0           1.0  "
      ]
     },
     "execution_count": 114,
     "metadata": {},
     "output_type": "execute_result"
    }
   ],
   "source": [
    "# inspect the most negatively charged tweets\n",
    "df.sort_values(by='polarity', ascending=True)[['text', 'polarity', 'subjectivity']].reset_index(drop=True).head(n=10)"
   ]
  },
  {
   "cell_type": "code",
   "execution_count": 115,
   "metadata": {
    "ExecuteTime": {
     "end_time": "2021-03-22T18:45:15.756291Z",
     "start_time": "2021-03-22T18:45:15.726606Z"
    },
    "id": "Dnsnm_BfJujC"
   },
   "outputs": [
    {
     "data": {
      "text/html": [
       "<div>\n",
       "<style scoped>\n",
       "    .dataframe tbody tr th:only-of-type {\n",
       "        vertical-align: middle;\n",
       "    }\n",
       "\n",
       "    .dataframe tbody tr th {\n",
       "        vertical-align: top;\n",
       "    }\n",
       "\n",
       "    .dataframe thead th {\n",
       "        text-align: right;\n",
       "    }\n",
       "</style>\n",
       "<table border=\"1\" class=\"dataframe\">\n",
       "  <thead>\n",
       "    <tr style=\"text-align: right;\">\n",
       "      <th></th>\n",
       "      <th>text</th>\n",
       "      <th>polarity</th>\n",
       "      <th>subjectivity</th>\n",
       "    </tr>\n",
       "  </thead>\n",
       "  <tbody>\n",
       "    <tr>\n",
       "      <th>0</th>\n",
       "      <td>Happy to end the week fully vaccinated! #seconddose #moderna #tgif https://t.co/Ct1rUfvIQk</td>\n",
       "      <td>1.0</td>\n",
       "      <td>1.00</td>\n",
       "    </tr>\n",
       "    <tr>\n",
       "      <th>1</th>\n",
       "      <td>An excellent article on #Covaxin, India's #COVID19 vaccine. https://t.co/fLlRrV6cB9</td>\n",
       "      <td>1.0</td>\n",
       "      <td>1.00</td>\n",
       "    </tr>\n",
       "    <tr>\n",
       "      <th>2</th>\n",
       "      <td>@REDBOXINDIA Best part is that there is NO data on #Covaxin \\nIndia has been injecting them on millions</td>\n",
       "      <td>1.0</td>\n",
       "      <td>0.30</td>\n",
       "    </tr>\n",
       "    <tr>\n",
       "      <th>3</th>\n",
       "      <td>Which one is best ?\\n#COVISHIELD #Covaxin or #Sputnik ??</td>\n",
       "      <td>1.0</td>\n",
       "      <td>0.30</td>\n",
       "    </tr>\n",
       "    <tr>\n",
       "      <th>4</th>\n",
       "      <td>But the #PFIZER + #MODERNA \\nvaccinations are best. 🚧 🔬💉 https://t.co/NE7U0dMBf2</td>\n",
       "      <td>1.0</td>\n",
       "      <td>0.30</td>\n",
       "    </tr>\n",
       "    <tr>\n",
       "      <th>5</th>\n",
       "      <td>@Swamy39 ji you have a very best PR .. @Dharma2X...\\nMatlab Swamy ji ne #Covaxin ka bhi Credit ke hi liya....… https://t.co/h6x2qDSfTD</td>\n",
       "      <td>1.0</td>\n",
       "      <td>0.39</td>\n",
       "    </tr>\n",
       "    <tr>\n",
       "      <th>6</th>\n",
       "      <td>Excellent news 👏 👏 💉.\\n\\n#covaxin @bharatbiotech https://t.co/S8tDL3jhmB</td>\n",
       "      <td>1.0</td>\n",
       "      <td>1.00</td>\n",
       "    </tr>\n",
       "    <tr>\n",
       "      <th>7</th>\n",
       "      <td>I am so happy! #notthrowingawaymyshot #covidvacccine #moderna https://t.co/g4PfSxiAE9</td>\n",
       "      <td>1.0</td>\n",
       "      <td>1.00</td>\n",
       "    </tr>\n",
       "    <tr>\n",
       "      <th>8</th>\n",
       "      <td>Can any one suggest me the best vaccine? 💉\\n\\n#VaccineFor18Plus\\n#vaccine #VaccineRegistration #Odisha #COVIDIOTS… https://t.co/Fzt28TwvVY</td>\n",
       "      <td>1.0</td>\n",
       "      <td>0.30</td>\n",
       "    </tr>\n",
       "    <tr>\n",
       "      <th>9</th>\n",
       "      <td>Chipped and happy! #Moderna</td>\n",
       "      <td>1.0</td>\n",
       "      <td>1.00</td>\n",
       "    </tr>\n",
       "  </tbody>\n",
       "</table>\n",
       "</div>"
      ],
      "text/plain": [
       "                                                                                                                                         text  \\\n",
       "0                                                  Happy to end the week fully vaccinated! #seconddose #moderna #tgif https://t.co/Ct1rUfvIQk   \n",
       "1                                                         An excellent article on #Covaxin, India's #COVID19 vaccine. https://t.co/fLlRrV6cB9   \n",
       "2                                     @REDBOXINDIA Best part is that there is NO data on #Covaxin \\nIndia has been injecting them on millions   \n",
       "3                                                                                    Which one is best ?\\n#COVISHIELD #Covaxin or #Sputnik ??   \n",
       "4                                                            But the #PFIZER + #MODERNA \\nvaccinations are best. 🚧 🔬💉 https://t.co/NE7U0dMBf2   \n",
       "5      @Swamy39 ji you have a very best PR .. @Dharma2X...\\nMatlab Swamy ji ne #Covaxin ka bhi Credit ke hi liya....… https://t.co/h6x2qDSfTD   \n",
       "6                                                                    Excellent news 👏 👏 💉.\\n\\n#covaxin @bharatbiotech https://t.co/S8tDL3jhmB   \n",
       "7                                                       I am so happy! #notthrowingawaymyshot #covidvacccine #moderna https://t.co/g4PfSxiAE9   \n",
       "8  Can any one suggest me the best vaccine? 💉\\n\\n#VaccineFor18Plus\\n#vaccine #VaccineRegistration #Odisha #COVIDIOTS… https://t.co/Fzt28TwvVY   \n",
       "9                                                                                                                 Chipped and happy! #Moderna   \n",
       "\n",
       "   polarity  subjectivity  \n",
       "0       1.0          1.00  \n",
       "1       1.0          1.00  \n",
       "2       1.0          0.30  \n",
       "3       1.0          0.30  \n",
       "4       1.0          0.30  \n",
       "5       1.0          0.39  \n",
       "6       1.0          1.00  \n",
       "7       1.0          1.00  \n",
       "8       1.0          0.30  \n",
       "9       1.0          1.00  "
      ]
     },
     "execution_count": 115,
     "metadata": {},
     "output_type": "execute_result"
    }
   ],
   "source": [
    "# inspect the most positively charged tweets\n",
    "df.sort_values(by='polarity', ascending=False)[['text', 'polarity', 'subjectivity']].reset_index(drop=True).head(n=10)"
   ]
  },
  {
   "cell_type": "code",
   "execution_count": 116,
   "metadata": {
    "ExecuteTime": {
     "end_time": "2021-03-22T18:45:15.786221Z",
     "start_time": "2021-03-22T18:45:15.759810Z"
    },
    "id": "XH4Yhv3WLbRK"
   },
   "outputs": [
    {
     "data": {
      "text/html": [
       "<div>\n",
       "<style scoped>\n",
       "    .dataframe tbody tr th:only-of-type {\n",
       "        vertical-align: middle;\n",
       "    }\n",
       "\n",
       "    .dataframe tbody tr th {\n",
       "        vertical-align: top;\n",
       "    }\n",
       "\n",
       "    .dataframe thead th {\n",
       "        text-align: right;\n",
       "    }\n",
       "</style>\n",
       "<table border=\"1\" class=\"dataframe\">\n",
       "  <thead>\n",
       "    <tr style=\"text-align: right;\">\n",
       "      <th></th>\n",
       "      <th>text</th>\n",
       "      <th>polarity</th>\n",
       "      <th>subjectivity</th>\n",
       "    </tr>\n",
       "  </thead>\n",
       "  <tbody>\n",
       "    <tr>\n",
       "      <th>0</th>\n",
       "      <td>@RRRex1206 They are administrating both #Pfizer and #Moderna. When you arrive they separate you into two lines and… https://t.co/IwRDpFoGlA</td>\n",
       "      <td>0.0</td>\n",
       "      <td>0.0</td>\n",
       "    </tr>\n",
       "    <tr>\n",
       "      <th>1</th>\n",
       "      <td>It’s time to bring #Covaxin to the US. $OCGN. @Ocugen @BharatBiotech @CovaxinBharat https://t.co/wxxSgBVzS8</td>\n",
       "      <td>0.0</td>\n",
       "      <td>0.0</td>\n",
       "    </tr>\n",
       "    <tr>\n",
       "      <th>2</th>\n",
       "      <td>@FightingbackHD Replace 'em all with #Covaxin.</td>\n",
       "      <td>0.0</td>\n",
       "      <td>0.0</td>\n",
       "    </tr>\n",
       "    <tr>\n",
       "      <th>3</th>\n",
       "      <td>The second dose of the #Sinopharm vaccine will be administered from June 8\\n\\n#SriLanka #CovidVaccine #COVID19… https://t.co/moDAO8j6k8</td>\n",
       "      <td>0.0</td>\n",
       "      <td>0.0</td>\n",
       "    </tr>\n",
       "    <tr>\n",
       "      <th>4</th>\n",
       "      <td>Mumbai's eastern suburb citizens preferring #COVAXIN over #COVISHIELD Read here: https://t.co/laiL4ibglk https://t.co/Hat1VT7PDz</td>\n",
       "      <td>0.0</td>\n",
       "      <td>0.0</td>\n",
       "    </tr>\n",
       "    <tr>\n",
       "      <th>5</th>\n",
       "      <td>Double Vaccinated Yesterday! Arm is sore, and headache,  but that's it for now. #Pfizer #Moderna https://t.co/AgMKk1Rovl</td>\n",
       "      <td>0.0</td>\n",
       "      <td>0.0</td>\n",
       "    </tr>\n",
       "    <tr>\n",
       "      <th>6</th>\n",
       "      <td>@sudhirmehtapune Would USA allow sales of india made vaccine #Covaxin in USA? NO. It’s reciprocal</td>\n",
       "      <td>0.0</td>\n",
       "      <td>0.0</td>\n",
       "    </tr>\n",
       "    <tr>\n",
       "      <th>7</th>\n",
       "      <td>why has the maharashtra govt in #Mumbai #Bombay pulled out #Covaxin for the 1st dose since 01st April, 2021?\\nit can… https://t.co/PZbWibj7dg</td>\n",
       "      <td>0.0</td>\n",
       "      <td>0.0</td>\n",
       "    </tr>\n",
       "    <tr>\n",
       "      <th>8</th>\n",
       "      <td>What about your #COVID19 vaccination? #Covishield #Covaxin</td>\n",
       "      <td>0.0</td>\n",
       "      <td>0.0</td>\n",
       "    </tr>\n",
       "    <tr>\n",
       "      <th>9</th>\n",
       "      <td>@abpanandatv So 1st encounter yr nazayez baap Genocide who is  giving #Covaxin #Sugar to Pakistan !</td>\n",
       "      <td>0.0</td>\n",
       "      <td>0.0</td>\n",
       "    </tr>\n",
       "  </tbody>\n",
       "</table>\n",
       "</div>"
      ],
      "text/plain": [
       "                                                                                                                                            text  \\\n",
       "0    @RRRex1206 They are administrating both #Pfizer and #Moderna. When you arrive they separate you into two lines and… https://t.co/IwRDpFoGlA   \n",
       "1                                    It’s time to bring #Covaxin to the US. $OCGN. @Ocugen @BharatBiotech @CovaxinBharat https://t.co/wxxSgBVzS8   \n",
       "2                                                                                                 @FightingbackHD Replace 'em all with #Covaxin.   \n",
       "3        The second dose of the #Sinopharm vaccine will be administered from June 8\\n\\n#SriLanka #CovidVaccine #COVID19… https://t.co/moDAO8j6k8   \n",
       "4               Mumbai's eastern suburb citizens preferring #COVAXIN over #COVISHIELD Read here: https://t.co/laiL4ibglk https://t.co/Hat1VT7PDz   \n",
       "5                       Double Vaccinated Yesterday! Arm is sore, and headache,  but that's it for now. #Pfizer #Moderna https://t.co/AgMKk1Rovl   \n",
       "6                                              @sudhirmehtapune Would USA allow sales of india made vaccine #Covaxin in USA? NO. It’s reciprocal   \n",
       "7  why has the maharashtra govt in #Mumbai #Bombay pulled out #Covaxin for the 1st dose since 01st April, 2021?\\nit can… https://t.co/PZbWibj7dg   \n",
       "8                                                                                     What about your #COVID19 vaccination? #Covishield #Covaxin   \n",
       "9                                            @abpanandatv So 1st encounter yr nazayez baap Genocide who is  giving #Covaxin #Sugar to Pakistan !   \n",
       "\n",
       "   polarity  subjectivity  \n",
       "0       0.0           0.0  \n",
       "1       0.0           0.0  \n",
       "2       0.0           0.0  \n",
       "3       0.0           0.0  \n",
       "4       0.0           0.0  \n",
       "5       0.0           0.0  \n",
       "6       0.0           0.0  \n",
       "7       0.0           0.0  \n",
       "8       0.0           0.0  \n",
       "9       0.0           0.0  "
      ]
     },
     "execution_count": 116,
     "metadata": {},
     "output_type": "execute_result"
    }
   ],
   "source": [
    "# inspect the most subjective tweets (NOTE: subjectivity scale ranges from 0 to 1)\n",
    "df.sort_values(by='subjectivity', ascending=True)[['text', 'polarity', 'subjectivity']].reset_index(drop=True).head(n=10)"
   ]
  },
  {
   "cell_type": "code",
   "execution_count": 117,
   "metadata": {
    "ExecuteTime": {
     "end_time": "2021-03-22T18:45:15.813584Z",
     "start_time": "2021-03-22T18:45:15.790298Z"
    },
    "id": "nNxWpw09MwBF"
   },
   "outputs": [
    {
     "data": {
      "text/html": [
       "<div>\n",
       "<style scoped>\n",
       "    .dataframe tbody tr th:only-of-type {\n",
       "        vertical-align: middle;\n",
       "    }\n",
       "\n",
       "    .dataframe tbody tr th {\n",
       "        vertical-align: top;\n",
       "    }\n",
       "\n",
       "    .dataframe thead th {\n",
       "        text-align: right;\n",
       "    }\n",
       "</style>\n",
       "<table border=\"1\" class=\"dataframe\">\n",
       "  <thead>\n",
       "    <tr style=\"text-align: right;\">\n",
       "      <th></th>\n",
       "      <th>text</th>\n",
       "      <th>polarity</th>\n",
       "      <th>subjectivity</th>\n",
       "    </tr>\n",
       "  </thead>\n",
       "  <tbody>\n",
       "    <tr>\n",
       "      <th>0</th>\n",
       "      <td>#IndiaFightsCorona\\nThe final vaccine product of #COVAXIN does not contain newborn calf serum at all!\\n\\nDo not fall p… https://t.co/f0wWeybgAk</td>\n",
       "      <td>0.0</td>\n",
       "      <td>1.0</td>\n",
       "    </tr>\n",
       "    <tr>\n",
       "      <th>1</th>\n",
       "      <td>@CandidSpeaker @SherazAmin15 @fawadchaudhry Yes, thats why it became the testing ground for the fake #SinoVac. Leki… https://t.co/aIEkqB7ef7</td>\n",
       "      <td>-0.5</td>\n",
       "      <td>1.0</td>\n",
       "    </tr>\n",
       "    <tr>\n",
       "      <th>2</th>\n",
       "      <td>EVERY SHOT COUNTS......\\nHAPPY TO COLLABORATE WITH SIKH COMMUNITY\\n#covid19 #covid19vaccine #covaxin #covisheild… https://t.co/iiG42qNxXm</td>\n",
       "      <td>0.8</td>\n",
       "      <td>1.0</td>\n",
       "    </tr>\n",
       "    <tr>\n",
       "      <th>3</th>\n",
       "      <td>I am happy to report that yesterday, I received #Moderna Dose #2 of the COVID-19 vaccine!  💉🩹❤️</td>\n",
       "      <td>1.0</td>\n",
       "      <td>1.0</td>\n",
       "    </tr>\n",
       "    <tr>\n",
       "      <th>4</th>\n",
       "      <td>Create a smashing impact on everyone by wearing this stunning #South #Cotton #Saree in Mithila Style. 😍🥰\\n\\n❤️Sale: U… https://t.co/Bnpfj4Igtc</td>\n",
       "      <td>0.5</td>\n",
       "      <td>1.0</td>\n",
       "    </tr>\n",
       "    <tr>\n",
       "      <th>5</th>\n",
       "      <td>Done with both doses of #COVID19Vaccination with #Covaxin 💉\\nThank you @BharatBiotech \\nImmense gratitude to… https://t.co/krcwTXZj5S</td>\n",
       "      <td>0.0</td>\n",
       "      <td>1.0</td>\n",
       "    </tr>\n",
       "    <tr>\n",
       "      <th>6</th>\n",
       "      <td>Important Information about Sinopharm vaccine @Shiffa_ZY \\n#Sinopharm #vaccine #Govtofpakistan #COVID19Vaccine https://t.co/yuBqTwIMMX</td>\n",
       "      <td>0.4</td>\n",
       "      <td>1.0</td>\n",
       "    </tr>\n",
       "    <tr>\n",
       "      <th>7</th>\n",
       "      <td>Proof of quality and safety of #China's #Sinovac vaccine. Awesome. https://t.co/oZgHV0CxYr</td>\n",
       "      <td>1.0</td>\n",
       "      <td>1.0</td>\n",
       "    </tr>\n",
       "    <tr>\n",
       "      <th>8</th>\n",
       "      <td>Govt Sources: \\n@Bharatbiotech #Covaxin likely to get EUL from @WHO by end of August reports @PoulomiMSaha</td>\n",
       "      <td>0.0</td>\n",
       "      <td>1.0</td>\n",
       "    </tr>\n",
       "    <tr>\n",
       "      <th>9</th>\n",
       "      <td>Is there a master list of every possible #Moderna side effect?</td>\n",
       "      <td>0.0</td>\n",
       "      <td>1.0</td>\n",
       "    </tr>\n",
       "  </tbody>\n",
       "</table>\n",
       "</div>"
      ],
      "text/plain": [
       "                                                                                                                                              text  \\\n",
       "0  #IndiaFightsCorona\\nThe final vaccine product of #COVAXIN does not contain newborn calf serum at all!\\n\\nDo not fall p… https://t.co/f0wWeybgAk   \n",
       "1     @CandidSpeaker @SherazAmin15 @fawadchaudhry Yes, thats why it became the testing ground for the fake #SinoVac. Leki… https://t.co/aIEkqB7ef7   \n",
       "2        EVERY SHOT COUNTS......\\nHAPPY TO COLLABORATE WITH SIKH COMMUNITY\\n#covid19 #covid19vaccine #covaxin #covisheild… https://t.co/iiG42qNxXm   \n",
       "3                                                  I am happy to report that yesterday, I received #Moderna Dose #2 of the COVID-19 vaccine!  💉🩹❤️   \n",
       "4   Create a smashing impact on everyone by wearing this stunning #South #Cotton #Saree in Mithila Style. 😍🥰\\n\\n❤️Sale: U… https://t.co/Bnpfj4Igtc   \n",
       "5            Done with both doses of #COVID19Vaccination with #Covaxin 💉\\nThank you @BharatBiotech \\nImmense gratitude to… https://t.co/krcwTXZj5S   \n",
       "6           Important Information about Sinopharm vaccine @Shiffa_ZY \\n#Sinopharm #vaccine #Govtofpakistan #COVID19Vaccine https://t.co/yuBqTwIMMX   \n",
       "7                                                       Proof of quality and safety of #China's #Sinovac vaccine. Awesome. https://t.co/oZgHV0CxYr   \n",
       "8                                       Govt Sources: \\n@Bharatbiotech #Covaxin likely to get EUL from @WHO by end of August reports @PoulomiMSaha   \n",
       "9                                                                                   Is there a master list of every possible #Moderna side effect?   \n",
       "\n",
       "   polarity  subjectivity  \n",
       "0       0.0           1.0  \n",
       "1      -0.5           1.0  \n",
       "2       0.8           1.0  \n",
       "3       1.0           1.0  \n",
       "4       0.5           1.0  \n",
       "5       0.0           1.0  \n",
       "6       0.4           1.0  \n",
       "7       1.0           1.0  \n",
       "8       0.0           1.0  \n",
       "9       0.0           1.0  "
      ]
     },
     "execution_count": 117,
     "metadata": {},
     "output_type": "execute_result"
    }
   ],
   "source": [
    "# inspect the most objective tweets\n",
    "df.sort_values(by='subjectivity', ascending=False)[['text', 'polarity', 'subjectivity']].reset_index(drop=True).head(n=10)"
   ]
  },
  {
   "cell_type": "code",
   "execution_count": 118,
   "metadata": {
    "ExecuteTime": {
     "end_time": "2021-03-22T18:45:18.994983Z",
     "start_time": "2021-03-22T18:45:15.815900Z"
    },
    "colab": {
     "base_uri": "https://localhost:8080/",
     "height": 409
    },
    "id": "2wruw3qrp1u4",
    "outputId": "8f299551-6447-46ac-86e7-538c002eeda2"
   },
   "outputs": [
    {
     "data": {
      "application/vnd.plotly.v1+json": {
       "config": {
        "plotlyServerURL": "https://plot.ly"
       },
       "data": [
        {
         "alignmentgroup": "True",
         "hovertemplate": "Date=%{x}<br>Tweet Count=%{y}<extra></extra>",
         "legendgroup": "",
         "marker": {
          "color": "#636efa",
          "pattern": {
           "shape": ""
          }
         },
         "name": "",
         "offsetgroup": "",
         "orientation": "v",
         "showlegend": false,
         "textposition": "auto",
         "type": "bar",
         "x": [
          "2020-12-12",
          "2020-12-13",
          "2020-12-14",
          "2020-12-15",
          "2020-12-16",
          "2020-12-17",
          "2020-12-18",
          "2020-12-19",
          "2020-12-20",
          "2020-12-21",
          "2020-12-22",
          "2020-12-23",
          "2020-12-24",
          "2020-12-25",
          "2020-12-26",
          "2020-12-27",
          "2020-12-28",
          "2020-12-29",
          "2020-12-30",
          "2020-12-31",
          "2021-01-01",
          "2021-01-02",
          "2021-01-03",
          "2021-01-04",
          "2021-01-05",
          "2021-01-06",
          "2021-01-07",
          "2021-01-08",
          "2021-01-09",
          "2021-01-10",
          "2021-01-11",
          "2021-01-12",
          "2021-01-13",
          "2021-01-14",
          "2021-01-15",
          "2021-01-16",
          "2021-01-17",
          "2021-01-18",
          "2021-01-19",
          "2021-01-20",
          "2021-01-21",
          "2021-01-22",
          "2021-01-23",
          "2021-01-24",
          "2021-01-25",
          "2021-01-26",
          "2021-01-27",
          "2021-01-28",
          "2021-01-29",
          "2021-01-30",
          "2021-01-31",
          "2021-02-01",
          "2021-02-02",
          "2021-02-03",
          "2021-02-04",
          "2021-02-05",
          "2021-02-06",
          "2021-02-07",
          "2021-02-08",
          "2021-02-09",
          "2021-02-10",
          "2021-02-11",
          "2021-02-12",
          "2021-02-13",
          "2021-02-14",
          "2021-02-15",
          "2021-02-16",
          "2021-02-17",
          "2021-02-18",
          "2021-02-19",
          "2021-02-20",
          "2021-02-21",
          "2021-02-22",
          "2021-02-23",
          "2021-02-24",
          "2021-02-25",
          "2021-02-26",
          "2021-02-27",
          "2021-02-28",
          "2021-03-01",
          "2021-03-02",
          "2021-03-03",
          "2021-03-04",
          "2021-03-05",
          "2021-03-06",
          "2021-03-07",
          "2021-03-08",
          "2021-03-09",
          "2021-03-10",
          "2021-03-11",
          "2021-03-12",
          "2021-03-13",
          "2021-03-14",
          "2021-03-15",
          "2021-03-16",
          "2021-03-17",
          "2021-03-18",
          "2021-03-19",
          "2021-03-20",
          "2021-03-21",
          "2021-03-22",
          "2021-03-23",
          "2021-03-24",
          "2021-03-25",
          "2021-03-26",
          "2021-03-27",
          "2021-03-28",
          "2021-03-29",
          "2021-03-30",
          "2021-03-31",
          "2021-04-01",
          "2021-04-02",
          "2021-04-03",
          "2021-04-04",
          "2021-04-05",
          "2021-04-06",
          "2021-04-07",
          "2021-04-08",
          "2021-04-09",
          "2021-04-10",
          "2021-04-11",
          "2021-04-12",
          "2021-04-13",
          "2021-04-14",
          "2021-04-15",
          "2021-04-16",
          "2021-04-17",
          "2021-04-18",
          "2021-04-19",
          "2021-04-20",
          "2021-04-21",
          "2021-04-22",
          "2021-05-13",
          "2021-05-14",
          "2021-05-15",
          "2021-05-16",
          "2021-05-17",
          "2021-05-18",
          "2021-05-19",
          "2021-05-20",
          "2021-05-21",
          "2021-05-22",
          "2021-05-23",
          "2021-05-24",
          "2021-05-25",
          "2021-05-26",
          "2021-05-27",
          "2021-05-28",
          "2021-05-29",
          "2021-05-30",
          "2021-05-31",
          "2021-06-01",
          "2021-06-02",
          "2021-06-03",
          "2021-06-04",
          "2021-06-05",
          "2021-06-06",
          "2021-06-07",
          "2021-06-08",
          "2021-06-09",
          "2021-06-10",
          "2021-06-11",
          "2021-06-12",
          "2021-06-13",
          "2021-06-14",
          "2021-06-15",
          "2021-06-16",
          "2021-06-17",
          "2021-06-18",
          "2021-06-19",
          "2021-06-20",
          "2021-06-21",
          "2021-06-22",
          "2021-06-23",
          "2021-06-24",
          "2021-06-25",
          "2021-06-26",
          "2021-06-27",
          "2021-06-28",
          "2021-06-29",
          "2021-06-30",
          "2021-07-01",
          "2021-07-07",
          "2021-07-08",
          "2021-07-09",
          "2021-07-10",
          "2021-07-11",
          "2021-07-12",
          "2021-07-13",
          "2021-07-14",
          "2021-07-15",
          "2021-07-16",
          "2021-07-17",
          "2021-07-18",
          "2021-07-19",
          "2021-07-20",
          "2021-07-21",
          "2021-07-22",
          "2021-07-23",
          "2021-07-24",
          "2021-07-25",
          "2021-07-26",
          "2021-07-27",
          "2021-07-28",
          "2021-07-29",
          "2021-07-30",
          "2021-07-31",
          "2021-08-01",
          "2021-08-02",
          "2021-08-03",
          "2021-08-04",
          "2021-08-05",
          "2021-08-06",
          "2021-08-07",
          "2021-08-08",
          "2021-08-09",
          "2021-08-10",
          "2021-08-11",
          "2021-08-12",
          "2021-08-13",
          "2021-08-14",
          "2021-08-15",
          "2021-08-16",
          "2021-08-17",
          "2021-08-18",
          "2021-08-19",
          "2021-08-20",
          "2021-08-21",
          "2021-08-22",
          "2021-08-23",
          "2021-08-24",
          "2021-08-25",
          "2021-08-26",
          "2021-08-27"
         ],
         "xaxis": "x",
         "y": [
          38,
          52,
          83,
          87,
          78,
          79,
          55,
          70,
          42,
          66,
          97,
          83,
          70,
          22,
          26,
          32,
          26,
          54,
          63,
          38,
          50,
          46,
          32,
          47,
          67,
          65,
          43,
          106,
          80,
          57,
          53,
          52,
          59,
          64,
          91,
          82,
          63,
          37,
          61,
          57,
          92,
          43,
          40,
          35,
          34,
          48,
          42,
          47,
          58,
          34,
          11,
          18,
          37,
          19,
          44,
          40,
          24,
          183,
          301,
          285,
          280,
          260,
          304,
          235,
          159,
          188,
          249,
          308,
          333,
          305,
          221,
          147,
          283,
          247,
          383,
          383,
          417,
          275,
          318,
          1562,
          478,
          809,
          603,
          489,
          328,
          220,
          305,
          428,
          470,
          538,
          474,
          319,
          250,
          563,
          852,
          562,
          567,
          551,
          581,
          378,
          546,
          459,
          500,
          431,
          371,
          326,
          264,
          479,
          617,
          753,
          561,
          426,
          485,
          279,
          361,
          529,
          917,
          1015,
          672,
          509,
          482,
          1185,
          1166,
          932,
          880,
          915,
          631,
          457,
          671,
          663,
          1459,
          493,
          298,
          841,
          472,
          704,
          676,
          639,
          654,
          691,
          161,
          310,
          469,
          796,
          867,
          636,
          691,
          716,
          575,
          402,
          468,
          619,
          395,
          282,
          242,
          322,
          225,
          760,
          1039,
          805,
          586,
          830,
          622,
          387,
          267,
          322,
          323,
          676,
          533,
          346,
          229,
          351,
          737,
          659,
          515,
          490,
          360,
          274,
          409,
          961,
          1315,
          743,
          48,
          236,
          286,
          230,
          179,
          421,
          684,
          421,
          451,
          518,
          328,
          217,
          353,
          296,
          316,
          321,
          444,
          375,
          164,
          289,
          299,
          407,
          453,
          425,
          331,
          334,
          685,
          531,
          443,
          624,
          483,
          326,
          351,
          530,
          553,
          884,
          525,
          813,
          372,
          220,
          279,
          410,
          501,
          403,
          423,
          283,
          241,
          551,
          449,
          444,
          475,
          175
         ],
         "yaxis": "y"
        }
       ],
       "layout": {
        "barmode": "relative",
        "legend": {
         "tracegroupgap": 0
        },
        "margin": {
         "t": 60
        },
        "template": {
         "data": {
          "bar": [
           {
            "error_x": {
             "color": "#2a3f5f"
            },
            "error_y": {
             "color": "#2a3f5f"
            },
            "marker": {
             "line": {
              "color": "#E5ECF6",
              "width": 0.5
             },
             "pattern": {
              "fillmode": "overlay",
              "size": 10,
              "solidity": 0.2
             }
            },
            "type": "bar"
           }
          ],
          "barpolar": [
           {
            "marker": {
             "line": {
              "color": "#E5ECF6",
              "width": 0.5
             },
             "pattern": {
              "fillmode": "overlay",
              "size": 10,
              "solidity": 0.2
             }
            },
            "type": "barpolar"
           }
          ],
          "carpet": [
           {
            "aaxis": {
             "endlinecolor": "#2a3f5f",
             "gridcolor": "white",
             "linecolor": "white",
             "minorgridcolor": "white",
             "startlinecolor": "#2a3f5f"
            },
            "baxis": {
             "endlinecolor": "#2a3f5f",
             "gridcolor": "white",
             "linecolor": "white",
             "minorgridcolor": "white",
             "startlinecolor": "#2a3f5f"
            },
            "type": "carpet"
           }
          ],
          "choropleth": [
           {
            "colorbar": {
             "outlinewidth": 0,
             "ticks": ""
            },
            "type": "choropleth"
           }
          ],
          "contour": [
           {
            "colorbar": {
             "outlinewidth": 0,
             "ticks": ""
            },
            "colorscale": [
             [
              0,
              "#0d0887"
             ],
             [
              0.1111111111111111,
              "#46039f"
             ],
             [
              0.2222222222222222,
              "#7201a8"
             ],
             [
              0.3333333333333333,
              "#9c179e"
             ],
             [
              0.4444444444444444,
              "#bd3786"
             ],
             [
              0.5555555555555556,
              "#d8576b"
             ],
             [
              0.6666666666666666,
              "#ed7953"
             ],
             [
              0.7777777777777778,
              "#fb9f3a"
             ],
             [
              0.8888888888888888,
              "#fdca26"
             ],
             [
              1,
              "#f0f921"
             ]
            ],
            "type": "contour"
           }
          ],
          "contourcarpet": [
           {
            "colorbar": {
             "outlinewidth": 0,
             "ticks": ""
            },
            "type": "contourcarpet"
           }
          ],
          "heatmap": [
           {
            "colorbar": {
             "outlinewidth": 0,
             "ticks": ""
            },
            "colorscale": [
             [
              0,
              "#0d0887"
             ],
             [
              0.1111111111111111,
              "#46039f"
             ],
             [
              0.2222222222222222,
              "#7201a8"
             ],
             [
              0.3333333333333333,
              "#9c179e"
             ],
             [
              0.4444444444444444,
              "#bd3786"
             ],
             [
              0.5555555555555556,
              "#d8576b"
             ],
             [
              0.6666666666666666,
              "#ed7953"
             ],
             [
              0.7777777777777778,
              "#fb9f3a"
             ],
             [
              0.8888888888888888,
              "#fdca26"
             ],
             [
              1,
              "#f0f921"
             ]
            ],
            "type": "heatmap"
           }
          ],
          "heatmapgl": [
           {
            "colorbar": {
             "outlinewidth": 0,
             "ticks": ""
            },
            "colorscale": [
             [
              0,
              "#0d0887"
             ],
             [
              0.1111111111111111,
              "#46039f"
             ],
             [
              0.2222222222222222,
              "#7201a8"
             ],
             [
              0.3333333333333333,
              "#9c179e"
             ],
             [
              0.4444444444444444,
              "#bd3786"
             ],
             [
              0.5555555555555556,
              "#d8576b"
             ],
             [
              0.6666666666666666,
              "#ed7953"
             ],
             [
              0.7777777777777778,
              "#fb9f3a"
             ],
             [
              0.8888888888888888,
              "#fdca26"
             ],
             [
              1,
              "#f0f921"
             ]
            ],
            "type": "heatmapgl"
           }
          ],
          "histogram": [
           {
            "marker": {
             "pattern": {
              "fillmode": "overlay",
              "size": 10,
              "solidity": 0.2
             }
            },
            "type": "histogram"
           }
          ],
          "histogram2d": [
           {
            "colorbar": {
             "outlinewidth": 0,
             "ticks": ""
            },
            "colorscale": [
             [
              0,
              "#0d0887"
             ],
             [
              0.1111111111111111,
              "#46039f"
             ],
             [
              0.2222222222222222,
              "#7201a8"
             ],
             [
              0.3333333333333333,
              "#9c179e"
             ],
             [
              0.4444444444444444,
              "#bd3786"
             ],
             [
              0.5555555555555556,
              "#d8576b"
             ],
             [
              0.6666666666666666,
              "#ed7953"
             ],
             [
              0.7777777777777778,
              "#fb9f3a"
             ],
             [
              0.8888888888888888,
              "#fdca26"
             ],
             [
              1,
              "#f0f921"
             ]
            ],
            "type": "histogram2d"
           }
          ],
          "histogram2dcontour": [
           {
            "colorbar": {
             "outlinewidth": 0,
             "ticks": ""
            },
            "colorscale": [
             [
              0,
              "#0d0887"
             ],
             [
              0.1111111111111111,
              "#46039f"
             ],
             [
              0.2222222222222222,
              "#7201a8"
             ],
             [
              0.3333333333333333,
              "#9c179e"
             ],
             [
              0.4444444444444444,
              "#bd3786"
             ],
             [
              0.5555555555555556,
              "#d8576b"
             ],
             [
              0.6666666666666666,
              "#ed7953"
             ],
             [
              0.7777777777777778,
              "#fb9f3a"
             ],
             [
              0.8888888888888888,
              "#fdca26"
             ],
             [
              1,
              "#f0f921"
             ]
            ],
            "type": "histogram2dcontour"
           }
          ],
          "mesh3d": [
           {
            "colorbar": {
             "outlinewidth": 0,
             "ticks": ""
            },
            "type": "mesh3d"
           }
          ],
          "parcoords": [
           {
            "line": {
             "colorbar": {
              "outlinewidth": 0,
              "ticks": ""
             }
            },
            "type": "parcoords"
           }
          ],
          "pie": [
           {
            "automargin": true,
            "type": "pie"
           }
          ],
          "scatter": [
           {
            "marker": {
             "colorbar": {
              "outlinewidth": 0,
              "ticks": ""
             }
            },
            "type": "scatter"
           }
          ],
          "scatter3d": [
           {
            "line": {
             "colorbar": {
              "outlinewidth": 0,
              "ticks": ""
             }
            },
            "marker": {
             "colorbar": {
              "outlinewidth": 0,
              "ticks": ""
             }
            },
            "type": "scatter3d"
           }
          ],
          "scattercarpet": [
           {
            "marker": {
             "colorbar": {
              "outlinewidth": 0,
              "ticks": ""
             }
            },
            "type": "scattercarpet"
           }
          ],
          "scattergeo": [
           {
            "marker": {
             "colorbar": {
              "outlinewidth": 0,
              "ticks": ""
             }
            },
            "type": "scattergeo"
           }
          ],
          "scattergl": [
           {
            "marker": {
             "colorbar": {
              "outlinewidth": 0,
              "ticks": ""
             }
            },
            "type": "scattergl"
           }
          ],
          "scattermapbox": [
           {
            "marker": {
             "colorbar": {
              "outlinewidth": 0,
              "ticks": ""
             }
            },
            "type": "scattermapbox"
           }
          ],
          "scatterpolar": [
           {
            "marker": {
             "colorbar": {
              "outlinewidth": 0,
              "ticks": ""
             }
            },
            "type": "scatterpolar"
           }
          ],
          "scatterpolargl": [
           {
            "marker": {
             "colorbar": {
              "outlinewidth": 0,
              "ticks": ""
             }
            },
            "type": "scatterpolargl"
           }
          ],
          "scatterternary": [
           {
            "marker": {
             "colorbar": {
              "outlinewidth": 0,
              "ticks": ""
             }
            },
            "type": "scatterternary"
           }
          ],
          "surface": [
           {
            "colorbar": {
             "outlinewidth": 0,
             "ticks": ""
            },
            "colorscale": [
             [
              0,
              "#0d0887"
             ],
             [
              0.1111111111111111,
              "#46039f"
             ],
             [
              0.2222222222222222,
              "#7201a8"
             ],
             [
              0.3333333333333333,
              "#9c179e"
             ],
             [
              0.4444444444444444,
              "#bd3786"
             ],
             [
              0.5555555555555556,
              "#d8576b"
             ],
             [
              0.6666666666666666,
              "#ed7953"
             ],
             [
              0.7777777777777778,
              "#fb9f3a"
             ],
             [
              0.8888888888888888,
              "#fdca26"
             ],
             [
              1,
              "#f0f921"
             ]
            ],
            "type": "surface"
           }
          ],
          "table": [
           {
            "cells": {
             "fill": {
              "color": "#EBF0F8"
             },
             "line": {
              "color": "white"
             }
            },
            "header": {
             "fill": {
              "color": "#C8D4E3"
             },
             "line": {
              "color": "white"
             }
            },
            "type": "table"
           }
          ]
         },
         "layout": {
          "annotationdefaults": {
           "arrowcolor": "#2a3f5f",
           "arrowhead": 0,
           "arrowwidth": 1
          },
          "autotypenumbers": "strict",
          "coloraxis": {
           "colorbar": {
            "outlinewidth": 0,
            "ticks": ""
           }
          },
          "colorscale": {
           "diverging": [
            [
             0,
             "#8e0152"
            ],
            [
             0.1,
             "#c51b7d"
            ],
            [
             0.2,
             "#de77ae"
            ],
            [
             0.3,
             "#f1b6da"
            ],
            [
             0.4,
             "#fde0ef"
            ],
            [
             0.5,
             "#f7f7f7"
            ],
            [
             0.6,
             "#e6f5d0"
            ],
            [
             0.7,
             "#b8e186"
            ],
            [
             0.8,
             "#7fbc41"
            ],
            [
             0.9,
             "#4d9221"
            ],
            [
             1,
             "#276419"
            ]
           ],
           "sequential": [
            [
             0,
             "#0d0887"
            ],
            [
             0.1111111111111111,
             "#46039f"
            ],
            [
             0.2222222222222222,
             "#7201a8"
            ],
            [
             0.3333333333333333,
             "#9c179e"
            ],
            [
             0.4444444444444444,
             "#bd3786"
            ],
            [
             0.5555555555555556,
             "#d8576b"
            ],
            [
             0.6666666666666666,
             "#ed7953"
            ],
            [
             0.7777777777777778,
             "#fb9f3a"
            ],
            [
             0.8888888888888888,
             "#fdca26"
            ],
            [
             1,
             "#f0f921"
            ]
           ],
           "sequentialminus": [
            [
             0,
             "#0d0887"
            ],
            [
             0.1111111111111111,
             "#46039f"
            ],
            [
             0.2222222222222222,
             "#7201a8"
            ],
            [
             0.3333333333333333,
             "#9c179e"
            ],
            [
             0.4444444444444444,
             "#bd3786"
            ],
            [
             0.5555555555555556,
             "#d8576b"
            ],
            [
             0.6666666666666666,
             "#ed7953"
            ],
            [
             0.7777777777777778,
             "#fb9f3a"
            ],
            [
             0.8888888888888888,
             "#fdca26"
            ],
            [
             1,
             "#f0f921"
            ]
           ]
          },
          "colorway": [
           "#636efa",
           "#EF553B",
           "#00cc96",
           "#ab63fa",
           "#FFA15A",
           "#19d3f3",
           "#FF6692",
           "#B6E880",
           "#FF97FF",
           "#FECB52"
          ],
          "font": {
           "color": "#2a3f5f"
          },
          "geo": {
           "bgcolor": "white",
           "lakecolor": "white",
           "landcolor": "#E5ECF6",
           "showlakes": true,
           "showland": true,
           "subunitcolor": "white"
          },
          "hoverlabel": {
           "align": "left"
          },
          "hovermode": "closest",
          "mapbox": {
           "style": "light"
          },
          "paper_bgcolor": "white",
          "plot_bgcolor": "#E5ECF6",
          "polar": {
           "angularaxis": {
            "gridcolor": "white",
            "linecolor": "white",
            "ticks": ""
           },
           "bgcolor": "#E5ECF6",
           "radialaxis": {
            "gridcolor": "white",
            "linecolor": "white",
            "ticks": ""
           }
          },
          "scene": {
           "xaxis": {
            "backgroundcolor": "#E5ECF6",
            "gridcolor": "white",
            "gridwidth": 2,
            "linecolor": "white",
            "showbackground": true,
            "ticks": "",
            "zerolinecolor": "white"
           },
           "yaxis": {
            "backgroundcolor": "#E5ECF6",
            "gridcolor": "white",
            "gridwidth": 2,
            "linecolor": "white",
            "showbackground": true,
            "ticks": "",
            "zerolinecolor": "white"
           },
           "zaxis": {
            "backgroundcolor": "#E5ECF6",
            "gridcolor": "white",
            "gridwidth": 2,
            "linecolor": "white",
            "showbackground": true,
            "ticks": "",
            "zerolinecolor": "white"
           }
          },
          "shapedefaults": {
           "line": {
            "color": "#2a3f5f"
           }
          },
          "ternary": {
           "aaxis": {
            "gridcolor": "white",
            "linecolor": "white",
            "ticks": ""
           },
           "baxis": {
            "gridcolor": "white",
            "linecolor": "white",
            "ticks": ""
           },
           "bgcolor": "#E5ECF6",
           "caxis": {
            "gridcolor": "white",
            "linecolor": "white",
            "ticks": ""
           }
          },
          "title": {
           "x": 0.05
          },
          "xaxis": {
           "automargin": true,
           "gridcolor": "white",
           "linecolor": "white",
           "ticks": "",
           "title": {
            "standoff": 15
           },
           "zerolinecolor": "white",
           "zerolinewidth": 2
          },
          "yaxis": {
           "automargin": true,
           "gridcolor": "white",
           "linecolor": "white",
           "ticks": "",
           "title": {
            "standoff": 15
           },
           "zerolinecolor": "white",
           "zerolinewidth": 2
          }
         }
        },
        "xaxis": {
         "anchor": "y",
         "domain": [
          0,
          1
         ],
         "title": {
          "text": "Date"
         }
        },
        "yaxis": {
         "anchor": "x",
         "domain": [
          0,
          1
         ],
         "title": {
          "text": "Tweet Count"
         }
        }
       }
      },
      "text/html": [
       "<div>                            <div id=\"ad70ff8b-d09e-412a-a2be-6d9b606c1917\" class=\"plotly-graph-div\" style=\"height:525px; width:100%;\"></div>            <script type=\"text/javascript\">                require([\"plotly\"], function(Plotly) {                    window.PLOTLYENV=window.PLOTLYENV || {};                                    if (document.getElementById(\"ad70ff8b-d09e-412a-a2be-6d9b606c1917\")) {                    Plotly.newPlot(                        \"ad70ff8b-d09e-412a-a2be-6d9b606c1917\",                        [{\"alignmentgroup\":\"True\",\"hovertemplate\":\"Date=%{x}<br>Tweet Count=%{y}<extra></extra>\",\"legendgroup\":\"\",\"marker\":{\"color\":\"#636efa\",\"pattern\":{\"shape\":\"\"}},\"name\":\"\",\"offsetgroup\":\"\",\"orientation\":\"v\",\"showlegend\":false,\"textposition\":\"auto\",\"type\":\"bar\",\"x\":[\"2020-12-12\",\"2020-12-13\",\"2020-12-14\",\"2020-12-15\",\"2020-12-16\",\"2020-12-17\",\"2020-12-18\",\"2020-12-19\",\"2020-12-20\",\"2020-12-21\",\"2020-12-22\",\"2020-12-23\",\"2020-12-24\",\"2020-12-25\",\"2020-12-26\",\"2020-12-27\",\"2020-12-28\",\"2020-12-29\",\"2020-12-30\",\"2020-12-31\",\"2021-01-01\",\"2021-01-02\",\"2021-01-03\",\"2021-01-04\",\"2021-01-05\",\"2021-01-06\",\"2021-01-07\",\"2021-01-08\",\"2021-01-09\",\"2021-01-10\",\"2021-01-11\",\"2021-01-12\",\"2021-01-13\",\"2021-01-14\",\"2021-01-15\",\"2021-01-16\",\"2021-01-17\",\"2021-01-18\",\"2021-01-19\",\"2021-01-20\",\"2021-01-21\",\"2021-01-22\",\"2021-01-23\",\"2021-01-24\",\"2021-01-25\",\"2021-01-26\",\"2021-01-27\",\"2021-01-28\",\"2021-01-29\",\"2021-01-30\",\"2021-01-31\",\"2021-02-01\",\"2021-02-02\",\"2021-02-03\",\"2021-02-04\",\"2021-02-05\",\"2021-02-06\",\"2021-02-07\",\"2021-02-08\",\"2021-02-09\",\"2021-02-10\",\"2021-02-11\",\"2021-02-12\",\"2021-02-13\",\"2021-02-14\",\"2021-02-15\",\"2021-02-16\",\"2021-02-17\",\"2021-02-18\",\"2021-02-19\",\"2021-02-20\",\"2021-02-21\",\"2021-02-22\",\"2021-02-23\",\"2021-02-24\",\"2021-02-25\",\"2021-02-26\",\"2021-02-27\",\"2021-02-28\",\"2021-03-01\",\"2021-03-02\",\"2021-03-03\",\"2021-03-04\",\"2021-03-05\",\"2021-03-06\",\"2021-03-07\",\"2021-03-08\",\"2021-03-09\",\"2021-03-10\",\"2021-03-11\",\"2021-03-12\",\"2021-03-13\",\"2021-03-14\",\"2021-03-15\",\"2021-03-16\",\"2021-03-17\",\"2021-03-18\",\"2021-03-19\",\"2021-03-20\",\"2021-03-21\",\"2021-03-22\",\"2021-03-23\",\"2021-03-24\",\"2021-03-25\",\"2021-03-26\",\"2021-03-27\",\"2021-03-28\",\"2021-03-29\",\"2021-03-30\",\"2021-03-31\",\"2021-04-01\",\"2021-04-02\",\"2021-04-03\",\"2021-04-04\",\"2021-04-05\",\"2021-04-06\",\"2021-04-07\",\"2021-04-08\",\"2021-04-09\",\"2021-04-10\",\"2021-04-11\",\"2021-04-12\",\"2021-04-13\",\"2021-04-14\",\"2021-04-15\",\"2021-04-16\",\"2021-04-17\",\"2021-04-18\",\"2021-04-19\",\"2021-04-20\",\"2021-04-21\",\"2021-04-22\",\"2021-05-13\",\"2021-05-14\",\"2021-05-15\",\"2021-05-16\",\"2021-05-17\",\"2021-05-18\",\"2021-05-19\",\"2021-05-20\",\"2021-05-21\",\"2021-05-22\",\"2021-05-23\",\"2021-05-24\",\"2021-05-25\",\"2021-05-26\",\"2021-05-27\",\"2021-05-28\",\"2021-05-29\",\"2021-05-30\",\"2021-05-31\",\"2021-06-01\",\"2021-06-02\",\"2021-06-03\",\"2021-06-04\",\"2021-06-05\",\"2021-06-06\",\"2021-06-07\",\"2021-06-08\",\"2021-06-09\",\"2021-06-10\",\"2021-06-11\",\"2021-06-12\",\"2021-06-13\",\"2021-06-14\",\"2021-06-15\",\"2021-06-16\",\"2021-06-17\",\"2021-06-18\",\"2021-06-19\",\"2021-06-20\",\"2021-06-21\",\"2021-06-22\",\"2021-06-23\",\"2021-06-24\",\"2021-06-25\",\"2021-06-26\",\"2021-06-27\",\"2021-06-28\",\"2021-06-29\",\"2021-06-30\",\"2021-07-01\",\"2021-07-07\",\"2021-07-08\",\"2021-07-09\",\"2021-07-10\",\"2021-07-11\",\"2021-07-12\",\"2021-07-13\",\"2021-07-14\",\"2021-07-15\",\"2021-07-16\",\"2021-07-17\",\"2021-07-18\",\"2021-07-19\",\"2021-07-20\",\"2021-07-21\",\"2021-07-22\",\"2021-07-23\",\"2021-07-24\",\"2021-07-25\",\"2021-07-26\",\"2021-07-27\",\"2021-07-28\",\"2021-07-29\",\"2021-07-30\",\"2021-07-31\",\"2021-08-01\",\"2021-08-02\",\"2021-08-03\",\"2021-08-04\",\"2021-08-05\",\"2021-08-06\",\"2021-08-07\",\"2021-08-08\",\"2021-08-09\",\"2021-08-10\",\"2021-08-11\",\"2021-08-12\",\"2021-08-13\",\"2021-08-14\",\"2021-08-15\",\"2021-08-16\",\"2021-08-17\",\"2021-08-18\",\"2021-08-19\",\"2021-08-20\",\"2021-08-21\",\"2021-08-22\",\"2021-08-23\",\"2021-08-24\",\"2021-08-25\",\"2021-08-26\",\"2021-08-27\"],\"xaxis\":\"x\",\"y\":[38,52,83,87,78,79,55,70,42,66,97,83,70,22,26,32,26,54,63,38,50,46,32,47,67,65,43,106,80,57,53,52,59,64,91,82,63,37,61,57,92,43,40,35,34,48,42,47,58,34,11,18,37,19,44,40,24,183,301,285,280,260,304,235,159,188,249,308,333,305,221,147,283,247,383,383,417,275,318,1562,478,809,603,489,328,220,305,428,470,538,474,319,250,563,852,562,567,551,581,378,546,459,500,431,371,326,264,479,617,753,561,426,485,279,361,529,917,1015,672,509,482,1185,1166,932,880,915,631,457,671,663,1459,493,298,841,472,704,676,639,654,691,161,310,469,796,867,636,691,716,575,402,468,619,395,282,242,322,225,760,1039,805,586,830,622,387,267,322,323,676,533,346,229,351,737,659,515,490,360,274,409,961,1315,743,48,236,286,230,179,421,684,421,451,518,328,217,353,296,316,321,444,375,164,289,299,407,453,425,331,334,685,531,443,624,483,326,351,530,553,884,525,813,372,220,279,410,501,403,423,283,241,551,449,444,475,175],\"yaxis\":\"y\"}],                        {\"barmode\":\"relative\",\"legend\":{\"tracegroupgap\":0},\"margin\":{\"t\":60},\"template\":{\"data\":{\"bar\":[{\"error_x\":{\"color\":\"#2a3f5f\"},\"error_y\":{\"color\":\"#2a3f5f\"},\"marker\":{\"line\":{\"color\":\"#E5ECF6\",\"width\":0.5},\"pattern\":{\"fillmode\":\"overlay\",\"size\":10,\"solidity\":0.2}},\"type\":\"bar\"}],\"barpolar\":[{\"marker\":{\"line\":{\"color\":\"#E5ECF6\",\"width\":0.5},\"pattern\":{\"fillmode\":\"overlay\",\"size\":10,\"solidity\":0.2}},\"type\":\"barpolar\"}],\"carpet\":[{\"aaxis\":{\"endlinecolor\":\"#2a3f5f\",\"gridcolor\":\"white\",\"linecolor\":\"white\",\"minorgridcolor\":\"white\",\"startlinecolor\":\"#2a3f5f\"},\"baxis\":{\"endlinecolor\":\"#2a3f5f\",\"gridcolor\":\"white\",\"linecolor\":\"white\",\"minorgridcolor\":\"white\",\"startlinecolor\":\"#2a3f5f\"},\"type\":\"carpet\"}],\"choropleth\":[{\"colorbar\":{\"outlinewidth\":0,\"ticks\":\"\"},\"type\":\"choropleth\"}],\"contour\":[{\"colorbar\":{\"outlinewidth\":0,\"ticks\":\"\"},\"colorscale\":[[0.0,\"#0d0887\"],[0.1111111111111111,\"#46039f\"],[0.2222222222222222,\"#7201a8\"],[0.3333333333333333,\"#9c179e\"],[0.4444444444444444,\"#bd3786\"],[0.5555555555555556,\"#d8576b\"],[0.6666666666666666,\"#ed7953\"],[0.7777777777777778,\"#fb9f3a\"],[0.8888888888888888,\"#fdca26\"],[1.0,\"#f0f921\"]],\"type\":\"contour\"}],\"contourcarpet\":[{\"colorbar\":{\"outlinewidth\":0,\"ticks\":\"\"},\"type\":\"contourcarpet\"}],\"heatmap\":[{\"colorbar\":{\"outlinewidth\":0,\"ticks\":\"\"},\"colorscale\":[[0.0,\"#0d0887\"],[0.1111111111111111,\"#46039f\"],[0.2222222222222222,\"#7201a8\"],[0.3333333333333333,\"#9c179e\"],[0.4444444444444444,\"#bd3786\"],[0.5555555555555556,\"#d8576b\"],[0.6666666666666666,\"#ed7953\"],[0.7777777777777778,\"#fb9f3a\"],[0.8888888888888888,\"#fdca26\"],[1.0,\"#f0f921\"]],\"type\":\"heatmap\"}],\"heatmapgl\":[{\"colorbar\":{\"outlinewidth\":0,\"ticks\":\"\"},\"colorscale\":[[0.0,\"#0d0887\"],[0.1111111111111111,\"#46039f\"],[0.2222222222222222,\"#7201a8\"],[0.3333333333333333,\"#9c179e\"],[0.4444444444444444,\"#bd3786\"],[0.5555555555555556,\"#d8576b\"],[0.6666666666666666,\"#ed7953\"],[0.7777777777777778,\"#fb9f3a\"],[0.8888888888888888,\"#fdca26\"],[1.0,\"#f0f921\"]],\"type\":\"heatmapgl\"}],\"histogram\":[{\"marker\":{\"pattern\":{\"fillmode\":\"overlay\",\"size\":10,\"solidity\":0.2}},\"type\":\"histogram\"}],\"histogram2d\":[{\"colorbar\":{\"outlinewidth\":0,\"ticks\":\"\"},\"colorscale\":[[0.0,\"#0d0887\"],[0.1111111111111111,\"#46039f\"],[0.2222222222222222,\"#7201a8\"],[0.3333333333333333,\"#9c179e\"],[0.4444444444444444,\"#bd3786\"],[0.5555555555555556,\"#d8576b\"],[0.6666666666666666,\"#ed7953\"],[0.7777777777777778,\"#fb9f3a\"],[0.8888888888888888,\"#fdca26\"],[1.0,\"#f0f921\"]],\"type\":\"histogram2d\"}],\"histogram2dcontour\":[{\"colorbar\":{\"outlinewidth\":0,\"ticks\":\"\"},\"colorscale\":[[0.0,\"#0d0887\"],[0.1111111111111111,\"#46039f\"],[0.2222222222222222,\"#7201a8\"],[0.3333333333333333,\"#9c179e\"],[0.4444444444444444,\"#bd3786\"],[0.5555555555555556,\"#d8576b\"],[0.6666666666666666,\"#ed7953\"],[0.7777777777777778,\"#fb9f3a\"],[0.8888888888888888,\"#fdca26\"],[1.0,\"#f0f921\"]],\"type\":\"histogram2dcontour\"}],\"mesh3d\":[{\"colorbar\":{\"outlinewidth\":0,\"ticks\":\"\"},\"type\":\"mesh3d\"}],\"parcoords\":[{\"line\":{\"colorbar\":{\"outlinewidth\":0,\"ticks\":\"\"}},\"type\":\"parcoords\"}],\"pie\":[{\"automargin\":true,\"type\":\"pie\"}],\"scatter\":[{\"marker\":{\"colorbar\":{\"outlinewidth\":0,\"ticks\":\"\"}},\"type\":\"scatter\"}],\"scatter3d\":[{\"line\":{\"colorbar\":{\"outlinewidth\":0,\"ticks\":\"\"}},\"marker\":{\"colorbar\":{\"outlinewidth\":0,\"ticks\":\"\"}},\"type\":\"scatter3d\"}],\"scattercarpet\":[{\"marker\":{\"colorbar\":{\"outlinewidth\":0,\"ticks\":\"\"}},\"type\":\"scattercarpet\"}],\"scattergeo\":[{\"marker\":{\"colorbar\":{\"outlinewidth\":0,\"ticks\":\"\"}},\"type\":\"scattergeo\"}],\"scattergl\":[{\"marker\":{\"colorbar\":{\"outlinewidth\":0,\"ticks\":\"\"}},\"type\":\"scattergl\"}],\"scattermapbox\":[{\"marker\":{\"colorbar\":{\"outlinewidth\":0,\"ticks\":\"\"}},\"type\":\"scattermapbox\"}],\"scatterpolar\":[{\"marker\":{\"colorbar\":{\"outlinewidth\":0,\"ticks\":\"\"}},\"type\":\"scatterpolar\"}],\"scatterpolargl\":[{\"marker\":{\"colorbar\":{\"outlinewidth\":0,\"ticks\":\"\"}},\"type\":\"scatterpolargl\"}],\"scatterternary\":[{\"marker\":{\"colorbar\":{\"outlinewidth\":0,\"ticks\":\"\"}},\"type\":\"scatterternary\"}],\"surface\":[{\"colorbar\":{\"outlinewidth\":0,\"ticks\":\"\"},\"colorscale\":[[0.0,\"#0d0887\"],[0.1111111111111111,\"#46039f\"],[0.2222222222222222,\"#7201a8\"],[0.3333333333333333,\"#9c179e\"],[0.4444444444444444,\"#bd3786\"],[0.5555555555555556,\"#d8576b\"],[0.6666666666666666,\"#ed7953\"],[0.7777777777777778,\"#fb9f3a\"],[0.8888888888888888,\"#fdca26\"],[1.0,\"#f0f921\"]],\"type\":\"surface\"}],\"table\":[{\"cells\":{\"fill\":{\"color\":\"#EBF0F8\"},\"line\":{\"color\":\"white\"}},\"header\":{\"fill\":{\"color\":\"#C8D4E3\"},\"line\":{\"color\":\"white\"}},\"type\":\"table\"}]},\"layout\":{\"annotationdefaults\":{\"arrowcolor\":\"#2a3f5f\",\"arrowhead\":0,\"arrowwidth\":1},\"autotypenumbers\":\"strict\",\"coloraxis\":{\"colorbar\":{\"outlinewidth\":0,\"ticks\":\"\"}},\"colorscale\":{\"diverging\":[[0,\"#8e0152\"],[0.1,\"#c51b7d\"],[0.2,\"#de77ae\"],[0.3,\"#f1b6da\"],[0.4,\"#fde0ef\"],[0.5,\"#f7f7f7\"],[0.6,\"#e6f5d0\"],[0.7,\"#b8e186\"],[0.8,\"#7fbc41\"],[0.9,\"#4d9221\"],[1,\"#276419\"]],\"sequential\":[[0.0,\"#0d0887\"],[0.1111111111111111,\"#46039f\"],[0.2222222222222222,\"#7201a8\"],[0.3333333333333333,\"#9c179e\"],[0.4444444444444444,\"#bd3786\"],[0.5555555555555556,\"#d8576b\"],[0.6666666666666666,\"#ed7953\"],[0.7777777777777778,\"#fb9f3a\"],[0.8888888888888888,\"#fdca26\"],[1.0,\"#f0f921\"]],\"sequentialminus\":[[0.0,\"#0d0887\"],[0.1111111111111111,\"#46039f\"],[0.2222222222222222,\"#7201a8\"],[0.3333333333333333,\"#9c179e\"],[0.4444444444444444,\"#bd3786\"],[0.5555555555555556,\"#d8576b\"],[0.6666666666666666,\"#ed7953\"],[0.7777777777777778,\"#fb9f3a\"],[0.8888888888888888,\"#fdca26\"],[1.0,\"#f0f921\"]]},\"colorway\":[\"#636efa\",\"#EF553B\",\"#00cc96\",\"#ab63fa\",\"#FFA15A\",\"#19d3f3\",\"#FF6692\",\"#B6E880\",\"#FF97FF\",\"#FECB52\"],\"font\":{\"color\":\"#2a3f5f\"},\"geo\":{\"bgcolor\":\"white\",\"lakecolor\":\"white\",\"landcolor\":\"#E5ECF6\",\"showlakes\":true,\"showland\":true,\"subunitcolor\":\"white\"},\"hoverlabel\":{\"align\":\"left\"},\"hovermode\":\"closest\",\"mapbox\":{\"style\":\"light\"},\"paper_bgcolor\":\"white\",\"plot_bgcolor\":\"#E5ECF6\",\"polar\":{\"angularaxis\":{\"gridcolor\":\"white\",\"linecolor\":\"white\",\"ticks\":\"\"},\"bgcolor\":\"#E5ECF6\",\"radialaxis\":{\"gridcolor\":\"white\",\"linecolor\":\"white\",\"ticks\":\"\"}},\"scene\":{\"xaxis\":{\"backgroundcolor\":\"#E5ECF6\",\"gridcolor\":\"white\",\"gridwidth\":2,\"linecolor\":\"white\",\"showbackground\":true,\"ticks\":\"\",\"zerolinecolor\":\"white\"},\"yaxis\":{\"backgroundcolor\":\"#E5ECF6\",\"gridcolor\":\"white\",\"gridwidth\":2,\"linecolor\":\"white\",\"showbackground\":true,\"ticks\":\"\",\"zerolinecolor\":\"white\"},\"zaxis\":{\"backgroundcolor\":\"#E5ECF6\",\"gridcolor\":\"white\",\"gridwidth\":2,\"linecolor\":\"white\",\"showbackground\":true,\"ticks\":\"\",\"zerolinecolor\":\"white\"}},\"shapedefaults\":{\"line\":{\"color\":\"#2a3f5f\"}},\"ternary\":{\"aaxis\":{\"gridcolor\":\"white\",\"linecolor\":\"white\",\"ticks\":\"\"},\"baxis\":{\"gridcolor\":\"white\",\"linecolor\":\"white\",\"ticks\":\"\"},\"bgcolor\":\"#E5ECF6\",\"caxis\":{\"gridcolor\":\"white\",\"linecolor\":\"white\",\"ticks\":\"\"}},\"title\":{\"x\":0.05},\"xaxis\":{\"automargin\":true,\"gridcolor\":\"white\",\"linecolor\":\"white\",\"ticks\":\"\",\"title\":{\"standoff\":15},\"zerolinecolor\":\"white\",\"zerolinewidth\":2},\"yaxis\":{\"automargin\":true,\"gridcolor\":\"white\",\"linecolor\":\"white\",\"ticks\":\"\",\"title\":{\"standoff\":15},\"zerolinecolor\":\"white\",\"zerolinewidth\":2}}},\"xaxis\":{\"anchor\":\"y\",\"domain\":[0.0,1.0],\"title\":{\"text\":\"Date\"}},\"yaxis\":{\"anchor\":\"x\",\"domain\":[0.0,1.0],\"title\":{\"text\":\"Tweet Count\"}}},                        {\"responsive\": true}                    ).then(function(){\n",
       "                            \n",
       "var gd = document.getElementById('ad70ff8b-d09e-412a-a2be-6d9b606c1917');\n",
       "var x = new MutationObserver(function (mutations, observer) {{\n",
       "        var display = window.getComputedStyle(gd).display;\n",
       "        if (!display || display === 'none') {{\n",
       "            console.log([gd, 'removed!']);\n",
       "            Plotly.purge(gd);\n",
       "            observer.disconnect();\n",
       "        }}\n",
       "}});\n",
       "\n",
       "// Listen for the removal of the full notebook cells\n",
       "var notebookContainer = gd.closest('#notebook-container');\n",
       "if (notebookContainer) {{\n",
       "    x.observe(notebookContainer, {childList: true});\n",
       "}}\n",
       "\n",
       "// Listen for the clearing of the current output cell\n",
       "var outputEl = gd.closest('.output');\n",
       "if (outputEl) {{\n",
       "    x.observe(outputEl, {childList: true});\n",
       "}}\n",
       "\n",
       "                        })                };                });            </script>        </div>"
      ]
     },
     "metadata": {},
     "output_type": "display_data"
    }
   ],
   "source": [
    "# let's inspect how many tweets there were with respect to time\n",
    "timeline = df.groupby(['date']).count().reset_index()\n",
    "timeline['count'] = timeline['text']\n",
    "timeline = timeline[['date', 'count']]\n",
    "\n",
    "import plotly.express as px\n",
    "fig = px.bar(timeline, x='date', y='count', labels={'date': 'Date', 'count': 'Tweet Count'})\n",
    "fig.show()\n"
   ]
  },
  {
   "cell_type": "markdown",
   "metadata": {
    "id": "cTqig5Xs2d11"
   },
   "source": [
    "# Time-Series Sentiment Analysis"
   ]
  },
  {
   "cell_type": "code",
   "execution_count": 119,
   "metadata": {
    "ExecuteTime": {
     "end_time": "2021-03-22T18:45:19.667780Z",
     "start_time": "2021-03-22T18:45:18.997763Z"
    },
    "colab": {
     "base_uri": "https://localhost:8080/",
     "height": 316
    },
    "id": "Nw1Ewkucs-Jw",
    "outputId": "e05541e2-3eed-4e35-9612-fdd3174d1263"
   },
   "outputs": [
    {
     "data": {
      "image/png": "[encoded data removed]",
      "text/plain": [
       "<Figure size 720x432 with 1 Axes>"
      ]
     },
     "metadata": {
      "needs_background": "light"
     },
     "output_type": "display_data"
    },
    {
     "data": {
      "text/plain": [
       "<Figure size 432x288 with 0 Axes>"
      ]
     },
     "metadata": {},
     "output_type": "display_data"
    }
   ],
   "source": [
    "# polarity values ranging from -1 to 1 are really useful for sentiment analysis\n",
    "# but let's convert our data to 3 classes (negative, neutral, and positive) so that we can visualize it\n",
    "criteria = [df['polarity'].between(-1, -0.01), df['polarity'].between(-0.01, 0.01), df['polarity'].between(0.01, 1)]\n",
    "values = ['negative', 'neutral', 'positive']\n",
    "df['sentiment'] = np.select(criteria, values, 0)\n",
    "\n",
    "# plot sentiment counts\n",
    "fig = plt.figure(figsize=(10, 6))\n",
    "df['sentiment'].value_counts().sort_index().plot.bar()\n",
    "plt.xlabel('Sentiment Label', fontsize=18)\n",
    "plt.ylabel('Tweet Count', fontsize=18)\n",
    "plt.xticks(fontsize=14)\n",
    "plt.yticks(fontsize=14)\n",
    "plt.show()\n",
    "plt.tight_layout()\n",
    "fig.savefig(\"D:/DataScience/project/Workspace/sentiment\", bbox_inches='tight');"
   ]
  },
  {
   "cell_type": "code",
   "execution_count": 120,
   "metadata": {
    "ExecuteTime": {
     "end_time": "2021-03-22T18:45:19.744430Z",
     "start_time": "2021-03-22T18:45:19.670596Z"
    },
    "colab": {
     "base_uri": "https://localhost:8080/",
     "height": 419
    },
    "id": "dZ07cufEzKEG",
    "outputId": "9c82c33e-e3c3-47fd-88eb-9b5f2e09293a"
   },
   "outputs": [
    {
     "data": {
      "text/html": [
       "<div>\n",
       "<style scoped>\n",
       "    .dataframe tbody tr th:only-of-type {\n",
       "        vertical-align: middle;\n",
       "    }\n",
       "\n",
       "    .dataframe tbody tr th {\n",
       "        vertical-align: top;\n",
       "    }\n",
       "\n",
       "    .dataframe thead th {\n",
       "        text-align: right;\n",
       "    }\n",
       "</style>\n",
       "<table border=\"1\" class=\"dataframe\">\n",
       "  <thead>\n",
       "    <tr style=\"text-align: right;\">\n",
       "      <th></th>\n",
       "      <th>date</th>\n",
       "      <th>count</th>\n",
       "      <th>polarity</th>\n",
       "      <th>retweets</th>\n",
       "      <th>favorites</th>\n",
       "      <th>subjectivity</th>\n",
       "    </tr>\n",
       "  </thead>\n",
       "  <tbody>\n",
       "    <tr>\n",
       "      <th>0</th>\n",
       "      <td>2020-12-12</td>\n",
       "      <td>38</td>\n",
       "      <td>0.034952</td>\n",
       "      <td>0.631579</td>\n",
       "      <td>2.868421</td>\n",
       "      <td>0.227801</td>\n",
       "    </tr>\n",
       "    <tr>\n",
       "      <th>1</th>\n",
       "      <td>2020-12-13</td>\n",
       "      <td>52</td>\n",
       "      <td>0.055937</td>\n",
       "      <td>1.942308</td>\n",
       "      <td>7.500000</td>\n",
       "      <td>0.255696</td>\n",
       "    </tr>\n",
       "    <tr>\n",
       "      <th>2</th>\n",
       "      <td>2020-12-14</td>\n",
       "      <td>83</td>\n",
       "      <td>0.116874</td>\n",
       "      <td>4.698795</td>\n",
       "      <td>29.204819</td>\n",
       "      <td>0.267803</td>\n",
       "    </tr>\n",
       "    <tr>\n",
       "      <th>3</th>\n",
       "      <td>2020-12-15</td>\n",
       "      <td>87</td>\n",
       "      <td>0.094041</td>\n",
       "      <td>1.022989</td>\n",
       "      <td>7.333333</td>\n",
       "      <td>0.258078</td>\n",
       "    </tr>\n",
       "    <tr>\n",
       "      <th>4</th>\n",
       "      <td>2020-12-16</td>\n",
       "      <td>78</td>\n",
       "      <td>0.104020</td>\n",
       "      <td>1.000000</td>\n",
       "      <td>5.115385</td>\n",
       "      <td>0.248872</td>\n",
       "    </tr>\n",
       "    <tr>\n",
       "      <th>...</th>\n",
       "      <td>...</td>\n",
       "      <td>...</td>\n",
       "      <td>...</td>\n",
       "      <td>...</td>\n",
       "      <td>...</td>\n",
       "      <td>...</td>\n",
       "    </tr>\n",
       "    <tr>\n",
       "      <th>229</th>\n",
       "      <td>2021-08-23</td>\n",
       "      <td>551</td>\n",
       "      <td>0.143749</td>\n",
       "      <td>1.288566</td>\n",
       "      <td>4.466425</td>\n",
       "      <td>0.316218</td>\n",
       "    </tr>\n",
       "    <tr>\n",
       "      <th>230</th>\n",
       "      <td>2021-08-24</td>\n",
       "      <td>449</td>\n",
       "      <td>0.115612</td>\n",
       "      <td>1.710468</td>\n",
       "      <td>5.864143</td>\n",
       "      <td>0.297622</td>\n",
       "    </tr>\n",
       "    <tr>\n",
       "      <th>231</th>\n",
       "      <td>2021-08-25</td>\n",
       "      <td>444</td>\n",
       "      <td>0.100736</td>\n",
       "      <td>1.986486</td>\n",
       "      <td>6.590090</td>\n",
       "      <td>0.261561</td>\n",
       "    </tr>\n",
       "    <tr>\n",
       "      <th>232</th>\n",
       "      <td>2021-08-26</td>\n",
       "      <td>475</td>\n",
       "      <td>0.078745</td>\n",
       "      <td>2.423158</td>\n",
       "      <td>4.894737</td>\n",
       "      <td>0.211421</td>\n",
       "    </tr>\n",
       "    <tr>\n",
       "      <th>233</th>\n",
       "      <td>2021-08-27</td>\n",
       "      <td>175</td>\n",
       "      <td>0.123787</td>\n",
       "      <td>2.565714</td>\n",
       "      <td>6.160000</td>\n",
       "      <td>0.296182</td>\n",
       "    </tr>\n",
       "  </tbody>\n",
       "</table>\n",
       "<p>234 rows × 6 columns</p>\n",
       "</div>"
      ],
      "text/plain": [
       "           date  count  polarity  retweets  favorites  subjectivity\n",
       "0    2020-12-12     38  0.034952  0.631579   2.868421      0.227801\n",
       "1    2020-12-13     52  0.055937  1.942308   7.500000      0.255696\n",
       "2    2020-12-14     83  0.116874  4.698795  29.204819      0.267803\n",
       "3    2020-12-15     87  0.094041  1.022989   7.333333      0.258078\n",
       "4    2020-12-16     78  0.104020  1.000000   5.115385      0.248872\n",
       "..          ...    ...       ...       ...        ...           ...\n",
       "229  2021-08-23    551  0.143749  1.288566   4.466425      0.316218\n",
       "230  2021-08-24    449  0.115612  1.710468   5.864143      0.297622\n",
       "231  2021-08-25    444  0.100736  1.986486   6.590090      0.261561\n",
       "232  2021-08-26    475  0.078745  2.423158   4.894737      0.211421\n",
       "233  2021-08-27    175  0.123787  2.565714   6.160000      0.296182\n",
       "\n",
       "[234 rows x 6 columns]"
      ]
     },
     "execution_count": 120,
     "metadata": {},
     "output_type": "execute_result"
    }
   ],
   "source": [
    "timeline = df.groupby(['date']).agg(np.nanmean).reset_index()\n",
    "timeline['count'] = df.groupby(['date']).count().reset_index()['retweets']\n",
    "timeline = timeline[['date', 'count', 'polarity', 'retweets', 'favorites', 'subjectivity']]\n",
    "timeline[\"polarity\"] = timeline[\"polarity\"].astype(float)\n",
    "timeline[\"subjectivity\"] = timeline[\"subjectivity\"].astype(float)\n",
    "timeline"
   ]
  },
  {
   "cell_type": "code",
   "execution_count": 121,
   "metadata": {
    "ExecuteTime": {
     "end_time": "2021-03-22T18:45:19.769573Z",
     "start_time": "2021-03-22T18:45:19.747833Z"
    }
   },
   "outputs": [
    {
     "data": {
      "text/html": [
       "<div>\n",
       "<style scoped>\n",
       "    .dataframe tbody tr th:only-of-type {\n",
       "        vertical-align: middle;\n",
       "    }\n",
       "\n",
       "    .dataframe tbody tr th {\n",
       "        vertical-align: top;\n",
       "    }\n",
       "\n",
       "    .dataframe thead th {\n",
       "        text-align: right;\n",
       "    }\n",
       "</style>\n",
       "<table border=\"1\" class=\"dataframe\">\n",
       "  <thead>\n",
       "    <tr style=\"text-align: right;\">\n",
       "      <th></th>\n",
       "      <th>date</th>\n",
       "      <th>count</th>\n",
       "      <th>polarity</th>\n",
       "      <th>retweets</th>\n",
       "      <th>favorites</th>\n",
       "      <th>subjectivity</th>\n",
       "    </tr>\n",
       "  </thead>\n",
       "  <tbody>\n",
       "    <tr>\n",
       "      <th>219</th>\n",
       "      <td>2021-08-13</td>\n",
       "      <td>813</td>\n",
       "      <td>0.350605</td>\n",
       "      <td>2.904059</td>\n",
       "      <td>6.458795</td>\n",
       "      <td>0.405101</td>\n",
       "    </tr>\n",
       "    <tr>\n",
       "      <th>12</th>\n",
       "      <td>2020-12-24</td>\n",
       "      <td>70</td>\n",
       "      <td>0.184387</td>\n",
       "      <td>3.657143</td>\n",
       "      <td>17.842857</td>\n",
       "      <td>0.310656</td>\n",
       "    </tr>\n",
       "    <tr>\n",
       "      <th>31</th>\n",
       "      <td>2021-01-12</td>\n",
       "      <td>52</td>\n",
       "      <td>0.182608</td>\n",
       "      <td>0.961538</td>\n",
       "      <td>6.961538</td>\n",
       "      <td>0.271700</td>\n",
       "    </tr>\n",
       "    <tr>\n",
       "      <th>19</th>\n",
       "      <td>2020-12-31</td>\n",
       "      <td>38</td>\n",
       "      <td>0.169196</td>\n",
       "      <td>1.184211</td>\n",
       "      <td>7.342105</td>\n",
       "      <td>0.282442</td>\n",
       "    </tr>\n",
       "    <tr>\n",
       "      <th>208</th>\n",
       "      <td>2021-08-02</td>\n",
       "      <td>685</td>\n",
       "      <td>0.167206</td>\n",
       "      <td>5.637956</td>\n",
       "      <td>21.391241</td>\n",
       "      <td>0.344214</td>\n",
       "    </tr>\n",
       "    <tr>\n",
       "      <th>...</th>\n",
       "      <td>...</td>\n",
       "      <td>...</td>\n",
       "      <td>...</td>\n",
       "      <td>...</td>\n",
       "      <td>...</td>\n",
       "      <td>...</td>\n",
       "    </tr>\n",
       "    <tr>\n",
       "      <th>124</th>\n",
       "      <td>2021-04-15</td>\n",
       "      <td>880</td>\n",
       "      <td>0.052703</td>\n",
       "      <td>3.839773</td>\n",
       "      <td>13.904545</td>\n",
       "      <td>0.258732</td>\n",
       "    </tr>\n",
       "    <tr>\n",
       "      <th>164</th>\n",
       "      <td>2021-06-14</td>\n",
       "      <td>267</td>\n",
       "      <td>0.050988</td>\n",
       "      <td>0.906367</td>\n",
       "      <td>5.910112</td>\n",
       "      <td>0.219599</td>\n",
       "    </tr>\n",
       "    <tr>\n",
       "      <th>35</th>\n",
       "      <td>2021-01-16</td>\n",
       "      <td>82</td>\n",
       "      <td>0.039450</td>\n",
       "      <td>9.670732</td>\n",
       "      <td>17.024390</td>\n",
       "      <td>0.262114</td>\n",
       "    </tr>\n",
       "    <tr>\n",
       "      <th>0</th>\n",
       "      <td>2020-12-12</td>\n",
       "      <td>38</td>\n",
       "      <td>0.034952</td>\n",
       "      <td>0.631579</td>\n",
       "      <td>2.868421</td>\n",
       "      <td>0.227801</td>\n",
       "    </tr>\n",
       "    <tr>\n",
       "      <th>49</th>\n",
       "      <td>2021-01-30</td>\n",
       "      <td>34</td>\n",
       "      <td>0.010938</td>\n",
       "      <td>2.352941</td>\n",
       "      <td>14.705882</td>\n",
       "      <td>0.402106</td>\n",
       "    </tr>\n",
       "  </tbody>\n",
       "</table>\n",
       "<p>234 rows × 6 columns</p>\n",
       "</div>"
      ],
      "text/plain": [
       "           date  count  polarity  retweets  favorites  subjectivity\n",
       "219  2021-08-13    813  0.350605  2.904059   6.458795      0.405101\n",
       "12   2020-12-24     70  0.184387  3.657143  17.842857      0.310656\n",
       "31   2021-01-12     52  0.182608  0.961538   6.961538      0.271700\n",
       "19   2020-12-31     38  0.169196  1.184211   7.342105      0.282442\n",
       "208  2021-08-02    685  0.167206  5.637956  21.391241      0.344214\n",
       "..          ...    ...       ...       ...        ...           ...\n",
       "124  2021-04-15    880  0.052703  3.839773  13.904545      0.258732\n",
       "164  2021-06-14    267  0.050988  0.906367   5.910112      0.219599\n",
       "35   2021-01-16     82  0.039450  9.670732  17.024390      0.262114\n",
       "0    2020-12-12     38  0.034952  0.631579   2.868421      0.227801\n",
       "49   2021-01-30     34  0.010938  2.352941  14.705882      0.402106\n",
       "\n",
       "[234 rows x 6 columns]"
      ]
     },
     "execution_count": 121,
     "metadata": {},
     "output_type": "execute_result"
    }
   ],
   "source": [
    "timeline.sort_values(by='polarity', ascending=False)"
   ]
  },
  {
   "cell_type": "code",
   "execution_count": 122,
   "metadata": {
    "ExecuteTime": {
     "end_time": "2021-03-22T18:45:19.823494Z",
     "start_time": "2021-03-22T18:45:19.775450Z"
    }
   },
   "outputs": [
    {
     "data": {
      "text/html": [
       "<div>\n",
       "<style scoped>\n",
       "    .dataframe tbody tr th:only-of-type {\n",
       "        vertical-align: middle;\n",
       "    }\n",
       "\n",
       "    .dataframe tbody tr th {\n",
       "        vertical-align: top;\n",
       "    }\n",
       "\n",
       "    .dataframe thead th {\n",
       "        text-align: right;\n",
       "    }\n",
       "</style>\n",
       "<table border=\"1\" class=\"dataframe\">\n",
       "  <thead>\n",
       "    <tr style=\"text-align: right;\">\n",
       "      <th></th>\n",
       "      <th>user_location</th>\n",
       "      <th>date</th>\n",
       "      <th>text</th>\n",
       "      <th>hashtags</th>\n",
       "      <th>polarity</th>\n",
       "      <th>subjectivity</th>\n",
       "      <th>sentiment</th>\n",
       "    </tr>\n",
       "  </thead>\n",
       "  <tbody>\n",
       "    <tr>\n",
       "      <th>2416</th>\n",
       "      <td>Northern Ireland</td>\n",
       "      <td>2021-01-12</td>\n",
       "      <td>Delighted to receive my second vaccine today 👏🏻 #PfizerBioNTech #COVID19Vaccine https://t.co/QQOAwTG8tn</td>\n",
       "      <td>['PfizerBioNTech', 'COVID19Vaccine']</td>\n",
       "      <td>0.350000</td>\n",
       "      <td>0.350000</td>\n",
       "      <td>positive</td>\n",
       "    </tr>\n",
       "    <tr>\n",
       "      <th>2531</th>\n",
       "      <td>Nottingham, England</td>\n",
       "      <td>2021-01-12</td>\n",
       "      <td>Had my COVID-19 vaccine on Friday 💉 and experienced most of the side effects #COVIDVaccination #PfizerBioNTech \\n- h… https://t.co/8zGRzftQWM</td>\n",
       "      <td>['COVIDVaccination', 'PfizerBioNTech']</td>\n",
       "      <td>0.650000</td>\n",
       "      <td>0.700000</td>\n",
       "      <td>positive</td>\n",
       "    </tr>\n",
       "    <tr>\n",
       "      <th>2952</th>\n",
       "      <td>Ragbag Of Reviews And Insights</td>\n",
       "      <td>2021-01-12</td>\n",
       "      <td>#EU Plans To Purchase 300-million More #Covid19 Vaccines https://t.co/E6CxrV4yHA #covidvaccines #Pfizer… https://t.co/AKQ3vS8Dgi</td>\n",
       "      <td>['EU', 'Covid19', 'covidvaccines', 'Pfizer']</td>\n",
       "      <td>0.500000</td>\n",
       "      <td>0.500000</td>\n",
       "      <td>positive</td>\n",
       "    </tr>\n",
       "    <tr>\n",
       "      <th>3121</th>\n",
       "      <td>Corleone, Sicilia</td>\n",
       "      <td>2021-01-12</td>\n",
       "      <td>Just had my first #COVIDVaccination #COVID19 I am now 70% immortal #PfizerVaccine #PfizerBioNTech #Pfizer</td>\n",
       "      <td>['COVIDVaccination', 'COVID19', 'PfizerVaccine', 'PfizerBioNTech', 'Pfizer']</td>\n",
       "      <td>0.250000</td>\n",
       "      <td>0.333333</td>\n",
       "      <td>positive</td>\n",
       "    </tr>\n",
       "    <tr>\n",
       "      <th>3124</th>\n",
       "      <td>London, UK</td>\n",
       "      <td>2021-01-12</td>\n",
       "      <td>Getting vaccinated today. ☺️ #PfizerBioNTech</td>\n",
       "      <td>['PfizerBioNTech']</td>\n",
       "      <td>0.000000</td>\n",
       "      <td>0.000000</td>\n",
       "      <td>neutral</td>\n",
       "    </tr>\n",
       "    <tr>\n",
       "      <th>3128</th>\n",
       "      <td>Vienna, Dublin, &amp; Cyberspace</td>\n",
       "      <td>2021-01-12</td>\n",
       "      <td>@AvilaLipsett @jessica_anhold Woefully behind other countries. #Israel way ahead; smartly ordered #PfizerBioNTech i… https://t.co/OMTNQcGygC</td>\n",
       "      <td>['Israel', 'PfizerBioNTech']</td>\n",
       "      <td>-0.103571</td>\n",
       "      <td>0.572619</td>\n",
       "      <td>negative</td>\n",
       "    </tr>\n",
       "    <tr>\n",
       "      <th>3131</th>\n",
       "      <td>UK</td>\n",
       "      <td>2021-01-12</td>\n",
       "      <td>#Covid-19 vaccines are from \\n\\n#PfizerBioNTech  --- ? -70C     £15\\nUniversity of #Oxford and #AstraZeneca --   fridg… https://t.co/6sUEmVUToI</td>\n",
       "      <td>['Covid', 'PfizerBioNTech', 'Oxford', 'AstraZeneca']</td>\n",
       "      <td>0.000000</td>\n",
       "      <td>0.000000</td>\n",
       "      <td>neutral</td>\n",
       "    </tr>\n",
       "    <tr>\n",
       "      <th>3132</th>\n",
       "      <td>South West, England</td>\n",
       "      <td>2021-01-12</td>\n",
       "      <td>Had my first dose of #PfizerBioNTech vaccine today at @RUHBath, truly impressed to see the arrangements. High prais… https://t.co/V9EwDUGZwW</td>\n",
       "      <td>['PfizerBioNTech']</td>\n",
       "      <td>0.470000</td>\n",
       "      <td>0.624444</td>\n",
       "      <td>positive</td>\n",
       "    </tr>\n",
       "    <tr>\n",
       "      <th>3133</th>\n",
       "      <td>Southampton, England</td>\n",
       "      <td>2021-01-12</td>\n",
       "      <td>There isn't enough words to say how grateful I am to have received the first #COVID19Vaccine #PfizerBioNTech today… https://t.co/Y9iUS8J5Xc</td>\n",
       "      <td>['COVID19Vaccine', 'PfizerBioNTech']</td>\n",
       "      <td>0.125000</td>\n",
       "      <td>0.416667</td>\n",
       "      <td>positive</td>\n",
       "    </tr>\n",
       "    <tr>\n",
       "      <th>3134</th>\n",
       "      <td>Belgium</td>\n",
       "      <td>2021-01-12</td>\n",
       "      <td>Discover today's front pages of the #BelgianPress 🗞📅🧐!\\n#MbayeLeye #Standard #variantecovid #Variant #DogStudio… https://t.co/LttvTIDAnp</td>\n",
       "      <td>['BelgianPress', 'MbayeLeye', 'Standard', 'variantecovid', 'Variant', 'DogStudio']</td>\n",
       "      <td>0.000000</td>\n",
       "      <td>0.000000</td>\n",
       "      <td>neutral</td>\n",
       "    </tr>\n",
       "    <tr>\n",
       "      <th>3135</th>\n",
       "      <td>Crewe</td>\n",
       "      <td>2021-01-12</td>\n",
       "      <td>Today is a good day! Sometimes being NHS staff is a good thing..... #COVIDVaccination #PfizerBioNTech https://t.co/mEHaXuAmbW</td>\n",
       "      <td>['COVIDVaccination', 'PfizerBioNTech']</td>\n",
       "      <td>0.787500</td>\n",
       "      <td>0.600000</td>\n",
       "      <td>positive</td>\n",
       "    </tr>\n",
       "    <tr>\n",
       "      <th>3136</th>\n",
       "      <td>Warrington, Cheshire, UK</td>\n",
       "      <td>2021-01-12</td>\n",
       "      <td>I feel very privileged, having received the #COVIDVaccination yesterday. To everyone out there, around the world..… https://t.co/aVRPfV19U0</td>\n",
       "      <td>['COVIDVaccination']</td>\n",
       "      <td>0.200000</td>\n",
       "      <td>0.300000</td>\n",
       "      <td>positive</td>\n",
       "    </tr>\n",
       "    <tr>\n",
       "      <th>3145</th>\n",
       "      <td>United Kingdom</td>\n",
       "      <td>2021-01-12</td>\n",
       "      <td>A simple video comparing the 3 #covid vaccines currently available in the UK. The three Covid-19 vaccines are from… https://t.co/bdruCicWu7</td>\n",
       "      <td>['covid']</td>\n",
       "      <td>0.200000</td>\n",
       "      <td>0.378571</td>\n",
       "      <td>positive</td>\n",
       "    </tr>\n",
       "    <tr>\n",
       "      <th>3146</th>\n",
       "      <td>GP Partner, Watford</td>\n",
       "      <td>2021-01-12</td>\n",
       "      <td>@parthaskar @Parody_RCGP @OrthopodReg @RoshanaMN @doctor_oxford @UKGastroDr @AbbieSBrooks Delaying #PfizerBioNTech… https://t.co/rzjs5t37Nh</td>\n",
       "      <td>['PfizerBioNTech']</td>\n",
       "      <td>0.000000</td>\n",
       "      <td>0.000000</td>\n",
       "      <td>neutral</td>\n",
       "    </tr>\n",
       "    <tr>\n",
       "      <th>3147</th>\n",
       "      <td>Khyber Pakhtunkhwa</td>\n",
       "      <td>2021-01-12</td>\n",
       "      <td>I’ll be more comfortable if it were #Modernavaccine  or #PfizerBioNTech . https://t.co/UL2tQfhS6F</td>\n",
       "      <td>['Modernavaccine', 'PfizerBioNTech']</td>\n",
       "      <td>0.450000</td>\n",
       "      <td>0.650000</td>\n",
       "      <td>positive</td>\n",
       "    </tr>\n",
       "    <tr>\n",
       "      <th>3148</th>\n",
       "      <td>CPT SA Defending the underdog☑</td>\n",
       "      <td>2021-01-12</td>\n",
       "      <td>@CherylDewitt10 @Our_DA @jsteenhuisen The Americans said that their #PfizerBioNTech vaccine is also for the mutation.</td>\n",
       "      <td>['PfizerBioNTech']</td>\n",
       "      <td>0.000000</td>\n",
       "      <td>0.000000</td>\n",
       "      <td>neutral</td>\n",
       "    </tr>\n",
       "    <tr>\n",
       "      <th>3155</th>\n",
       "      <td>Tucson, AZ</td>\n",
       "      <td>2021-01-12</td>\n",
       "      <td>Vaccine associated selfie disorder (VASD) 🤷🏼‍♂️🤷🏼‍♂️\\n#covidstache #n95stache 🥸 #PfizerBioNTech 🦠 🛑 https://t.co/WhJPHVoKDl</td>\n",
       "      <td>['covidstache', 'n95stache', 'PfizerBioNTech']</td>\n",
       "      <td>0.000000</td>\n",
       "      <td>0.000000</td>\n",
       "      <td>neutral</td>\n",
       "    </tr>\n",
       "    <tr>\n",
       "      <th>3255</th>\n",
       "      <td>Anglesey</td>\n",
       "      <td>2021-01-12</td>\n",
       "      <td>What are differences between the #Covid #vaccines?\\nThe three #Covid19 #vaccines are from #PfizerBioNTech, the Unive… https://t.co/4snyxN5Z3n</td>\n",
       "      <td>['Covid', 'vaccines', 'Covid19', 'vaccines', 'PfizerBioNTech']</td>\n",
       "      <td>0.000000</td>\n",
       "      <td>0.000000</td>\n",
       "      <td>neutral</td>\n",
       "    </tr>\n",
       "    <tr>\n",
       "      <th>3256</th>\n",
       "      <td>Melbourne, Victoria</td>\n",
       "      <td>2021-01-12</td>\n",
       "      <td>Correction on previous post: 62% effective rate for #AstraZeneca. #COVID19 #vaccine #AstraZeneca #Moderna… https://t.co/8esN0zqdFT</td>\n",
       "      <td>['AstraZeneca', 'COVID19', 'vaccine', 'AstraZeneca', 'Moderna']</td>\n",
       "      <td>0.216667</td>\n",
       "      <td>0.483333</td>\n",
       "      <td>positive</td>\n",
       "    </tr>\n",
       "    <tr>\n",
       "      <th>3258</th>\n",
       "      <td>Melbourne, Victoria</td>\n",
       "      <td>2021-01-12</td>\n",
       "      <td>AstraZeneca’s Phase 3 only shows 67% effective rate while while Pfeizer shows 90% #COVID19 #vaccine #AstraZeneca… https://t.co/ggDZicWEB1</td>\n",
       "      <td>['COVID19', 'vaccine', 'AstraZeneca']</td>\n",
       "      <td>0.300000</td>\n",
       "      <td>0.900000</td>\n",
       "      <td>positive</td>\n",
       "    </tr>\n",
       "    <tr>\n",
       "      <th>3263</th>\n",
       "      <td>Oklahoma, USA</td>\n",
       "      <td>2021-01-12</td>\n",
       "      <td>I received my second vaccine #COVIDVaccination #PfizerBioNTech #kickthevirus #iamahealthcareworker</td>\n",
       "      <td>['COVIDVaccination', 'PfizerBioNTech', 'kickthevirus', 'iamahealthcareworker']</td>\n",
       "      <td>0.000000</td>\n",
       "      <td>0.000000</td>\n",
       "      <td>neutral</td>\n",
       "    </tr>\n",
       "    <tr>\n",
       "      <th>3264</th>\n",
       "      <td>London,UK + W.Balkans + Global</td>\n",
       "      <td>2021-01-12</td>\n",
       "      <td>Excellent and easy to understand article  debunking the myth that mRNA vaccines (#PfizerBioNTech &amp;amp; #Moderna ) could… https://t.co/3cnZG3EOOw</td>\n",
       "      <td>['PfizerBioNTech', 'Moderna']</td>\n",
       "      <td>0.716667</td>\n",
       "      <td>0.916667</td>\n",
       "      <td>positive</td>\n",
       "    </tr>\n",
       "    <tr>\n",
       "      <th>3265</th>\n",
       "      <td>Bucharest, Romania</td>\n",
       "      <td>2021-01-12</td>\n",
       "      <td>More #PfizerBioNTech vaccines, please! #Romania  Romanian PM asks European Commission for 8 million extra doses of… https://t.co/DIVO4txMMB</td>\n",
       "      <td>['PfizerBioNTech', 'Romania']</td>\n",
       "      <td>0.208333</td>\n",
       "      <td>0.200000</td>\n",
       "      <td>positive</td>\n",
       "    </tr>\n",
       "    <tr>\n",
       "      <th>3266</th>\n",
       "      <td>England, United Kingdom</td>\n",
       "      <td>2021-01-12</td>\n",
       "      <td>I got vaccinated last week 💙🌈✌🏼 #COVIDVaccination #PfizerBioNTech https://t.co/PnUqJVeILn</td>\n",
       "      <td>['COVIDVaccination', 'PfizerBioNTech']</td>\n",
       "      <td>0.000000</td>\n",
       "      <td>0.066667</td>\n",
       "      <td>neutral</td>\n",
       "    </tr>\n",
       "    <tr>\n",
       "      <th>3267</th>\n",
       "      <td>Chicago, IL</td>\n",
       "      <td>2021-01-12</td>\n",
       "      <td>Covid-19 vaccine today vaccinated  #PfizerCovidVaccine #PfizerBioNTech https://t.co/niFKAWpDzd</td>\n",
       "      <td>['PfizerCovidVaccine', 'PfizerBioNTech']</td>\n",
       "      <td>0.000000</td>\n",
       "      <td>0.000000</td>\n",
       "      <td>neutral</td>\n",
       "    </tr>\n",
       "    <tr>\n",
       "      <th>3268</th>\n",
       "      <td>Silicon Valley, California</td>\n",
       "      <td>2021-01-12</td>\n",
       "      <td>@business Pfizer is less than forthcoming about its Vaccine. @pfizer #Pfizer #PfizerBioNTech #vaccines #PfizerVaccine</td>\n",
       "      <td>['Pfizer', 'PfizerBioNTech', 'vaccines', 'PfizerVaccine']</td>\n",
       "      <td>-0.166667</td>\n",
       "      <td>0.066667</td>\n",
       "      <td>negative</td>\n",
       "    </tr>\n",
       "    <tr>\n",
       "      <th>3270</th>\n",
       "      <td>Chichester, England</td>\n",
       "      <td>2021-01-12</td>\n",
       "      <td>Today I had my first Covid 19 vaccination! 🤩 \\n#COVIDVaccination #PfizerBioNTech #PfizerVaccine… https://t.co/3X11SzrRMP</td>\n",
       "      <td>['COVIDVaccination', 'PfizerBioNTech', 'PfizerVaccine']</td>\n",
       "      <td>0.312500</td>\n",
       "      <td>0.333333</td>\n",
       "      <td>positive</td>\n",
       "    </tr>\n",
       "    <tr>\n",
       "      <th>3271</th>\n",
       "      <td>India | USA</td>\n",
       "      <td>2021-01-12</td>\n",
       "      <td>Received Dose #2 of the #PfizerBioNTech #COVID19Vaccine. Despite the mild fever, headache and sore arm, grateful fo… https://t.co/pTWBGbn6CD</td>\n",
       "      <td>['PfizerBioNTech', 'COVID19Vaccine']</td>\n",
       "      <td>0.333333</td>\n",
       "      <td>0.500000</td>\n",
       "      <td>positive</td>\n",
       "    </tr>\n",
       "    <tr>\n",
       "      <th>3273</th>\n",
       "      <td>📍NJ/PA, USA</td>\n",
       "      <td>2021-01-12</td>\n",
       "      <td>Fully vaccinated!💉 #CovidVaccine #PfizerBioNTech\\n\\n@AOAforDOs @aafp  @AACOMmunities https://t.co/Y4aCAr17KJ</td>\n",
       "      <td>['CovidVaccine', 'PfizerBioNTech']</td>\n",
       "      <td>0.000000</td>\n",
       "      <td>0.000000</td>\n",
       "      <td>neutral</td>\n",
       "    </tr>\n",
       "    <tr>\n",
       "      <th>3274</th>\n",
       "      <td>In a Good Place</td>\n",
       "      <td>2021-01-12</td>\n",
       "      <td>I was vaccinated today!  #PfizerBioNTech I feel like I have been released from jail I know,I will remain masked&amp;amp;saf… https://t.co/TDmlsdMZFr</td>\n",
       "      <td>['PfizerBioNTech']</td>\n",
       "      <td>-0.100000</td>\n",
       "      <td>0.000000</td>\n",
       "      <td>negative</td>\n",
       "    </tr>\n",
       "    <tr>\n",
       "      <th>3279</th>\n",
       "      <td>Cyprus</td>\n",
       "      <td>2021-01-12</td>\n",
       "      <td>#Cyprus had 4 more #coronavirus deaths as hospital admissions dropped marginally amid a second #lockdown to contain… https://t.co/qKzSZYGGKG</td>\n",
       "      <td>['Cyprus', 'coronavirus', 'lockdown']</td>\n",
       "      <td>0.250000</td>\n",
       "      <td>0.250000</td>\n",
       "      <td>positive</td>\n",
       "    </tr>\n",
       "    <tr>\n",
       "      <th>3282</th>\n",
       "      <td>UK</td>\n",
       "      <td>2021-01-12</td>\n",
       "      <td>Truly wonderful news! #COVID19 #PfizerBioNTech https://t.co/vvvUm4d4xQ</td>\n",
       "      <td>['COVID19', 'PfizerBioNTech']</td>\n",
       "      <td>1.000000</td>\n",
       "      <td>1.000000</td>\n",
       "      <td>positive</td>\n",
       "    </tr>\n",
       "    <tr>\n",
       "      <th>3284</th>\n",
       "      <td>London, England</td>\n",
       "      <td>2021-01-12</td>\n",
       "      <td>I hope the vaccine to stop #coronavirus can reach everyone #PfizerBioNTech #nhsstaff #COVID19 #grateful 🙌🏽 https://t.co/WGb7gGM45k</td>\n",
       "      <td>['coronavirus', 'PfizerBioNTech', 'nhsstaff', 'COVID19', 'grateful']</td>\n",
       "      <td>0.000000</td>\n",
       "      <td>0.000000</td>\n",
       "      <td>neutral</td>\n",
       "    </tr>\n",
       "    <tr>\n",
       "      <th>3285</th>\n",
       "      <td>UK</td>\n",
       "      <td>2021-01-12</td>\n",
       "      <td>Got a point 😂😂😂😂 #PfizerBioNTech #PfizerVaccine https://t.co/1lCMMg4uBB</td>\n",
       "      <td>['PfizerBioNTech', 'PfizerVaccine']</td>\n",
       "      <td>0.000000</td>\n",
       "      <td>0.000000</td>\n",
       "      <td>neutral</td>\n",
       "    </tr>\n",
       "    <tr>\n",
       "      <th>3287</th>\n",
       "      <td>Houston, TX</td>\n",
       "      <td>2021-01-12</td>\n",
       "      <td>Day 1 post-shot 2  #PfizerBioNTech #vaccine  nothing to report except my T cells are busy bees 🐝 #ThisIsOurShot… https://t.co/6fDtbRVBnY</td>\n",
       "      <td>['PfizerBioNTech', 'vaccine', 'ThisIsOurShot']</td>\n",
       "      <td>0.100000</td>\n",
       "      <td>0.300000</td>\n",
       "      <td>positive</td>\n",
       "    </tr>\n",
       "    <tr>\n",
       "      <th>3289</th>\n",
       "      <td>Oxfordshire &amp; Birmingham</td>\n",
       "      <td>2021-01-12</td>\n",
       "      <td>Feel privileged to have received my first dose of the #PfizerBioNTech COVID-19 vaccination at the very efficient… https://t.co/6gWYGH6QGD</td>\n",
       "      <td>['PfizerBioNTech']</td>\n",
       "      <td>0.225000</td>\n",
       "      <td>0.316667</td>\n",
       "      <td>positive</td>\n",
       "    </tr>\n",
       "    <tr>\n",
       "      <th>3293</th>\n",
       "      <td>Tunisia</td>\n",
       "      <td>2021-01-12</td>\n",
       "      <td>#Tunisia #MinistryOfHealth #PfizerBioNTech #Pfizer #COVID19\\nPfizer vaccine is now authorised for use in Tunisia. \\nV… https://t.co/Vac00QAweM</td>\n",
       "      <td>['Tunisia', 'MinistryOfHealth', 'PfizerBioNTech', 'Pfizer', 'COVID19']</td>\n",
       "      <td>0.000000</td>\n",
       "      <td>0.000000</td>\n",
       "      <td>neutral</td>\n",
       "    </tr>\n",
       "    <tr>\n",
       "      <th>3294</th>\n",
       "      <td>USA</td>\n",
       "      <td>2021-01-12</td>\n",
       "      <td>COVID #PfizerBioNTech vaccine second dose. Get #vaccinationCovid and fight #COVID19 - thanks to my hospital system… https://t.co/zXwjJA9smM</td>\n",
       "      <td>['PfizerBioNTech', 'vaccinationCovid', 'COVID19']</td>\n",
       "      <td>0.100000</td>\n",
       "      <td>0.100000</td>\n",
       "      <td>positive</td>\n",
       "    </tr>\n",
       "    <tr>\n",
       "      <th>3295</th>\n",
       "      <td>Bellevue, WA</td>\n",
       "      <td>2021-01-12</td>\n",
       "      <td>All better! Sorry forgot to update yesterday. #72hourcheck #shot2done #COVID19 #PfizerBioNTech #vaccinessavelives #signingofffornow</td>\n",
       "      <td>['72hourcheck', 'shot2done', 'COVID19', 'PfizerBioNTech', 'vaccinessavelives', 'signingofffornow']</td>\n",
       "      <td>0.062500</td>\n",
       "      <td>0.750000</td>\n",
       "      <td>positive</td>\n",
       "    </tr>\n",
       "    <tr>\n",
       "      <th>3298</th>\n",
       "      <td>Nashville, TN</td>\n",
       "      <td>2021-01-12</td>\n",
       "      <td>2nd dose! #ourbestshot #CovidVaccine #PfizerBioNTech https://t.co/yT8i2pqYpm</td>\n",
       "      <td>['ourbestshot', 'CovidVaccine', 'PfizerBioNTech']</td>\n",
       "      <td>0.000000</td>\n",
       "      <td>0.000000</td>\n",
       "      <td>neutral</td>\n",
       "    </tr>\n",
       "    <tr>\n",
       "      <th>3299</th>\n",
       "      <td>A State of Depression</td>\n",
       "      <td>2021-01-12</td>\n",
       "      <td>oh my god, I’m actually getting the Pfizer vaccine on Thursday 💉 is this real? am I dreaming? #COVID19… https://t.co/avTu8CudvR</td>\n",
       "      <td>['COVID19']</td>\n",
       "      <td>0.100000</td>\n",
       "      <td>0.200000</td>\n",
       "      <td>positive</td>\n",
       "    </tr>\n",
       "    <tr>\n",
       "      <th>3302</th>\n",
       "      <td>New York, NY</td>\n",
       "      <td>2021-01-12</td>\n",
       "      <td>Dose 1! #PfizerBioNTech #CovidVaccine #IGotTheShot https://t.co/wEiVbYzTCX</td>\n",
       "      <td>['PfizerBioNTech', 'CovidVaccine', 'IGotTheShot']</td>\n",
       "      <td>0.000000</td>\n",
       "      <td>0.000000</td>\n",
       "      <td>neutral</td>\n",
       "    </tr>\n",
       "    <tr>\n",
       "      <th>3303</th>\n",
       "      <td>London</td>\n",
       "      <td>2021-01-12</td>\n",
       "      <td>@MTWnhs very well organised vaccine clinic today thank you! 😁😁 #NHS #Vaccines #MaidstoneHospital #PfizerBioNTech… https://t.co/Ot5l48h2Km</td>\n",
       "      <td>['NHS', 'Vaccines', 'MaidstoneHospital', 'PfizerBioNTech']</td>\n",
       "      <td>0.250000</td>\n",
       "      <td>0.300000</td>\n",
       "      <td>positive</td>\n",
       "    </tr>\n",
       "    <tr>\n",
       "      <th>3304</th>\n",
       "      <td>Durham, NC</td>\n",
       "      <td>2021-01-12</td>\n",
       "      <td>The latest #CovidVaccine data updates, interesting trends, and more available now: https://t.co/USkz3PxgsI… https://t.co/jZv5VmcrOb</td>\n",
       "      <td>['CovidVaccine']</td>\n",
       "      <td>0.475000</td>\n",
       "      <td>0.575000</td>\n",
       "      <td>positive</td>\n",
       "    </tr>\n",
       "    <tr>\n",
       "      <th>3305</th>\n",
       "      <td>California, USA</td>\n",
       "      <td>2021-01-12</td>\n",
       "      <td>Second dose of the Pfizer vaccine done! #PfizerCovidVaccine #PfizerBioNTech https://t.co/TQ3qVrsXC3</td>\n",
       "      <td>['PfizerCovidVaccine', 'PfizerBioNTech']</td>\n",
       "      <td>0.000000</td>\n",
       "      <td>0.000000</td>\n",
       "      <td>neutral</td>\n",
       "    </tr>\n",
       "    <tr>\n",
       "      <th>3310</th>\n",
       "      <td>Waterford Ireland</td>\n",
       "      <td>2021-01-12</td>\n",
       "      <td>Delighted to get my first shot of #PfizerBioNTech #COVID19 #vaccine\\n@UHW_Waterford \\nThanks to curtis and all the… https://t.co/OcWiipEFzu</td>\n",
       "      <td>['PfizerBioNTech', 'COVID19', 'vaccine']</td>\n",
       "      <td>0.383333</td>\n",
       "      <td>0.411111</td>\n",
       "      <td>positive</td>\n",
       "    </tr>\n",
       "    <tr>\n",
       "      <th>3311</th>\n",
       "      <td>Israel</td>\n",
       "      <td>2021-01-12</td>\n",
       "      <td>After the second dose of the #PfizerBioNTech  #vaccine.  There is no side effect yet. Vaccination will save the wor… https://t.co/BdEayqfRzq</td>\n",
       "      <td>['PfizerBioNTech', 'vaccine']</td>\n",
       "      <td>0.000000</td>\n",
       "      <td>0.000000</td>\n",
       "      <td>neutral</td>\n",
       "    </tr>\n",
       "    <tr>\n",
       "      <th>3312</th>\n",
       "      <td>Dubai, United Arab Emirates</td>\n",
       "      <td>2021-01-12</td>\n",
       "      <td>#Video: #Dubai: How to book appointment for #PfizerVaccine: https://t.co/vwccWvPKEN @gulf_news #COVID19VaccineQs… https://t.co/BHk7SB1V0e</td>\n",
       "      <td>['Video', 'Dubai', 'PfizerVaccine', 'COVID19VaccineQs']</td>\n",
       "      <td>0.000000</td>\n",
       "      <td>0.000000</td>\n",
       "      <td>neutral</td>\n",
       "    </tr>\n",
       "    <tr>\n",
       "      <th>3313</th>\n",
       "      <td>Hungary</td>\n",
       "      <td>2021-01-12</td>\n",
       "      <td>I just received my first dose of Pfizer/BioNTech vaccine...😊😊 #grateful #VaccinesWork #PfizerBioNTech</td>\n",
       "      <td>['grateful', 'VaccinesWork', 'PfizerBioNTech']</td>\n",
       "      <td>0.250000</td>\n",
       "      <td>0.333333</td>\n",
       "      <td>positive</td>\n",
       "    </tr>\n",
       "    <tr>\n",
       "      <th>3314</th>\n",
       "      <td>Edinburgh, UK</td>\n",
       "      <td>2021-01-12</td>\n",
       "      <td>Can you guess which US state made vaccination numbers available? \\n\\nhttps://t.co/XRsfG5KDNL\\n\\n#vaccinetracker… https://t.co/hojSzp5tGi</td>\n",
       "      <td>['vaccinetracker']</td>\n",
       "      <td>0.400000</td>\n",
       "      <td>0.400000</td>\n",
       "      <td>positive</td>\n",
       "    </tr>\n",
       "    <tr>\n",
       "      <th>3315</th>\n",
       "      <td>Greece</td>\n",
       "      <td>2021-01-12</td>\n",
       "      <td>#Greece: #COVID19 vaccines for 15.4 million people\\n#PfizerBioNTech: 427,050 January, 362,700 February, 558,675 Marc… https://t.co/k1Bz4gl5Jd</td>\n",
       "      <td>['Greece', 'COVID19', 'PfizerBioNTech']</td>\n",
       "      <td>0.000000</td>\n",
       "      <td>0.000000</td>\n",
       "      <td>neutral</td>\n",
       "    </tr>\n",
       "    <tr>\n",
       "      <th>3316</th>\n",
       "      <td>Liverpool, England</td>\n",
       "      <td>2021-01-12</td>\n",
       "      <td>Very grateful to have received both doses of the #PfizerBioNTech #COVID19Vaccine \\n\\nThe team at #PictonPCN were amaz… https://t.co/BNZBL1BgYL</td>\n",
       "      <td>['PfizerBioNTech', 'COVID19Vaccine', 'PictonPCN']</td>\n",
       "      <td>0.200000</td>\n",
       "      <td>0.300000</td>\n",
       "      <td>positive</td>\n",
       "    </tr>\n",
       "  </tbody>\n",
       "</table>\n",
       "</div>"
      ],
      "text/plain": [
       "                       user_location        date  \\\n",
       "2416                Northern Ireland  2021-01-12   \n",
       "2531             Nottingham, England  2021-01-12   \n",
       "2952  Ragbag Of Reviews And Insights  2021-01-12   \n",
       "3121               Corleone, Sicilia  2021-01-12   \n",
       "3124                      London, UK  2021-01-12   \n",
       "3128    Vienna, Dublin, & Cyberspace  2021-01-12   \n",
       "3131                              UK  2021-01-12   \n",
       "3132             South West, England  2021-01-12   \n",
       "3133            Southampton, England  2021-01-12   \n",
       "3134                         Belgium  2021-01-12   \n",
       "3135                           Crewe  2021-01-12   \n",
       "3136        Warrington, Cheshire, UK  2021-01-12   \n",
       "3145                  United Kingdom  2021-01-12   \n",
       "3146            GP Partner, Watford   2021-01-12   \n",
       "3147              Khyber Pakhtunkhwa  2021-01-12   \n",
       "3148  CPT SA Defending the underdog☑  2021-01-12   \n",
       "3155                      Tucson, AZ  2021-01-12   \n",
       "3255                        Anglesey  2021-01-12   \n",
       "3256             Melbourne, Victoria  2021-01-12   \n",
       "3258             Melbourne, Victoria  2021-01-12   \n",
       "3263                   Oklahoma, USA  2021-01-12   \n",
       "3264  London,UK + W.Balkans + Global  2021-01-12   \n",
       "3265              Bucharest, Romania  2021-01-12   \n",
       "3266         England, United Kingdom  2021-01-12   \n",
       "3267                     Chicago, IL  2021-01-12   \n",
       "3268      Silicon Valley, California  2021-01-12   \n",
       "3270             Chichester, England  2021-01-12   \n",
       "3271                     India | USA  2021-01-12   \n",
       "3273                     📍NJ/PA, USA  2021-01-12   \n",
       "3274                 In a Good Place  2021-01-12   \n",
       "3279                          Cyprus  2021-01-12   \n",
       "3282                              UK  2021-01-12   \n",
       "3284                 London, England  2021-01-12   \n",
       "3285                              UK  2021-01-12   \n",
       "3287                     Houston, TX  2021-01-12   \n",
       "3289        Oxfordshire & Birmingham  2021-01-12   \n",
       "3293                         Tunisia  2021-01-12   \n",
       "3294                             USA  2021-01-12   \n",
       "3295                    Bellevue, WA  2021-01-12   \n",
       "3298                   Nashville, TN  2021-01-12   \n",
       "3299           A State of Depression  2021-01-12   \n",
       "3302                    New York, NY  2021-01-12   \n",
       "3303                         London   2021-01-12   \n",
       "3304                      Durham, NC  2021-01-12   \n",
       "3305                 California, USA  2021-01-12   \n",
       "3310               Waterford Ireland  2021-01-12   \n",
       "3311                          Israel  2021-01-12   \n",
       "3312     Dubai, United Arab Emirates  2021-01-12   \n",
       "3313                        Hungary   2021-01-12   \n",
       "3314                   Edinburgh, UK  2021-01-12   \n",
       "3315                         Greece   2021-01-12   \n",
       "3316              Liverpool, England  2021-01-12   \n",
       "\n",
       "                                                                                                                                                  text  \\\n",
       "2416                                           Delighted to receive my second vaccine today 👏🏻 #PfizerBioNTech #COVID19Vaccine https://t.co/QQOAwTG8tn   \n",
       "2531     Had my COVID-19 vaccine on Friday 💉 and experienced most of the side effects #COVIDVaccination #PfizerBioNTech \\n- h… https://t.co/8zGRzftQWM   \n",
       "2952                  #EU Plans To Purchase 300-million More #Covid19 Vaccines https://t.co/E6CxrV4yHA #covidvaccines #Pfizer… https://t.co/AKQ3vS8Dgi   \n",
       "3121                                         Just had my first #COVIDVaccination #COVID19 I am now 70% immortal #PfizerVaccine #PfizerBioNTech #Pfizer   \n",
       "3124                                                                                                      Getting vaccinated today. ☺️ #PfizerBioNTech   \n",
       "3128      @AvilaLipsett @jessica_anhold Woefully behind other countries. #Israel way ahead; smartly ordered #PfizerBioNTech i… https://t.co/OMTNQcGygC   \n",
       "3131   #Covid-19 vaccines are from \\n\\n#PfizerBioNTech  --- ? -70C     £15\\nUniversity of #Oxford and #AstraZeneca --   fridg… https://t.co/6sUEmVUToI   \n",
       "3132      Had my first dose of #PfizerBioNTech vaccine today at @RUHBath, truly impressed to see the arrangements. High prais… https://t.co/V9EwDUGZwW   \n",
       "3133       There isn't enough words to say how grateful I am to have received the first #COVID19Vaccine #PfizerBioNTech today… https://t.co/Y9iUS8J5Xc   \n",
       "3134          Discover today's front pages of the #BelgianPress 🗞📅🧐!\\n#MbayeLeye #Standard #variantecovid #Variant #DogStudio… https://t.co/LttvTIDAnp   \n",
       "3135                     Today is a good day! Sometimes being NHS staff is a good thing..... #COVIDVaccination #PfizerBioNTech https://t.co/mEHaXuAmbW   \n",
       "3136       I feel very privileged, having received the #COVIDVaccination yesterday. To everyone out there, around the world..… https://t.co/aVRPfV19U0   \n",
       "3145       A simple video comparing the 3 #covid vaccines currently available in the UK. The three Covid-19 vaccines are from… https://t.co/bdruCicWu7   \n",
       "3146       @parthaskar @Parody_RCGP @OrthopodReg @RoshanaMN @doctor_oxford @UKGastroDr @AbbieSBrooks Delaying #PfizerBioNTech… https://t.co/rzjs5t37Nh   \n",
       "3147                                                 I’ll be more comfortable if it were #Modernavaccine  or #PfizerBioNTech . https://t.co/UL2tQfhS6F   \n",
       "3148                             @CherylDewitt10 @Our_DA @jsteenhuisen The Americans said that their #PfizerBioNTech vaccine is also for the mutation.   \n",
       "3155                       Vaccine associated selfie disorder (VASD) 🤷🏼‍♂️🤷🏼‍♂️\\n#covidstache #n95stache 🥸 #PfizerBioNTech 🦠 🛑 https://t.co/WhJPHVoKDl   \n",
       "3255     What are differences between the #Covid #vaccines?\\nThe three #Covid19 #vaccines are from #PfizerBioNTech, the Unive… https://t.co/4snyxN5Z3n   \n",
       "3256                Correction on previous post: 62% effective rate for #AstraZeneca. #COVID19 #vaccine #AstraZeneca #Moderna… https://t.co/8esN0zqdFT   \n",
       "3258         AstraZeneca’s Phase 3 only shows 67% effective rate while while Pfeizer shows 90% #COVID19 #vaccine #AstraZeneca… https://t.co/ggDZicWEB1   \n",
       "3263                                                I received my second vaccine #COVIDVaccination #PfizerBioNTech #kickthevirus #iamahealthcareworker   \n",
       "3264  Excellent and easy to understand article  debunking the myth that mRNA vaccines (#PfizerBioNTech &amp; #Moderna ) could… https://t.co/3cnZG3EOOw   \n",
       "3265       More #PfizerBioNTech vaccines, please! #Romania  Romanian PM asks European Commission for 8 million extra doses of… https://t.co/DIVO4txMMB   \n",
       "3266                                                         I got vaccinated last week 💙🌈✌🏼 #COVIDVaccination #PfizerBioNTech https://t.co/PnUqJVeILn   \n",
       "3267                                                    Covid-19 vaccine today vaccinated  #PfizerCovidVaccine #PfizerBioNTech https://t.co/niFKAWpDzd   \n",
       "3268                             @business Pfizer is less than forthcoming about its Vaccine. @pfizer #Pfizer #PfizerBioNTech #vaccines #PfizerVaccine   \n",
       "3270                          Today I had my first Covid 19 vaccination! 🤩 \\n#COVIDVaccination #PfizerBioNTech #PfizerVaccine… https://t.co/3X11SzrRMP   \n",
       "3271      Received Dose #2 of the #PfizerBioNTech #COVID19Vaccine. Despite the mild fever, headache and sore arm, grateful fo… https://t.co/pTWBGbn6CD   \n",
       "3273                                      Fully vaccinated!💉 #CovidVaccine #PfizerBioNTech\\n\\n@AOAforDOs @aafp  @AACOMmunities https://t.co/Y4aCAr17KJ   \n",
       "3274  I was vaccinated today!  #PfizerBioNTech I feel like I have been released from jail I know,I will remain masked&amp;saf… https://t.co/TDmlsdMZFr   \n",
       "3279      #Cyprus had 4 more #coronavirus deaths as hospital admissions dropped marginally amid a second #lockdown to contain… https://t.co/qKzSZYGGKG   \n",
       "3282                                                                            Truly wonderful news! #COVID19 #PfizerBioNTech https://t.co/vvvUm4d4xQ   \n",
       "3284                I hope the vaccine to stop #coronavirus can reach everyone #PfizerBioNTech #nhsstaff #COVID19 #grateful 🙌🏽 https://t.co/WGb7gGM45k   \n",
       "3285                                                                           Got a point 😂😂😂😂 #PfizerBioNTech #PfizerVaccine https://t.co/1lCMMg4uBB   \n",
       "3287          Day 1 post-shot 2  #PfizerBioNTech #vaccine  nothing to report except my T cells are busy bees 🐝 #ThisIsOurShot… https://t.co/6fDtbRVBnY   \n",
       "3289         Feel privileged to have received my first dose of the #PfizerBioNTech COVID-19 vaccination at the very efficient… https://t.co/6gWYGH6QGD   \n",
       "3293    #Tunisia #MinistryOfHealth #PfizerBioNTech #Pfizer #COVID19\\nPfizer vaccine is now authorised for use in Tunisia. \\nV… https://t.co/Vac00QAweM   \n",
       "3294       COVID #PfizerBioNTech vaccine second dose. Get #vaccinationCovid and fight #COVID19 - thanks to my hospital system… https://t.co/zXwjJA9smM   \n",
       "3295               All better! Sorry forgot to update yesterday. #72hourcheck #shot2done #COVID19 #PfizerBioNTech #vaccinessavelives #signingofffornow   \n",
       "3298                                                                      2nd dose! #ourbestshot #CovidVaccine #PfizerBioNTech https://t.co/yT8i2pqYpm   \n",
       "3299                   oh my god, I’m actually getting the Pfizer vaccine on Thursday 💉 is this real? am I dreaming? #COVID19… https://t.co/avTu8CudvR   \n",
       "3302                                                                        Dose 1! #PfizerBioNTech #CovidVaccine #IGotTheShot https://t.co/wEiVbYzTCX   \n",
       "3303         @MTWnhs very well organised vaccine clinic today thank you! 😁😁 #NHS #Vaccines #MaidstoneHospital #PfizerBioNTech… https://t.co/Ot5l48h2Km   \n",
       "3304               The latest #CovidVaccine data updates, interesting trends, and more available now: https://t.co/USkz3PxgsI… https://t.co/jZv5VmcrOb   \n",
       "3305                                               Second dose of the Pfizer vaccine done! #PfizerCovidVaccine #PfizerBioNTech https://t.co/TQ3qVrsXC3   \n",
       "3310       Delighted to get my first shot of #PfizerBioNTech #COVID19 #vaccine\\n@UHW_Waterford \\nThanks to curtis and all the… https://t.co/OcWiipEFzu   \n",
       "3311      After the second dose of the #PfizerBioNTech  #vaccine.  There is no side effect yet. Vaccination will save the wor… https://t.co/BdEayqfRzq   \n",
       "3312         #Video: #Dubai: How to book appointment for #PfizerVaccine: https://t.co/vwccWvPKEN @gulf_news #COVID19VaccineQs… https://t.co/BHk7SB1V0e   \n",
       "3313                                             I just received my first dose of Pfizer/BioNTech vaccine...😊😊 #grateful #VaccinesWork #PfizerBioNTech   \n",
       "3314          Can you guess which US state made vaccination numbers available? \\n\\nhttps://t.co/XRsfG5KDNL\\n\\n#vaccinetracker… https://t.co/hojSzp5tGi   \n",
       "3315     #Greece: #COVID19 vaccines for 15.4 million people\\n#PfizerBioNTech: 427,050 January, 362,700 February, 558,675 Marc… https://t.co/k1Bz4gl5Jd   \n",
       "3316    Very grateful to have received both doses of the #PfizerBioNTech #COVID19Vaccine \\n\\nThe team at #PictonPCN were amaz… https://t.co/BNZBL1BgYL   \n",
       "\n",
       "                                                                                                hashtags  \\\n",
       "2416                                                                ['PfizerBioNTech', 'COVID19Vaccine']   \n",
       "2531                                                              ['COVIDVaccination', 'PfizerBioNTech']   \n",
       "2952                                                        ['EU', 'Covid19', 'covidvaccines', 'Pfizer']   \n",
       "3121                        ['COVIDVaccination', 'COVID19', 'PfizerVaccine', 'PfizerBioNTech', 'Pfizer']   \n",
       "3124                                                                                  ['PfizerBioNTech']   \n",
       "3128                                                                        ['Israel', 'PfizerBioNTech']   \n",
       "3131                                                ['Covid', 'PfizerBioNTech', 'Oxford', 'AstraZeneca']   \n",
       "3132                                                                                  ['PfizerBioNTech']   \n",
       "3133                                                                ['COVID19Vaccine', 'PfizerBioNTech']   \n",
       "3134                  ['BelgianPress', 'MbayeLeye', 'Standard', 'variantecovid', 'Variant', 'DogStudio']   \n",
       "3135                                                              ['COVIDVaccination', 'PfizerBioNTech']   \n",
       "3136                                                                                ['COVIDVaccination']   \n",
       "3145                                                                                           ['covid']   \n",
       "3146                                                                                  ['PfizerBioNTech']   \n",
       "3147                                                                ['Modernavaccine', 'PfizerBioNTech']   \n",
       "3148                                                                                  ['PfizerBioNTech']   \n",
       "3155                                                      ['covidstache', 'n95stache', 'PfizerBioNTech']   \n",
       "3255                                      ['Covid', 'vaccines', 'Covid19', 'vaccines', 'PfizerBioNTech']   \n",
       "3256                                     ['AstraZeneca', 'COVID19', 'vaccine', 'AstraZeneca', 'Moderna']   \n",
       "3258                                                               ['COVID19', 'vaccine', 'AstraZeneca']   \n",
       "3263                      ['COVIDVaccination', 'PfizerBioNTech', 'kickthevirus', 'iamahealthcareworker']   \n",
       "3264                                                                       ['PfizerBioNTech', 'Moderna']   \n",
       "3265                                                                       ['PfizerBioNTech', 'Romania']   \n",
       "3266                                                              ['COVIDVaccination', 'PfizerBioNTech']   \n",
       "3267                                                            ['PfizerCovidVaccine', 'PfizerBioNTech']   \n",
       "3268                                           ['Pfizer', 'PfizerBioNTech', 'vaccines', 'PfizerVaccine']   \n",
       "3270                                             ['COVIDVaccination', 'PfizerBioNTech', 'PfizerVaccine']   \n",
       "3271                                                                ['PfizerBioNTech', 'COVID19Vaccine']   \n",
       "3273                                                                  ['CovidVaccine', 'PfizerBioNTech']   \n",
       "3274                                                                                  ['PfizerBioNTech']   \n",
       "3279                                                               ['Cyprus', 'coronavirus', 'lockdown']   \n",
       "3282                                                                       ['COVID19', 'PfizerBioNTech']   \n",
       "3284                                ['coronavirus', 'PfizerBioNTech', 'nhsstaff', 'COVID19', 'grateful']   \n",
       "3285                                                                 ['PfizerBioNTech', 'PfizerVaccine']   \n",
       "3287                                                      ['PfizerBioNTech', 'vaccine', 'ThisIsOurShot']   \n",
       "3289                                                                                  ['PfizerBioNTech']   \n",
       "3293                              ['Tunisia', 'MinistryOfHealth', 'PfizerBioNTech', 'Pfizer', 'COVID19']   \n",
       "3294                                                   ['PfizerBioNTech', 'vaccinationCovid', 'COVID19']   \n",
       "3295  ['72hourcheck', 'shot2done', 'COVID19', 'PfizerBioNTech', 'vaccinessavelives', 'signingofffornow']   \n",
       "3298                                                   ['ourbestshot', 'CovidVaccine', 'PfizerBioNTech']   \n",
       "3299                                                                                         ['COVID19']   \n",
       "3302                                                   ['PfizerBioNTech', 'CovidVaccine', 'IGotTheShot']   \n",
       "3303                                          ['NHS', 'Vaccines', 'MaidstoneHospital', 'PfizerBioNTech']   \n",
       "3304                                                                                    ['CovidVaccine']   \n",
       "3305                                                            ['PfizerCovidVaccine', 'PfizerBioNTech']   \n",
       "3310                                                            ['PfizerBioNTech', 'COVID19', 'vaccine']   \n",
       "3311                                                                       ['PfizerBioNTech', 'vaccine']   \n",
       "3312                                             ['Video', 'Dubai', 'PfizerVaccine', 'COVID19VaccineQs']   \n",
       "3313                                                      ['grateful', 'VaccinesWork', 'PfizerBioNTech']   \n",
       "3314                                                                                  ['vaccinetracker']   \n",
       "3315                                                             ['Greece', 'COVID19', 'PfizerBioNTech']   \n",
       "3316                                                   ['PfizerBioNTech', 'COVID19Vaccine', 'PictonPCN']   \n",
       "\n",
       "      polarity  subjectivity sentiment  \n",
       "2416  0.350000      0.350000  positive  \n",
       "2531  0.650000      0.700000  positive  \n",
       "2952  0.500000      0.500000  positive  \n",
       "3121  0.250000      0.333333  positive  \n",
       "3124  0.000000      0.000000   neutral  \n",
       "3128 -0.103571      0.572619  negative  \n",
       "3131  0.000000      0.000000   neutral  \n",
       "3132  0.470000      0.624444  positive  \n",
       "3133  0.125000      0.416667  positive  \n",
       "3134  0.000000      0.000000   neutral  \n",
       "3135  0.787500      0.600000  positive  \n",
       "3136  0.200000      0.300000  positive  \n",
       "3145  0.200000      0.378571  positive  \n",
       "3146  0.000000      0.000000   neutral  \n",
       "3147  0.450000      0.650000  positive  \n",
       "3148  0.000000      0.000000   neutral  \n",
       "3155  0.000000      0.000000   neutral  \n",
       "3255  0.000000      0.000000   neutral  \n",
       "3256  0.216667      0.483333  positive  \n",
       "3258  0.300000      0.900000  positive  \n",
       "3263  0.000000      0.000000   neutral  \n",
       "3264  0.716667      0.916667  positive  \n",
       "3265  0.208333      0.200000  positive  \n",
       "3266  0.000000      0.066667   neutral  \n",
       "3267  0.000000      0.000000   neutral  \n",
       "3268 -0.166667      0.066667  negative  \n",
       "3270  0.312500      0.333333  positive  \n",
       "3271  0.333333      0.500000  positive  \n",
       "3273  0.000000      0.000000   neutral  \n",
       "3274 -0.100000      0.000000  negative  \n",
       "3279  0.250000      0.250000  positive  \n",
       "3282  1.000000      1.000000  positive  \n",
       "3284  0.000000      0.000000   neutral  \n",
       "3285  0.000000      0.000000   neutral  \n",
       "3287  0.100000      0.300000  positive  \n",
       "3289  0.225000      0.316667  positive  \n",
       "3293  0.000000      0.000000   neutral  \n",
       "3294  0.100000      0.100000  positive  \n",
       "3295  0.062500      0.750000  positive  \n",
       "3298  0.000000      0.000000   neutral  \n",
       "3299  0.100000      0.200000  positive  \n",
       "3302  0.000000      0.000000   neutral  \n",
       "3303  0.250000      0.300000  positive  \n",
       "3304  0.475000      0.575000  positive  \n",
       "3305  0.000000      0.000000   neutral  \n",
       "3310  0.383333      0.411111  positive  \n",
       "3311  0.000000      0.000000   neutral  \n",
       "3312  0.000000      0.000000   neutral  \n",
       "3313  0.250000      0.333333  positive  \n",
       "3314  0.400000      0.400000  positive  \n",
       "3315  0.000000      0.000000   neutral  \n",
       "3316  0.200000      0.300000  positive  "
      ]
     },
     "execution_count": 122,
     "metadata": {},
     "output_type": "execute_result"
    }
   ],
   "source": [
    "df[df['date'].astype(str) == '2021-01-12'][['user_location', 'date', 'text', 'hashtags', 'polarity', 'subjectivity', 'sentiment']]"
   ]
  },
  {
   "cell_type": "code",
   "execution_count": 123,
   "metadata": {
    "ExecuteTime": {
     "end_time": "2021-03-22T18:45:19.943731Z",
     "start_time": "2021-03-22T18:45:19.826471Z"
    },
    "colab": {
     "base_uri": "https://localhost:8080/",
     "height": 542
    },
    "id": "69QkDLu_zcog",
    "outputId": "963ce82b-2fea-4190-b63f-206da1c1557c"
   },
   "outputs": [
    {
     "data": {
      "application/vnd.plotly.v1+json": {
       "config": {
        "plotlyServerURL": "https://plot.ly"
       },
       "data": [
        {
         "alignmentgroup": "True",
         "hovertemplate": "date=%{x}<br>count=%{y}<br>polarity=%{marker.color}<extra></extra>",
         "legendgroup": "",
         "marker": {
          "color": [
           0.034952153110047846,
           0.05593677156177158,
           0.1168741252890349,
           0.09404135774825433,
           0.10402045870795873,
           0.06725213253694268,
           0.1448872491145219,
           0.1336019721019721,
           0.1444717261904762,
           0.13962191995714723,
           0.10860498083436225,
           0.1499594699142892,
           0.18438736858379715,
           0.1055670339761249,
           0.14054487179487182,
           0.1213186553030303,
           0.16573717948717948,
           0.0863423921757255,
           0.1460034013605442,
           0.1691956720636819,
           0.07804085497835497,
           0.12045233242753624,
           0.09540612599206348,
           0.09445096865309632,
           0.15748045486851456,
           0.11334632034632036,
           0.13561587899342262,
           0.13875251844591466,
           0.11613571541305916,
           0.12734942932311355,
           0.13947565275395465,
           0.18260760073260068,
           0.1439631751840438,
           0.16350220959595962,
           0.0987572942930086,
           0.03944965772709675,
           0.08046657046657045,
           0.08153534012909013,
           0.10151411657559198,
           0.15185195733441345,
           0.1563455253231069,
           0.1284260797342193,
           0.09651704545454545,
           0.10520833333333333,
           0.14189712248535777,
           0.125519705988456,
           0.08615126606198036,
           0.159731240981241,
           0.09943704284221525,
           0.01093832229861642,
           0.06360192837465564,
           0.11712962962962964,
           0.12418213668213672,
           0.12526913875598086,
           0.13667068411386593,
           0.05866319444444444,
           0.07717013888888889,
           0.10640231353346105,
           0.08677603934456093,
           0.07124539568618515,
           0.08418198070737139,
           0.12697106111119785,
           0.09595796946794068,
           0.11265196345099937,
           0.12902443686641799,
           0.08930617919314723,
           0.08431099578689945,
           0.10675890507287626,
           0.1119705535232879,
           0.12367700522003809,
           0.08518126277317455,
           0.10002496417037231,
           0.1146395268943855,
           0.07358143288241972,
           0.112585228450111,
           0.12534122031266287,
           0.115003819522845,
           0.09319741544230183,
           0.08486074942129626,
           0.13036625060567714,
           0.10234841220785261,
           0.1278754627848801,
           0.1040038996722635,
           0.09623720359820828,
           0.1033163750417943,
           0.06864348845598847,
           0.07598573970333702,
           0.12413254330690082,
           0.0982645339460333,
           0.08454546879442332,
           0.10653089914363653,
           0.08698128198443515,
           0.06654226791726793,
           0.08573457266372157,
           0.0926507149836449,
           0.10856038219639204,
           0.11298250061682535,
           0.10323758714178119,
           0.11736794516242666,
           0.059568299326793854,
           0.1091830392518637,
           0.11243556702516389,
           0.10743047017797024,
           0.08223010055811675,
           0.10553053721011946,
           0.07955370865802712,
           0.09376864535193433,
           0.1352064830991468,
           0.12128352973983295,
           0.09890915816551818,
           0.09541578589080264,
           0.08599646838487424,
           0.10956923439292705,
           0.09991728117064136,
           0.11849830617733356,
           0.09174132936998088,
           0.08022376175077747,
           0.09261767591641629,
           0.09796458676457746,
           0.06507465033962685,
           0.08239348409006084,
           0.07900876375610479,
           0.08396624274696352,
           0.09225748733661819,
           0.05270285627343528,
           0.08258289356615842,
           0.12246650137460845,
           0.07827019512112082,
           0.10427015277786059,
           0.08479035280435156,
           0.1328311950045266,
           0.13354043831985005,
           0.10366707054364345,
           0.10393250578623284,
           0.08290939290127727,
           0.12885670927774098,
           0.08866907931811775,
           0.07401278320879259,
           0.09074098201314133,
           0.09042488277654705,
           0.06911015657910069,
           0.1030757014994414,
           0.09225419031089344,
           0.10680536442912789,
           0.12612129639017314,
           0.10966764596776397,
           0.09916687916546593,
           0.09348497386381469,
           0.08548177655174931,
           0.0987060832728975,
           0.09402849489438028,
           0.10339357179573254,
           0.09521180955120832,
           0.06831191812429344,
           0.06483218772733239,
           0.08324776622330973,
           0.10301983325316659,
           0.10507667904327038,
           0.08416379998174386,
           0.09607150209392058,
           0.07814768670330746,
           0.08276889162544288,
           0.08565668600334994,
           0.10369680727804115,
           0.050988266830963476,
           0.11933882413307882,
           0.10866259699310597,
           0.07834851379923499,
           0.08844579455097745,
           0.10307576826272634,
           0.08905679632412714,
           0.0918090800874365,
           0.11061804477276833,
           0.08888357120823447,
           0.0647624549971334,
           0.08780697470636883,
           0.10968526034151035,
           0.09614967474043086,
           0.08477055802965028,
           0.11083987467985701,
           0.16035184599365884,
           0.12085604925674766,
           0.09857896299302553,
           0.1253194551446669,
           0.07201875026804001,
           0.09125994024091845,
           0.09733286912756188,
           0.10299104036633733,
           0.08374891340449742,
           0.11051472560825304,
           0.10860674171234044,
           0.10147608879751725,
           0.11433374165214859,
           0.09685387449212332,
           0.12801989313409276,
           0.14198817755458384,
           0.12086546908392236,
           0.11466899819849581,
           0.10733677975865481,
           0.10115866963283632,
           0.09908165936367158,
           0.12297245736529905,
           0.1153570308767318,
           0.10910125518080065,
           0.10165089702807008,
           0.09898027733347123,
           0.10663187768927944,
           0.07489399339848439,
           0.16720628666750956,
           0.11957018055181895,
           0.11698262134463724,
           0.1384876531536189,
           0.11639931179883305,
           0.12394643625375991,
           0.1531092707018633,
           0.1262107933558407,
           0.10010889838930075,
           0.0867163375499773,
           0.12078734453377322,
           0.35060537698145045,
           0.16612870981318578,
           0.1560082242883377,
           0.13151348676214258,
           0.100873350639452,
           0.1426838893761302,
           0.14243752747028937,
           0.1311290637007245,
           0.11523466938440427,
           0.13026298850987628,
           0.14374881741317816,
           0.11561207461593184,
           0.10073579227225062,
           0.0787454277265132,
           0.12378658609908598
          ],
          "coloraxis": "coloraxis",
          "pattern": {
           "shape": ""
          }
         },
         "name": "",
         "offsetgroup": "",
         "orientation": "v",
         "showlegend": false,
         "textposition": "auto",
         "type": "bar",
         "x": [
          "2020-12-12",
          "2020-12-13",
          "2020-12-14",
          "2020-12-15",
          "2020-12-16",
          "2020-12-17",
          "2020-12-18",
          "2020-12-19",
          "2020-12-20",
          "2020-12-21",
          "2020-12-22",
          "2020-12-23",
          "2020-12-24",
          "2020-12-25",
          "2020-12-26",
          "2020-12-27",
          "2020-12-28",
          "2020-12-29",
          "2020-12-30",
          "2020-12-31",
          "2021-01-01",
          "2021-01-02",
          "2021-01-03",
          "2021-01-04",
          "2021-01-05",
          "2021-01-06",
          "2021-01-07",
          "2021-01-08",
          "2021-01-09",
          "2021-01-10",
          "2021-01-11",
          "2021-01-12",
          "2021-01-13",
          "2021-01-14",
          "2021-01-15",
          "2021-01-16",
          "2021-01-17",
          "2021-01-18",
          "2021-01-19",
          "2021-01-20",
          "2021-01-21",
          "2021-01-22",
          "2021-01-23",
          "2021-01-24",
          "2021-01-25",
          "2021-01-26",
          "2021-01-27",
          "2021-01-28",
          "2021-01-29",
          "2021-01-30",
          "2021-01-31",
          "2021-02-01",
          "2021-02-02",
          "2021-02-03",
          "2021-02-04",
          "2021-02-05",
          "2021-02-06",
          "2021-02-07",
          "2021-02-08",
          "2021-02-09",
          "2021-02-10",
          "2021-02-11",
          "2021-02-12",
          "2021-02-13",
          "2021-02-14",
          "2021-02-15",
          "2021-02-16",
          "2021-02-17",
          "2021-02-18",
          "2021-02-19",
          "2021-02-20",
          "2021-02-21",
          "2021-02-22",
          "2021-02-23",
          "2021-02-24",
          "2021-02-25",
          "2021-02-26",
          "2021-02-27",
          "2021-02-28",
          "2021-03-01",
          "2021-03-02",
          "2021-03-03",
          "2021-03-04",
          "2021-03-05",
          "2021-03-06",
          "2021-03-07",
          "2021-03-08",
          "2021-03-09",
          "2021-03-10",
          "2021-03-11",
          "2021-03-12",
          "2021-03-13",
          "2021-03-14",
          "2021-03-15",
          "2021-03-16",
          "2021-03-17",
          "2021-03-18",
          "2021-03-19",
          "2021-03-20",
          "2021-03-21",
          "2021-03-22",
          "2021-03-23",
          "2021-03-24",
          "2021-03-25",
          "2021-03-26",
          "2021-03-27",
          "2021-03-28",
          "2021-03-29",
          "2021-03-30",
          "2021-03-31",
          "2021-04-01",
          "2021-04-02",
          "2021-04-03",
          "2021-04-04",
          "2021-04-05",
          "2021-04-06",
          "2021-04-07",
          "2021-04-08",
          "2021-04-09",
          "2021-04-10",
          "2021-04-11",
          "2021-04-12",
          "2021-04-13",
          "2021-04-14",
          "2021-04-15",
          "2021-04-16",
          "2021-04-17",
          "2021-04-18",
          "2021-04-19",
          "2021-04-20",
          "2021-04-21",
          "2021-04-22",
          "2021-05-13",
          "2021-05-14",
          "2021-05-15",
          "2021-05-16",
          "2021-05-17",
          "2021-05-18",
          "2021-05-19",
          "2021-05-20",
          "2021-05-21",
          "2021-05-22",
          "2021-05-23",
          "2021-05-24",
          "2021-05-25",
          "2021-05-26",
          "2021-05-27",
          "2021-05-28",
          "2021-05-29",
          "2021-05-30",
          "2021-05-31",
          "2021-06-01",
          "2021-06-02",
          "2021-06-03",
          "2021-06-04",
          "2021-06-05",
          "2021-06-06",
          "2021-06-07",
          "2021-06-08",
          "2021-06-09",
          "2021-06-10",
          "2021-06-11",
          "2021-06-12",
          "2021-06-13",
          "2021-06-14",
          "2021-06-15",
          "2021-06-16",
          "2021-06-17",
          "2021-06-18",
          "2021-06-19",
          "2021-06-20",
          "2021-06-21",
          "2021-06-22",
          "2021-06-23",
          "2021-06-24",
          "2021-06-25",
          "2021-06-26",
          "2021-06-27",
          "2021-06-28",
          "2021-06-29",
          "2021-06-30",
          "2021-07-01",
          "2021-07-07",
          "2021-07-08",
          "2021-07-09",
          "2021-07-10",
          "2021-07-11",
          "2021-07-12",
          "2021-07-13",
          "2021-07-14",
          "2021-07-15",
          "2021-07-16",
          "2021-07-17",
          "2021-07-18",
          "2021-07-19",
          "2021-07-20",
          "2021-07-21",
          "2021-07-22",
          "2021-07-23",
          "2021-07-24",
          "2021-07-25",
          "2021-07-26",
          "2021-07-27",
          "2021-07-28",
          "2021-07-29",
          "2021-07-30",
          "2021-07-31",
          "2021-08-01",
          "2021-08-02",
          "2021-08-03",
          "2021-08-04",
          "2021-08-05",
          "2021-08-06",
          "2021-08-07",
          "2021-08-08",
          "2021-08-09",
          "2021-08-10",
          "2021-08-11",
          "2021-08-12",
          "2021-08-13",
          "2021-08-14",
          "2021-08-15",
          "2021-08-16",
          "2021-08-17",
          "2021-08-18",
          "2021-08-19",
          "2021-08-20",
          "2021-08-21",
          "2021-08-22",
          "2021-08-23",
          "2021-08-24",
          "2021-08-25",
          "2021-08-26",
          "2021-08-27"
         ],
         "xaxis": "x",
         "y": [
          38,
          52,
          83,
          87,
          78,
          79,
          55,
          70,
          42,
          66,
          97,
          83,
          70,
          22,
          26,
          32,
          26,
          54,
          63,
          38,
          50,
          46,
          32,
          47,
          67,
          65,
          43,
          106,
          80,
          57,
          53,
          52,
          59,
          64,
          91,
          82,
          63,
          37,
          61,
          57,
          92,
          43,
          40,
          35,
          34,
          48,
          42,
          47,
          58,
          34,
          11,
          18,
          37,
          19,
          44,
          40,
          24,
          183,
          301,
          285,
          280,
          260,
          304,
          235,
          159,
          188,
          249,
          308,
          333,
          305,
          221,
          147,
          283,
          247,
          383,
          383,
          417,
          275,
          318,
          1562,
          478,
          809,
          603,
          489,
          328,
          220,
          305,
          428,
          470,
          538,
          474,
          319,
          250,
          563,
          852,
          562,
          567,
          551,
          581,
          378,
          546,
          459,
          500,
          431,
          371,
          326,
          264,
          479,
          617,
          753,
          561,
          426,
          485,
          279,
          361,
          529,
          917,
          1015,
          672,
          509,
          482,
          1185,
          1166,
          932,
          880,
          915,
          631,
          457,
          671,
          663,
          1459,
          493,
          298,
          841,
          472,
          704,
          676,
          639,
          654,
          691,
          161,
          310,
          469,
          796,
          867,
          636,
          691,
          716,
          575,
          402,
          468,
          619,
          395,
          282,
          242,
          322,
          225,
          760,
          1039,
          805,
          586,
          830,
          622,
          387,
          267,
          322,
          323,
          676,
          533,
          346,
          229,
          351,
          737,
          659,
          515,
          490,
          360,
          274,
          409,
          961,
          1315,
          743,
          48,
          236,
          286,
          230,
          179,
          421,
          684,
          421,
          451,
          518,
          328,
          217,
          353,
          296,
          316,
          321,
          444,
          375,
          164,
          289,
          299,
          407,
          453,
          425,
          331,
          334,
          685,
          531,
          443,
          624,
          483,
          326,
          351,
          530,
          553,
          884,
          525,
          813,
          372,
          220,
          279,
          410,
          501,
          403,
          423,
          283,
          241,
          551,
          449,
          444,
          475,
          175
         ],
         "yaxis": "y"
        }
       ],
       "layout": {
        "barmode": "relative",
        "coloraxis": {
         "colorbar": {
          "title": {
           "text": "polarity"
          }
         },
         "colorscale": [
          [
           0,
           "#0d0887"
          ],
          [
           0.1111111111111111,
           "#46039f"
          ],
          [
           0.2222222222222222,
           "#7201a8"
          ],
          [
           0.3333333333333333,
           "#9c179e"
          ],
          [
           0.4444444444444444,
           "#bd3786"
          ],
          [
           0.5555555555555556,
           "#d8576b"
          ],
          [
           0.6666666666666666,
           "#ed7953"
          ],
          [
           0.7777777777777778,
           "#fb9f3a"
          ],
          [
           0.8888888888888888,
           "#fdca26"
          ],
          [
           1,
           "#f0f921"
          ]
         ]
        },
        "legend": {
         "tracegroupgap": 0
        },
        "margin": {
         "t": 60
        },
        "template": {
         "data": {
          "bar": [
           {
            "error_x": {
             "color": "#2a3f5f"
            },
            "error_y": {
             "color": "#2a3f5f"
            },
            "marker": {
             "line": {
              "color": "#E5ECF6",
              "width": 0.5
             },
             "pattern": {
              "fillmode": "overlay",
              "size": 10,
              "solidity": 0.2
             }
            },
            "type": "bar"
           }
          ],
          "barpolar": [
           {
            "marker": {
             "line": {
              "color": "#E5ECF6",
              "width": 0.5
             },
             "pattern": {
              "fillmode": "overlay",
              "size": 10,
              "solidity": 0.2
             }
            },
            "type": "barpolar"
           }
          ],
          "carpet": [
           {
            "aaxis": {
             "endlinecolor": "#2a3f5f",
             "gridcolor": "white",
             "linecolor": "white",
             "minorgridcolor": "white",
             "startlinecolor": "#2a3f5f"
            },
            "baxis": {
             "endlinecolor": "#2a3f5f",
             "gridcolor": "white",
             "linecolor": "white",
             "minorgridcolor": "white",
             "startlinecolor": "#2a3f5f"
            },
            "type": "carpet"
           }
          ],
          "choropleth": [
           {
            "colorbar": {
             "outlinewidth": 0,
             "ticks": ""
            },
            "type": "choropleth"
           }
          ],
          "contour": [
           {
            "colorbar": {
             "outlinewidth": 0,
             "ticks": ""
            },
            "colorscale": [
             [
              0,
              "#0d0887"
             ],
             [
              0.1111111111111111,
              "#46039f"
             ],
             [
              0.2222222222222222,
              "#7201a8"
             ],
             [
              0.3333333333333333,
              "#9c179e"
             ],
             [
              0.4444444444444444,
              "#bd3786"
             ],
             [
              0.5555555555555556,
              "#d8576b"
             ],
             [
              0.6666666666666666,
              "#ed7953"
             ],
             [
              0.7777777777777778,
              "#fb9f3a"
             ],
             [
              0.8888888888888888,
              "#fdca26"
             ],
             [
              1,
              "#f0f921"
             ]
            ],
            "type": "contour"
           }
          ],
          "contourcarpet": [
           {
            "colorbar": {
             "outlinewidth": 0,
             "ticks": ""
            },
            "type": "contourcarpet"
           }
          ],
          "heatmap": [
           {
            "colorbar": {
             "outlinewidth": 0,
             "ticks": ""
            },
            "colorscale": [
             [
              0,
              "#0d0887"
             ],
             [
              0.1111111111111111,
              "#46039f"
             ],
             [
              0.2222222222222222,
              "#7201a8"
             ],
             [
              0.3333333333333333,
              "#9c179e"
             ],
             [
              0.4444444444444444,
              "#bd3786"
             ],
             [
              0.5555555555555556,
              "#d8576b"
             ],
             [
              0.6666666666666666,
              "#ed7953"
             ],
             [
              0.7777777777777778,
              "#fb9f3a"
             ],
             [
              0.8888888888888888,
              "#fdca26"
             ],
             [
              1,
              "#f0f921"
             ]
            ],
            "type": "heatmap"
           }
          ],
          "heatmapgl": [
           {
            "colorbar": {
             "outlinewidth": 0,
             "ticks": ""
            },
            "colorscale": [
             [
              0,
              "#0d0887"
             ],
             [
              0.1111111111111111,
              "#46039f"
             ],
             [
              0.2222222222222222,
              "#7201a8"
             ],
             [
              0.3333333333333333,
              "#9c179e"
             ],
             [
              0.4444444444444444,
              "#bd3786"
             ],
             [
              0.5555555555555556,
              "#d8576b"
             ],
             [
              0.6666666666666666,
              "#ed7953"
             ],
             [
              0.7777777777777778,
              "#fb9f3a"
             ],
             [
              0.8888888888888888,
              "#fdca26"
             ],
             [
              1,
              "#f0f921"
             ]
            ],
            "type": "heatmapgl"
           }
          ],
          "histogram": [
           {
            "marker": {
             "pattern": {
              "fillmode": "overlay",
              "size": 10,
              "solidity": 0.2
             }
            },
            "type": "histogram"
           }
          ],
          "histogram2d": [
           {
            "colorbar": {
             "outlinewidth": 0,
             "ticks": ""
            },
            "colorscale": [
             [
              0,
              "#0d0887"
             ],
             [
              0.1111111111111111,
              "#46039f"
             ],
             [
              0.2222222222222222,
              "#7201a8"
             ],
             [
              0.3333333333333333,
              "#9c179e"
             ],
             [
              0.4444444444444444,
              "#bd3786"
             ],
             [
              0.5555555555555556,
              "#d8576b"
             ],
             [
              0.6666666666666666,
              "#ed7953"
             ],
             [
              0.7777777777777778,
              "#fb9f3a"
             ],
             [
              0.8888888888888888,
              "#fdca26"
             ],
             [
              1,
              "#f0f921"
             ]
            ],
            "type": "histogram2d"
           }
          ],
          "histogram2dcontour": [
           {
            "colorbar": {
             "outlinewidth": 0,
             "ticks": ""
            },
            "colorscale": [
             [
              0,
              "#0d0887"
             ],
             [
              0.1111111111111111,
              "#46039f"
             ],
             [
              0.2222222222222222,
              "#7201a8"
             ],
             [
              0.3333333333333333,
              "#9c179e"
             ],
             [
              0.4444444444444444,
              "#bd3786"
             ],
             [
              0.5555555555555556,
              "#d8576b"
             ],
             [
              0.6666666666666666,
              "#ed7953"
             ],
             [
              0.7777777777777778,
              "#fb9f3a"
             ],
             [
              0.8888888888888888,
              "#fdca26"
             ],
             [
              1,
              "#f0f921"
             ]
            ],
            "type": "histogram2dcontour"
           }
          ],
          "mesh3d": [
           {
            "colorbar": {
             "outlinewidth": 0,
             "ticks": ""
            },
            "type": "mesh3d"
           }
          ],
          "parcoords": [
           {
            "line": {
             "colorbar": {
              "outlinewidth": 0,
              "ticks": ""
             }
            },
            "type": "parcoords"
           }
          ],
          "pie": [
           {
            "automargin": true,
            "type": "pie"
           }
          ],
          "scatter": [
           {
            "marker": {
             "colorbar": {
              "outlinewidth": 0,
              "ticks": ""
             }
            },
            "type": "scatter"
           }
          ],
          "scatter3d": [
           {
            "line": {
             "colorbar": {
              "outlinewidth": 0,
              "ticks": ""
             }
            },
            "marker": {
             "colorbar": {
              "outlinewidth": 0,
              "ticks": ""
             }
            },
            "type": "scatter3d"
           }
          ],
          "scattercarpet": [
           {
            "marker": {
             "colorbar": {
              "outlinewidth": 0,
              "ticks": ""
             }
            },
            "type": "scattercarpet"
           }
          ],
          "scattergeo": [
           {
            "marker": {
             "colorbar": {
              "outlinewidth": 0,
              "ticks": ""
             }
            },
            "type": "scattergeo"
           }
          ],
          "scattergl": [
           {
            "marker": {
             "colorbar": {
              "outlinewidth": 0,
              "ticks": ""
             }
            },
            "type": "scattergl"
           }
          ],
          "scattermapbox": [
           {
            "marker": {
             "colorbar": {
              "outlinewidth": 0,
              "ticks": ""
             }
            },
            "type": "scattermapbox"
           }
          ],
          "scatterpolar": [
           {
            "marker": {
             "colorbar": {
              "outlinewidth": 0,
              "ticks": ""
             }
            },
            "type": "scatterpolar"
           }
          ],
          "scatterpolargl": [
           {
            "marker": {
             "colorbar": {
              "outlinewidth": 0,
              "ticks": ""
             }
            },
            "type": "scatterpolargl"
           }
          ],
          "scatterternary": [
           {
            "marker": {
             "colorbar": {
              "outlinewidth": 0,
              "ticks": ""
             }
            },
            "type": "scatterternary"
           }
          ],
          "surface": [
           {
            "colorbar": {
             "outlinewidth": 0,
             "ticks": ""
            },
            "colorscale": [
             [
              0,
              "#0d0887"
             ],
             [
              0.1111111111111111,
              "#46039f"
             ],
             [
              0.2222222222222222,
              "#7201a8"
             ],
             [
              0.3333333333333333,
              "#9c179e"
             ],
             [
              0.4444444444444444,
              "#bd3786"
             ],
             [
              0.5555555555555556,
              "#d8576b"
             ],
             [
              0.6666666666666666,
              "#ed7953"
             ],
             [
              0.7777777777777778,
              "#fb9f3a"
             ],
             [
              0.8888888888888888,
              "#fdca26"
             ],
             [
              1,
              "#f0f921"
             ]
            ],
            "type": "surface"
           }
          ],
          "table": [
           {
            "cells": {
             "fill": {
              "color": "#EBF0F8"
             },
             "line": {
              "color": "white"
             }
            },
            "header": {
             "fill": {
              "color": "#C8D4E3"
             },
             "line": {
              "color": "white"
             }
            },
            "type": "table"
           }
          ]
         },
         "layout": {
          "annotationdefaults": {
           "arrowcolor": "#2a3f5f",
           "arrowhead": 0,
           "arrowwidth": 1
          },
          "autotypenumbers": "strict",
          "coloraxis": {
           "colorbar": {
            "outlinewidth": 0,
            "ticks": ""
           }
          },
          "colorscale": {
           "diverging": [
            [
             0,
             "#8e0152"
            ],
            [
             0.1,
             "#c51b7d"
            ],
            [
             0.2,
             "#de77ae"
            ],
            [
             0.3,
             "#f1b6da"
            ],
            [
             0.4,
             "#fde0ef"
            ],
            [
             0.5,
             "#f7f7f7"
            ],
            [
             0.6,
             "#e6f5d0"
            ],
            [
             0.7,
             "#b8e186"
            ],
            [
             0.8,
             "#7fbc41"
            ],
            [
             0.9,
             "#4d9221"
            ],
            [
             1,
             "#276419"
            ]
           ],
           "sequential": [
            [
             0,
             "#0d0887"
            ],
            [
             0.1111111111111111,
             "#46039f"
            ],
            [
             0.2222222222222222,
             "#7201a8"
            ],
            [
             0.3333333333333333,
             "#9c179e"
            ],
            [
             0.4444444444444444,
             "#bd3786"
            ],
            [
             0.5555555555555556,
             "#d8576b"
            ],
            [
             0.6666666666666666,
             "#ed7953"
            ],
            [
             0.7777777777777778,
             "#fb9f3a"
            ],
            [
             0.8888888888888888,
             "#fdca26"
            ],
            [
             1,
             "#f0f921"
            ]
           ],
           "sequentialminus": [
            [
             0,
             "#0d0887"
            ],
            [
             0.1111111111111111,
             "#46039f"
            ],
            [
             0.2222222222222222,
             "#7201a8"
            ],
            [
             0.3333333333333333,
             "#9c179e"
            ],
            [
             0.4444444444444444,
             "#bd3786"
            ],
            [
             0.5555555555555556,
             "#d8576b"
            ],
            [
             0.6666666666666666,
             "#ed7953"
            ],
            [
             0.7777777777777778,
             "#fb9f3a"
            ],
            [
             0.8888888888888888,
             "#fdca26"
            ],
            [
             1,
             "#f0f921"
            ]
           ]
          },
          "colorway": [
           "#636efa",
           "#EF553B",
           "#00cc96",
           "#ab63fa",
           "#FFA15A",
           "#19d3f3",
           "#FF6692",
           "#B6E880",
           "#FF97FF",
           "#FECB52"
          ],
          "font": {
           "color": "#2a3f5f"
          },
          "geo": {
           "bgcolor": "white",
           "lakecolor": "white",
           "landcolor": "#E5ECF6",
           "showlakes": true,
           "showland": true,
           "subunitcolor": "white"
          },
          "hoverlabel": {
           "align": "left"
          },
          "hovermode": "closest",
          "mapbox": {
           "style": "light"
          },
          "paper_bgcolor": "white",
          "plot_bgcolor": "#E5ECF6",
          "polar": {
           "angularaxis": {
            "gridcolor": "white",
            "linecolor": "white",
            "ticks": ""
           },
           "bgcolor": "#E5ECF6",
           "radialaxis": {
            "gridcolor": "white",
            "linecolor": "white",
            "ticks": ""
           }
          },
          "scene": {
           "xaxis": {
            "backgroundcolor": "#E5ECF6",
            "gridcolor": "white",
            "gridwidth": 2,
            "linecolor": "white",
            "showbackground": true,
            "ticks": "",
            "zerolinecolor": "white"
           },
           "yaxis": {
            "backgroundcolor": "#E5ECF6",
            "gridcolor": "white",
            "gridwidth": 2,
            "linecolor": "white",
            "showbackground": true,
            "ticks": "",
            "zerolinecolor": "white"
           },
           "zaxis": {
            "backgroundcolor": "#E5ECF6",
            "gridcolor": "white",
            "gridwidth": 2,
            "linecolor": "white",
            "showbackground": true,
            "ticks": "",
            "zerolinecolor": "white"
           }
          },
          "shapedefaults": {
           "line": {
            "color": "#2a3f5f"
           }
          },
          "ternary": {
           "aaxis": {
            "gridcolor": "white",
            "linecolor": "white",
            "ticks": ""
           },
           "baxis": {
            "gridcolor": "white",
            "linecolor": "white",
            "ticks": ""
           },
           "bgcolor": "#E5ECF6",
           "caxis": {
            "gridcolor": "white",
            "linecolor": "white",
            "ticks": ""
           }
          },
          "title": {
           "x": 0.05
          },
          "xaxis": {
           "automargin": true,
           "gridcolor": "white",
           "linecolor": "white",
           "ticks": "",
           "title": {
            "standoff": 15
           },
           "zerolinecolor": "white",
           "zerolinewidth": 2
          },
          "yaxis": {
           "automargin": true,
           "gridcolor": "white",
           "linecolor": "white",
           "ticks": "",
           "title": {
            "standoff": 15
           },
           "zerolinecolor": "white",
           "zerolinewidth": 2
          }
         }
        },
        "xaxis": {
         "anchor": "y",
         "domain": [
          0,
          1
         ],
         "title": {
          "text": "date"
         }
        },
        "yaxis": {
         "anchor": "x",
         "domain": [
          0,
          1
         ],
         "title": {
          "text": "count"
         }
        }
       }
      },
      "text/html": [
       "<div>                            <div id=\"9ce8021e-c83c-45b8-8a8e-7462bdd064ef\" class=\"plotly-graph-div\" style=\"height:525px; width:100%;\"></div>            <script type=\"text/javascript\">                require([\"plotly\"], function(Plotly) {                    window.PLOTLYENV=window.PLOTLYENV || {};                                    if (document.getElementById(\"9ce8021e-c83c-45b8-8a8e-7462bdd064ef\")) {                    Plotly.newPlot(                        \"9ce8021e-c83c-45b8-8a8e-7462bdd064ef\",                        [{\"alignmentgroup\":\"True\",\"hovertemplate\":\"date=%{x}<br>count=%{y}<br>polarity=%{marker.color}<extra></extra>\",\"legendgroup\":\"\",\"marker\":{\"color\":[0.034952153110047846,0.05593677156177158,0.1168741252890349,0.09404135774825433,0.10402045870795873,0.06725213253694268,0.1448872491145219,0.1336019721019721,0.1444717261904762,0.13962191995714723,0.10860498083436225,0.1499594699142892,0.18438736858379715,0.1055670339761249,0.14054487179487182,0.1213186553030303,0.16573717948717948,0.0863423921757255,0.1460034013605442,0.1691956720636819,0.07804085497835497,0.12045233242753624,0.09540612599206348,0.09445096865309632,0.15748045486851456,0.11334632034632036,0.13561587899342262,0.13875251844591466,0.11613571541305916,0.12734942932311355,0.13947565275395465,0.18260760073260068,0.1439631751840438,0.16350220959595962,0.0987572942930086,0.03944965772709675,0.08046657046657045,0.08153534012909013,0.10151411657559198,0.15185195733441345,0.1563455253231069,0.1284260797342193,0.09651704545454545,0.10520833333333333,0.14189712248535777,0.125519705988456,0.08615126606198036,0.159731240981241,0.09943704284221525,0.01093832229861642,0.06360192837465564,0.11712962962962964,0.12418213668213672,0.12526913875598086,0.13667068411386593,0.05866319444444444,0.07717013888888889,0.10640231353346105,0.08677603934456093,0.07124539568618515,0.08418198070737139,0.12697106111119785,0.09595796946794068,0.11265196345099937,0.12902443686641799,0.08930617919314723,0.08431099578689945,0.10675890507287626,0.1119705535232879,0.12367700522003809,0.08518126277317455,0.10002496417037231,0.1146395268943855,0.07358143288241972,0.112585228450111,0.12534122031266287,0.115003819522845,0.09319741544230183,0.08486074942129626,0.13036625060567714,0.10234841220785261,0.1278754627848801,0.1040038996722635,0.09623720359820828,0.1033163750417943,0.06864348845598847,0.07598573970333702,0.12413254330690082,0.0982645339460333,0.08454546879442332,0.10653089914363653,0.08698128198443515,0.06654226791726793,0.08573457266372157,0.0926507149836449,0.10856038219639204,0.11298250061682535,0.10323758714178119,0.11736794516242666,0.059568299326793854,0.1091830392518637,0.11243556702516389,0.10743047017797024,0.08223010055811675,0.10553053721011946,0.07955370865802712,0.09376864535193433,0.1352064830991468,0.12128352973983295,0.09890915816551818,0.09541578589080264,0.08599646838487424,0.10956923439292705,0.09991728117064136,0.11849830617733356,0.09174132936998088,0.08022376175077747,0.09261767591641629,0.09796458676457746,0.06507465033962685,0.08239348409006084,0.07900876375610479,0.08396624274696352,0.09225748733661819,0.05270285627343528,0.08258289356615842,0.12246650137460845,0.07827019512112082,0.10427015277786059,0.08479035280435156,0.1328311950045266,0.13354043831985005,0.10366707054364345,0.10393250578623284,0.08290939290127727,0.12885670927774098,0.08866907931811775,0.07401278320879259,0.09074098201314133,0.09042488277654705,0.06911015657910069,0.1030757014994414,0.09225419031089344,0.10680536442912789,0.12612129639017314,0.10966764596776397,0.09916687916546593,0.09348497386381469,0.08548177655174931,0.0987060832728975,0.09402849489438028,0.10339357179573254,0.09521180955120832,0.06831191812429344,0.06483218772733239,0.08324776622330973,0.10301983325316659,0.10507667904327038,0.08416379998174386,0.09607150209392058,0.07814768670330746,0.08276889162544288,0.08565668600334994,0.10369680727804115,0.050988266830963476,0.11933882413307882,0.10866259699310597,0.07834851379923499,0.08844579455097745,0.10307576826272634,0.08905679632412714,0.0918090800874365,0.11061804477276833,0.08888357120823447,0.0647624549971334,0.08780697470636883,0.10968526034151035,0.09614967474043086,0.08477055802965028,0.11083987467985701,0.16035184599365884,0.12085604925674766,0.09857896299302553,0.1253194551446669,0.07201875026804001,0.09125994024091845,0.09733286912756188,0.10299104036633733,0.08374891340449742,0.11051472560825304,0.10860674171234044,0.10147608879751725,0.11433374165214859,0.09685387449212332,0.12801989313409276,0.14198817755458384,0.12086546908392236,0.11466899819849581,0.10733677975865481,0.10115866963283632,0.09908165936367158,0.12297245736529905,0.1153570308767318,0.10910125518080065,0.10165089702807008,0.09898027733347123,0.10663187768927944,0.07489399339848439,0.16720628666750956,0.11957018055181895,0.11698262134463724,0.1384876531536189,0.11639931179883305,0.12394643625375991,0.1531092707018633,0.1262107933558407,0.10010889838930075,0.0867163375499773,0.12078734453377322,0.35060537698145045,0.16612870981318578,0.1560082242883377,0.13151348676214258,0.100873350639452,0.1426838893761302,0.14243752747028937,0.1311290637007245,0.11523466938440427,0.13026298850987628,0.14374881741317816,0.11561207461593184,0.10073579227225062,0.0787454277265132,0.12378658609908598],\"coloraxis\":\"coloraxis\",\"pattern\":{\"shape\":\"\"}},\"name\":\"\",\"offsetgroup\":\"\",\"orientation\":\"v\",\"showlegend\":false,\"textposition\":\"auto\",\"type\":\"bar\",\"x\":[\"2020-12-12\",\"2020-12-13\",\"2020-12-14\",\"2020-12-15\",\"2020-12-16\",\"2020-12-17\",\"2020-12-18\",\"2020-12-19\",\"2020-12-20\",\"2020-12-21\",\"2020-12-22\",\"2020-12-23\",\"2020-12-24\",\"2020-12-25\",\"2020-12-26\",\"2020-12-27\",\"2020-12-28\",\"2020-12-29\",\"2020-12-30\",\"2020-12-31\",\"2021-01-01\",\"2021-01-02\",\"2021-01-03\",\"2021-01-04\",\"2021-01-05\",\"2021-01-06\",\"2021-01-07\",\"2021-01-08\",\"2021-01-09\",\"2021-01-10\",\"2021-01-11\",\"2021-01-12\",\"2021-01-13\",\"2021-01-14\",\"2021-01-15\",\"2021-01-16\",\"2021-01-17\",\"2021-01-18\",\"2021-01-19\",\"2021-01-20\",\"2021-01-21\",\"2021-01-22\",\"2021-01-23\",\"2021-01-24\",\"2021-01-25\",\"2021-01-26\",\"2021-01-27\",\"2021-01-28\",\"2021-01-29\",\"2021-01-30\",\"2021-01-31\",\"2021-02-01\",\"2021-02-02\",\"2021-02-03\",\"2021-02-04\",\"2021-02-05\",\"2021-02-06\",\"2021-02-07\",\"2021-02-08\",\"2021-02-09\",\"2021-02-10\",\"2021-02-11\",\"2021-02-12\",\"2021-02-13\",\"2021-02-14\",\"2021-02-15\",\"2021-02-16\",\"2021-02-17\",\"2021-02-18\",\"2021-02-19\",\"2021-02-20\",\"2021-02-21\",\"2021-02-22\",\"2021-02-23\",\"2021-02-24\",\"2021-02-25\",\"2021-02-26\",\"2021-02-27\",\"2021-02-28\",\"2021-03-01\",\"2021-03-02\",\"2021-03-03\",\"2021-03-04\",\"2021-03-05\",\"2021-03-06\",\"2021-03-07\",\"2021-03-08\",\"2021-03-09\",\"2021-03-10\",\"2021-03-11\",\"2021-03-12\",\"2021-03-13\",\"2021-03-14\",\"2021-03-15\",\"2021-03-16\",\"2021-03-17\",\"2021-03-18\",\"2021-03-19\",\"2021-03-20\",\"2021-03-21\",\"2021-03-22\",\"2021-03-23\",\"2021-03-24\",\"2021-03-25\",\"2021-03-26\",\"2021-03-27\",\"2021-03-28\",\"2021-03-29\",\"2021-03-30\",\"2021-03-31\",\"2021-04-01\",\"2021-04-02\",\"2021-04-03\",\"2021-04-04\",\"2021-04-05\",\"2021-04-06\",\"2021-04-07\",\"2021-04-08\",\"2021-04-09\",\"2021-04-10\",\"2021-04-11\",\"2021-04-12\",\"2021-04-13\",\"2021-04-14\",\"2021-04-15\",\"2021-04-16\",\"2021-04-17\",\"2021-04-18\",\"2021-04-19\",\"2021-04-20\",\"2021-04-21\",\"2021-04-22\",\"2021-05-13\",\"2021-05-14\",\"2021-05-15\",\"2021-05-16\",\"2021-05-17\",\"2021-05-18\",\"2021-05-19\",\"2021-05-20\",\"2021-05-21\",\"2021-05-22\",\"2021-05-23\",\"2021-05-24\",\"2021-05-25\",\"2021-05-26\",\"2021-05-27\",\"2021-05-28\",\"2021-05-29\",\"2021-05-30\",\"2021-05-31\",\"2021-06-01\",\"2021-06-02\",\"2021-06-03\",\"2021-06-04\",\"2021-06-05\",\"2021-06-06\",\"2021-06-07\",\"2021-06-08\",\"2021-06-09\",\"2021-06-10\",\"2021-06-11\",\"2021-06-12\",\"2021-06-13\",\"2021-06-14\",\"2021-06-15\",\"2021-06-16\",\"2021-06-17\",\"2021-06-18\",\"2021-06-19\",\"2021-06-20\",\"2021-06-21\",\"2021-06-22\",\"2021-06-23\",\"2021-06-24\",\"2021-06-25\",\"2021-06-26\",\"2021-06-27\",\"2021-06-28\",\"2021-06-29\",\"2021-06-30\",\"2021-07-01\",\"2021-07-07\",\"2021-07-08\",\"2021-07-09\",\"2021-07-10\",\"2021-07-11\",\"2021-07-12\",\"2021-07-13\",\"2021-07-14\",\"2021-07-15\",\"2021-07-16\",\"2021-07-17\",\"2021-07-18\",\"2021-07-19\",\"2021-07-20\",\"2021-07-21\",\"2021-07-22\",\"2021-07-23\",\"2021-07-24\",\"2021-07-25\",\"2021-07-26\",\"2021-07-27\",\"2021-07-28\",\"2021-07-29\",\"2021-07-30\",\"2021-07-31\",\"2021-08-01\",\"2021-08-02\",\"2021-08-03\",\"2021-08-04\",\"2021-08-05\",\"2021-08-06\",\"2021-08-07\",\"2021-08-08\",\"2021-08-09\",\"2021-08-10\",\"2021-08-11\",\"2021-08-12\",\"2021-08-13\",\"2021-08-14\",\"2021-08-15\",\"2021-08-16\",\"2021-08-17\",\"2021-08-18\",\"2021-08-19\",\"2021-08-20\",\"2021-08-21\",\"2021-08-22\",\"2021-08-23\",\"2021-08-24\",\"2021-08-25\",\"2021-08-26\",\"2021-08-27\"],\"xaxis\":\"x\",\"y\":[38,52,83,87,78,79,55,70,42,66,97,83,70,22,26,32,26,54,63,38,50,46,32,47,67,65,43,106,80,57,53,52,59,64,91,82,63,37,61,57,92,43,40,35,34,48,42,47,58,34,11,18,37,19,44,40,24,183,301,285,280,260,304,235,159,188,249,308,333,305,221,147,283,247,383,383,417,275,318,1562,478,809,603,489,328,220,305,428,470,538,474,319,250,563,852,562,567,551,581,378,546,459,500,431,371,326,264,479,617,753,561,426,485,279,361,529,917,1015,672,509,482,1185,1166,932,880,915,631,457,671,663,1459,493,298,841,472,704,676,639,654,691,161,310,469,796,867,636,691,716,575,402,468,619,395,282,242,322,225,760,1039,805,586,830,622,387,267,322,323,676,533,346,229,351,737,659,515,490,360,274,409,961,1315,743,48,236,286,230,179,421,684,421,451,518,328,217,353,296,316,321,444,375,164,289,299,407,453,425,331,334,685,531,443,624,483,326,351,530,553,884,525,813,372,220,279,410,501,403,423,283,241,551,449,444,475,175],\"yaxis\":\"y\"}],                        {\"barmode\":\"relative\",\"coloraxis\":{\"colorbar\":{\"title\":{\"text\":\"polarity\"}},\"colorscale\":[[0.0,\"#0d0887\"],[0.1111111111111111,\"#46039f\"],[0.2222222222222222,\"#7201a8\"],[0.3333333333333333,\"#9c179e\"],[0.4444444444444444,\"#bd3786\"],[0.5555555555555556,\"#d8576b\"],[0.6666666666666666,\"#ed7953\"],[0.7777777777777778,\"#fb9f3a\"],[0.8888888888888888,\"#fdca26\"],[1.0,\"#f0f921\"]]},\"legend\":{\"tracegroupgap\":0},\"margin\":{\"t\":60},\"template\":{\"data\":{\"bar\":[{\"error_x\":{\"color\":\"#2a3f5f\"},\"error_y\":{\"color\":\"#2a3f5f\"},\"marker\":{\"line\":{\"color\":\"#E5ECF6\",\"width\":0.5},\"pattern\":{\"fillmode\":\"overlay\",\"size\":10,\"solidity\":0.2}},\"type\":\"bar\"}],\"barpolar\":[{\"marker\":{\"line\":{\"color\":\"#E5ECF6\",\"width\":0.5},\"pattern\":{\"fillmode\":\"overlay\",\"size\":10,\"solidity\":0.2}},\"type\":\"barpolar\"}],\"carpet\":[{\"aaxis\":{\"endlinecolor\":\"#2a3f5f\",\"gridcolor\":\"white\",\"linecolor\":\"white\",\"minorgridcolor\":\"white\",\"startlinecolor\":\"#2a3f5f\"},\"baxis\":{\"endlinecolor\":\"#2a3f5f\",\"gridcolor\":\"white\",\"linecolor\":\"white\",\"minorgridcolor\":\"white\",\"startlinecolor\":\"#2a3f5f\"},\"type\":\"carpet\"}],\"choropleth\":[{\"colorbar\":{\"outlinewidth\":0,\"ticks\":\"\"},\"type\":\"choropleth\"}],\"contour\":[{\"colorbar\":{\"outlinewidth\":0,\"ticks\":\"\"},\"colorscale\":[[0.0,\"#0d0887\"],[0.1111111111111111,\"#46039f\"],[0.2222222222222222,\"#7201a8\"],[0.3333333333333333,\"#9c179e\"],[0.4444444444444444,\"#bd3786\"],[0.5555555555555556,\"#d8576b\"],[0.6666666666666666,\"#ed7953\"],[0.7777777777777778,\"#fb9f3a\"],[0.8888888888888888,\"#fdca26\"],[1.0,\"#f0f921\"]],\"type\":\"contour\"}],\"contourcarpet\":[{\"colorbar\":{\"outlinewidth\":0,\"ticks\":\"\"},\"type\":\"contourcarpet\"}],\"heatmap\":[{\"colorbar\":{\"outlinewidth\":0,\"ticks\":\"\"},\"colorscale\":[[0.0,\"#0d0887\"],[0.1111111111111111,\"#46039f\"],[0.2222222222222222,\"#7201a8\"],[0.3333333333333333,\"#9c179e\"],[0.4444444444444444,\"#bd3786\"],[0.5555555555555556,\"#d8576b\"],[0.6666666666666666,\"#ed7953\"],[0.7777777777777778,\"#fb9f3a\"],[0.8888888888888888,\"#fdca26\"],[1.0,\"#f0f921\"]],\"type\":\"heatmap\"}],\"heatmapgl\":[{\"colorbar\":{\"outlinewidth\":0,\"ticks\":\"\"},\"colorscale\":[[0.0,\"#0d0887\"],[0.1111111111111111,\"#46039f\"],[0.2222222222222222,\"#7201a8\"],[0.3333333333333333,\"#9c179e\"],[0.4444444444444444,\"#bd3786\"],[0.5555555555555556,\"#d8576b\"],[0.6666666666666666,\"#ed7953\"],[0.7777777777777778,\"#fb9f3a\"],[0.8888888888888888,\"#fdca26\"],[1.0,\"#f0f921\"]],\"type\":\"heatmapgl\"}],\"histogram\":[{\"marker\":{\"pattern\":{\"fillmode\":\"overlay\",\"size\":10,\"solidity\":0.2}},\"type\":\"histogram\"}],\"histogram2d\":[{\"colorbar\":{\"outlinewidth\":0,\"ticks\":\"\"},\"colorscale\":[[0.0,\"#0d0887\"],[0.1111111111111111,\"#46039f\"],[0.2222222222222222,\"#7201a8\"],[0.3333333333333333,\"#9c179e\"],[0.4444444444444444,\"#bd3786\"],[0.5555555555555556,\"#d8576b\"],[0.6666666666666666,\"#ed7953\"],[0.7777777777777778,\"#fb9f3a\"],[0.8888888888888888,\"#fdca26\"],[1.0,\"#f0f921\"]],\"type\":\"histogram2d\"}],\"histogram2dcontour\":[{\"colorbar\":{\"outlinewidth\":0,\"ticks\":\"\"},\"colorscale\":[[0.0,\"#0d0887\"],[0.1111111111111111,\"#46039f\"],[0.2222222222222222,\"#7201a8\"],[0.3333333333333333,\"#9c179e\"],[0.4444444444444444,\"#bd3786\"],[0.5555555555555556,\"#d8576b\"],[0.6666666666666666,\"#ed7953\"],[0.7777777777777778,\"#fb9f3a\"],[0.8888888888888888,\"#fdca26\"],[1.0,\"#f0f921\"]],\"type\":\"histogram2dcontour\"}],\"mesh3d\":[{\"colorbar\":{\"outlinewidth\":0,\"ticks\":\"\"},\"type\":\"mesh3d\"}],\"parcoords\":[{\"line\":{\"colorbar\":{\"outlinewidth\":0,\"ticks\":\"\"}},\"type\":\"parcoords\"}],\"pie\":[{\"automargin\":true,\"type\":\"pie\"}],\"scatter\":[{\"marker\":{\"colorbar\":{\"outlinewidth\":0,\"ticks\":\"\"}},\"type\":\"scatter\"}],\"scatter3d\":[{\"line\":{\"colorbar\":{\"outlinewidth\":0,\"ticks\":\"\"}},\"marker\":{\"colorbar\":{\"outlinewidth\":0,\"ticks\":\"\"}},\"type\":\"scatter3d\"}],\"scattercarpet\":[{\"marker\":{\"colorbar\":{\"outlinewidth\":0,\"ticks\":\"\"}},\"type\":\"scattercarpet\"}],\"scattergeo\":[{\"marker\":{\"colorbar\":{\"outlinewidth\":0,\"ticks\":\"\"}},\"type\":\"scattergeo\"}],\"scattergl\":[{\"marker\":{\"colorbar\":{\"outlinewidth\":0,\"ticks\":\"\"}},\"type\":\"scattergl\"}],\"scattermapbox\":[{\"marker\":{\"colorbar\":{\"outlinewidth\":0,\"ticks\":\"\"}},\"type\":\"scattermapbox\"}],\"scatterpolar\":[{\"marker\":{\"colorbar\":{\"outlinewidth\":0,\"ticks\":\"\"}},\"type\":\"scatterpolar\"}],\"scatterpolargl\":[{\"marker\":{\"colorbar\":{\"outlinewidth\":0,\"ticks\":\"\"}},\"type\":\"scatterpolargl\"}],\"scatterternary\":[{\"marker\":{\"colorbar\":{\"outlinewidth\":0,\"ticks\":\"\"}},\"type\":\"scatterternary\"}],\"surface\":[{\"colorbar\":{\"outlinewidth\":0,\"ticks\":\"\"},\"colorscale\":[[0.0,\"#0d0887\"],[0.1111111111111111,\"#46039f\"],[0.2222222222222222,\"#7201a8\"],[0.3333333333333333,\"#9c179e\"],[0.4444444444444444,\"#bd3786\"],[0.5555555555555556,\"#d8576b\"],[0.6666666666666666,\"#ed7953\"],[0.7777777777777778,\"#fb9f3a\"],[0.8888888888888888,\"#fdca26\"],[1.0,\"#f0f921\"]],\"type\":\"surface\"}],\"table\":[{\"cells\":{\"fill\":{\"color\":\"#EBF0F8\"},\"line\":{\"color\":\"white\"}},\"header\":{\"fill\":{\"color\":\"#C8D4E3\"},\"line\":{\"color\":\"white\"}},\"type\":\"table\"}]},\"layout\":{\"annotationdefaults\":{\"arrowcolor\":\"#2a3f5f\",\"arrowhead\":0,\"arrowwidth\":1},\"autotypenumbers\":\"strict\",\"coloraxis\":{\"colorbar\":{\"outlinewidth\":0,\"ticks\":\"\"}},\"colorscale\":{\"diverging\":[[0,\"#8e0152\"],[0.1,\"#c51b7d\"],[0.2,\"#de77ae\"],[0.3,\"#f1b6da\"],[0.4,\"#fde0ef\"],[0.5,\"#f7f7f7\"],[0.6,\"#e6f5d0\"],[0.7,\"#b8e186\"],[0.8,\"#7fbc41\"],[0.9,\"#4d9221\"],[1,\"#276419\"]],\"sequential\":[[0.0,\"#0d0887\"],[0.1111111111111111,\"#46039f\"],[0.2222222222222222,\"#7201a8\"],[0.3333333333333333,\"#9c179e\"],[0.4444444444444444,\"#bd3786\"],[0.5555555555555556,\"#d8576b\"],[0.6666666666666666,\"#ed7953\"],[0.7777777777777778,\"#fb9f3a\"],[0.8888888888888888,\"#fdca26\"],[1.0,\"#f0f921\"]],\"sequentialminus\":[[0.0,\"#0d0887\"],[0.1111111111111111,\"#46039f\"],[0.2222222222222222,\"#7201a8\"],[0.3333333333333333,\"#9c179e\"],[0.4444444444444444,\"#bd3786\"],[0.5555555555555556,\"#d8576b\"],[0.6666666666666666,\"#ed7953\"],[0.7777777777777778,\"#fb9f3a\"],[0.8888888888888888,\"#fdca26\"],[1.0,\"#f0f921\"]]},\"colorway\":[\"#636efa\",\"#EF553B\",\"#00cc96\",\"#ab63fa\",\"#FFA15A\",\"#19d3f3\",\"#FF6692\",\"#B6E880\",\"#FF97FF\",\"#FECB52\"],\"font\":{\"color\":\"#2a3f5f\"},\"geo\":{\"bgcolor\":\"white\",\"lakecolor\":\"white\",\"landcolor\":\"#E5ECF6\",\"showlakes\":true,\"showland\":true,\"subunitcolor\":\"white\"},\"hoverlabel\":{\"align\":\"left\"},\"hovermode\":\"closest\",\"mapbox\":{\"style\":\"light\"},\"paper_bgcolor\":\"white\",\"plot_bgcolor\":\"#E5ECF6\",\"polar\":{\"angularaxis\":{\"gridcolor\":\"white\",\"linecolor\":\"white\",\"ticks\":\"\"},\"bgcolor\":\"#E5ECF6\",\"radialaxis\":{\"gridcolor\":\"white\",\"linecolor\":\"white\",\"ticks\":\"\"}},\"scene\":{\"xaxis\":{\"backgroundcolor\":\"#E5ECF6\",\"gridcolor\":\"white\",\"gridwidth\":2,\"linecolor\":\"white\",\"showbackground\":true,\"ticks\":\"\",\"zerolinecolor\":\"white\"},\"yaxis\":{\"backgroundcolor\":\"#E5ECF6\",\"gridcolor\":\"white\",\"gridwidth\":2,\"linecolor\":\"white\",\"showbackground\":true,\"ticks\":\"\",\"zerolinecolor\":\"white\"},\"zaxis\":{\"backgroundcolor\":\"#E5ECF6\",\"gridcolor\":\"white\",\"gridwidth\":2,\"linecolor\":\"white\",\"showbackground\":true,\"ticks\":\"\",\"zerolinecolor\":\"white\"}},\"shapedefaults\":{\"line\":{\"color\":\"#2a3f5f\"}},\"ternary\":{\"aaxis\":{\"gridcolor\":\"white\",\"linecolor\":\"white\",\"ticks\":\"\"},\"baxis\":{\"gridcolor\":\"white\",\"linecolor\":\"white\",\"ticks\":\"\"},\"bgcolor\":\"#E5ECF6\",\"caxis\":{\"gridcolor\":\"white\",\"linecolor\":\"white\",\"ticks\":\"\"}},\"title\":{\"x\":0.05},\"xaxis\":{\"automargin\":true,\"gridcolor\":\"white\",\"linecolor\":\"white\",\"ticks\":\"\",\"title\":{\"standoff\":15},\"zerolinecolor\":\"white\",\"zerolinewidth\":2},\"yaxis\":{\"automargin\":true,\"gridcolor\":\"white\",\"linecolor\":\"white\",\"ticks\":\"\",\"title\":{\"standoff\":15},\"zerolinecolor\":\"white\",\"zerolinewidth\":2}}},\"xaxis\":{\"anchor\":\"y\",\"domain\":[0.0,1.0],\"title\":{\"text\":\"date\"}},\"yaxis\":{\"anchor\":\"x\",\"domain\":[0.0,1.0],\"title\":{\"text\":\"count\"}}},                        {\"responsive\": true}                    ).then(function(){\n",
       "                            \n",
       "var gd = document.getElementById('9ce8021e-c83c-45b8-8a8e-7462bdd064ef');\n",
       "var x = new MutationObserver(function (mutations, observer) {{\n",
       "        var display = window.getComputedStyle(gd).display;\n",
       "        if (!display || display === 'none') {{\n",
       "            console.log([gd, 'removed!']);\n",
       "            Plotly.purge(gd);\n",
       "            observer.disconnect();\n",
       "        }}\n",
       "}});\n",
       "\n",
       "// Listen for the removal of the full notebook cells\n",
       "var notebookContainer = gd.closest('#notebook-container');\n",
       "if (notebookContainer) {{\n",
       "    x.observe(notebookContainer, {childList: true});\n",
       "}}\n",
       "\n",
       "// Listen for the clearing of the current output cell\n",
       "var outputEl = gd.closest('.output');\n",
       "if (outputEl) {{\n",
       "    x.observe(outputEl, {childList: true});\n",
       "}}\n",
       "\n",
       "                        })                };                });            </script>        </div>"
      ]
     },
     "metadata": {},
     "output_type": "display_data"
    }
   ],
   "source": [
    "# Plot tweets over time, color-coded by average polarity score\n",
    "fig = px.bar(timeline, x='date', y='count', color='polarity')\n",
    "fig.show()"
   ]
  },
  {
   "cell_type": "code",
   "execution_count": 124,
   "metadata": {
    "ExecuteTime": {
     "end_time": "2021-03-22T18:45:20.054035Z",
     "start_time": "2021-03-22T18:45:19.959552Z"
    }
   },
   "outputs": [
    {
     "data": {
      "application/vnd.plotly.v1+json": {
       "config": {
        "plotlyServerURL": "https://plot.ly"
       },
       "data": [
        {
         "alignmentgroup": "True",
         "hovertemplate": "date=%{x}<br>count=%{y}<br>subjectivity=%{marker.color}<extra></extra>",
         "legendgroup": "",
         "marker": {
          "color": [
           0.22780103668261562,
           0.25569638694638697,
           0.26780303030303027,
           0.2580782994145062,
           0.24887161449661446,
           0.2637801158054322,
           0.21274262101534822,
           0.28275300625300626,
           0.2981547619047619,
           0.24751905417814507,
           0.2933502303347663,
           0.26317369043272654,
           0.31065630797773647,
           0.31649449035812677,
           0.3342948717948718,
           0.24076704545454544,
           0.29202991452991456,
           0.2416517823740046,
           0.3047804576376004,
           0.28244180527075263,
           0.18960966810966812,
           0.28119565217391307,
           0.26453373015873016,
           0.1751327868349145,
           0.2523424543946932,
           0.28119669219669224,
           0.23486610288935872,
           0.33840243744724874,
           0.2801573698292448,
           0.24235372327477595,
           0.25194539736992566,
           0.27170024420024425,
           0.35619668231956375,
           0.2686288104256855,
           0.3137849253920682,
           0.26211404110794356,
           0.21540444123777458,
           0.37932437307437306,
           0.24112021857923496,
           0.29114642667274243,
           0.2691065938892025,
           0.3147794389073459,
           0.3567234848484848,
           0.29452380952380947,
           0.300506748153807,
           0.2236485013828764,
           0.224541761148904,
           0.3265086273064996,
           0.33831809474050856,
           0.4021057210763093,
           0.18081955922865012,
           0.1587962962962963,
           0.2667337792337792,
           0.17523923444976078,
           0.3356720615243342,
           0.19559027777777777,
           0.29317129629629635,
           0.26560907747383156,
           0.2775967514090437,
           0.24513097769676703,
           0.24715419286401433,
           0.30603667913283294,
           0.24781093358395997,
           0.2844257775321605,
           0.31186634993238765,
           0.27146002195204294,
           0.2261148924703142,
           0.2655313923089896,
           0.2465049194215861,
           0.2919676358856688,
           0.27185766973097286,
           0.2608778258778259,
           0.23234708263860207,
           0.2601159853791433,
           0.2774437069313048,
           0.28415425076325856,
           0.2743979188943217,
           0.2267699374699374,
           0.23111199975193697,
           0.25599571295233897,
           0.2944475940919453,
           0.2650035337550792,
           0.2509970399663602,
           0.2710675259755013,
           0.25676456969521005,
           0.3012612324544143,
           0.2522519003461627,
           0.26350454787078603,
           0.24493373655501297,
           0.2536299247358727,
           0.25566345213233377,
           0.2880632794582639,
           0.27404993265993255,
           0.28867041944306604,
           0.27873807590210187,
           0.26006134731223723,
           0.3096668745390088,
           0.27644079193307886,
           0.2896373755173243,
           0.28043105593700857,
           0.29618470374422723,
           0.29531481193300346,
           0.29165825697450715,
           0.2746387050476379,
           0.2746765482446077,
           0.27978096957008,
           0.29445562451717755,
           0.30546711711508173,
           0.27569481279570446,
           0.26898195976715233,
           0.26840292299962537,
           0.23963879940699187,
           0.2949622333565632,
           0.2758069946779623,
           0.27101385674446626,
           0.2558054575823953,
           0.27012432315049534,
           0.28535482202135987,
           0.27611959255746454,
           0.24896739393546846,
           0.267472125173889,
           0.2273404295111046,
           0.2582851126225913,
           0.25771122093412896,
           0.2587318326664909,
           0.28262528222637484,
           0.2875740480098642,
           0.28886738935754236,
           0.26807670809347395,
           0.2379209968010876,
           0.27759021260452027,
           0.2685664604909026,
           0.2460030357723313,
           0.2380014401417494,
           0.24558453659883742,
           0.27233235954649326,
           0.24295257380686378,
           0.24140035781467692,
           0.2528631374005992,
           0.2374328295384737,
           0.21269189230369354,
           0.2781832005807813,
           0.3198737090714709,
           0.27423867601317337,
           0.31105545922529815,
           0.27866045336564205,
           0.24863004267400085,
           0.24839071232925983,
           0.25429366285888,
           0.27201404610453106,
           0.2495580307038642,
           0.22386205407408974,
           0.23246093697675976,
           0.23052618972831737,
           0.246014774367047,
           0.2296665337193286,
           0.2586762546095879,
           0.24190842819461258,
           0.2678418040448843,
           0.27375739908814456,
           0.23897366490796537,
           0.23813165025514427,
           0.23517134303709872,
           0.26220308533939035,
           0.21959876577854107,
           0.2790411714751776,
           0.24765025909762745,
           0.2064591658341657,
           0.23114256001451117,
           0.22271794679309134,
           0.22713850923457915,
           0.22853880344621097,
           0.2803901886720749,
           0.2511130663160253,
           0.2350767425670338,
           0.23948387912163432,
           0.2708785056250335,
           0.2451263877039424,
           0.24264982826871584,
           0.26790818293549845,
           0.31943639109798866,
           0.2746643442109465,
           0.22705815596440593,
           0.29465942720179994,
           0.2643824862006678,
           0.2523358860342557,
           0.27370500361422134,
           0.2708922530359586,
           0.2376235905501262,
           0.2903581437696642,
           0.2636193379790942,
           0.2599039577611007,
           0.26731978319783195,
           0.2494385178313749,
           0.29965717985193874,
           0.3269196225446224,
           0.2930504867846641,
           0.3050771286518952,
           0.28419618075868075,
           0.2589240901074235,
           0.29014862254953694,
           0.2823254355218024,
           0.28299159777420646,
           0.29622014281105213,
           0.24433821288677812,
           0.29970248988484305,
           0.2857966970089329,
           0.27210539970120806,
           0.3442143520847912,
           0.32274652633409795,
           0.292501247289622,
           0.3024845999204984,
           0.29887273201455444,
           0.27715092103704064,
           0.3253591002487012,
           0.3058336146732383,
           0.2645765499653388,
           0.27323689885822283,
           0.31447812822098653,
           0.40510054105841004,
           0.35552177884839237,
           0.3431328217237304,
           0.30289007264141693,
           0.28927847728152634,
           0.29161481030243575,
           0.31353226075000257,
           0.3208932139133091,
           0.3114443487411686,
           0.299002896980075,
           0.3162179547615128,
           0.2976217673071794,
           0.2615608898942234,
           0.21142103364471804,
           0.2961824537895962
          ],
          "coloraxis": "coloraxis",
          "pattern": {
           "shape": ""
          }
         },
         "name": "",
         "offsetgroup": "",
         "orientation": "v",
         "showlegend": false,
         "textposition": "auto",
         "type": "bar",
         "x": [
          "2020-12-12",
          "2020-12-13",
          "2020-12-14",
          "2020-12-15",
          "2020-12-16",
          "2020-12-17",
          "2020-12-18",
          "2020-12-19",
          "2020-12-20",
          "2020-12-21",
          "2020-12-22",
          "2020-12-23",
          "2020-12-24",
          "2020-12-25",
          "2020-12-26",
          "2020-12-27",
          "2020-12-28",
          "2020-12-29",
          "2020-12-30",
          "2020-12-31",
          "2021-01-01",
          "2021-01-02",
          "2021-01-03",
          "2021-01-04",
          "2021-01-05",
          "2021-01-06",
          "2021-01-07",
          "2021-01-08",
          "2021-01-09",
          "2021-01-10",
          "2021-01-11",
          "2021-01-12",
          "2021-01-13",
          "2021-01-14",
          "2021-01-15",
          "2021-01-16",
          "2021-01-17",
          "2021-01-18",
          "2021-01-19",
          "2021-01-20",
          "2021-01-21",
          "2021-01-22",
          "2021-01-23",
          "2021-01-24",
          "2021-01-25",
          "2021-01-26",
          "2021-01-27",
          "2021-01-28",
          "2021-01-29",
          "2021-01-30",
          "2021-01-31",
          "2021-02-01",
          "2021-02-02",
          "2021-02-03",
          "2021-02-04",
          "2021-02-05",
          "2021-02-06",
          "2021-02-07",
          "2021-02-08",
          "2021-02-09",
          "2021-02-10",
          "2021-02-11",
          "2021-02-12",
          "2021-02-13",
          "2021-02-14",
          "2021-02-15",
          "2021-02-16",
          "2021-02-17",
          "2021-02-18",
          "2021-02-19",
          "2021-02-20",
          "2021-02-21",
          "2021-02-22",
          "2021-02-23",
          "2021-02-24",
          "2021-02-25",
          "2021-02-26",
          "2021-02-27",
          "2021-02-28",
          "2021-03-01",
          "2021-03-02",
          "2021-03-03",
          "2021-03-04",
          "2021-03-05",
          "2021-03-06",
          "2021-03-07",
          "2021-03-08",
          "2021-03-09",
          "2021-03-10",
          "2021-03-11",
          "2021-03-12",
          "2021-03-13",
          "2021-03-14",
          "2021-03-15",
          "2021-03-16",
          "2021-03-17",
          "2021-03-18",
          "2021-03-19",
          "2021-03-20",
          "2021-03-21",
          "2021-03-22",
          "2021-03-23",
          "2021-03-24",
          "2021-03-25",
          "2021-03-26",
          "2021-03-27",
          "2021-03-28",
          "2021-03-29",
          "2021-03-30",
          "2021-03-31",
          "2021-04-01",
          "2021-04-02",
          "2021-04-03",
          "2021-04-04",
          "2021-04-05",
          "2021-04-06",
          "2021-04-07",
          "2021-04-08",
          "2021-04-09",
          "2021-04-10",
          "2021-04-11",
          "2021-04-12",
          "2021-04-13",
          "2021-04-14",
          "2021-04-15",
          "2021-04-16",
          "2021-04-17",
          "2021-04-18",
          "2021-04-19",
          "2021-04-20",
          "2021-04-21",
          "2021-04-22",
          "2021-05-13",
          "2021-05-14",
          "2021-05-15",
          "2021-05-16",
          "2021-05-17",
          "2021-05-18",
          "2021-05-19",
          "2021-05-20",
          "2021-05-21",
          "2021-05-22",
          "2021-05-23",
          "2021-05-24",
          "2021-05-25",
          "2021-05-26",
          "2021-05-27",
          "2021-05-28",
          "2021-05-29",
          "2021-05-30",
          "2021-05-31",
          "2021-06-01",
          "2021-06-02",
          "2021-06-03",
          "2021-06-04",
          "2021-06-05",
          "2021-06-06",
          "2021-06-07",
          "2021-06-08",
          "2021-06-09",
          "2021-06-10",
          "2021-06-11",
          "2021-06-12",
          "2021-06-13",
          "2021-06-14",
          "2021-06-15",
          "2021-06-16",
          "2021-06-17",
          "2021-06-18",
          "2021-06-19",
          "2021-06-20",
          "2021-06-21",
          "2021-06-22",
          "2021-06-23",
          "2021-06-24",
          "2021-06-25",
          "2021-06-26",
          "2021-06-27",
          "2021-06-28",
          "2021-06-29",
          "2021-06-30",
          "2021-07-01",
          "2021-07-07",
          "2021-07-08",
          "2021-07-09",
          "2021-07-10",
          "2021-07-11",
          "2021-07-12",
          "2021-07-13",
          "2021-07-14",
          "2021-07-15",
          "2021-07-16",
          "2021-07-17",
          "2021-07-18",
          "2021-07-19",
          "2021-07-20",
          "2021-07-21",
          "2021-07-22",
          "2021-07-23",
          "2021-07-24",
          "2021-07-25",
          "2021-07-26",
          "2021-07-27",
          "2021-07-28",
          "2021-07-29",
          "2021-07-30",
          "2021-07-31",
          "2021-08-01",
          "2021-08-02",
          "2021-08-03",
          "2021-08-04",
          "2021-08-05",
          "2021-08-06",
          "2021-08-07",
          "2021-08-08",
          "2021-08-09",
          "2021-08-10",
          "2021-08-11",
          "2021-08-12",
          "2021-08-13",
          "2021-08-14",
          "2021-08-15",
          "2021-08-16",
          "2021-08-17",
          "2021-08-18",
          "2021-08-19",
          "2021-08-20",
          "2021-08-21",
          "2021-08-22",
          "2021-08-23",
          "2021-08-24",
          "2021-08-25",
          "2021-08-26",
          "2021-08-27"
         ],
         "xaxis": "x",
         "y": [
          38,
          52,
          83,
          87,
          78,
          79,
          55,
          70,
          42,
          66,
          97,
          83,
          70,
          22,
          26,
          32,
          26,
          54,
          63,
          38,
          50,
          46,
          32,
          47,
          67,
          65,
          43,
          106,
          80,
          57,
          53,
          52,
          59,
          64,
          91,
          82,
          63,
          37,
          61,
          57,
          92,
          43,
          40,
          35,
          34,
          48,
          42,
          47,
          58,
          34,
          11,
          18,
          37,
          19,
          44,
          40,
          24,
          183,
          301,
          285,
          280,
          260,
          304,
          235,
          159,
          188,
          249,
          308,
          333,
          305,
          221,
          147,
          283,
          247,
          383,
          383,
          417,
          275,
          318,
          1562,
          478,
          809,
          603,
          489,
          328,
          220,
          305,
          428,
          470,
          538,
          474,
          319,
          250,
          563,
          852,
          562,
          567,
          551,
          581,
          378,
          546,
          459,
          500,
          431,
          371,
          326,
          264,
          479,
          617,
          753,
          561,
          426,
          485,
          279,
          361,
          529,
          917,
          1015,
          672,
          509,
          482,
          1185,
          1166,
          932,
          880,
          915,
          631,
          457,
          671,
          663,
          1459,
          493,
          298,
          841,
          472,
          704,
          676,
          639,
          654,
          691,
          161,
          310,
          469,
          796,
          867,
          636,
          691,
          716,
          575,
          402,
          468,
          619,
          395,
          282,
          242,
          322,
          225,
          760,
          1039,
          805,
          586,
          830,
          622,
          387,
          267,
          322,
          323,
          676,
          533,
          346,
          229,
          351,
          737,
          659,
          515,
          490,
          360,
          274,
          409,
          961,
          1315,
          743,
          48,
          236,
          286,
          230,
          179,
          421,
          684,
          421,
          451,
          518,
          328,
          217,
          353,
          296,
          316,
          321,
          444,
          375,
          164,
          289,
          299,
          407,
          453,
          425,
          331,
          334,
          685,
          531,
          443,
          624,
          483,
          326,
          351,
          530,
          553,
          884,
          525,
          813,
          372,
          220,
          279,
          410,
          501,
          403,
          423,
          283,
          241,
          551,
          449,
          444,
          475,
          175
         ],
         "yaxis": "y"
        }
       ],
       "layout": {
        "barmode": "relative",
        "coloraxis": {
         "colorbar": {
          "title": {
           "text": "subjectivity"
          }
         },
         "colorscale": [
          [
           0,
           "#0d0887"
          ],
          [
           0.1111111111111111,
           "#46039f"
          ],
          [
           0.2222222222222222,
           "#7201a8"
          ],
          [
           0.3333333333333333,
           "#9c179e"
          ],
          [
           0.4444444444444444,
           "#bd3786"
          ],
          [
           0.5555555555555556,
           "#d8576b"
          ],
          [
           0.6666666666666666,
           "#ed7953"
          ],
          [
           0.7777777777777778,
           "#fb9f3a"
          ],
          [
           0.8888888888888888,
           "#fdca26"
          ],
          [
           1,
           "#f0f921"
          ]
         ]
        },
        "legend": {
         "tracegroupgap": 0
        },
        "margin": {
         "t": 60
        },
        "template": {
         "data": {
          "bar": [
           {
            "error_x": {
             "color": "#2a3f5f"
            },
            "error_y": {
             "color": "#2a3f5f"
            },
            "marker": {
             "line": {
              "color": "#E5ECF6",
              "width": 0.5
             },
             "pattern": {
              "fillmode": "overlay",
              "size": 10,
              "solidity": 0.2
             }
            },
            "type": "bar"
           }
          ],
          "barpolar": [
           {
            "marker": {
             "line": {
              "color": "#E5ECF6",
              "width": 0.5
             },
             "pattern": {
              "fillmode": "overlay",
              "size": 10,
              "solidity": 0.2
             }
            },
            "type": "barpolar"
           }
          ],
          "carpet": [
           {
            "aaxis": {
             "endlinecolor": "#2a3f5f",
             "gridcolor": "white",
             "linecolor": "white",
             "minorgridcolor": "white",
             "startlinecolor": "#2a3f5f"
            },
            "baxis": {
             "endlinecolor": "#2a3f5f",
             "gridcolor": "white",
             "linecolor": "white",
             "minorgridcolor": "white",
             "startlinecolor": "#2a3f5f"
            },
            "type": "carpet"
           }
          ],
          "choropleth": [
           {
            "colorbar": {
             "outlinewidth": 0,
             "ticks": ""
            },
            "type": "choropleth"
           }
          ],
          "contour": [
           {
            "colorbar": {
             "outlinewidth": 0,
             "ticks": ""
            },
            "colorscale": [
             [
              0,
              "#0d0887"
             ],
             [
              0.1111111111111111,
              "#46039f"
             ],
             [
              0.2222222222222222,
              "#7201a8"
             ],
             [
              0.3333333333333333,
              "#9c179e"
             ],
             [
              0.4444444444444444,
              "#bd3786"
             ],
             [
              0.5555555555555556,
              "#d8576b"
             ],
             [
              0.6666666666666666,
              "#ed7953"
             ],
             [
              0.7777777777777778,
              "#fb9f3a"
             ],
             [
              0.8888888888888888,
              "#fdca26"
             ],
             [
              1,
              "#f0f921"
             ]
            ],
            "type": "contour"
           }
          ],
          "contourcarpet": [
           {
            "colorbar": {
             "outlinewidth": 0,
             "ticks": ""
            },
            "type": "contourcarpet"
           }
          ],
          "heatmap": [
           {
            "colorbar": {
             "outlinewidth": 0,
             "ticks": ""
            },
            "colorscale": [
             [
              0,
              "#0d0887"
             ],
             [
              0.1111111111111111,
              "#46039f"
             ],
             [
              0.2222222222222222,
              "#7201a8"
             ],
             [
              0.3333333333333333,
              "#9c179e"
             ],
             [
              0.4444444444444444,
              "#bd3786"
             ],
             [
              0.5555555555555556,
              "#d8576b"
             ],
             [
              0.6666666666666666,
              "#ed7953"
             ],
             [
              0.7777777777777778,
              "#fb9f3a"
             ],
             [
              0.8888888888888888,
              "#fdca26"
             ],
             [
              1,
              "#f0f921"
             ]
            ],
            "type": "heatmap"
           }
          ],
          "heatmapgl": [
           {
            "colorbar": {
             "outlinewidth": 0,
             "ticks": ""
            },
            "colorscale": [
             [
              0,
              "#0d0887"
             ],
             [
              0.1111111111111111,
              "#46039f"
             ],
             [
              0.2222222222222222,
              "#7201a8"
             ],
             [
              0.3333333333333333,
              "#9c179e"
             ],
             [
              0.4444444444444444,
              "#bd3786"
             ],
             [
              0.5555555555555556,
              "#d8576b"
             ],
             [
              0.6666666666666666,
              "#ed7953"
             ],
             [
              0.7777777777777778,
              "#fb9f3a"
             ],
             [
              0.8888888888888888,
              "#fdca26"
             ],
             [
              1,
              "#f0f921"
             ]
            ],
            "type": "heatmapgl"
           }
          ],
          "histogram": [
           {
            "marker": {
             "pattern": {
              "fillmode": "overlay",
              "size": 10,
              "solidity": 0.2
             }
            },
            "type": "histogram"
           }
          ],
          "histogram2d": [
           {
            "colorbar": {
             "outlinewidth": 0,
             "ticks": ""
            },
            "colorscale": [
             [
              0,
              "#0d0887"
             ],
             [
              0.1111111111111111,
              "#46039f"
             ],
             [
              0.2222222222222222,
              "#7201a8"
             ],
             [
              0.3333333333333333,
              "#9c179e"
             ],
             [
              0.4444444444444444,
              "#bd3786"
             ],
             [
              0.5555555555555556,
              "#d8576b"
             ],
             [
              0.6666666666666666,
              "#ed7953"
             ],
             [
              0.7777777777777778,
              "#fb9f3a"
             ],
             [
              0.8888888888888888,
              "#fdca26"
             ],
             [
              1,
              "#f0f921"
             ]
            ],
            "type": "histogram2d"
           }
          ],
          "histogram2dcontour": [
           {
            "colorbar": {
             "outlinewidth": 0,
             "ticks": ""
            },
            "colorscale": [
             [
              0,
              "#0d0887"
             ],
             [
              0.1111111111111111,
              "#46039f"
             ],
             [
              0.2222222222222222,
              "#7201a8"
             ],
             [
              0.3333333333333333,
              "#9c179e"
             ],
             [
              0.4444444444444444,
              "#bd3786"
             ],
             [
              0.5555555555555556,
              "#d8576b"
             ],
             [
              0.6666666666666666,
              "#ed7953"
             ],
             [
              0.7777777777777778,
              "#fb9f3a"
             ],
             [
              0.8888888888888888,
              "#fdca26"
             ],
             [
              1,
              "#f0f921"
             ]
            ],
            "type": "histogram2dcontour"
           }
          ],
          "mesh3d": [
           {
            "colorbar": {
             "outlinewidth": 0,
             "ticks": ""
            },
            "type": "mesh3d"
           }
          ],
          "parcoords": [
           {
            "line": {
             "colorbar": {
              "outlinewidth": 0,
              "ticks": ""
             }
            },
            "type": "parcoords"
           }
          ],
          "pie": [
           {
            "automargin": true,
            "type": "pie"
           }
          ],
          "scatter": [
           {
            "marker": {
             "colorbar": {
              "outlinewidth": 0,
              "ticks": ""
             }
            },
            "type": "scatter"
           }
          ],
          "scatter3d": [
           {
            "line": {
             "colorbar": {
              "outlinewidth": 0,
              "ticks": ""
             }
            },
            "marker": {
             "colorbar": {
              "outlinewidth": 0,
              "ticks": ""
             }
            },
            "type": "scatter3d"
           }
          ],
          "scattercarpet": [
           {
            "marker": {
             "colorbar": {
              "outlinewidth": 0,
              "ticks": ""
             }
            },
            "type": "scattercarpet"
           }
          ],
          "scattergeo": [
           {
            "marker": {
             "colorbar": {
              "outlinewidth": 0,
              "ticks": ""
             }
            },
            "type": "scattergeo"
           }
          ],
          "scattergl": [
           {
            "marker": {
             "colorbar": {
              "outlinewidth": 0,
              "ticks": ""
             }
            },
            "type": "scattergl"
           }
          ],
          "scattermapbox": [
           {
            "marker": {
             "colorbar": {
              "outlinewidth": 0,
              "ticks": ""
             }
            },
            "type": "scattermapbox"
           }
          ],
          "scatterpolar": [
           {
            "marker": {
             "colorbar": {
              "outlinewidth": 0,
              "ticks": ""
             }
            },
            "type": "scatterpolar"
           }
          ],
          "scatterpolargl": [
           {
            "marker": {
             "colorbar": {
              "outlinewidth": 0,
              "ticks": ""
             }
            },
            "type": "scatterpolargl"
           }
          ],
          "scatterternary": [
           {
            "marker": {
             "colorbar": {
              "outlinewidth": 0,
              "ticks": ""
             }
            },
            "type": "scatterternary"
           }
          ],
          "surface": [
           {
            "colorbar": {
             "outlinewidth": 0,
             "ticks": ""
            },
            "colorscale": [
             [
              0,
              "#0d0887"
             ],
             [
              0.1111111111111111,
              "#46039f"
             ],
             [
              0.2222222222222222,
              "#7201a8"
             ],
             [
              0.3333333333333333,
              "#9c179e"
             ],
             [
              0.4444444444444444,
              "#bd3786"
             ],
             [
              0.5555555555555556,
              "#d8576b"
             ],
             [
              0.6666666666666666,
              "#ed7953"
             ],
             [
              0.7777777777777778,
              "#fb9f3a"
             ],
             [
              0.8888888888888888,
              "#fdca26"
             ],
             [
              1,
              "#f0f921"
             ]
            ],
            "type": "surface"
           }
          ],
          "table": [
           {
            "cells": {
             "fill": {
              "color": "#EBF0F8"
             },
             "line": {
              "color": "white"
             }
            },
            "header": {
             "fill": {
              "color": "#C8D4E3"
             },
             "line": {
              "color": "white"
             }
            },
            "type": "table"
           }
          ]
         },
         "layout": {
          "annotationdefaults": {
           "arrowcolor": "#2a3f5f",
           "arrowhead": 0,
           "arrowwidth": 1
          },
          "autotypenumbers": "strict",
          "coloraxis": {
           "colorbar": {
            "outlinewidth": 0,
            "ticks": ""
           }
          },
          "colorscale": {
           "diverging": [
            [
             0,
             "#8e0152"
            ],
            [
             0.1,
             "#c51b7d"
            ],
            [
             0.2,
             "#de77ae"
            ],
            [
             0.3,
             "#f1b6da"
            ],
            [
             0.4,
             "#fde0ef"
            ],
            [
             0.5,
             "#f7f7f7"
            ],
            [
             0.6,
             "#e6f5d0"
            ],
            [
             0.7,
             "#b8e186"
            ],
            [
             0.8,
             "#7fbc41"
            ],
            [
             0.9,
             "#4d9221"
            ],
            [
             1,
             "#276419"
            ]
           ],
           "sequential": [
            [
             0,
             "#0d0887"
            ],
            [
             0.1111111111111111,
             "#46039f"
            ],
            [
             0.2222222222222222,
             "#7201a8"
            ],
            [
             0.3333333333333333,
             "#9c179e"
            ],
            [
             0.4444444444444444,
             "#bd3786"
            ],
            [
             0.5555555555555556,
             "#d8576b"
            ],
            [
             0.6666666666666666,
             "#ed7953"
            ],
            [
             0.7777777777777778,
             "#fb9f3a"
            ],
            [
             0.8888888888888888,
             "#fdca26"
            ],
            [
             1,
             "#f0f921"
            ]
           ],
           "sequentialminus": [
            [
             0,
             "#0d0887"
            ],
            [
             0.1111111111111111,
             "#46039f"
            ],
            [
             0.2222222222222222,
             "#7201a8"
            ],
            [
             0.3333333333333333,
             "#9c179e"
            ],
            [
             0.4444444444444444,
             "#bd3786"
            ],
            [
             0.5555555555555556,
             "#d8576b"
            ],
            [
             0.6666666666666666,
             "#ed7953"
            ],
            [
             0.7777777777777778,
             "#fb9f3a"
            ],
            [
             0.8888888888888888,
             "#fdca26"
            ],
            [
             1,
             "#f0f921"
            ]
           ]
          },
          "colorway": [
           "#636efa",
           "#EF553B",
           "#00cc96",
           "#ab63fa",
           "#FFA15A",
           "#19d3f3",
           "#FF6692",
           "#B6E880",
           "#FF97FF",
           "#FECB52"
          ],
          "font": {
           "color": "#2a3f5f"
          },
          "geo": {
           "bgcolor": "white",
           "lakecolor": "white",
           "landcolor": "#E5ECF6",
           "showlakes": true,
           "showland": true,
           "subunitcolor": "white"
          },
          "hoverlabel": {
           "align": "left"
          },
          "hovermode": "closest",
          "mapbox": {
           "style": "light"
          },
          "paper_bgcolor": "white",
          "plot_bgcolor": "#E5ECF6",
          "polar": {
           "angularaxis": {
            "gridcolor": "white",
            "linecolor": "white",
            "ticks": ""
           },
           "bgcolor": "#E5ECF6",
           "radialaxis": {
            "gridcolor": "white",
            "linecolor": "white",
            "ticks": ""
           }
          },
          "scene": {
           "xaxis": {
            "backgroundcolor": "#E5ECF6",
            "gridcolor": "white",
            "gridwidth": 2,
            "linecolor": "white",
            "showbackground": true,
            "ticks": "",
            "zerolinecolor": "white"
           },
           "yaxis": {
            "backgroundcolor": "#E5ECF6",
            "gridcolor": "white",
            "gridwidth": 2,
            "linecolor": "white",
            "showbackground": true,
            "ticks": "",
            "zerolinecolor": "white"
           },
           "zaxis": {
            "backgroundcolor": "#E5ECF6",
            "gridcolor": "white",
            "gridwidth": 2,
            "linecolor": "white",
            "showbackground": true,
            "ticks": "",
            "zerolinecolor": "white"
           }
          },
          "shapedefaults": {
           "line": {
            "color": "#2a3f5f"
           }
          },
          "ternary": {
           "aaxis": {
            "gridcolor": "white",
            "linecolor": "white",
            "ticks": ""
           },
           "baxis": {
            "gridcolor": "white",
            "linecolor": "white",
            "ticks": ""
           },
           "bgcolor": "#E5ECF6",
           "caxis": {
            "gridcolor": "white",
            "linecolor": "white",
            "ticks": ""
           }
          },
          "title": {
           "x": 0.05
          },
          "xaxis": {
           "automargin": true,
           "gridcolor": "white",
           "linecolor": "white",
           "ticks": "",
           "title": {
            "standoff": 15
           },
           "zerolinecolor": "white",
           "zerolinewidth": 2
          },
          "yaxis": {
           "automargin": true,
           "gridcolor": "white",
           "linecolor": "white",
           "ticks": "",
           "title": {
            "standoff": 15
           },
           "zerolinecolor": "white",
           "zerolinewidth": 2
          }
         }
        },
        "xaxis": {
         "anchor": "y",
         "domain": [
          0,
          1
         ],
         "title": {
          "text": "date"
         }
        },
        "yaxis": {
         "anchor": "x",
         "domain": [
          0,
          1
         ],
         "title": {
          "text": "count"
         }
        }
       }
      },
      "text/html": [
       "<div>                            <div id=\"4f819fe0-c543-400c-badf-b089e7df547b\" class=\"plotly-graph-div\" style=\"height:525px; width:100%;\"></div>            <script type=\"text/javascript\">                require([\"plotly\"], function(Plotly) {                    window.PLOTLYENV=window.PLOTLYENV || {};                                    if (document.getElementById(\"4f819fe0-c543-400c-badf-b089e7df547b\")) {                    Plotly.newPlot(                        \"4f819fe0-c543-400c-badf-b089e7df547b\",                        [{\"alignmentgroup\":\"True\",\"hovertemplate\":\"date=%{x}<br>count=%{y}<br>subjectivity=%{marker.color}<extra></extra>\",\"legendgroup\":\"\",\"marker\":{\"color\":[0.22780103668261562,0.25569638694638697,0.26780303030303027,0.2580782994145062,0.24887161449661446,0.2637801158054322,0.21274262101534822,0.28275300625300626,0.2981547619047619,0.24751905417814507,0.2933502303347663,0.26317369043272654,0.31065630797773647,0.31649449035812677,0.3342948717948718,0.24076704545454544,0.29202991452991456,0.2416517823740046,0.3047804576376004,0.28244180527075263,0.18960966810966812,0.28119565217391307,0.26453373015873016,0.1751327868349145,0.2523424543946932,0.28119669219669224,0.23486610288935872,0.33840243744724874,0.2801573698292448,0.24235372327477595,0.25194539736992566,0.27170024420024425,0.35619668231956375,0.2686288104256855,0.3137849253920682,0.26211404110794356,0.21540444123777458,0.37932437307437306,0.24112021857923496,0.29114642667274243,0.2691065938892025,0.3147794389073459,0.3567234848484848,0.29452380952380947,0.300506748153807,0.2236485013828764,0.224541761148904,0.3265086273064996,0.33831809474050856,0.4021057210763093,0.18081955922865012,0.1587962962962963,0.2667337792337792,0.17523923444976078,0.3356720615243342,0.19559027777777777,0.29317129629629635,0.26560907747383156,0.2775967514090437,0.24513097769676703,0.24715419286401433,0.30603667913283294,0.24781093358395997,0.2844257775321605,0.31186634993238765,0.27146002195204294,0.2261148924703142,0.2655313923089896,0.2465049194215861,0.2919676358856688,0.27185766973097286,0.2608778258778259,0.23234708263860207,0.2601159853791433,0.2774437069313048,0.28415425076325856,0.2743979188943217,0.2267699374699374,0.23111199975193697,0.25599571295233897,0.2944475940919453,0.2650035337550792,0.2509970399663602,0.2710675259755013,0.25676456969521005,0.3012612324544143,0.2522519003461627,0.26350454787078603,0.24493373655501297,0.2536299247358727,0.25566345213233377,0.2880632794582639,0.27404993265993255,0.28867041944306604,0.27873807590210187,0.26006134731223723,0.3096668745390088,0.27644079193307886,0.2896373755173243,0.28043105593700857,0.29618470374422723,0.29531481193300346,0.29165825697450715,0.2746387050476379,0.2746765482446077,0.27978096957008,0.29445562451717755,0.30546711711508173,0.27569481279570446,0.26898195976715233,0.26840292299962537,0.23963879940699187,0.2949622333565632,0.2758069946779623,0.27101385674446626,0.2558054575823953,0.27012432315049534,0.28535482202135987,0.27611959255746454,0.24896739393546846,0.267472125173889,0.2273404295111046,0.2582851126225913,0.25771122093412896,0.2587318326664909,0.28262528222637484,0.2875740480098642,0.28886738935754236,0.26807670809347395,0.2379209968010876,0.27759021260452027,0.2685664604909026,0.2460030357723313,0.2380014401417494,0.24558453659883742,0.27233235954649326,0.24295257380686378,0.24140035781467692,0.2528631374005992,0.2374328295384737,0.21269189230369354,0.2781832005807813,0.3198737090714709,0.27423867601317337,0.31105545922529815,0.27866045336564205,0.24863004267400085,0.24839071232925983,0.25429366285888,0.27201404610453106,0.2495580307038642,0.22386205407408974,0.23246093697675976,0.23052618972831737,0.246014774367047,0.2296665337193286,0.2586762546095879,0.24190842819461258,0.2678418040448843,0.27375739908814456,0.23897366490796537,0.23813165025514427,0.23517134303709872,0.26220308533939035,0.21959876577854107,0.2790411714751776,0.24765025909762745,0.2064591658341657,0.23114256001451117,0.22271794679309134,0.22713850923457915,0.22853880344621097,0.2803901886720749,0.2511130663160253,0.2350767425670338,0.23948387912163432,0.2708785056250335,0.2451263877039424,0.24264982826871584,0.26790818293549845,0.31943639109798866,0.2746643442109465,0.22705815596440593,0.29465942720179994,0.2643824862006678,0.2523358860342557,0.27370500361422134,0.2708922530359586,0.2376235905501262,0.2903581437696642,0.2636193379790942,0.2599039577611007,0.26731978319783195,0.2494385178313749,0.29965717985193874,0.3269196225446224,0.2930504867846641,0.3050771286518952,0.28419618075868075,0.2589240901074235,0.29014862254953694,0.2823254355218024,0.28299159777420646,0.29622014281105213,0.24433821288677812,0.29970248988484305,0.2857966970089329,0.27210539970120806,0.3442143520847912,0.32274652633409795,0.292501247289622,0.3024845999204984,0.29887273201455444,0.27715092103704064,0.3253591002487012,0.3058336146732383,0.2645765499653388,0.27323689885822283,0.31447812822098653,0.40510054105841004,0.35552177884839237,0.3431328217237304,0.30289007264141693,0.28927847728152634,0.29161481030243575,0.31353226075000257,0.3208932139133091,0.3114443487411686,0.299002896980075,0.3162179547615128,0.2976217673071794,0.2615608898942234,0.21142103364471804,0.2961824537895962],\"coloraxis\":\"coloraxis\",\"pattern\":{\"shape\":\"\"}},\"name\":\"\",\"offsetgroup\":\"\",\"orientation\":\"v\",\"showlegend\":false,\"textposition\":\"auto\",\"type\":\"bar\",\"x\":[\"2020-12-12\",\"2020-12-13\",\"2020-12-14\",\"2020-12-15\",\"2020-12-16\",\"2020-12-17\",\"2020-12-18\",\"2020-12-19\",\"2020-12-20\",\"2020-12-21\",\"2020-12-22\",\"2020-12-23\",\"2020-12-24\",\"2020-12-25\",\"2020-12-26\",\"2020-12-27\",\"2020-12-28\",\"2020-12-29\",\"2020-12-30\",\"2020-12-31\",\"2021-01-01\",\"2021-01-02\",\"2021-01-03\",\"2021-01-04\",\"2021-01-05\",\"2021-01-06\",\"2021-01-07\",\"2021-01-08\",\"2021-01-09\",\"2021-01-10\",\"2021-01-11\",\"2021-01-12\",\"2021-01-13\",\"2021-01-14\",\"2021-01-15\",\"2021-01-16\",\"2021-01-17\",\"2021-01-18\",\"2021-01-19\",\"2021-01-20\",\"2021-01-21\",\"2021-01-22\",\"2021-01-23\",\"2021-01-24\",\"2021-01-25\",\"2021-01-26\",\"2021-01-27\",\"2021-01-28\",\"2021-01-29\",\"2021-01-30\",\"2021-01-31\",\"2021-02-01\",\"2021-02-02\",\"2021-02-03\",\"2021-02-04\",\"2021-02-05\",\"2021-02-06\",\"2021-02-07\",\"2021-02-08\",\"2021-02-09\",\"2021-02-10\",\"2021-02-11\",\"2021-02-12\",\"2021-02-13\",\"2021-02-14\",\"2021-02-15\",\"2021-02-16\",\"2021-02-17\",\"2021-02-18\",\"2021-02-19\",\"2021-02-20\",\"2021-02-21\",\"2021-02-22\",\"2021-02-23\",\"2021-02-24\",\"2021-02-25\",\"2021-02-26\",\"2021-02-27\",\"2021-02-28\",\"2021-03-01\",\"2021-03-02\",\"2021-03-03\",\"2021-03-04\",\"2021-03-05\",\"2021-03-06\",\"2021-03-07\",\"2021-03-08\",\"2021-03-09\",\"2021-03-10\",\"2021-03-11\",\"2021-03-12\",\"2021-03-13\",\"2021-03-14\",\"2021-03-15\",\"2021-03-16\",\"2021-03-17\",\"2021-03-18\",\"2021-03-19\",\"2021-03-20\",\"2021-03-21\",\"2021-03-22\",\"2021-03-23\",\"2021-03-24\",\"2021-03-25\",\"2021-03-26\",\"2021-03-27\",\"2021-03-28\",\"2021-03-29\",\"2021-03-30\",\"2021-03-31\",\"2021-04-01\",\"2021-04-02\",\"2021-04-03\",\"2021-04-04\",\"2021-04-05\",\"2021-04-06\",\"2021-04-07\",\"2021-04-08\",\"2021-04-09\",\"2021-04-10\",\"2021-04-11\",\"2021-04-12\",\"2021-04-13\",\"2021-04-14\",\"2021-04-15\",\"2021-04-16\",\"2021-04-17\",\"2021-04-18\",\"2021-04-19\",\"2021-04-20\",\"2021-04-21\",\"2021-04-22\",\"2021-05-13\",\"2021-05-14\",\"2021-05-15\",\"2021-05-16\",\"2021-05-17\",\"2021-05-18\",\"2021-05-19\",\"2021-05-20\",\"2021-05-21\",\"2021-05-22\",\"2021-05-23\",\"2021-05-24\",\"2021-05-25\",\"2021-05-26\",\"2021-05-27\",\"2021-05-28\",\"2021-05-29\",\"2021-05-30\",\"2021-05-31\",\"2021-06-01\",\"2021-06-02\",\"2021-06-03\",\"2021-06-04\",\"2021-06-05\",\"2021-06-06\",\"2021-06-07\",\"2021-06-08\",\"2021-06-09\",\"2021-06-10\",\"2021-06-11\",\"2021-06-12\",\"2021-06-13\",\"2021-06-14\",\"2021-06-15\",\"2021-06-16\",\"2021-06-17\",\"2021-06-18\",\"2021-06-19\",\"2021-06-20\",\"2021-06-21\",\"2021-06-22\",\"2021-06-23\",\"2021-06-24\",\"2021-06-25\",\"2021-06-26\",\"2021-06-27\",\"2021-06-28\",\"2021-06-29\",\"2021-06-30\",\"2021-07-01\",\"2021-07-07\",\"2021-07-08\",\"2021-07-09\",\"2021-07-10\",\"2021-07-11\",\"2021-07-12\",\"2021-07-13\",\"2021-07-14\",\"2021-07-15\",\"2021-07-16\",\"2021-07-17\",\"2021-07-18\",\"2021-07-19\",\"2021-07-20\",\"2021-07-21\",\"2021-07-22\",\"2021-07-23\",\"2021-07-24\",\"2021-07-25\",\"2021-07-26\",\"2021-07-27\",\"2021-07-28\",\"2021-07-29\",\"2021-07-30\",\"2021-07-31\",\"2021-08-01\",\"2021-08-02\",\"2021-08-03\",\"2021-08-04\",\"2021-08-05\",\"2021-08-06\",\"2021-08-07\",\"2021-08-08\",\"2021-08-09\",\"2021-08-10\",\"2021-08-11\",\"2021-08-12\",\"2021-08-13\",\"2021-08-14\",\"2021-08-15\",\"2021-08-16\",\"2021-08-17\",\"2021-08-18\",\"2021-08-19\",\"2021-08-20\",\"2021-08-21\",\"2021-08-22\",\"2021-08-23\",\"2021-08-24\",\"2021-08-25\",\"2021-08-26\",\"2021-08-27\"],\"xaxis\":\"x\",\"y\":[38,52,83,87,78,79,55,70,42,66,97,83,70,22,26,32,26,54,63,38,50,46,32,47,67,65,43,106,80,57,53,52,59,64,91,82,63,37,61,57,92,43,40,35,34,48,42,47,58,34,11,18,37,19,44,40,24,183,301,285,280,260,304,235,159,188,249,308,333,305,221,147,283,247,383,383,417,275,318,1562,478,809,603,489,328,220,305,428,470,538,474,319,250,563,852,562,567,551,581,378,546,459,500,431,371,326,264,479,617,753,561,426,485,279,361,529,917,1015,672,509,482,1185,1166,932,880,915,631,457,671,663,1459,493,298,841,472,704,676,639,654,691,161,310,469,796,867,636,691,716,575,402,468,619,395,282,242,322,225,760,1039,805,586,830,622,387,267,322,323,676,533,346,229,351,737,659,515,490,360,274,409,961,1315,743,48,236,286,230,179,421,684,421,451,518,328,217,353,296,316,321,444,375,164,289,299,407,453,425,331,334,685,531,443,624,483,326,351,530,553,884,525,813,372,220,279,410,501,403,423,283,241,551,449,444,475,175],\"yaxis\":\"y\"}],                        {\"barmode\":\"relative\",\"coloraxis\":{\"colorbar\":{\"title\":{\"text\":\"subjectivity\"}},\"colorscale\":[[0.0,\"#0d0887\"],[0.1111111111111111,\"#46039f\"],[0.2222222222222222,\"#7201a8\"],[0.3333333333333333,\"#9c179e\"],[0.4444444444444444,\"#bd3786\"],[0.5555555555555556,\"#d8576b\"],[0.6666666666666666,\"#ed7953\"],[0.7777777777777778,\"#fb9f3a\"],[0.8888888888888888,\"#fdca26\"],[1.0,\"#f0f921\"]]},\"legend\":{\"tracegroupgap\":0},\"margin\":{\"t\":60},\"template\":{\"data\":{\"bar\":[{\"error_x\":{\"color\":\"#2a3f5f\"},\"error_y\":{\"color\":\"#2a3f5f\"},\"marker\":{\"line\":{\"color\":\"#E5ECF6\",\"width\":0.5},\"pattern\":{\"fillmode\":\"overlay\",\"size\":10,\"solidity\":0.2}},\"type\":\"bar\"}],\"barpolar\":[{\"marker\":{\"line\":{\"color\":\"#E5ECF6\",\"width\":0.5},\"pattern\":{\"fillmode\":\"overlay\",\"size\":10,\"solidity\":0.2}},\"type\":\"barpolar\"}],\"carpet\":[{\"aaxis\":{\"endlinecolor\":\"#2a3f5f\",\"gridcolor\":\"white\",\"linecolor\":\"white\",\"minorgridcolor\":\"white\",\"startlinecolor\":\"#2a3f5f\"},\"baxis\":{\"endlinecolor\":\"#2a3f5f\",\"gridcolor\":\"white\",\"linecolor\":\"white\",\"minorgridcolor\":\"white\",\"startlinecolor\":\"#2a3f5f\"},\"type\":\"carpet\"}],\"choropleth\":[{\"colorbar\":{\"outlinewidth\":0,\"ticks\":\"\"},\"type\":\"choropleth\"}],\"contour\":[{\"colorbar\":{\"outlinewidth\":0,\"ticks\":\"\"},\"colorscale\":[[0.0,\"#0d0887\"],[0.1111111111111111,\"#46039f\"],[0.2222222222222222,\"#7201a8\"],[0.3333333333333333,\"#9c179e\"],[0.4444444444444444,\"#bd3786\"],[0.5555555555555556,\"#d8576b\"],[0.6666666666666666,\"#ed7953\"],[0.7777777777777778,\"#fb9f3a\"],[0.8888888888888888,\"#fdca26\"],[1.0,\"#f0f921\"]],\"type\":\"contour\"}],\"contourcarpet\":[{\"colorbar\":{\"outlinewidth\":0,\"ticks\":\"\"},\"type\":\"contourcarpet\"}],\"heatmap\":[{\"colorbar\":{\"outlinewidth\":0,\"ticks\":\"\"},\"colorscale\":[[0.0,\"#0d0887\"],[0.1111111111111111,\"#46039f\"],[0.2222222222222222,\"#7201a8\"],[0.3333333333333333,\"#9c179e\"],[0.4444444444444444,\"#bd3786\"],[0.5555555555555556,\"#d8576b\"],[0.6666666666666666,\"#ed7953\"],[0.7777777777777778,\"#fb9f3a\"],[0.8888888888888888,\"#fdca26\"],[1.0,\"#f0f921\"]],\"type\":\"heatmap\"}],\"heatmapgl\":[{\"colorbar\":{\"outlinewidth\":0,\"ticks\":\"\"},\"colorscale\":[[0.0,\"#0d0887\"],[0.1111111111111111,\"#46039f\"],[0.2222222222222222,\"#7201a8\"],[0.3333333333333333,\"#9c179e\"],[0.4444444444444444,\"#bd3786\"],[0.5555555555555556,\"#d8576b\"],[0.6666666666666666,\"#ed7953\"],[0.7777777777777778,\"#fb9f3a\"],[0.8888888888888888,\"#fdca26\"],[1.0,\"#f0f921\"]],\"type\":\"heatmapgl\"}],\"histogram\":[{\"marker\":{\"pattern\":{\"fillmode\":\"overlay\",\"size\":10,\"solidity\":0.2}},\"type\":\"histogram\"}],\"histogram2d\":[{\"colorbar\":{\"outlinewidth\":0,\"ticks\":\"\"},\"colorscale\":[[0.0,\"#0d0887\"],[0.1111111111111111,\"#46039f\"],[0.2222222222222222,\"#7201a8\"],[0.3333333333333333,\"#9c179e\"],[0.4444444444444444,\"#bd3786\"],[0.5555555555555556,\"#d8576b\"],[0.6666666666666666,\"#ed7953\"],[0.7777777777777778,\"#fb9f3a\"],[0.8888888888888888,\"#fdca26\"],[1.0,\"#f0f921\"]],\"type\":\"histogram2d\"}],\"histogram2dcontour\":[{\"colorbar\":{\"outlinewidth\":0,\"ticks\":\"\"},\"colorscale\":[[0.0,\"#0d0887\"],[0.1111111111111111,\"#46039f\"],[0.2222222222222222,\"#7201a8\"],[0.3333333333333333,\"#9c179e\"],[0.4444444444444444,\"#bd3786\"],[0.5555555555555556,\"#d8576b\"],[0.6666666666666666,\"#ed7953\"],[0.7777777777777778,\"#fb9f3a\"],[0.8888888888888888,\"#fdca26\"],[1.0,\"#f0f921\"]],\"type\":\"histogram2dcontour\"}],\"mesh3d\":[{\"colorbar\":{\"outlinewidth\":0,\"ticks\":\"\"},\"type\":\"mesh3d\"}],\"parcoords\":[{\"line\":{\"colorbar\":{\"outlinewidth\":0,\"ticks\":\"\"}},\"type\":\"parcoords\"}],\"pie\":[{\"automargin\":true,\"type\":\"pie\"}],\"scatter\":[{\"marker\":{\"colorbar\":{\"outlinewidth\":0,\"ticks\":\"\"}},\"type\":\"scatter\"}],\"scatter3d\":[{\"line\":{\"colorbar\":{\"outlinewidth\":0,\"ticks\":\"\"}},\"marker\":{\"colorbar\":{\"outlinewidth\":0,\"ticks\":\"\"}},\"type\":\"scatter3d\"}],\"scattercarpet\":[{\"marker\":{\"colorbar\":{\"outlinewidth\":0,\"ticks\":\"\"}},\"type\":\"scattercarpet\"}],\"scattergeo\":[{\"marker\":{\"colorbar\":{\"outlinewidth\":0,\"ticks\":\"\"}},\"type\":\"scattergeo\"}],\"scattergl\":[{\"marker\":{\"colorbar\":{\"outlinewidth\":0,\"ticks\":\"\"}},\"type\":\"scattergl\"}],\"scattermapbox\":[{\"marker\":{\"colorbar\":{\"outlinewidth\":0,\"ticks\":\"\"}},\"type\":\"scattermapbox\"}],\"scatterpolar\":[{\"marker\":{\"colorbar\":{\"outlinewidth\":0,\"ticks\":\"\"}},\"type\":\"scatterpolar\"}],\"scatterpolargl\":[{\"marker\":{\"colorbar\":{\"outlinewidth\":0,\"ticks\":\"\"}},\"type\":\"scatterpolargl\"}],\"scatterternary\":[{\"marker\":{\"colorbar\":{\"outlinewidth\":0,\"ticks\":\"\"}},\"type\":\"scatterternary\"}],\"surface\":[{\"colorbar\":{\"outlinewidth\":0,\"ticks\":\"\"},\"colorscale\":[[0.0,\"#0d0887\"],[0.1111111111111111,\"#46039f\"],[0.2222222222222222,\"#7201a8\"],[0.3333333333333333,\"#9c179e\"],[0.4444444444444444,\"#bd3786\"],[0.5555555555555556,\"#d8576b\"],[0.6666666666666666,\"#ed7953\"],[0.7777777777777778,\"#fb9f3a\"],[0.8888888888888888,\"#fdca26\"],[1.0,\"#f0f921\"]],\"type\":\"surface\"}],\"table\":[{\"cells\":{\"fill\":{\"color\":\"#EBF0F8\"},\"line\":{\"color\":\"white\"}},\"header\":{\"fill\":{\"color\":\"#C8D4E3\"},\"line\":{\"color\":\"white\"}},\"type\":\"table\"}]},\"layout\":{\"annotationdefaults\":{\"arrowcolor\":\"#2a3f5f\",\"arrowhead\":0,\"arrowwidth\":1},\"autotypenumbers\":\"strict\",\"coloraxis\":{\"colorbar\":{\"outlinewidth\":0,\"ticks\":\"\"}},\"colorscale\":{\"diverging\":[[0,\"#8e0152\"],[0.1,\"#c51b7d\"],[0.2,\"#de77ae\"],[0.3,\"#f1b6da\"],[0.4,\"#fde0ef\"],[0.5,\"#f7f7f7\"],[0.6,\"#e6f5d0\"],[0.7,\"#b8e186\"],[0.8,\"#7fbc41\"],[0.9,\"#4d9221\"],[1,\"#276419\"]],\"sequential\":[[0.0,\"#0d0887\"],[0.1111111111111111,\"#46039f\"],[0.2222222222222222,\"#7201a8\"],[0.3333333333333333,\"#9c179e\"],[0.4444444444444444,\"#bd3786\"],[0.5555555555555556,\"#d8576b\"],[0.6666666666666666,\"#ed7953\"],[0.7777777777777778,\"#fb9f3a\"],[0.8888888888888888,\"#fdca26\"],[1.0,\"#f0f921\"]],\"sequentialminus\":[[0.0,\"#0d0887\"],[0.1111111111111111,\"#46039f\"],[0.2222222222222222,\"#7201a8\"],[0.3333333333333333,\"#9c179e\"],[0.4444444444444444,\"#bd3786\"],[0.5555555555555556,\"#d8576b\"],[0.6666666666666666,\"#ed7953\"],[0.7777777777777778,\"#fb9f3a\"],[0.8888888888888888,\"#fdca26\"],[1.0,\"#f0f921\"]]},\"colorway\":[\"#636efa\",\"#EF553B\",\"#00cc96\",\"#ab63fa\",\"#FFA15A\",\"#19d3f3\",\"#FF6692\",\"#B6E880\",\"#FF97FF\",\"#FECB52\"],\"font\":{\"color\":\"#2a3f5f\"},\"geo\":{\"bgcolor\":\"white\",\"lakecolor\":\"white\",\"landcolor\":\"#E5ECF6\",\"showlakes\":true,\"showland\":true,\"subunitcolor\":\"white\"},\"hoverlabel\":{\"align\":\"left\"},\"hovermode\":\"closest\",\"mapbox\":{\"style\":\"light\"},\"paper_bgcolor\":\"white\",\"plot_bgcolor\":\"#E5ECF6\",\"polar\":{\"angularaxis\":{\"gridcolor\":\"white\",\"linecolor\":\"white\",\"ticks\":\"\"},\"bgcolor\":\"#E5ECF6\",\"radialaxis\":{\"gridcolor\":\"white\",\"linecolor\":\"white\",\"ticks\":\"\"}},\"scene\":{\"xaxis\":{\"backgroundcolor\":\"#E5ECF6\",\"gridcolor\":\"white\",\"gridwidth\":2,\"linecolor\":\"white\",\"showbackground\":true,\"ticks\":\"\",\"zerolinecolor\":\"white\"},\"yaxis\":{\"backgroundcolor\":\"#E5ECF6\",\"gridcolor\":\"white\",\"gridwidth\":2,\"linecolor\":\"white\",\"showbackground\":true,\"ticks\":\"\",\"zerolinecolor\":\"white\"},\"zaxis\":{\"backgroundcolor\":\"#E5ECF6\",\"gridcolor\":\"white\",\"gridwidth\":2,\"linecolor\":\"white\",\"showbackground\":true,\"ticks\":\"\",\"zerolinecolor\":\"white\"}},\"shapedefaults\":{\"line\":{\"color\":\"#2a3f5f\"}},\"ternary\":{\"aaxis\":{\"gridcolor\":\"white\",\"linecolor\":\"white\",\"ticks\":\"\"},\"baxis\":{\"gridcolor\":\"white\",\"linecolor\":\"white\",\"ticks\":\"\"},\"bgcolor\":\"#E5ECF6\",\"caxis\":{\"gridcolor\":\"white\",\"linecolor\":\"white\",\"ticks\":\"\"}},\"title\":{\"x\":0.05},\"xaxis\":{\"automargin\":true,\"gridcolor\":\"white\",\"linecolor\":\"white\",\"ticks\":\"\",\"title\":{\"standoff\":15},\"zerolinecolor\":\"white\",\"zerolinewidth\":2},\"yaxis\":{\"automargin\":true,\"gridcolor\":\"white\",\"linecolor\":\"white\",\"ticks\":\"\",\"title\":{\"standoff\":15},\"zerolinecolor\":\"white\",\"zerolinewidth\":2}}},\"xaxis\":{\"anchor\":\"y\",\"domain\":[0.0,1.0],\"title\":{\"text\":\"date\"}},\"yaxis\":{\"anchor\":\"x\",\"domain\":[0.0,1.0],\"title\":{\"text\":\"count\"}}},                        {\"responsive\": true}                    ).then(function(){\n",
       "                            \n",
       "var gd = document.getElementById('4f819fe0-c543-400c-badf-b089e7df547b');\n",
       "var x = new MutationObserver(function (mutations, observer) {{\n",
       "        var display = window.getComputedStyle(gd).display;\n",
       "        if (!display || display === 'none') {{\n",
       "            console.log([gd, 'removed!']);\n",
       "            Plotly.purge(gd);\n",
       "            observer.disconnect();\n",
       "        }}\n",
       "}});\n",
       "\n",
       "// Listen for the removal of the full notebook cells\n",
       "var notebookContainer = gd.closest('#notebook-container');\n",
       "if (notebookContainer) {{\n",
       "    x.observe(notebookContainer, {childList: true});\n",
       "}}\n",
       "\n",
       "// Listen for the clearing of the current output cell\n",
       "var outputEl = gd.closest('.output');\n",
       "if (outputEl) {{\n",
       "    x.observe(outputEl, {childList: true});\n",
       "}}\n",
       "\n",
       "                        })                };                });            </script>        </div>"
      ]
     },
     "metadata": {},
     "output_type": "display_data"
    }
   ],
   "source": [
    "# # Plot tweets over time, color-coded by average subjectivity score\n",
    "fig = px.bar(timeline, x='date', y='count', color='subjectivity')\n",
    "fig.show()"
   ]
  },
  {
   "cell_type": "markdown",
   "metadata": {
    "id": "knzzbH9I2hsr"
   },
   "source": [
    "# Filter by Vaccy"
   ]
  },
  {
   "cell_type": "code",
   "execution_count": 125,
   "metadata": {
    "ExecuteTime": {
     "end_time": "2021-03-22T18:45:20.084922Z",
     "start_time": "2021-03-22T18:45:20.058099Z"
    },
    "colab": {
     "base_uri": "https://localhost:8080/",
     "height": 1000
    },
    "id": "t9bnocvT2jum",
    "outputId": "54782d4f-021d-4c19-90a7-a51a2b79d8a7"
   },
   "outputs": [],
   "source": [
    "all_vax = ['covaxin', 'sinopharm', 'sinovac', 'moderna', 'pfizer', 'biontech', 'oxford', 'astrazeneca', 'sputnik']\n",
    "\n",
    "# Function to filter the data to a single vaccine and plot the timeline\n",
    "# Note: a lot of the tweets seem to contain hashtags for multiple vaccines even though they are specifically referring to one vaccine-- not very helpful!\n",
    "def filter_by_vaccy(df, vax):\n",
    "    df_filt = pd.DataFrame()\n",
    "    for v in vax:\n",
    "        df_filt = df_filt.append(df[df['text'].str.lower().str.contains(v)])\n",
    "    other_vax = list(set(all_vax)-set(vax))\n",
    "    for o in other_vax:\n",
    "        df_filt = df_filt[~df_filt['text'].str.lower().str.contains(o)]\n",
    "#     df_filt = df_filt.drop_duplicates()\n",
    "    timeline = df_filt.groupby(['date']).agg(np.nanmean).reset_index()\n",
    "    timeline['count'] = df_filt.groupby(['date']).count().reset_index()['retweets']\n",
    "    timeline = timeline[['date', 'count', 'polarity', 'retweets', 'favorites', 'subjectivity']]\n",
    "    timeline[\"polarity\"] = timeline[\"polarity\"].astype(float)\n",
    "    timeline[\"subjectivity\"] = timeline[\"subjectivity\"].astype(float)\n",
    "    return df_filt, timeline"
   ]
  },
  {
   "cell_type": "code",
   "execution_count": 126,
   "metadata": {
    "ExecuteTime": {
     "end_time": "2021-03-22T18:45:20.449757Z",
     "start_time": "2021-03-22T18:45:20.093523Z"
    },
    "colab": {
     "base_uri": "https://localhost:8080/",
     "height": 542
    },
    "id": "Z6z6cVcQepjJ",
    "outputId": "8afd5e7c-5a0c-4de7-8d9d-58e29317b570"
   },
   "outputs": [
    {
     "name": "stdout",
     "output_type": "stream",
     "text": [
      "(9407, 19)\n"
     ]
    },
    {
     "data": {
      "application/vnd.plotly.v1+json": {
       "config": {
        "plotlyServerURL": "https://plot.ly"
       },
       "data": [
        {
         "alignmentgroup": "True",
         "hovertemplate": "date=%{x}<br>count=%{y}<br>polarity=%{marker.color}<extra></extra>",
         "legendgroup": "",
         "marker": {
          "color": [
           0.0784090909090909,
           0.07748484848484849,
           0.10506494205622113,
           0.124594243404923,
           0.10683600713012478,
           0.04721522808257503,
           0.08037337662337662,
           0.1236375911896745,
           0.11244598765432097,
           0.15507863965744403,
           0.09903778276080434,
           0.17755481917853053,
           0.17278138528138526,
           0.09681665136210589,
           0.08617886178861789,
           0.13851626016260163,
           0.1661458333333333,
           0.05648349163274536,
           0.10123678646934461,
           0.1338844476744186,
           0.09394195331695332,
           0.111853998655914,
           0.08872204184704185,
           0.07483211233211234,
           0.1466485507246377,
           0.07744682153164295,
           0.15790254237288137,
           0.16497343348336727,
           0.11171625563849975,
           0.14299106525133926,
           0.14204475308641973,
           0.1555132962275819,
           0.16348070090439273,
           0.12301217301217303,
           0.11737070707070708,
           0.023433229352347,
           0.09172716172716172,
           0.07892523080660836,
           0.11334967320261441,
           0.14299551517861375,
           0.16478075687753097,
           0.1387820512820513,
           0.09273497688751925,
           0.0856971153846154,
           0.12238005050505048,
           0.10324302134646965,
           0.13146464646464648,
           0.21074835658168992,
           0.12772727272727272,
           0.06896503646503649,
           0.04995791245791246,
           0.14444444444444446,
           0.0850472813238771,
           0.18741582491582492,
           0.06433492534036012,
           -0.008306100217864924,
           0.08168402777777777,
           0.20925925925925923,
           -0.03231994047619048,
           0.08958359101216246,
           0.11707259671545386,
           0.1852103174603175,
           0.05809523809523809,
           0.1954166666666667,
           0.07493734335839601,
           0.06399055489964581,
           0.02933782267115601,
           0.032561431623931616,
           0.1722579569277682,
           0.17843432539682538,
           0.0632882882882883,
           0.1302686202686203,
           0.3906705948372615,
           0.12040885040885041,
           0.11833333333333333,
           0.1456069971694972,
           0.17525709814442214,
           0.21160804473304476,
           0.09944444444444445,
           0.07577861952861951,
           0.06746031746031746,
           0.17496116923200256,
           0.08805394609084768,
           0.18285714285714286,
           0.12638888888888888,
           0.04166666666666667,
           0.08809889434889434,
           0.170577485380117,
           0.14799344799344802,
           0.1426812947401183,
           0.21303763440860216,
           0.02035087719298246,
           0.10046296296296296,
           0.09680926481032756,
           0.08226495726495726,
           0.04645454545454546,
           0.11265432098765434,
           0.10873842592592593,
           0.12454680735930736,
           0.05881911057692307,
           0.19494977678571426,
           0.19747619047619047,
           0.07289134837962964,
           0.10300000000000001,
           0.020958049886621317,
           -0.012121212121212118,
           0.006384154040404039,
           0.019444444444444438,
           0.20866003787878787,
           0.19628337753337757,
           0.1366569420917247,
           0.3047459893048128,
           0.22227083333333333,
           0.09015151515151515,
           0.17000346658549784,
           0.15617283950617283,
           0.04198402948402948,
           0.22298881673881674,
           0.17407407407407408,
           0.04132882882882882,
           0.09297348484848485,
           0.10687079124579124,
           0.03853348297792742,
           0.07649603174603174,
           0.04875779857397503,
           0.10176651305683564,
           0.18666666666666668,
           0.0428921568627451,
           0.14666666666666667,
           0.11791161616161615,
           0.03103448275862069,
           0.008529411764705883,
           0.032758620689655175,
           0.07653356481481481,
           0.16467304625199364,
           0.08,
           0.1985780423280423,
           0.061413043478260876,
           0.14854271885521889,
           0.05731292517006802,
           0.3333333333333333,
           0.10576923076923078,
           0.08037190082644628,
           0.12885508308895405,
           0.01944602272727273,
           0.09165100250626566,
           0.10749858276643989,
           0.13043981481481481,
           0.03665243271221532,
           0.141827512254902,
           0.19963636363636364,
           0.07141873278236915,
           0.02541666666666666,
           0.02022727272727273,
           0.02244910037878788,
           0.11326728826728827,
           0.15781250000000002,
           0.10740740740740741,
           0.1669011544011544,
           0.0835978835978836,
           0.10055555555555556,
           0.0463365800865801,
           0.05925925925925925,
           0.1486842105263158,
           0.03733333333333333,
           0.11818783068783066,
           0.04782407407407407,
           0.2237925170068027,
           0.0867283950617284,
           0.09958333333333333,
           0.06239669421487603,
           0.10348319098319096,
           0.09141649413388545,
           0.1702596618357488,
           0.11680440771349862,
           0.061339285714285714,
           0.16966783216783216,
           0.10146520146520147,
           0.21071428571428572,
           0.09946524064171124,
           0.0022435897435897426,
           0.07072916666666666,
           0.060185185185185196,
           0.16291666666666668,
           0.013822547508988186,
           0.0741111111111111,
           0.0369047619047619,
           0.05412523674242423,
           0.04733700642791553,
           0.007456140350877193,
           0.04043478260869565,
           0.0320266153599487,
           0.11515151515151516,
           0.06837944664031621,
           0.1326862373737374,
           0.19788359788359788,
           0.02509300595238095,
           0.070625,
           0.07354166666666666,
           0.13333333333333333,
           0.048257575757575756,
           0.18177083333333333,
           0.09,
           0.12686202686202686,
           0.13402777777777777,
           -0.027777777777777783,
           0.0625,
           0.02839506172839506,
           0.0190947940947941,
           0.11477272727272729,
           0.04871399176954732,
           0.1618888888888889,
           0.09111111111111109,
           0.07666666666666666,
           0.029687500000000002,
           -0.028343621399176955,
           0.032916666666666664,
           0.04062931749101962,
           0.07674963924963925,
           0.10282369146005509,
           0.13727272727272727,
           0.1111111111111111,
           0.328125,
           0.16011904761904763,
           0.15665509259259258,
           0.059030478162018854,
           0.11799955197132617,
           0.2659090909090909,
           0.07992424242424243,
           0.23264145359848504,
           0.19269216555801919,
           0.2406373517786561,
           0.06609848484848485,
           0.09479166666666666
          ],
          "coloraxis": "coloraxis",
          "pattern": {
           "shape": ""
          }
         },
         "name": "",
         "offsetgroup": "",
         "orientation": "v",
         "showlegend": false,
         "textposition": "auto",
         "type": "bar",
         "x": [
          "2020-12-12",
          "2020-12-13",
          "2020-12-14",
          "2020-12-15",
          "2020-12-16",
          "2020-12-17",
          "2020-12-18",
          "2020-12-19",
          "2020-12-20",
          "2020-12-21",
          "2020-12-22",
          "2020-12-23",
          "2020-12-24",
          "2020-12-25",
          "2020-12-26",
          "2020-12-27",
          "2020-12-28",
          "2020-12-29",
          "2020-12-30",
          "2020-12-31",
          "2021-01-01",
          "2021-01-02",
          "2021-01-03",
          "2021-01-04",
          "2021-01-05",
          "2021-01-06",
          "2021-01-07",
          "2021-01-08",
          "2021-01-09",
          "2021-01-10",
          "2021-01-11",
          "2021-01-12",
          "2021-01-13",
          "2021-01-14",
          "2021-01-15",
          "2021-01-16",
          "2021-01-17",
          "2021-01-18",
          "2021-01-19",
          "2021-01-20",
          "2021-01-21",
          "2021-01-22",
          "2021-01-23",
          "2021-01-24",
          "2021-01-25",
          "2021-01-26",
          "2021-01-27",
          "2021-01-28",
          "2021-01-29",
          "2021-01-30",
          "2021-01-31",
          "2021-02-01",
          "2021-02-02",
          "2021-02-03",
          "2021-02-04",
          "2021-02-05",
          "2021-02-06",
          "2021-02-07",
          "2021-02-08",
          "2021-02-09",
          "2021-02-10",
          "2021-02-11",
          "2021-02-12",
          "2021-02-13",
          "2021-02-14",
          "2021-02-15",
          "2021-02-16",
          "2021-02-17",
          "2021-02-18",
          "2021-02-19",
          "2021-02-20",
          "2021-02-21",
          "2021-02-22",
          "2021-02-23",
          "2021-02-24",
          "2021-02-25",
          "2021-02-26",
          "2021-02-27",
          "2021-02-28",
          "2021-03-01",
          "2021-03-02",
          "2021-03-03",
          "2021-03-04",
          "2021-03-05",
          "2021-03-06",
          "2021-03-07",
          "2021-03-08",
          "2021-03-09",
          "2021-03-10",
          "2021-03-11",
          "2021-03-12",
          "2021-03-13",
          "2021-03-14",
          "2021-03-15",
          "2021-03-16",
          "2021-03-17",
          "2021-03-18",
          "2021-03-19",
          "2021-03-20",
          "2021-03-21",
          "2021-03-22",
          "2021-03-23",
          "2021-03-24",
          "2021-03-25",
          "2021-03-26",
          "2021-03-27",
          "2021-03-28",
          "2021-03-29",
          "2021-03-30",
          "2021-03-31",
          "2021-04-01",
          "2021-04-02",
          "2021-04-03",
          "2021-04-04",
          "2021-04-05",
          "2021-04-06",
          "2021-04-07",
          "2021-04-08",
          "2021-04-09",
          "2021-04-10",
          "2021-04-11",
          "2021-04-12",
          "2021-04-13",
          "2021-04-14",
          "2021-04-15",
          "2021-04-16",
          "2021-04-17",
          "2021-04-18",
          "2021-04-19",
          "2021-04-20",
          "2021-04-21",
          "2021-04-22",
          "2021-05-13",
          "2021-05-14",
          "2021-05-15",
          "2021-05-16",
          "2021-05-17",
          "2021-05-18",
          "2021-05-19",
          "2021-05-20",
          "2021-05-21",
          "2021-05-22",
          "2021-05-23",
          "2021-05-24",
          "2021-05-25",
          "2021-05-26",
          "2021-05-27",
          "2021-05-28",
          "2021-05-29",
          "2021-05-30",
          "2021-05-31",
          "2021-06-01",
          "2021-06-02",
          "2021-06-03",
          "2021-06-04",
          "2021-06-05",
          "2021-06-06",
          "2021-06-07",
          "2021-06-08",
          "2021-06-09",
          "2021-06-10",
          "2021-06-11",
          "2021-06-12",
          "2021-06-13",
          "2021-06-14",
          "2021-06-15",
          "2021-06-16",
          "2021-06-17",
          "2021-06-18",
          "2021-06-19",
          "2021-06-20",
          "2021-06-21",
          "2021-06-22",
          "2021-06-23",
          "2021-06-24",
          "2021-06-25",
          "2021-06-26",
          "2021-06-27",
          "2021-06-28",
          "2021-06-29",
          "2021-06-30",
          "2021-07-01",
          "2021-07-07",
          "2021-07-08",
          "2021-07-09",
          "2021-07-10",
          "2021-07-11",
          "2021-07-12",
          "2021-07-13",
          "2021-07-14",
          "2021-07-15",
          "2021-07-16",
          "2021-07-17",
          "2021-07-18",
          "2021-07-19",
          "2021-07-20",
          "2021-07-21",
          "2021-07-22",
          "2021-07-23",
          "2021-07-24",
          "2021-07-25",
          "2021-07-26",
          "2021-07-27",
          "2021-07-28",
          "2021-07-29",
          "2021-07-30",
          "2021-07-31",
          "2021-08-01",
          "2021-08-02",
          "2021-08-03",
          "2021-08-04",
          "2021-08-05",
          "2021-08-06",
          "2021-08-07",
          "2021-08-08",
          "2021-08-09",
          "2021-08-10",
          "2021-08-11",
          "2021-08-12",
          "2021-08-13",
          "2021-08-14",
          "2021-08-15",
          "2021-08-16",
          "2021-08-17",
          "2021-08-18",
          "2021-08-19",
          "2021-08-20",
          "2021-08-21",
          "2021-08-22",
          "2021-08-23",
          "2021-08-24",
          "2021-08-25",
          "2021-08-26",
          "2021-08-27"
         ],
         "xaxis": "x",
         "y": [
          40,
          75,
          129,
          103,
          85,
          98,
          66,
          96,
          54,
          92,
          139,
          97,
          105,
          33,
          41,
          41,
          40,
          67,
          43,
          43,
          74,
          62,
          44,
          52,
          92,
          84,
          59,
          151,
          127,
          73,
          72,
          77,
          86,
          78,
          125,
          102,
          91,
          49,
          85,
          71,
          124,
          65,
          59,
          52,
          48,
          58,
          55,
          63,
          59,
          37,
          18,
          21,
          47,
          27,
          46,
          51,
          32,
          18,
          40,
          35,
          35,
          25,
          35,
          20,
          38,
          22,
          45,
          52,
          53,
          100,
          37,
          39,
          36,
          33,
          80,
          104,
          71,
          30,
          30,
          36,
          28,
          54,
          47,
          28,
          21,
          26,
          37,
          38,
          37,
          68,
          31,
          19,
          24,
          34,
          26,
          25,
          27,
          36,
          28,
          16,
          28,
          25,
          48,
          25,
          35,
          18,
          16,
          20,
          20,
          111,
          92,
          34,
          25,
          11,
          28,
          27,
          37,
          36,
          27,
          37,
          20,
          24,
          27,
          50,
          34,
          31,
          20,
          17,
          15,
          25,
          29,
          17,
          29,
          48,
          19,
          20,
          21,
          23,
          27,
          49,
          6,
          26,
          44,
          31,
          40,
          19,
          70,
          36,
          46,
          34,
          25,
          22,
          20,
          22,
          64,
          26,
          16,
          18,
          33,
          21,
          30,
          30,
          21,
          19,
          15,
          36,
          15,
          35,
          18,
          15,
          22,
          37,
          46,
          23,
          33,
          35,
          26,
          13,
          14,
          17,
          13,
          25,
          3,
          20,
          59,
          30,
          14,
          32,
          33,
          19,
          23,
          27,
          21,
          23,
          22,
          18,
          32,
          32,
          32,
          12,
          15,
          32,
          15,
          39,
          16,
          15,
          9,
          9,
          13,
          22,
          27,
          25,
          15,
          10,
          16,
          18,
          20,
          47,
          22,
          22,
          10,
          9,
          8,
          28,
          18,
          43,
          31,
          11,
          16,
          160,
          82,
          23,
          24,
          16
         ],
         "yaxis": "y"
        }
       ],
       "layout": {
        "barmode": "relative",
        "coloraxis": {
         "colorbar": {
          "title": {
           "text": "polarity"
          }
         },
         "colorscale": [
          [
           0,
           "#0d0887"
          ],
          [
           0.1111111111111111,
           "#46039f"
          ],
          [
           0.2222222222222222,
           "#7201a8"
          ],
          [
           0.3333333333333333,
           "#9c179e"
          ],
          [
           0.4444444444444444,
           "#bd3786"
          ],
          [
           0.5555555555555556,
           "#d8576b"
          ],
          [
           0.6666666666666666,
           "#ed7953"
          ],
          [
           0.7777777777777778,
           "#fb9f3a"
          ],
          [
           0.8888888888888888,
           "#fdca26"
          ],
          [
           1,
           "#f0f921"
          ]
         ]
        },
        "legend": {
         "tracegroupgap": 0
        },
        "margin": {
         "t": 60
        },
        "template": {
         "data": {
          "bar": [
           {
            "error_x": {
             "color": "#2a3f5f"
            },
            "error_y": {
             "color": "#2a3f5f"
            },
            "marker": {
             "line": {
              "color": "#E5ECF6",
              "width": 0.5
             },
             "pattern": {
              "fillmode": "overlay",
              "size": 10,
              "solidity": 0.2
             }
            },
            "type": "bar"
           }
          ],
          "barpolar": [
           {
            "marker": {
             "line": {
              "color": "#E5ECF6",
              "width": 0.5
             },
             "pattern": {
              "fillmode": "overlay",
              "size": 10,
              "solidity": 0.2
             }
            },
            "type": "barpolar"
           }
          ],
          "carpet": [
           {
            "aaxis": {
             "endlinecolor": "#2a3f5f",
             "gridcolor": "white",
             "linecolor": "white",
             "minorgridcolor": "white",
             "startlinecolor": "#2a3f5f"
            },
            "baxis": {
             "endlinecolor": "#2a3f5f",
             "gridcolor": "white",
             "linecolor": "white",
             "minorgridcolor": "white",
             "startlinecolor": "#2a3f5f"
            },
            "type": "carpet"
           }
          ],
          "choropleth": [
           {
            "colorbar": {
             "outlinewidth": 0,
             "ticks": ""
            },
            "type": "choropleth"
           }
          ],
          "contour": [
           {
            "colorbar": {
             "outlinewidth": 0,
             "ticks": ""
            },
            "colorscale": [
             [
              0,
              "#0d0887"
             ],
             [
              0.1111111111111111,
              "#46039f"
             ],
             [
              0.2222222222222222,
              "#7201a8"
             ],
             [
              0.3333333333333333,
              "#9c179e"
             ],
             [
              0.4444444444444444,
              "#bd3786"
             ],
             [
              0.5555555555555556,
              "#d8576b"
             ],
             [
              0.6666666666666666,
              "#ed7953"
             ],
             [
              0.7777777777777778,
              "#fb9f3a"
             ],
             [
              0.8888888888888888,
              "#fdca26"
             ],
             [
              1,
              "#f0f921"
             ]
            ],
            "type": "contour"
           }
          ],
          "contourcarpet": [
           {
            "colorbar": {
             "outlinewidth": 0,
             "ticks": ""
            },
            "type": "contourcarpet"
           }
          ],
          "heatmap": [
           {
            "colorbar": {
             "outlinewidth": 0,
             "ticks": ""
            },
            "colorscale": [
             [
              0,
              "#0d0887"
             ],
             [
              0.1111111111111111,
              "#46039f"
             ],
             [
              0.2222222222222222,
              "#7201a8"
             ],
             [
              0.3333333333333333,
              "#9c179e"
             ],
             [
              0.4444444444444444,
              "#bd3786"
             ],
             [
              0.5555555555555556,
              "#d8576b"
             ],
             [
              0.6666666666666666,
              "#ed7953"
             ],
             [
              0.7777777777777778,
              "#fb9f3a"
             ],
             [
              0.8888888888888888,
              "#fdca26"
             ],
             [
              1,
              "#f0f921"
             ]
            ],
            "type": "heatmap"
           }
          ],
          "heatmapgl": [
           {
            "colorbar": {
             "outlinewidth": 0,
             "ticks": ""
            },
            "colorscale": [
             [
              0,
              "#0d0887"
             ],
             [
              0.1111111111111111,
              "#46039f"
             ],
             [
              0.2222222222222222,
              "#7201a8"
             ],
             [
              0.3333333333333333,
              "#9c179e"
             ],
             [
              0.4444444444444444,
              "#bd3786"
             ],
             [
              0.5555555555555556,
              "#d8576b"
             ],
             [
              0.6666666666666666,
              "#ed7953"
             ],
             [
              0.7777777777777778,
              "#fb9f3a"
             ],
             [
              0.8888888888888888,
              "#fdca26"
             ],
             [
              1,
              "#f0f921"
             ]
            ],
            "type": "heatmapgl"
           }
          ],
          "histogram": [
           {
            "marker": {
             "pattern": {
              "fillmode": "overlay",
              "size": 10,
              "solidity": 0.2
             }
            },
            "type": "histogram"
           }
          ],
          "histogram2d": [
           {
            "colorbar": {
             "outlinewidth": 0,
             "ticks": ""
            },
            "colorscale": [
             [
              0,
              "#0d0887"
             ],
             [
              0.1111111111111111,
              "#46039f"
             ],
             [
              0.2222222222222222,
              "#7201a8"
             ],
             [
              0.3333333333333333,
              "#9c179e"
             ],
             [
              0.4444444444444444,
              "#bd3786"
             ],
             [
              0.5555555555555556,
              "#d8576b"
             ],
             [
              0.6666666666666666,
              "#ed7953"
             ],
             [
              0.7777777777777778,
              "#fb9f3a"
             ],
             [
              0.8888888888888888,
              "#fdca26"
             ],
             [
              1,
              "#f0f921"
             ]
            ],
            "type": "histogram2d"
           }
          ],
          "histogram2dcontour": [
           {
            "colorbar": {
             "outlinewidth": 0,
             "ticks": ""
            },
            "colorscale": [
             [
              0,
              "#0d0887"
             ],
             [
              0.1111111111111111,
              "#46039f"
             ],
             [
              0.2222222222222222,
              "#7201a8"
             ],
             [
              0.3333333333333333,
              "#9c179e"
             ],
             [
              0.4444444444444444,
              "#bd3786"
             ],
             [
              0.5555555555555556,
              "#d8576b"
             ],
             [
              0.6666666666666666,
              "#ed7953"
             ],
             [
              0.7777777777777778,
              "#fb9f3a"
             ],
             [
              0.8888888888888888,
              "#fdca26"
             ],
             [
              1,
              "#f0f921"
             ]
            ],
            "type": "histogram2dcontour"
           }
          ],
          "mesh3d": [
           {
            "colorbar": {
             "outlinewidth": 0,
             "ticks": ""
            },
            "type": "mesh3d"
           }
          ],
          "parcoords": [
           {
            "line": {
             "colorbar": {
              "outlinewidth": 0,
              "ticks": ""
             }
            },
            "type": "parcoords"
           }
          ],
          "pie": [
           {
            "automargin": true,
            "type": "pie"
           }
          ],
          "scatter": [
           {
            "marker": {
             "colorbar": {
              "outlinewidth": 0,
              "ticks": ""
             }
            },
            "type": "scatter"
           }
          ],
          "scatter3d": [
           {
            "line": {
             "colorbar": {
              "outlinewidth": 0,
              "ticks": ""
             }
            },
            "marker": {
             "colorbar": {
              "outlinewidth": 0,
              "ticks": ""
             }
            },
            "type": "scatter3d"
           }
          ],
          "scattercarpet": [
           {
            "marker": {
             "colorbar": {
              "outlinewidth": 0,
              "ticks": ""
             }
            },
            "type": "scattercarpet"
           }
          ],
          "scattergeo": [
           {
            "marker": {
             "colorbar": {
              "outlinewidth": 0,
              "ticks": ""
             }
            },
            "type": "scattergeo"
           }
          ],
          "scattergl": [
           {
            "marker": {
             "colorbar": {
              "outlinewidth": 0,
              "ticks": ""
             }
            },
            "type": "scattergl"
           }
          ],
          "scattermapbox": [
           {
            "marker": {
             "colorbar": {
              "outlinewidth": 0,
              "ticks": ""
             }
            },
            "type": "scattermapbox"
           }
          ],
          "scatterpolar": [
           {
            "marker": {
             "colorbar": {
              "outlinewidth": 0,
              "ticks": ""
             }
            },
            "type": "scatterpolar"
           }
          ],
          "scatterpolargl": [
           {
            "marker": {
             "colorbar": {
              "outlinewidth": 0,
              "ticks": ""
             }
            },
            "type": "scatterpolargl"
           }
          ],
          "scatterternary": [
           {
            "marker": {
             "colorbar": {
              "outlinewidth": 0,
              "ticks": ""
             }
            },
            "type": "scatterternary"
           }
          ],
          "surface": [
           {
            "colorbar": {
             "outlinewidth": 0,
             "ticks": ""
            },
            "colorscale": [
             [
              0,
              "#0d0887"
             ],
             [
              0.1111111111111111,
              "#46039f"
             ],
             [
              0.2222222222222222,
              "#7201a8"
             ],
             [
              0.3333333333333333,
              "#9c179e"
             ],
             [
              0.4444444444444444,
              "#bd3786"
             ],
             [
              0.5555555555555556,
              "#d8576b"
             ],
             [
              0.6666666666666666,
              "#ed7953"
             ],
             [
              0.7777777777777778,
              "#fb9f3a"
             ],
             [
              0.8888888888888888,
              "#fdca26"
             ],
             [
              1,
              "#f0f921"
             ]
            ],
            "type": "surface"
           }
          ],
          "table": [
           {
            "cells": {
             "fill": {
              "color": "#EBF0F8"
             },
             "line": {
              "color": "white"
             }
            },
            "header": {
             "fill": {
              "color": "#C8D4E3"
             },
             "line": {
              "color": "white"
             }
            },
            "type": "table"
           }
          ]
         },
         "layout": {
          "annotationdefaults": {
           "arrowcolor": "#2a3f5f",
           "arrowhead": 0,
           "arrowwidth": 1
          },
          "autotypenumbers": "strict",
          "coloraxis": {
           "colorbar": {
            "outlinewidth": 0,
            "ticks": ""
           }
          },
          "colorscale": {
           "diverging": [
            [
             0,
             "#8e0152"
            ],
            [
             0.1,
             "#c51b7d"
            ],
            [
             0.2,
             "#de77ae"
            ],
            [
             0.3,
             "#f1b6da"
            ],
            [
             0.4,
             "#fde0ef"
            ],
            [
             0.5,
             "#f7f7f7"
            ],
            [
             0.6,
             "#e6f5d0"
            ],
            [
             0.7,
             "#b8e186"
            ],
            [
             0.8,
             "#7fbc41"
            ],
            [
             0.9,
             "#4d9221"
            ],
            [
             1,
             "#276419"
            ]
           ],
           "sequential": [
            [
             0,
             "#0d0887"
            ],
            [
             0.1111111111111111,
             "#46039f"
            ],
            [
             0.2222222222222222,
             "#7201a8"
            ],
            [
             0.3333333333333333,
             "#9c179e"
            ],
            [
             0.4444444444444444,
             "#bd3786"
            ],
            [
             0.5555555555555556,
             "#d8576b"
            ],
            [
             0.6666666666666666,
             "#ed7953"
            ],
            [
             0.7777777777777778,
             "#fb9f3a"
            ],
            [
             0.8888888888888888,
             "#fdca26"
            ],
            [
             1,
             "#f0f921"
            ]
           ],
           "sequentialminus": [
            [
             0,
             "#0d0887"
            ],
            [
             0.1111111111111111,
             "#46039f"
            ],
            [
             0.2222222222222222,
             "#7201a8"
            ],
            [
             0.3333333333333333,
             "#9c179e"
            ],
            [
             0.4444444444444444,
             "#bd3786"
            ],
            [
             0.5555555555555556,
             "#d8576b"
            ],
            [
             0.6666666666666666,
             "#ed7953"
            ],
            [
             0.7777777777777778,
             "#fb9f3a"
            ],
            [
             0.8888888888888888,
             "#fdca26"
            ],
            [
             1,
             "#f0f921"
            ]
           ]
          },
          "colorway": [
           "#636efa",
           "#EF553B",
           "#00cc96",
           "#ab63fa",
           "#FFA15A",
           "#19d3f3",
           "#FF6692",
           "#B6E880",
           "#FF97FF",
           "#FECB52"
          ],
          "font": {
           "color": "#2a3f5f"
          },
          "geo": {
           "bgcolor": "white",
           "lakecolor": "white",
           "landcolor": "#E5ECF6",
           "showlakes": true,
           "showland": true,
           "subunitcolor": "white"
          },
          "hoverlabel": {
           "align": "left"
          },
          "hovermode": "closest",
          "mapbox": {
           "style": "light"
          },
          "paper_bgcolor": "white",
          "plot_bgcolor": "#E5ECF6",
          "polar": {
           "angularaxis": {
            "gridcolor": "white",
            "linecolor": "white",
            "ticks": ""
           },
           "bgcolor": "#E5ECF6",
           "radialaxis": {
            "gridcolor": "white",
            "linecolor": "white",
            "ticks": ""
           }
          },
          "scene": {
           "xaxis": {
            "backgroundcolor": "#E5ECF6",
            "gridcolor": "white",
            "gridwidth": 2,
            "linecolor": "white",
            "showbackground": true,
            "ticks": "",
            "zerolinecolor": "white"
           },
           "yaxis": {
            "backgroundcolor": "#E5ECF6",
            "gridcolor": "white",
            "gridwidth": 2,
            "linecolor": "white",
            "showbackground": true,
            "ticks": "",
            "zerolinecolor": "white"
           },
           "zaxis": {
            "backgroundcolor": "#E5ECF6",
            "gridcolor": "white",
            "gridwidth": 2,
            "linecolor": "white",
            "showbackground": true,
            "ticks": "",
            "zerolinecolor": "white"
           }
          },
          "shapedefaults": {
           "line": {
            "color": "#2a3f5f"
           }
          },
          "ternary": {
           "aaxis": {
            "gridcolor": "white",
            "linecolor": "white",
            "ticks": ""
           },
           "baxis": {
            "gridcolor": "white",
            "linecolor": "white",
            "ticks": ""
           },
           "bgcolor": "#E5ECF6",
           "caxis": {
            "gridcolor": "white",
            "linecolor": "white",
            "ticks": ""
           }
          },
          "title": {
           "x": 0.05
          },
          "xaxis": {
           "automargin": true,
           "gridcolor": "white",
           "linecolor": "white",
           "ticks": "",
           "title": {
            "standoff": 15
           },
           "zerolinecolor": "white",
           "zerolinewidth": 2
          },
          "yaxis": {
           "automargin": true,
           "gridcolor": "white",
           "linecolor": "white",
           "ticks": "",
           "title": {
            "standoff": 15
           },
           "zerolinecolor": "white",
           "zerolinewidth": 2
          }
         }
        },
        "xaxis": {
         "anchor": "y",
         "domain": [
          0,
          1
         ],
         "title": {
          "text": "date"
         }
        },
        "yaxis": {
         "anchor": "x",
         "domain": [
          0,
          1
         ],
         "title": {
          "text": "count"
         }
        }
       }
      },
      "text/html": [
       "<div>                            <div id=\"37f1ac01-5ea0-43f3-8fef-30a2b28df241\" class=\"plotly-graph-div\" style=\"height:525px; width:100%;\"></div>            <script type=\"text/javascript\">                require([\"plotly\"], function(Plotly) {                    window.PLOTLYENV=window.PLOTLYENV || {};                                    if (document.getElementById(\"37f1ac01-5ea0-43f3-8fef-30a2b28df241\")) {                    Plotly.newPlot(                        \"37f1ac01-5ea0-43f3-8fef-30a2b28df241\",                        [{\"alignmentgroup\":\"True\",\"hovertemplate\":\"date=%{x}<br>count=%{y}<br>polarity=%{marker.color}<extra></extra>\",\"legendgroup\":\"\",\"marker\":{\"color\":[0.0784090909090909,0.07748484848484849,0.10506494205622113,0.124594243404923,0.10683600713012478,0.04721522808257503,0.08037337662337662,0.1236375911896745,0.11244598765432097,0.15507863965744403,0.09903778276080434,0.17755481917853053,0.17278138528138526,0.09681665136210589,0.08617886178861789,0.13851626016260163,0.1661458333333333,0.05648349163274536,0.10123678646934461,0.1338844476744186,0.09394195331695332,0.111853998655914,0.08872204184704185,0.07483211233211234,0.1466485507246377,0.07744682153164295,0.15790254237288137,0.16497343348336727,0.11171625563849975,0.14299106525133926,0.14204475308641973,0.1555132962275819,0.16348070090439273,0.12301217301217303,0.11737070707070708,0.023433229352347,0.09172716172716172,0.07892523080660836,0.11334967320261441,0.14299551517861375,0.16478075687753097,0.1387820512820513,0.09273497688751925,0.0856971153846154,0.12238005050505048,0.10324302134646965,0.13146464646464648,0.21074835658168992,0.12772727272727272,0.06896503646503649,0.04995791245791246,0.14444444444444446,0.0850472813238771,0.18741582491582492,0.06433492534036012,-0.008306100217864924,0.08168402777777777,0.20925925925925923,-0.03231994047619048,0.08958359101216246,0.11707259671545386,0.1852103174603175,0.05809523809523809,0.1954166666666667,0.07493734335839601,0.06399055489964581,0.02933782267115601,0.032561431623931616,0.1722579569277682,0.17843432539682538,0.0632882882882883,0.1302686202686203,0.3906705948372615,0.12040885040885041,0.11833333333333333,0.1456069971694972,0.17525709814442214,0.21160804473304476,0.09944444444444445,0.07577861952861951,0.06746031746031746,0.17496116923200256,0.08805394609084768,0.18285714285714286,0.12638888888888888,0.04166666666666667,0.08809889434889434,0.170577485380117,0.14799344799344802,0.1426812947401183,0.21303763440860216,0.02035087719298246,0.10046296296296296,0.09680926481032756,0.08226495726495726,0.04645454545454546,0.11265432098765434,0.10873842592592593,0.12454680735930736,0.05881911057692307,0.19494977678571426,0.19747619047619047,0.07289134837962964,0.10300000000000001,0.020958049886621317,-0.012121212121212118,0.006384154040404039,0.019444444444444438,0.20866003787878787,0.19628337753337757,0.1366569420917247,0.3047459893048128,0.22227083333333333,0.09015151515151515,0.17000346658549784,0.15617283950617283,0.04198402948402948,0.22298881673881674,0.17407407407407408,0.04132882882882882,0.09297348484848485,0.10687079124579124,0.03853348297792742,0.07649603174603174,0.04875779857397503,0.10176651305683564,0.18666666666666668,0.0428921568627451,0.14666666666666667,0.11791161616161615,0.03103448275862069,0.008529411764705883,0.032758620689655175,0.07653356481481481,0.16467304625199364,0.08,0.1985780423280423,0.061413043478260876,0.14854271885521889,0.05731292517006802,0.3333333333333333,0.10576923076923078,0.08037190082644628,0.12885508308895405,0.01944602272727273,0.09165100250626566,0.10749858276643989,0.13043981481481481,0.03665243271221532,0.141827512254902,0.19963636363636364,0.07141873278236915,0.02541666666666666,0.02022727272727273,0.02244910037878788,0.11326728826728827,0.15781250000000002,0.10740740740740741,0.1669011544011544,0.0835978835978836,0.10055555555555556,0.0463365800865801,0.05925925925925925,0.1486842105263158,0.03733333333333333,0.11818783068783066,0.04782407407407407,0.2237925170068027,0.0867283950617284,0.09958333333333333,0.06239669421487603,0.10348319098319096,0.09141649413388545,0.1702596618357488,0.11680440771349862,0.061339285714285714,0.16966783216783216,0.10146520146520147,0.21071428571428572,0.09946524064171124,0.0022435897435897426,0.07072916666666666,0.060185185185185196,0.16291666666666668,0.013822547508988186,0.0741111111111111,0.0369047619047619,0.05412523674242423,0.04733700642791553,0.007456140350877193,0.04043478260869565,0.0320266153599487,0.11515151515151516,0.06837944664031621,0.1326862373737374,0.19788359788359788,0.02509300595238095,0.070625,0.07354166666666666,0.13333333333333333,0.048257575757575756,0.18177083333333333,0.09,0.12686202686202686,0.13402777777777777,-0.027777777777777783,0.0625,0.02839506172839506,0.0190947940947941,0.11477272727272729,0.04871399176954732,0.1618888888888889,0.09111111111111109,0.07666666666666666,0.029687500000000002,-0.028343621399176955,0.032916666666666664,0.04062931749101962,0.07674963924963925,0.10282369146005509,0.13727272727272727,0.1111111111111111,0.328125,0.16011904761904763,0.15665509259259258,0.059030478162018854,0.11799955197132617,0.2659090909090909,0.07992424242424243,0.23264145359848504,0.19269216555801919,0.2406373517786561,0.06609848484848485,0.09479166666666666],\"coloraxis\":\"coloraxis\",\"pattern\":{\"shape\":\"\"}},\"name\":\"\",\"offsetgroup\":\"\",\"orientation\":\"v\",\"showlegend\":false,\"textposition\":\"auto\",\"type\":\"bar\",\"x\":[\"2020-12-12\",\"2020-12-13\",\"2020-12-14\",\"2020-12-15\",\"2020-12-16\",\"2020-12-17\",\"2020-12-18\",\"2020-12-19\",\"2020-12-20\",\"2020-12-21\",\"2020-12-22\",\"2020-12-23\",\"2020-12-24\",\"2020-12-25\",\"2020-12-26\",\"2020-12-27\",\"2020-12-28\",\"2020-12-29\",\"2020-12-30\",\"2020-12-31\",\"2021-01-01\",\"2021-01-02\",\"2021-01-03\",\"2021-01-04\",\"2021-01-05\",\"2021-01-06\",\"2021-01-07\",\"2021-01-08\",\"2021-01-09\",\"2021-01-10\",\"2021-01-11\",\"2021-01-12\",\"2021-01-13\",\"2021-01-14\",\"2021-01-15\",\"2021-01-16\",\"2021-01-17\",\"2021-01-18\",\"2021-01-19\",\"2021-01-20\",\"2021-01-21\",\"2021-01-22\",\"2021-01-23\",\"2021-01-24\",\"2021-01-25\",\"2021-01-26\",\"2021-01-27\",\"2021-01-28\",\"2021-01-29\",\"2021-01-30\",\"2021-01-31\",\"2021-02-01\",\"2021-02-02\",\"2021-02-03\",\"2021-02-04\",\"2021-02-05\",\"2021-02-06\",\"2021-02-07\",\"2021-02-08\",\"2021-02-09\",\"2021-02-10\",\"2021-02-11\",\"2021-02-12\",\"2021-02-13\",\"2021-02-14\",\"2021-02-15\",\"2021-02-16\",\"2021-02-17\",\"2021-02-18\",\"2021-02-19\",\"2021-02-20\",\"2021-02-21\",\"2021-02-22\",\"2021-02-23\",\"2021-02-24\",\"2021-02-25\",\"2021-02-26\",\"2021-02-27\",\"2021-02-28\",\"2021-03-01\",\"2021-03-02\",\"2021-03-03\",\"2021-03-04\",\"2021-03-05\",\"2021-03-06\",\"2021-03-07\",\"2021-03-08\",\"2021-03-09\",\"2021-03-10\",\"2021-03-11\",\"2021-03-12\",\"2021-03-13\",\"2021-03-14\",\"2021-03-15\",\"2021-03-16\",\"2021-03-17\",\"2021-03-18\",\"2021-03-19\",\"2021-03-20\",\"2021-03-21\",\"2021-03-22\",\"2021-03-23\",\"2021-03-24\",\"2021-03-25\",\"2021-03-26\",\"2021-03-27\",\"2021-03-28\",\"2021-03-29\",\"2021-03-30\",\"2021-03-31\",\"2021-04-01\",\"2021-04-02\",\"2021-04-03\",\"2021-04-04\",\"2021-04-05\",\"2021-04-06\",\"2021-04-07\",\"2021-04-08\",\"2021-04-09\",\"2021-04-10\",\"2021-04-11\",\"2021-04-12\",\"2021-04-13\",\"2021-04-14\",\"2021-04-15\",\"2021-04-16\",\"2021-04-17\",\"2021-04-18\",\"2021-04-19\",\"2021-04-20\",\"2021-04-21\",\"2021-04-22\",\"2021-05-13\",\"2021-05-14\",\"2021-05-15\",\"2021-05-16\",\"2021-05-17\",\"2021-05-18\",\"2021-05-19\",\"2021-05-20\",\"2021-05-21\",\"2021-05-22\",\"2021-05-23\",\"2021-05-24\",\"2021-05-25\",\"2021-05-26\",\"2021-05-27\",\"2021-05-28\",\"2021-05-29\",\"2021-05-30\",\"2021-05-31\",\"2021-06-01\",\"2021-06-02\",\"2021-06-03\",\"2021-06-04\",\"2021-06-05\",\"2021-06-06\",\"2021-06-07\",\"2021-06-08\",\"2021-06-09\",\"2021-06-10\",\"2021-06-11\",\"2021-06-12\",\"2021-06-13\",\"2021-06-14\",\"2021-06-15\",\"2021-06-16\",\"2021-06-17\",\"2021-06-18\",\"2021-06-19\",\"2021-06-20\",\"2021-06-21\",\"2021-06-22\",\"2021-06-23\",\"2021-06-24\",\"2021-06-25\",\"2021-06-26\",\"2021-06-27\",\"2021-06-28\",\"2021-06-29\",\"2021-06-30\",\"2021-07-01\",\"2021-07-07\",\"2021-07-08\",\"2021-07-09\",\"2021-07-10\",\"2021-07-11\",\"2021-07-12\",\"2021-07-13\",\"2021-07-14\",\"2021-07-15\",\"2021-07-16\",\"2021-07-17\",\"2021-07-18\",\"2021-07-19\",\"2021-07-20\",\"2021-07-21\",\"2021-07-22\",\"2021-07-23\",\"2021-07-24\",\"2021-07-25\",\"2021-07-26\",\"2021-07-27\",\"2021-07-28\",\"2021-07-29\",\"2021-07-30\",\"2021-07-31\",\"2021-08-01\",\"2021-08-02\",\"2021-08-03\",\"2021-08-04\",\"2021-08-05\",\"2021-08-06\",\"2021-08-07\",\"2021-08-08\",\"2021-08-09\",\"2021-08-10\",\"2021-08-11\",\"2021-08-12\",\"2021-08-13\",\"2021-08-14\",\"2021-08-15\",\"2021-08-16\",\"2021-08-17\",\"2021-08-18\",\"2021-08-19\",\"2021-08-20\",\"2021-08-21\",\"2021-08-22\",\"2021-08-23\",\"2021-08-24\",\"2021-08-25\",\"2021-08-26\",\"2021-08-27\"],\"xaxis\":\"x\",\"y\":[40,75,129,103,85,98,66,96,54,92,139,97,105,33,41,41,40,67,43,43,74,62,44,52,92,84,59,151,127,73,72,77,86,78,125,102,91,49,85,71,124,65,59,52,48,58,55,63,59,37,18,21,47,27,46,51,32,18,40,35,35,25,35,20,38,22,45,52,53,100,37,39,36,33,80,104,71,30,30,36,28,54,47,28,21,26,37,38,37,68,31,19,24,34,26,25,27,36,28,16,28,25,48,25,35,18,16,20,20,111,92,34,25,11,28,27,37,36,27,37,20,24,27,50,34,31,20,17,15,25,29,17,29,48,19,20,21,23,27,49,6,26,44,31,40,19,70,36,46,34,25,22,20,22,64,26,16,18,33,21,30,30,21,19,15,36,15,35,18,15,22,37,46,23,33,35,26,13,14,17,13,25,3,20,59,30,14,32,33,19,23,27,21,23,22,18,32,32,32,12,15,32,15,39,16,15,9,9,13,22,27,25,15,10,16,18,20,47,22,22,10,9,8,28,18,43,31,11,16,160,82,23,24,16],\"yaxis\":\"y\"}],                        {\"barmode\":\"relative\",\"coloraxis\":{\"colorbar\":{\"title\":{\"text\":\"polarity\"}},\"colorscale\":[[0.0,\"#0d0887\"],[0.1111111111111111,\"#46039f\"],[0.2222222222222222,\"#7201a8\"],[0.3333333333333333,\"#9c179e\"],[0.4444444444444444,\"#bd3786\"],[0.5555555555555556,\"#d8576b\"],[0.6666666666666666,\"#ed7953\"],[0.7777777777777778,\"#fb9f3a\"],[0.8888888888888888,\"#fdca26\"],[1.0,\"#f0f921\"]]},\"legend\":{\"tracegroupgap\":0},\"margin\":{\"t\":60},\"template\":{\"data\":{\"bar\":[{\"error_x\":{\"color\":\"#2a3f5f\"},\"error_y\":{\"color\":\"#2a3f5f\"},\"marker\":{\"line\":{\"color\":\"#E5ECF6\",\"width\":0.5},\"pattern\":{\"fillmode\":\"overlay\",\"size\":10,\"solidity\":0.2}},\"type\":\"bar\"}],\"barpolar\":[{\"marker\":{\"line\":{\"color\":\"#E5ECF6\",\"width\":0.5},\"pattern\":{\"fillmode\":\"overlay\",\"size\":10,\"solidity\":0.2}},\"type\":\"barpolar\"}],\"carpet\":[{\"aaxis\":{\"endlinecolor\":\"#2a3f5f\",\"gridcolor\":\"white\",\"linecolor\":\"white\",\"minorgridcolor\":\"white\",\"startlinecolor\":\"#2a3f5f\"},\"baxis\":{\"endlinecolor\":\"#2a3f5f\",\"gridcolor\":\"white\",\"linecolor\":\"white\",\"minorgridcolor\":\"white\",\"startlinecolor\":\"#2a3f5f\"},\"type\":\"carpet\"}],\"choropleth\":[{\"colorbar\":{\"outlinewidth\":0,\"ticks\":\"\"},\"type\":\"choropleth\"}],\"contour\":[{\"colorbar\":{\"outlinewidth\":0,\"ticks\":\"\"},\"colorscale\":[[0.0,\"#0d0887\"],[0.1111111111111111,\"#46039f\"],[0.2222222222222222,\"#7201a8\"],[0.3333333333333333,\"#9c179e\"],[0.4444444444444444,\"#bd3786\"],[0.5555555555555556,\"#d8576b\"],[0.6666666666666666,\"#ed7953\"],[0.7777777777777778,\"#fb9f3a\"],[0.8888888888888888,\"#fdca26\"],[1.0,\"#f0f921\"]],\"type\":\"contour\"}],\"contourcarpet\":[{\"colorbar\":{\"outlinewidth\":0,\"ticks\":\"\"},\"type\":\"contourcarpet\"}],\"heatmap\":[{\"colorbar\":{\"outlinewidth\":0,\"ticks\":\"\"},\"colorscale\":[[0.0,\"#0d0887\"],[0.1111111111111111,\"#46039f\"],[0.2222222222222222,\"#7201a8\"],[0.3333333333333333,\"#9c179e\"],[0.4444444444444444,\"#bd3786\"],[0.5555555555555556,\"#d8576b\"],[0.6666666666666666,\"#ed7953\"],[0.7777777777777778,\"#fb9f3a\"],[0.8888888888888888,\"#fdca26\"],[1.0,\"#f0f921\"]],\"type\":\"heatmap\"}],\"heatmapgl\":[{\"colorbar\":{\"outlinewidth\":0,\"ticks\":\"\"},\"colorscale\":[[0.0,\"#0d0887\"],[0.1111111111111111,\"#46039f\"],[0.2222222222222222,\"#7201a8\"],[0.3333333333333333,\"#9c179e\"],[0.4444444444444444,\"#bd3786\"],[0.5555555555555556,\"#d8576b\"],[0.6666666666666666,\"#ed7953\"],[0.7777777777777778,\"#fb9f3a\"],[0.8888888888888888,\"#fdca26\"],[1.0,\"#f0f921\"]],\"type\":\"heatmapgl\"}],\"histogram\":[{\"marker\":{\"pattern\":{\"fillmode\":\"overlay\",\"size\":10,\"solidity\":0.2}},\"type\":\"histogram\"}],\"histogram2d\":[{\"colorbar\":{\"outlinewidth\":0,\"ticks\":\"\"},\"colorscale\":[[0.0,\"#0d0887\"],[0.1111111111111111,\"#46039f\"],[0.2222222222222222,\"#7201a8\"],[0.3333333333333333,\"#9c179e\"],[0.4444444444444444,\"#bd3786\"],[0.5555555555555556,\"#d8576b\"],[0.6666666666666666,\"#ed7953\"],[0.7777777777777778,\"#fb9f3a\"],[0.8888888888888888,\"#fdca26\"],[1.0,\"#f0f921\"]],\"type\":\"histogram2d\"}],\"histogram2dcontour\":[{\"colorbar\":{\"outlinewidth\":0,\"ticks\":\"\"},\"colorscale\":[[0.0,\"#0d0887\"],[0.1111111111111111,\"#46039f\"],[0.2222222222222222,\"#7201a8\"],[0.3333333333333333,\"#9c179e\"],[0.4444444444444444,\"#bd3786\"],[0.5555555555555556,\"#d8576b\"],[0.6666666666666666,\"#ed7953\"],[0.7777777777777778,\"#fb9f3a\"],[0.8888888888888888,\"#fdca26\"],[1.0,\"#f0f921\"]],\"type\":\"histogram2dcontour\"}],\"mesh3d\":[{\"colorbar\":{\"outlinewidth\":0,\"ticks\":\"\"},\"type\":\"mesh3d\"}],\"parcoords\":[{\"line\":{\"colorbar\":{\"outlinewidth\":0,\"ticks\":\"\"}},\"type\":\"parcoords\"}],\"pie\":[{\"automargin\":true,\"type\":\"pie\"}],\"scatter\":[{\"marker\":{\"colorbar\":{\"outlinewidth\":0,\"ticks\":\"\"}},\"type\":\"scatter\"}],\"scatter3d\":[{\"line\":{\"colorbar\":{\"outlinewidth\":0,\"ticks\":\"\"}},\"marker\":{\"colorbar\":{\"outlinewidth\":0,\"ticks\":\"\"}},\"type\":\"scatter3d\"}],\"scattercarpet\":[{\"marker\":{\"colorbar\":{\"outlinewidth\":0,\"ticks\":\"\"}},\"type\":\"scattercarpet\"}],\"scattergeo\":[{\"marker\":{\"colorbar\":{\"outlinewidth\":0,\"ticks\":\"\"}},\"type\":\"scattergeo\"}],\"scattergl\":[{\"marker\":{\"colorbar\":{\"outlinewidth\":0,\"ticks\":\"\"}},\"type\":\"scattergl\"}],\"scattermapbox\":[{\"marker\":{\"colorbar\":{\"outlinewidth\":0,\"ticks\":\"\"}},\"type\":\"scattermapbox\"}],\"scatterpolar\":[{\"marker\":{\"colorbar\":{\"outlinewidth\":0,\"ticks\":\"\"}},\"type\":\"scatterpolar\"}],\"scatterpolargl\":[{\"marker\":{\"colorbar\":{\"outlinewidth\":0,\"ticks\":\"\"}},\"type\":\"scatterpolargl\"}],\"scatterternary\":[{\"marker\":{\"colorbar\":{\"outlinewidth\":0,\"ticks\":\"\"}},\"type\":\"scatterternary\"}],\"surface\":[{\"colorbar\":{\"outlinewidth\":0,\"ticks\":\"\"},\"colorscale\":[[0.0,\"#0d0887\"],[0.1111111111111111,\"#46039f\"],[0.2222222222222222,\"#7201a8\"],[0.3333333333333333,\"#9c179e\"],[0.4444444444444444,\"#bd3786\"],[0.5555555555555556,\"#d8576b\"],[0.6666666666666666,\"#ed7953\"],[0.7777777777777778,\"#fb9f3a\"],[0.8888888888888888,\"#fdca26\"],[1.0,\"#f0f921\"]],\"type\":\"surface\"}],\"table\":[{\"cells\":{\"fill\":{\"color\":\"#EBF0F8\"},\"line\":{\"color\":\"white\"}},\"header\":{\"fill\":{\"color\":\"#C8D4E3\"},\"line\":{\"color\":\"white\"}},\"type\":\"table\"}]},\"layout\":{\"annotationdefaults\":{\"arrowcolor\":\"#2a3f5f\",\"arrowhead\":0,\"arrowwidth\":1},\"autotypenumbers\":\"strict\",\"coloraxis\":{\"colorbar\":{\"outlinewidth\":0,\"ticks\":\"\"}},\"colorscale\":{\"diverging\":[[0,\"#8e0152\"],[0.1,\"#c51b7d\"],[0.2,\"#de77ae\"],[0.3,\"#f1b6da\"],[0.4,\"#fde0ef\"],[0.5,\"#f7f7f7\"],[0.6,\"#e6f5d0\"],[0.7,\"#b8e186\"],[0.8,\"#7fbc41\"],[0.9,\"#4d9221\"],[1,\"#276419\"]],\"sequential\":[[0.0,\"#0d0887\"],[0.1111111111111111,\"#46039f\"],[0.2222222222222222,\"#7201a8\"],[0.3333333333333333,\"#9c179e\"],[0.4444444444444444,\"#bd3786\"],[0.5555555555555556,\"#d8576b\"],[0.6666666666666666,\"#ed7953\"],[0.7777777777777778,\"#fb9f3a\"],[0.8888888888888888,\"#fdca26\"],[1.0,\"#f0f921\"]],\"sequentialminus\":[[0.0,\"#0d0887\"],[0.1111111111111111,\"#46039f\"],[0.2222222222222222,\"#7201a8\"],[0.3333333333333333,\"#9c179e\"],[0.4444444444444444,\"#bd3786\"],[0.5555555555555556,\"#d8576b\"],[0.6666666666666666,\"#ed7953\"],[0.7777777777777778,\"#fb9f3a\"],[0.8888888888888888,\"#fdca26\"],[1.0,\"#f0f921\"]]},\"colorway\":[\"#636efa\",\"#EF553B\",\"#00cc96\",\"#ab63fa\",\"#FFA15A\",\"#19d3f3\",\"#FF6692\",\"#B6E880\",\"#FF97FF\",\"#FECB52\"],\"font\":{\"color\":\"#2a3f5f\"},\"geo\":{\"bgcolor\":\"white\",\"lakecolor\":\"white\",\"landcolor\":\"#E5ECF6\",\"showlakes\":true,\"showland\":true,\"subunitcolor\":\"white\"},\"hoverlabel\":{\"align\":\"left\"},\"hovermode\":\"closest\",\"mapbox\":{\"style\":\"light\"},\"paper_bgcolor\":\"white\",\"plot_bgcolor\":\"#E5ECF6\",\"polar\":{\"angularaxis\":{\"gridcolor\":\"white\",\"linecolor\":\"white\",\"ticks\":\"\"},\"bgcolor\":\"#E5ECF6\",\"radialaxis\":{\"gridcolor\":\"white\",\"linecolor\":\"white\",\"ticks\":\"\"}},\"scene\":{\"xaxis\":{\"backgroundcolor\":\"#E5ECF6\",\"gridcolor\":\"white\",\"gridwidth\":2,\"linecolor\":\"white\",\"showbackground\":true,\"ticks\":\"\",\"zerolinecolor\":\"white\"},\"yaxis\":{\"backgroundcolor\":\"#E5ECF6\",\"gridcolor\":\"white\",\"gridwidth\":2,\"linecolor\":\"white\",\"showbackground\":true,\"ticks\":\"\",\"zerolinecolor\":\"white\"},\"zaxis\":{\"backgroundcolor\":\"#E5ECF6\",\"gridcolor\":\"white\",\"gridwidth\":2,\"linecolor\":\"white\",\"showbackground\":true,\"ticks\":\"\",\"zerolinecolor\":\"white\"}},\"shapedefaults\":{\"line\":{\"color\":\"#2a3f5f\"}},\"ternary\":{\"aaxis\":{\"gridcolor\":\"white\",\"linecolor\":\"white\",\"ticks\":\"\"},\"baxis\":{\"gridcolor\":\"white\",\"linecolor\":\"white\",\"ticks\":\"\"},\"bgcolor\":\"#E5ECF6\",\"caxis\":{\"gridcolor\":\"white\",\"linecolor\":\"white\",\"ticks\":\"\"}},\"title\":{\"x\":0.05},\"xaxis\":{\"automargin\":true,\"gridcolor\":\"white\",\"linecolor\":\"white\",\"ticks\":\"\",\"title\":{\"standoff\":15},\"zerolinecolor\":\"white\",\"zerolinewidth\":2},\"yaxis\":{\"automargin\":true,\"gridcolor\":\"white\",\"linecolor\":\"white\",\"ticks\":\"\",\"title\":{\"standoff\":15},\"zerolinecolor\":\"white\",\"zerolinewidth\":2}}},\"xaxis\":{\"anchor\":\"y\",\"domain\":[0.0,1.0],\"title\":{\"text\":\"date\"}},\"yaxis\":{\"anchor\":\"x\",\"domain\":[0.0,1.0],\"title\":{\"text\":\"count\"}}},                        {\"responsive\": true}                    ).then(function(){\n",
       "                            \n",
       "var gd = document.getElementById('37f1ac01-5ea0-43f3-8fef-30a2b28df241');\n",
       "var x = new MutationObserver(function (mutations, observer) {{\n",
       "        var display = window.getComputedStyle(gd).display;\n",
       "        if (!display || display === 'none') {{\n",
       "            console.log([gd, 'removed!']);\n",
       "            Plotly.purge(gd);\n",
       "            observer.disconnect();\n",
       "        }}\n",
       "}});\n",
       "\n",
       "// Listen for the removal of the full notebook cells\n",
       "var notebookContainer = gd.closest('#notebook-container');\n",
       "if (notebookContainer) {{\n",
       "    x.observe(notebookContainer, {childList: true});\n",
       "}}\n",
       "\n",
       "// Listen for the clearing of the current output cell\n",
       "var outputEl = gd.closest('.output');\n",
       "if (outputEl) {{\n",
       "    x.observe(outputEl, {childList: true});\n",
       "}}\n",
       "\n",
       "                        })                };                });            </script>        </div>"
      ]
     },
     "metadata": {},
     "output_type": "display_data"
    }
   ],
   "source": [
    "pfizy_df, pfizy_timeline = filter_by_vaccy(df, ['pfizer', 'biontech'])\n",
    "print(pfizy_df.shape)\n",
    "fig = px.bar(pfizy_timeline, x='date', y='count', color='polarity')\n",
    "fig.show()"
   ]
  },
  {
   "cell_type": "code",
   "execution_count": 127,
   "metadata": {
    "ExecuteTime": {
     "end_time": "2021-03-22T18:45:20.654760Z",
     "start_time": "2021-03-22T18:45:20.454544Z"
    },
    "id": "TKMxZ_IyXxa3"
   },
   "outputs": [
    {
     "name": "stdout",
     "output_type": "stream",
     "text": [
      "(19816, 19)\n"
     ]
    },
    {
     "data": {
      "application/vnd.plotly.v1+json": {
       "config": {
        "plotlyServerURL": "https://plot.ly"
       },
       "data": [
        {
         "alignmentgroup": "True",
         "hovertemplate": "date=%{x}<br>count=%{y}<br>polarity=%{marker.color}<extra></extra>",
         "legendgroup": "",
         "marker": {
          "color": [
           0.19318181818181818,
           0.5,
           0.025974025974025972,
           0,
           1,
           -1.734723475976807e-18,
           0.5,
           0,
           0,
           0.6,
           0.06495535714285713,
           0.06070730141951072,
           0.08952917568542569,
           0.058058745465215535,
           0.1917020689255242,
           0.08231900024464682,
           0.06424687888852292,
           0.10573616198616201,
           0.114871632996633,
           0.06235256289604115,
           0.06253137730748248,
           0.04612263380879104,
           0.03665901438628711,
           0.060670554127585374,
           0.048925264550264545,
           0.12388888888888888,
           0.03662805353886083,
           0.08947589934432039,
           0.15974853633056757,
           0.1063560928986966,
           0.0699982014673855,
           0.08669487847222225,
           0.12770182291666665,
           0.16487832341269842,
           0.13154844630788873,
           0.1607022873201259,
           0.13033755523989898,
           0.10673250897581255,
           0.08321597504899744,
           0.06662902027005646,
           0.09666425390355418,
           0.0903907010182096,
           0.07993327801827801,
           0.12762635281385284,
           0.0755018246546567,
           0.07975739538239539,
           0.1286477434013719,
           0.0781151767041084,
           0.12617814316072518,
           0.12405233097666424,
           0.10337599980610675,
           0.1239263327012221,
           0.12112457583648993,
           0.18207651755651758,
           0.12034734639354207,
           0.1455027670128718,
           0.1020381310418904,
           0.11103443933874262,
           0.07500113500504127,
           0.08747850047012258,
           0.07345032436489637,
           0.12290076243201244,
           0.11586724279097611,
           0.08807846378158879,
           0.08364993282008722,
           0.09310762449725217,
           0.09168105961770344,
           0.14757469939541176,
           0.12137073190784135,
           0.10529261193376052,
           0.10686328428393996,
           0.10983136217449942,
           0.0655193039328462,
           0.07130712924549731,
           0.08325506669415149,
           0.12024253603454943,
           0.13411271652830092,
           0.10083936882710445,
           0.07421625423340862,
           0.0993329835230667,
           0.09389523708775462,
           0.12843860705266957,
           0.0868364945708696,
           0.09226129189508096,
           0.019760878489326776,
           0.0865872846165185,
           0.11653597518552876,
           0.06722489766462822,
           0.1148432890855457,
           0.07132844409592291,
           0.08279713024464934,
           0.09293507328296548,
           0.06440039453843133,
           0.020954941116231432,
           0.11005350308328828,
           0.08693109723781019,
           0.11030880727977191,
           0.23332735286116438,
           0.14117154305956392,
           0.09467822659948484,
           0.13538023584468536,
           0.08988690877024212,
           0.13511748186227354,
           0.07592319023569025,
           0.1860549371263657,
           0.1730336951605608,
           0.08383325794214468,
           0.06441719829877725,
           0.1344078808922559,
           0.12129812152133582,
           0.06492741010456679,
           0.062008978675645345,
           0.11277068631520686,
           0.08673001078197705,
           0.07330513416181518,
           0.06808469308469309,
           0.05581935425685425,
           0.05076374511157122,
           0.10219469890228818,
           0.11041552573932094,
           0.11124274218222005,
           0.1040015197127266,
           0.10955144091013658,
           0.0737222960992908,
           0.11110413039223628,
           0.08208514343637582,
           0.08474418430961402,
           0.0547110615079365,
           0.06335223169364691,
           0.13305580050950422,
           0.08006819569319569,
           0.08911082221350082,
           0.09088347573880053,
           0.08190984193844507,
           0.10789772727272728,
           0.05952495421245422,
           0.10776417288385373,
           0.0905720740635367,
           0.06397639522639524,
           0.033314800047256184,
           0.07984345620709259,
           0.08407340116279072,
           0.11340998091820452,
           0.09113433156154677,
           0.08931473040848041,
           0.08750717401285585,
           0.09388110799875508,
           0.16509163567262158,
           0.11943792896917894,
           0.08978174603174603,
           0.0503508879113718,
           0.07469736809846034,
           0.08274972382115241,
           0.06025252525252525,
           0.10808325602968463,
           0.11138193009641872,
           0.055223542935407335,
           0.08375426494585374,
           0.12414307227783793,
           0.06947831978319784,
           0.004135900510900514,
           0.1149439510652746,
           0.09884448223733938,
           0.10724336605748515,
           0.1399817057942059,
           0.07271423608725198,
           0.07249386332266768,
           0.0701408835138994,
           0.09649040117079886,
           0.07047286871544296,
           0.05581058342423671,
           0.06839811005364438,
           0.09143118686868688,
           0.10515317265317266,
           0.1461019345238095,
           0.07078621031746031,
           0.06882960035133949,
           0.06660323709536307,
           0.08138139277749667,
           0.13155211872953812,
           0.07590180197762167,
           0.10048076923076923,
           0.12068372803666924,
           0.0782965514323987,
           0.11016414141414141,
           0.02259986020923521,
           0.027544401730599646
          ],
          "coloraxis": "coloraxis",
          "pattern": {
           "shape": ""
          }
         },
         "name": "",
         "offsetgroup": "",
         "orientation": "v",
         "showlegend": false,
         "textposition": "auto",
         "type": "bar",
         "x": [
          "2020-12-15",
          "2020-12-16",
          "2020-12-17",
          "2020-12-19",
          "2020-12-22",
          "2020-12-23",
          "2021-01-06",
          "2021-01-16",
          "2021-01-18",
          "2021-01-26",
          "2021-02-07",
          "2021-02-08",
          "2021-02-09",
          "2021-02-10",
          "2021-02-11",
          "2021-02-12",
          "2021-02-13",
          "2021-02-14",
          "2021-02-15",
          "2021-02-16",
          "2021-02-17",
          "2021-02-18",
          "2021-02-19",
          "2021-02-20",
          "2021-02-21",
          "2021-02-22",
          "2021-02-23",
          "2021-02-24",
          "2021-02-25",
          "2021-02-26",
          "2021-02-27",
          "2021-02-28",
          "2021-03-01",
          "2021-03-02",
          "2021-03-03",
          "2021-03-04",
          "2021-03-05",
          "2021-03-06",
          "2021-03-07",
          "2021-03-08",
          "2021-03-09",
          "2021-03-10",
          "2021-03-11",
          "2021-03-12",
          "2021-03-13",
          "2021-03-14",
          "2021-03-15",
          "2021-03-16",
          "2021-03-17",
          "2021-03-18",
          "2021-03-19",
          "2021-03-20",
          "2021-03-21",
          "2021-03-22",
          "2021-03-23",
          "2021-03-24",
          "2021-03-25",
          "2021-03-26",
          "2021-03-27",
          "2021-03-28",
          "2021-03-29",
          "2021-03-30",
          "2021-03-31",
          "2021-04-01",
          "2021-04-02",
          "2021-04-03",
          "2021-04-04",
          "2021-04-05",
          "2021-04-06",
          "2021-04-07",
          "2021-04-08",
          "2021-04-09",
          "2021-04-10",
          "2021-04-11",
          "2021-04-12",
          "2021-04-13",
          "2021-04-14",
          "2021-04-15",
          "2021-04-16",
          "2021-04-17",
          "2021-04-18",
          "2021-04-19",
          "2021-04-20",
          "2021-04-21",
          "2021-04-22",
          "2021-05-13",
          "2021-05-14",
          "2021-05-15",
          "2021-05-16",
          "2021-05-17",
          "2021-05-18",
          "2021-05-19",
          "2021-05-20",
          "2021-05-21",
          "2021-05-22",
          "2021-05-23",
          "2021-05-24",
          "2021-05-25",
          "2021-05-26",
          "2021-05-27",
          "2021-05-28",
          "2021-05-29",
          "2021-05-30",
          "2021-05-31",
          "2021-06-01",
          "2021-06-02",
          "2021-06-03",
          "2021-06-04",
          "2021-06-05",
          "2021-06-06",
          "2021-06-07",
          "2021-06-08",
          "2021-06-09",
          "2021-06-10",
          "2021-06-11",
          "2021-06-12",
          "2021-06-13",
          "2021-06-14",
          "2021-06-15",
          "2021-06-16",
          "2021-06-17",
          "2021-06-18",
          "2021-06-19",
          "2021-06-20",
          "2021-06-21",
          "2021-06-22",
          "2021-06-23",
          "2021-06-24",
          "2021-06-25",
          "2021-06-26",
          "2021-06-27",
          "2021-06-28",
          "2021-06-29",
          "2021-06-30",
          "2021-07-01",
          "2021-07-07",
          "2021-07-08",
          "2021-07-09",
          "2021-07-10",
          "2021-07-11",
          "2021-07-12",
          "2021-07-13",
          "2021-07-14",
          "2021-07-15",
          "2021-07-16",
          "2021-07-17",
          "2021-07-18",
          "2021-07-19",
          "2021-07-20",
          "2021-07-21",
          "2021-07-22",
          "2021-07-23",
          "2021-07-24",
          "2021-07-25",
          "2021-07-26",
          "2021-07-27",
          "2021-07-28",
          "2021-07-29",
          "2021-07-30",
          "2021-07-31",
          "2021-08-01",
          "2021-08-02",
          "2021-08-03",
          "2021-08-04",
          "2021-08-05",
          "2021-08-06",
          "2021-08-07",
          "2021-08-08",
          "2021-08-09",
          "2021-08-10",
          "2021-08-11",
          "2021-08-12",
          "2021-08-13",
          "2021-08-14",
          "2021-08-15",
          "2021-08-16",
          "2021-08-17",
          "2021-08-18",
          "2021-08-19",
          "2021-08-20",
          "2021-08-21",
          "2021-08-22",
          "2021-08-23",
          "2021-08-24",
          "2021-08-25",
          "2021-08-26",
          "2021-08-27"
         ],
         "xaxis": "x",
         "y": [
          1,
          1,
          2,
          1,
          1,
          4,
          2,
          1,
          1,
          1,
          28,
          43,
          60,
          71,
          66,
          87,
          69,
          39,
          36,
          46,
          82,
          48,
          55,
          48,
          21,
          30,
          48,
          57,
          104,
          107,
          72,
          63,
          32,
          75,
          139,
          96,
          120,
          84,
          67,
          95,
          92,
          109,
          125,
          150,
          108,
          55,
          116,
          227,
          183,
          174,
          149,
          113,
          88,
          125,
          115,
          167,
          133,
          122,
          130,
          76,
          138,
          182,
          206,
          195,
          168,
          141,
          73,
          127,
          185,
          373,
          254,
          255,
          214,
          144,
          171,
          323,
          385,
          358,
          378,
          248,
          174,
          200,
          222,
          296,
          58,
          93,
          147,
          132,
          113,
          118,
          131,
          149,
          163,
          31,
          96,
          135,
          127,
          244,
          144,
          114,
          109,
          75,
          54,
          60,
          105,
          67,
          72,
          57,
          56,
          28,
          71,
          63,
          73,
          89,
          87,
          52,
          28,
          69,
          112,
          83,
          79,
          87,
          69,
          47,
          98,
          142,
          128,
          96,
          87,
          81,
          78,
          91,
          404,
          183,
          81,
          26,
          94,
          97,
          74,
          57,
          66,
          86,
          76,
          79,
          104,
          66,
          51,
          71,
          65,
          55,
          62,
          103,
          91,
          45,
          70,
          66,
          59,
          107,
          75,
          41,
          74,
          51,
          63,
          76,
          195,
          126,
          46,
          63,
          176,
          202,
          336,
          131,
          90,
          74,
          56,
          60,
          115,
          127,
          77,
          124,
          61,
          52,
          119,
          79,
          83,
          200,
          48
         ],
         "yaxis": "y"
        }
       ],
       "layout": {
        "barmode": "relative",
        "coloraxis": {
         "colorbar": {
          "title": {
           "text": "polarity"
          }
         },
         "colorscale": [
          [
           0,
           "#0d0887"
          ],
          [
           0.1111111111111111,
           "#46039f"
          ],
          [
           0.2222222222222222,
           "#7201a8"
          ],
          [
           0.3333333333333333,
           "#9c179e"
          ],
          [
           0.4444444444444444,
           "#bd3786"
          ],
          [
           0.5555555555555556,
           "#d8576b"
          ],
          [
           0.6666666666666666,
           "#ed7953"
          ],
          [
           0.7777777777777778,
           "#fb9f3a"
          ],
          [
           0.8888888888888888,
           "#fdca26"
          ],
          [
           1,
           "#f0f921"
          ]
         ]
        },
        "legend": {
         "tracegroupgap": 0
        },
        "margin": {
         "t": 60
        },
        "template": {
         "data": {
          "bar": [
           {
            "error_x": {
             "color": "#2a3f5f"
            },
            "error_y": {
             "color": "#2a3f5f"
            },
            "marker": {
             "line": {
              "color": "#E5ECF6",
              "width": 0.5
             },
             "pattern": {
              "fillmode": "overlay",
              "size": 10,
              "solidity": 0.2
             }
            },
            "type": "bar"
           }
          ],
          "barpolar": [
           {
            "marker": {
             "line": {
              "color": "#E5ECF6",
              "width": 0.5
             },
             "pattern": {
              "fillmode": "overlay",
              "size": 10,
              "solidity": 0.2
             }
            },
            "type": "barpolar"
           }
          ],
          "carpet": [
           {
            "aaxis": {
             "endlinecolor": "#2a3f5f",
             "gridcolor": "white",
             "linecolor": "white",
             "minorgridcolor": "white",
             "startlinecolor": "#2a3f5f"
            },
            "baxis": {
             "endlinecolor": "#2a3f5f",
             "gridcolor": "white",
             "linecolor": "white",
             "minorgridcolor": "white",
             "startlinecolor": "#2a3f5f"
            },
            "type": "carpet"
           }
          ],
          "choropleth": [
           {
            "colorbar": {
             "outlinewidth": 0,
             "ticks": ""
            },
            "type": "choropleth"
           }
          ],
          "contour": [
           {
            "colorbar": {
             "outlinewidth": 0,
             "ticks": ""
            },
            "colorscale": [
             [
              0,
              "#0d0887"
             ],
             [
              0.1111111111111111,
              "#46039f"
             ],
             [
              0.2222222222222222,
              "#7201a8"
             ],
             [
              0.3333333333333333,
              "#9c179e"
             ],
             [
              0.4444444444444444,
              "#bd3786"
             ],
             [
              0.5555555555555556,
              "#d8576b"
             ],
             [
              0.6666666666666666,
              "#ed7953"
             ],
             [
              0.7777777777777778,
              "#fb9f3a"
             ],
             [
              0.8888888888888888,
              "#fdca26"
             ],
             [
              1,
              "#f0f921"
             ]
            ],
            "type": "contour"
           }
          ],
          "contourcarpet": [
           {
            "colorbar": {
             "outlinewidth": 0,
             "ticks": ""
            },
            "type": "contourcarpet"
           }
          ],
          "heatmap": [
           {
            "colorbar": {
             "outlinewidth": 0,
             "ticks": ""
            },
            "colorscale": [
             [
              0,
              "#0d0887"
             ],
             [
              0.1111111111111111,
              "#46039f"
             ],
             [
              0.2222222222222222,
              "#7201a8"
             ],
             [
              0.3333333333333333,
              "#9c179e"
             ],
             [
              0.4444444444444444,
              "#bd3786"
             ],
             [
              0.5555555555555556,
              "#d8576b"
             ],
             [
              0.6666666666666666,
              "#ed7953"
             ],
             [
              0.7777777777777778,
              "#fb9f3a"
             ],
             [
              0.8888888888888888,
              "#fdca26"
             ],
             [
              1,
              "#f0f921"
             ]
            ],
            "type": "heatmap"
           }
          ],
          "heatmapgl": [
           {
            "colorbar": {
             "outlinewidth": 0,
             "ticks": ""
            },
            "colorscale": [
             [
              0,
              "#0d0887"
             ],
             [
              0.1111111111111111,
              "#46039f"
             ],
             [
              0.2222222222222222,
              "#7201a8"
             ],
             [
              0.3333333333333333,
              "#9c179e"
             ],
             [
              0.4444444444444444,
              "#bd3786"
             ],
             [
              0.5555555555555556,
              "#d8576b"
             ],
             [
              0.6666666666666666,
              "#ed7953"
             ],
             [
              0.7777777777777778,
              "#fb9f3a"
             ],
             [
              0.8888888888888888,
              "#fdca26"
             ],
             [
              1,
              "#f0f921"
             ]
            ],
            "type": "heatmapgl"
           }
          ],
          "histogram": [
           {
            "marker": {
             "pattern": {
              "fillmode": "overlay",
              "size": 10,
              "solidity": 0.2
             }
            },
            "type": "histogram"
           }
          ],
          "histogram2d": [
           {
            "colorbar": {
             "outlinewidth": 0,
             "ticks": ""
            },
            "colorscale": [
             [
              0,
              "#0d0887"
             ],
             [
              0.1111111111111111,
              "#46039f"
             ],
             [
              0.2222222222222222,
              "#7201a8"
             ],
             [
              0.3333333333333333,
              "#9c179e"
             ],
             [
              0.4444444444444444,
              "#bd3786"
             ],
             [
              0.5555555555555556,
              "#d8576b"
             ],
             [
              0.6666666666666666,
              "#ed7953"
             ],
             [
              0.7777777777777778,
              "#fb9f3a"
             ],
             [
              0.8888888888888888,
              "#fdca26"
             ],
             [
              1,
              "#f0f921"
             ]
            ],
            "type": "histogram2d"
           }
          ],
          "histogram2dcontour": [
           {
            "colorbar": {
             "outlinewidth": 0,
             "ticks": ""
            },
            "colorscale": [
             [
              0,
              "#0d0887"
             ],
             [
              0.1111111111111111,
              "#46039f"
             ],
             [
              0.2222222222222222,
              "#7201a8"
             ],
             [
              0.3333333333333333,
              "#9c179e"
             ],
             [
              0.4444444444444444,
              "#bd3786"
             ],
             [
              0.5555555555555556,
              "#d8576b"
             ],
             [
              0.6666666666666666,
              "#ed7953"
             ],
             [
              0.7777777777777778,
              "#fb9f3a"
             ],
             [
              0.8888888888888888,
              "#fdca26"
             ],
             [
              1,
              "#f0f921"
             ]
            ],
            "type": "histogram2dcontour"
           }
          ],
          "mesh3d": [
           {
            "colorbar": {
             "outlinewidth": 0,
             "ticks": ""
            },
            "type": "mesh3d"
           }
          ],
          "parcoords": [
           {
            "line": {
             "colorbar": {
              "outlinewidth": 0,
              "ticks": ""
             }
            },
            "type": "parcoords"
           }
          ],
          "pie": [
           {
            "automargin": true,
            "type": "pie"
           }
          ],
          "scatter": [
           {
            "marker": {
             "colorbar": {
              "outlinewidth": 0,
              "ticks": ""
             }
            },
            "type": "scatter"
           }
          ],
          "scatter3d": [
           {
            "line": {
             "colorbar": {
              "outlinewidth": 0,
              "ticks": ""
             }
            },
            "marker": {
             "colorbar": {
              "outlinewidth": 0,
              "ticks": ""
             }
            },
            "type": "scatter3d"
           }
          ],
          "scattercarpet": [
           {
            "marker": {
             "colorbar": {
              "outlinewidth": 0,
              "ticks": ""
             }
            },
            "type": "scattercarpet"
           }
          ],
          "scattergeo": [
           {
            "marker": {
             "colorbar": {
              "outlinewidth": 0,
              "ticks": ""
             }
            },
            "type": "scattergeo"
           }
          ],
          "scattergl": [
           {
            "marker": {
             "colorbar": {
              "outlinewidth": 0,
              "ticks": ""
             }
            },
            "type": "scattergl"
           }
          ],
          "scattermapbox": [
           {
            "marker": {
             "colorbar": {
              "outlinewidth": 0,
              "ticks": ""
             }
            },
            "type": "scattermapbox"
           }
          ],
          "scatterpolar": [
           {
            "marker": {
             "colorbar": {
              "outlinewidth": 0,
              "ticks": ""
             }
            },
            "type": "scatterpolar"
           }
          ],
          "scatterpolargl": [
           {
            "marker": {
             "colorbar": {
              "outlinewidth": 0,
              "ticks": ""
             }
            },
            "type": "scatterpolargl"
           }
          ],
          "scatterternary": [
           {
            "marker": {
             "colorbar": {
              "outlinewidth": 0,
              "ticks": ""
             }
            },
            "type": "scatterternary"
           }
          ],
          "surface": [
           {
            "colorbar": {
             "outlinewidth": 0,
             "ticks": ""
            },
            "colorscale": [
             [
              0,
              "#0d0887"
             ],
             [
              0.1111111111111111,
              "#46039f"
             ],
             [
              0.2222222222222222,
              "#7201a8"
             ],
             [
              0.3333333333333333,
              "#9c179e"
             ],
             [
              0.4444444444444444,
              "#bd3786"
             ],
             [
              0.5555555555555556,
              "#d8576b"
             ],
             [
              0.6666666666666666,
              "#ed7953"
             ],
             [
              0.7777777777777778,
              "#fb9f3a"
             ],
             [
              0.8888888888888888,
              "#fdca26"
             ],
             [
              1,
              "#f0f921"
             ]
            ],
            "type": "surface"
           }
          ],
          "table": [
           {
            "cells": {
             "fill": {
              "color": "#EBF0F8"
             },
             "line": {
              "color": "white"
             }
            },
            "header": {
             "fill": {
              "color": "#C8D4E3"
             },
             "line": {
              "color": "white"
             }
            },
            "type": "table"
           }
          ]
         },
         "layout": {
          "annotationdefaults": {
           "arrowcolor": "#2a3f5f",
           "arrowhead": 0,
           "arrowwidth": 1
          },
          "autotypenumbers": "strict",
          "coloraxis": {
           "colorbar": {
            "outlinewidth": 0,
            "ticks": ""
           }
          },
          "colorscale": {
           "diverging": [
            [
             0,
             "#8e0152"
            ],
            [
             0.1,
             "#c51b7d"
            ],
            [
             0.2,
             "#de77ae"
            ],
            [
             0.3,
             "#f1b6da"
            ],
            [
             0.4,
             "#fde0ef"
            ],
            [
             0.5,
             "#f7f7f7"
            ],
            [
             0.6,
             "#e6f5d0"
            ],
            [
             0.7,
             "#b8e186"
            ],
            [
             0.8,
             "#7fbc41"
            ],
            [
             0.9,
             "#4d9221"
            ],
            [
             1,
             "#276419"
            ]
           ],
           "sequential": [
            [
             0,
             "#0d0887"
            ],
            [
             0.1111111111111111,
             "#46039f"
            ],
            [
             0.2222222222222222,
             "#7201a8"
            ],
            [
             0.3333333333333333,
             "#9c179e"
            ],
            [
             0.4444444444444444,
             "#bd3786"
            ],
            [
             0.5555555555555556,
             "#d8576b"
            ],
            [
             0.6666666666666666,
             "#ed7953"
            ],
            [
             0.7777777777777778,
             "#fb9f3a"
            ],
            [
             0.8888888888888888,
             "#fdca26"
            ],
            [
             1,
             "#f0f921"
            ]
           ],
           "sequentialminus": [
            [
             0,
             "#0d0887"
            ],
            [
             0.1111111111111111,
             "#46039f"
            ],
            [
             0.2222222222222222,
             "#7201a8"
            ],
            [
             0.3333333333333333,
             "#9c179e"
            ],
            [
             0.4444444444444444,
             "#bd3786"
            ],
            [
             0.5555555555555556,
             "#d8576b"
            ],
            [
             0.6666666666666666,
             "#ed7953"
            ],
            [
             0.7777777777777778,
             "#fb9f3a"
            ],
            [
             0.8888888888888888,
             "#fdca26"
            ],
            [
             1,
             "#f0f921"
            ]
           ]
          },
          "colorway": [
           "#636efa",
           "#EF553B",
           "#00cc96",
           "#ab63fa",
           "#FFA15A",
           "#19d3f3",
           "#FF6692",
           "#B6E880",
           "#FF97FF",
           "#FECB52"
          ],
          "font": {
           "color": "#2a3f5f"
          },
          "geo": {
           "bgcolor": "white",
           "lakecolor": "white",
           "landcolor": "#E5ECF6",
           "showlakes": true,
           "showland": true,
           "subunitcolor": "white"
          },
          "hoverlabel": {
           "align": "left"
          },
          "hovermode": "closest",
          "mapbox": {
           "style": "light"
          },
          "paper_bgcolor": "white",
          "plot_bgcolor": "#E5ECF6",
          "polar": {
           "angularaxis": {
            "gridcolor": "white",
            "linecolor": "white",
            "ticks": ""
           },
           "bgcolor": "#E5ECF6",
           "radialaxis": {
            "gridcolor": "white",
            "linecolor": "white",
            "ticks": ""
           }
          },
          "scene": {
           "xaxis": {
            "backgroundcolor": "#E5ECF6",
            "gridcolor": "white",
            "gridwidth": 2,
            "linecolor": "white",
            "showbackground": true,
            "ticks": "",
            "zerolinecolor": "white"
           },
           "yaxis": {
            "backgroundcolor": "#E5ECF6",
            "gridcolor": "white",
            "gridwidth": 2,
            "linecolor": "white",
            "showbackground": true,
            "ticks": "",
            "zerolinecolor": "white"
           },
           "zaxis": {
            "backgroundcolor": "#E5ECF6",
            "gridcolor": "white",
            "gridwidth": 2,
            "linecolor": "white",
            "showbackground": true,
            "ticks": "",
            "zerolinecolor": "white"
           }
          },
          "shapedefaults": {
           "line": {
            "color": "#2a3f5f"
           }
          },
          "ternary": {
           "aaxis": {
            "gridcolor": "white",
            "linecolor": "white",
            "ticks": ""
           },
           "baxis": {
            "gridcolor": "white",
            "linecolor": "white",
            "ticks": ""
           },
           "bgcolor": "#E5ECF6",
           "caxis": {
            "gridcolor": "white",
            "linecolor": "white",
            "ticks": ""
           }
          },
          "title": {
           "x": 0.05
          },
          "xaxis": {
           "automargin": true,
           "gridcolor": "white",
           "linecolor": "white",
           "ticks": "",
           "title": {
            "standoff": 15
           },
           "zerolinecolor": "white",
           "zerolinewidth": 2
          },
          "yaxis": {
           "automargin": true,
           "gridcolor": "white",
           "linecolor": "white",
           "ticks": "",
           "title": {
            "standoff": 15
           },
           "zerolinecolor": "white",
           "zerolinewidth": 2
          }
         }
        },
        "xaxis": {
         "anchor": "y",
         "domain": [
          0,
          1
         ],
         "title": {
          "text": "date"
         }
        },
        "yaxis": {
         "anchor": "x",
         "domain": [
          0,
          1
         ],
         "title": {
          "text": "count"
         }
        }
       }
      },
      "text/html": [
       "<div>                            <div id=\"28538efb-e85b-4880-b5ef-4ec1f6791b11\" class=\"plotly-graph-div\" style=\"height:525px; width:100%;\"></div>            <script type=\"text/javascript\">                require([\"plotly\"], function(Plotly) {                    window.PLOTLYENV=window.PLOTLYENV || {};                                    if (document.getElementById(\"28538efb-e85b-4880-b5ef-4ec1f6791b11\")) {                    Plotly.newPlot(                        \"28538efb-e85b-4880-b5ef-4ec1f6791b11\",                        [{\"alignmentgroup\":\"True\",\"hovertemplate\":\"date=%{x}<br>count=%{y}<br>polarity=%{marker.color}<extra></extra>\",\"legendgroup\":\"\",\"marker\":{\"color\":[0.19318181818181818,0.5,0.025974025974025972,0.0,1.0,-1.734723475976807e-18,0.5,0.0,0.0,0.6,0.06495535714285713,0.06070730141951072,0.08952917568542569,0.058058745465215535,0.1917020689255242,0.08231900024464682,0.06424687888852292,0.10573616198616201,0.114871632996633,0.06235256289604115,0.06253137730748248,0.04612263380879104,0.03665901438628711,0.060670554127585374,0.048925264550264545,0.12388888888888888,0.03662805353886083,0.08947589934432039,0.15974853633056757,0.1063560928986966,0.0699982014673855,0.08669487847222225,0.12770182291666665,0.16487832341269842,0.13154844630788873,0.1607022873201259,0.13033755523989898,0.10673250897581255,0.08321597504899744,0.06662902027005646,0.09666425390355418,0.0903907010182096,0.07993327801827801,0.12762635281385284,0.0755018246546567,0.07975739538239539,0.1286477434013719,0.0781151767041084,0.12617814316072518,0.12405233097666424,0.10337599980610675,0.1239263327012221,0.12112457583648993,0.18207651755651758,0.12034734639354207,0.1455027670128718,0.1020381310418904,0.11103443933874262,0.07500113500504127,0.08747850047012258,0.07345032436489637,0.12290076243201244,0.11586724279097611,0.08807846378158879,0.08364993282008722,0.09310762449725217,0.09168105961770344,0.14757469939541176,0.12137073190784135,0.10529261193376052,0.10686328428393996,0.10983136217449942,0.0655193039328462,0.07130712924549731,0.08325506669415149,0.12024253603454943,0.13411271652830092,0.10083936882710445,0.07421625423340862,0.0993329835230667,0.09389523708775462,0.12843860705266957,0.0868364945708696,0.09226129189508096,0.019760878489326776,0.0865872846165185,0.11653597518552876,0.06722489766462822,0.1148432890855457,0.07132844409592291,0.08279713024464934,0.09293507328296548,0.06440039453843133,0.020954941116231432,0.11005350308328828,0.08693109723781019,0.11030880727977191,0.23332735286116438,0.14117154305956392,0.09467822659948484,0.13538023584468536,0.08988690877024212,0.13511748186227354,0.07592319023569025,0.1860549371263657,0.1730336951605608,0.08383325794214468,0.06441719829877725,0.1344078808922559,0.12129812152133582,0.06492741010456679,0.062008978675645345,0.11277068631520686,0.08673001078197705,0.07330513416181518,0.06808469308469309,0.05581935425685425,0.05076374511157122,0.10219469890228818,0.11041552573932094,0.11124274218222005,0.1040015197127266,0.10955144091013658,0.0737222960992908,0.11110413039223628,0.08208514343637582,0.08474418430961402,0.0547110615079365,0.06335223169364691,0.13305580050950422,0.08006819569319569,0.08911082221350082,0.09088347573880053,0.08190984193844507,0.10789772727272728,0.05952495421245422,0.10776417288385373,0.0905720740635367,0.06397639522639524,0.033314800047256184,0.07984345620709259,0.08407340116279072,0.11340998091820452,0.09113433156154677,0.08931473040848041,0.08750717401285585,0.09388110799875508,0.16509163567262158,0.11943792896917894,0.08978174603174603,0.0503508879113718,0.07469736809846034,0.08274972382115241,0.06025252525252525,0.10808325602968463,0.11138193009641872,0.055223542935407335,0.08375426494585374,0.12414307227783793,0.06947831978319784,0.004135900510900514,0.1149439510652746,0.09884448223733938,0.10724336605748515,0.1399817057942059,0.07271423608725198,0.07249386332266768,0.0701408835138994,0.09649040117079886,0.07047286871544296,0.05581058342423671,0.06839811005364438,0.09143118686868688,0.10515317265317266,0.1461019345238095,0.07078621031746031,0.06882960035133949,0.06660323709536307,0.08138139277749667,0.13155211872953812,0.07590180197762167,0.10048076923076923,0.12068372803666924,0.0782965514323987,0.11016414141414141,0.02259986020923521,0.027544401730599646],\"coloraxis\":\"coloraxis\",\"pattern\":{\"shape\":\"\"}},\"name\":\"\",\"offsetgroup\":\"\",\"orientation\":\"v\",\"showlegend\":false,\"textposition\":\"auto\",\"type\":\"bar\",\"x\":[\"2020-12-15\",\"2020-12-16\",\"2020-12-17\",\"2020-12-19\",\"2020-12-22\",\"2020-12-23\",\"2021-01-06\",\"2021-01-16\",\"2021-01-18\",\"2021-01-26\",\"2021-02-07\",\"2021-02-08\",\"2021-02-09\",\"2021-02-10\",\"2021-02-11\",\"2021-02-12\",\"2021-02-13\",\"2021-02-14\",\"2021-02-15\",\"2021-02-16\",\"2021-02-17\",\"2021-02-18\",\"2021-02-19\",\"2021-02-20\",\"2021-02-21\",\"2021-02-22\",\"2021-02-23\",\"2021-02-24\",\"2021-02-25\",\"2021-02-26\",\"2021-02-27\",\"2021-02-28\",\"2021-03-01\",\"2021-03-02\",\"2021-03-03\",\"2021-03-04\",\"2021-03-05\",\"2021-03-06\",\"2021-03-07\",\"2021-03-08\",\"2021-03-09\",\"2021-03-10\",\"2021-03-11\",\"2021-03-12\",\"2021-03-13\",\"2021-03-14\",\"2021-03-15\",\"2021-03-16\",\"2021-03-17\",\"2021-03-18\",\"2021-03-19\",\"2021-03-20\",\"2021-03-21\",\"2021-03-22\",\"2021-03-23\",\"2021-03-24\",\"2021-03-25\",\"2021-03-26\",\"2021-03-27\",\"2021-03-28\",\"2021-03-29\",\"2021-03-30\",\"2021-03-31\",\"2021-04-01\",\"2021-04-02\",\"2021-04-03\",\"2021-04-04\",\"2021-04-05\",\"2021-04-06\",\"2021-04-07\",\"2021-04-08\",\"2021-04-09\",\"2021-04-10\",\"2021-04-11\",\"2021-04-12\",\"2021-04-13\",\"2021-04-14\",\"2021-04-15\",\"2021-04-16\",\"2021-04-17\",\"2021-04-18\",\"2021-04-19\",\"2021-04-20\",\"2021-04-21\",\"2021-04-22\",\"2021-05-13\",\"2021-05-14\",\"2021-05-15\",\"2021-05-16\",\"2021-05-17\",\"2021-05-18\",\"2021-05-19\",\"2021-05-20\",\"2021-05-21\",\"2021-05-22\",\"2021-05-23\",\"2021-05-24\",\"2021-05-25\",\"2021-05-26\",\"2021-05-27\",\"2021-05-28\",\"2021-05-29\",\"2021-05-30\",\"2021-05-31\",\"2021-06-01\",\"2021-06-02\",\"2021-06-03\",\"2021-06-04\",\"2021-06-05\",\"2021-06-06\",\"2021-06-07\",\"2021-06-08\",\"2021-06-09\",\"2021-06-10\",\"2021-06-11\",\"2021-06-12\",\"2021-06-13\",\"2021-06-14\",\"2021-06-15\",\"2021-06-16\",\"2021-06-17\",\"2021-06-18\",\"2021-06-19\",\"2021-06-20\",\"2021-06-21\",\"2021-06-22\",\"2021-06-23\",\"2021-06-24\",\"2021-06-25\",\"2021-06-26\",\"2021-06-27\",\"2021-06-28\",\"2021-06-29\",\"2021-06-30\",\"2021-07-01\",\"2021-07-07\",\"2021-07-08\",\"2021-07-09\",\"2021-07-10\",\"2021-07-11\",\"2021-07-12\",\"2021-07-13\",\"2021-07-14\",\"2021-07-15\",\"2021-07-16\",\"2021-07-17\",\"2021-07-18\",\"2021-07-19\",\"2021-07-20\",\"2021-07-21\",\"2021-07-22\",\"2021-07-23\",\"2021-07-24\",\"2021-07-25\",\"2021-07-26\",\"2021-07-27\",\"2021-07-28\",\"2021-07-29\",\"2021-07-30\",\"2021-07-31\",\"2021-08-01\",\"2021-08-02\",\"2021-08-03\",\"2021-08-04\",\"2021-08-05\",\"2021-08-06\",\"2021-08-07\",\"2021-08-08\",\"2021-08-09\",\"2021-08-10\",\"2021-08-11\",\"2021-08-12\",\"2021-08-13\",\"2021-08-14\",\"2021-08-15\",\"2021-08-16\",\"2021-08-17\",\"2021-08-18\",\"2021-08-19\",\"2021-08-20\",\"2021-08-21\",\"2021-08-22\",\"2021-08-23\",\"2021-08-24\",\"2021-08-25\",\"2021-08-26\",\"2021-08-27\"],\"xaxis\":\"x\",\"y\":[1,1,2,1,1,4,2,1,1,1,28,43,60,71,66,87,69,39,36,46,82,48,55,48,21,30,48,57,104,107,72,63,32,75,139,96,120,84,67,95,92,109,125,150,108,55,116,227,183,174,149,113,88,125,115,167,133,122,130,76,138,182,206,195,168,141,73,127,185,373,254,255,214,144,171,323,385,358,378,248,174,200,222,296,58,93,147,132,113,118,131,149,163,31,96,135,127,244,144,114,109,75,54,60,105,67,72,57,56,28,71,63,73,89,87,52,28,69,112,83,79,87,69,47,98,142,128,96,87,81,78,91,404,183,81,26,94,97,74,57,66,86,76,79,104,66,51,71,65,55,62,103,91,45,70,66,59,107,75,41,74,51,63,76,195,126,46,63,176,202,336,131,90,74,56,60,115,127,77,124,61,52,119,79,83,200,48],\"yaxis\":\"y\"}],                        {\"barmode\":\"relative\",\"coloraxis\":{\"colorbar\":{\"title\":{\"text\":\"polarity\"}},\"colorscale\":[[0.0,\"#0d0887\"],[0.1111111111111111,\"#46039f\"],[0.2222222222222222,\"#7201a8\"],[0.3333333333333333,\"#9c179e\"],[0.4444444444444444,\"#bd3786\"],[0.5555555555555556,\"#d8576b\"],[0.6666666666666666,\"#ed7953\"],[0.7777777777777778,\"#fb9f3a\"],[0.8888888888888888,\"#fdca26\"],[1.0,\"#f0f921\"]]},\"legend\":{\"tracegroupgap\":0},\"margin\":{\"t\":60},\"template\":{\"data\":{\"bar\":[{\"error_x\":{\"color\":\"#2a3f5f\"},\"error_y\":{\"color\":\"#2a3f5f\"},\"marker\":{\"line\":{\"color\":\"#E5ECF6\",\"width\":0.5},\"pattern\":{\"fillmode\":\"overlay\",\"size\":10,\"solidity\":0.2}},\"type\":\"bar\"}],\"barpolar\":[{\"marker\":{\"line\":{\"color\":\"#E5ECF6\",\"width\":0.5},\"pattern\":{\"fillmode\":\"overlay\",\"size\":10,\"solidity\":0.2}},\"type\":\"barpolar\"}],\"carpet\":[{\"aaxis\":{\"endlinecolor\":\"#2a3f5f\",\"gridcolor\":\"white\",\"linecolor\":\"white\",\"minorgridcolor\":\"white\",\"startlinecolor\":\"#2a3f5f\"},\"baxis\":{\"endlinecolor\":\"#2a3f5f\",\"gridcolor\":\"white\",\"linecolor\":\"white\",\"minorgridcolor\":\"white\",\"startlinecolor\":\"#2a3f5f\"},\"type\":\"carpet\"}],\"choropleth\":[{\"colorbar\":{\"outlinewidth\":0,\"ticks\":\"\"},\"type\":\"choropleth\"}],\"contour\":[{\"colorbar\":{\"outlinewidth\":0,\"ticks\":\"\"},\"colorscale\":[[0.0,\"#0d0887\"],[0.1111111111111111,\"#46039f\"],[0.2222222222222222,\"#7201a8\"],[0.3333333333333333,\"#9c179e\"],[0.4444444444444444,\"#bd3786\"],[0.5555555555555556,\"#d8576b\"],[0.6666666666666666,\"#ed7953\"],[0.7777777777777778,\"#fb9f3a\"],[0.8888888888888888,\"#fdca26\"],[1.0,\"#f0f921\"]],\"type\":\"contour\"}],\"contourcarpet\":[{\"colorbar\":{\"outlinewidth\":0,\"ticks\":\"\"},\"type\":\"contourcarpet\"}],\"heatmap\":[{\"colorbar\":{\"outlinewidth\":0,\"ticks\":\"\"},\"colorscale\":[[0.0,\"#0d0887\"],[0.1111111111111111,\"#46039f\"],[0.2222222222222222,\"#7201a8\"],[0.3333333333333333,\"#9c179e\"],[0.4444444444444444,\"#bd3786\"],[0.5555555555555556,\"#d8576b\"],[0.6666666666666666,\"#ed7953\"],[0.7777777777777778,\"#fb9f3a\"],[0.8888888888888888,\"#fdca26\"],[1.0,\"#f0f921\"]],\"type\":\"heatmap\"}],\"heatmapgl\":[{\"colorbar\":{\"outlinewidth\":0,\"ticks\":\"\"},\"colorscale\":[[0.0,\"#0d0887\"],[0.1111111111111111,\"#46039f\"],[0.2222222222222222,\"#7201a8\"],[0.3333333333333333,\"#9c179e\"],[0.4444444444444444,\"#bd3786\"],[0.5555555555555556,\"#d8576b\"],[0.6666666666666666,\"#ed7953\"],[0.7777777777777778,\"#fb9f3a\"],[0.8888888888888888,\"#fdca26\"],[1.0,\"#f0f921\"]],\"type\":\"heatmapgl\"}],\"histogram\":[{\"marker\":{\"pattern\":{\"fillmode\":\"overlay\",\"size\":10,\"solidity\":0.2}},\"type\":\"histogram\"}],\"histogram2d\":[{\"colorbar\":{\"outlinewidth\":0,\"ticks\":\"\"},\"colorscale\":[[0.0,\"#0d0887\"],[0.1111111111111111,\"#46039f\"],[0.2222222222222222,\"#7201a8\"],[0.3333333333333333,\"#9c179e\"],[0.4444444444444444,\"#bd3786\"],[0.5555555555555556,\"#d8576b\"],[0.6666666666666666,\"#ed7953\"],[0.7777777777777778,\"#fb9f3a\"],[0.8888888888888888,\"#fdca26\"],[1.0,\"#f0f921\"]],\"type\":\"histogram2d\"}],\"histogram2dcontour\":[{\"colorbar\":{\"outlinewidth\":0,\"ticks\":\"\"},\"colorscale\":[[0.0,\"#0d0887\"],[0.1111111111111111,\"#46039f\"],[0.2222222222222222,\"#7201a8\"],[0.3333333333333333,\"#9c179e\"],[0.4444444444444444,\"#bd3786\"],[0.5555555555555556,\"#d8576b\"],[0.6666666666666666,\"#ed7953\"],[0.7777777777777778,\"#fb9f3a\"],[0.8888888888888888,\"#fdca26\"],[1.0,\"#f0f921\"]],\"type\":\"histogram2dcontour\"}],\"mesh3d\":[{\"colorbar\":{\"outlinewidth\":0,\"ticks\":\"\"},\"type\":\"mesh3d\"}],\"parcoords\":[{\"line\":{\"colorbar\":{\"outlinewidth\":0,\"ticks\":\"\"}},\"type\":\"parcoords\"}],\"pie\":[{\"automargin\":true,\"type\":\"pie\"}],\"scatter\":[{\"marker\":{\"colorbar\":{\"outlinewidth\":0,\"ticks\":\"\"}},\"type\":\"scatter\"}],\"scatter3d\":[{\"line\":{\"colorbar\":{\"outlinewidth\":0,\"ticks\":\"\"}},\"marker\":{\"colorbar\":{\"outlinewidth\":0,\"ticks\":\"\"}},\"type\":\"scatter3d\"}],\"scattercarpet\":[{\"marker\":{\"colorbar\":{\"outlinewidth\":0,\"ticks\":\"\"}},\"type\":\"scattercarpet\"}],\"scattergeo\":[{\"marker\":{\"colorbar\":{\"outlinewidth\":0,\"ticks\":\"\"}},\"type\":\"scattergeo\"}],\"scattergl\":[{\"marker\":{\"colorbar\":{\"outlinewidth\":0,\"ticks\":\"\"}},\"type\":\"scattergl\"}],\"scattermapbox\":[{\"marker\":{\"colorbar\":{\"outlinewidth\":0,\"ticks\":\"\"}},\"type\":\"scattermapbox\"}],\"scatterpolar\":[{\"marker\":{\"colorbar\":{\"outlinewidth\":0,\"ticks\":\"\"}},\"type\":\"scatterpolar\"}],\"scatterpolargl\":[{\"marker\":{\"colorbar\":{\"outlinewidth\":0,\"ticks\":\"\"}},\"type\":\"scatterpolargl\"}],\"scatterternary\":[{\"marker\":{\"colorbar\":{\"outlinewidth\":0,\"ticks\":\"\"}},\"type\":\"scatterternary\"}],\"surface\":[{\"colorbar\":{\"outlinewidth\":0,\"ticks\":\"\"},\"colorscale\":[[0.0,\"#0d0887\"],[0.1111111111111111,\"#46039f\"],[0.2222222222222222,\"#7201a8\"],[0.3333333333333333,\"#9c179e\"],[0.4444444444444444,\"#bd3786\"],[0.5555555555555556,\"#d8576b\"],[0.6666666666666666,\"#ed7953\"],[0.7777777777777778,\"#fb9f3a\"],[0.8888888888888888,\"#fdca26\"],[1.0,\"#f0f921\"]],\"type\":\"surface\"}],\"table\":[{\"cells\":{\"fill\":{\"color\":\"#EBF0F8\"},\"line\":{\"color\":\"white\"}},\"header\":{\"fill\":{\"color\":\"#C8D4E3\"},\"line\":{\"color\":\"white\"}},\"type\":\"table\"}]},\"layout\":{\"annotationdefaults\":{\"arrowcolor\":\"#2a3f5f\",\"arrowhead\":0,\"arrowwidth\":1},\"autotypenumbers\":\"strict\",\"coloraxis\":{\"colorbar\":{\"outlinewidth\":0,\"ticks\":\"\"}},\"colorscale\":{\"diverging\":[[0,\"#8e0152\"],[0.1,\"#c51b7d\"],[0.2,\"#de77ae\"],[0.3,\"#f1b6da\"],[0.4,\"#fde0ef\"],[0.5,\"#f7f7f7\"],[0.6,\"#e6f5d0\"],[0.7,\"#b8e186\"],[0.8,\"#7fbc41\"],[0.9,\"#4d9221\"],[1,\"#276419\"]],\"sequential\":[[0.0,\"#0d0887\"],[0.1111111111111111,\"#46039f\"],[0.2222222222222222,\"#7201a8\"],[0.3333333333333333,\"#9c179e\"],[0.4444444444444444,\"#bd3786\"],[0.5555555555555556,\"#d8576b\"],[0.6666666666666666,\"#ed7953\"],[0.7777777777777778,\"#fb9f3a\"],[0.8888888888888888,\"#fdca26\"],[1.0,\"#f0f921\"]],\"sequentialminus\":[[0.0,\"#0d0887\"],[0.1111111111111111,\"#46039f\"],[0.2222222222222222,\"#7201a8\"],[0.3333333333333333,\"#9c179e\"],[0.4444444444444444,\"#bd3786\"],[0.5555555555555556,\"#d8576b\"],[0.6666666666666666,\"#ed7953\"],[0.7777777777777778,\"#fb9f3a\"],[0.8888888888888888,\"#fdca26\"],[1.0,\"#f0f921\"]]},\"colorway\":[\"#636efa\",\"#EF553B\",\"#00cc96\",\"#ab63fa\",\"#FFA15A\",\"#19d3f3\",\"#FF6692\",\"#B6E880\",\"#FF97FF\",\"#FECB52\"],\"font\":{\"color\":\"#2a3f5f\"},\"geo\":{\"bgcolor\":\"white\",\"lakecolor\":\"white\",\"landcolor\":\"#E5ECF6\",\"showlakes\":true,\"showland\":true,\"subunitcolor\":\"white\"},\"hoverlabel\":{\"align\":\"left\"},\"hovermode\":\"closest\",\"mapbox\":{\"style\":\"light\"},\"paper_bgcolor\":\"white\",\"plot_bgcolor\":\"#E5ECF6\",\"polar\":{\"angularaxis\":{\"gridcolor\":\"white\",\"linecolor\":\"white\",\"ticks\":\"\"},\"bgcolor\":\"#E5ECF6\",\"radialaxis\":{\"gridcolor\":\"white\",\"linecolor\":\"white\",\"ticks\":\"\"}},\"scene\":{\"xaxis\":{\"backgroundcolor\":\"#E5ECF6\",\"gridcolor\":\"white\",\"gridwidth\":2,\"linecolor\":\"white\",\"showbackground\":true,\"ticks\":\"\",\"zerolinecolor\":\"white\"},\"yaxis\":{\"backgroundcolor\":\"#E5ECF6\",\"gridcolor\":\"white\",\"gridwidth\":2,\"linecolor\":\"white\",\"showbackground\":true,\"ticks\":\"\",\"zerolinecolor\":\"white\"},\"zaxis\":{\"backgroundcolor\":\"#E5ECF6\",\"gridcolor\":\"white\",\"gridwidth\":2,\"linecolor\":\"white\",\"showbackground\":true,\"ticks\":\"\",\"zerolinecolor\":\"white\"}},\"shapedefaults\":{\"line\":{\"color\":\"#2a3f5f\"}},\"ternary\":{\"aaxis\":{\"gridcolor\":\"white\",\"linecolor\":\"white\",\"ticks\":\"\"},\"baxis\":{\"gridcolor\":\"white\",\"linecolor\":\"white\",\"ticks\":\"\"},\"bgcolor\":\"#E5ECF6\",\"caxis\":{\"gridcolor\":\"white\",\"linecolor\":\"white\",\"ticks\":\"\"}},\"title\":{\"x\":0.05},\"xaxis\":{\"automargin\":true,\"gridcolor\":\"white\",\"linecolor\":\"white\",\"ticks\":\"\",\"title\":{\"standoff\":15},\"zerolinecolor\":\"white\",\"zerolinewidth\":2},\"yaxis\":{\"automargin\":true,\"gridcolor\":\"white\",\"linecolor\":\"white\",\"ticks\":\"\",\"title\":{\"standoff\":15},\"zerolinecolor\":\"white\",\"zerolinewidth\":2}}},\"xaxis\":{\"anchor\":\"y\",\"domain\":[0.0,1.0],\"title\":{\"text\":\"date\"}},\"yaxis\":{\"anchor\":\"x\",\"domain\":[0.0,1.0],\"title\":{\"text\":\"count\"}}},                        {\"responsive\": true}                    ).then(function(){\n",
       "                            \n",
       "var gd = document.getElementById('28538efb-e85b-4880-b5ef-4ec1f6791b11');\n",
       "var x = new MutationObserver(function (mutations, observer) {{\n",
       "        var display = window.getComputedStyle(gd).display;\n",
       "        if (!display || display === 'none') {{\n",
       "            console.log([gd, 'removed!']);\n",
       "            Plotly.purge(gd);\n",
       "            observer.disconnect();\n",
       "        }}\n",
       "}});\n",
       "\n",
       "// Listen for the removal of the full notebook cells\n",
       "var notebookContainer = gd.closest('#notebook-container');\n",
       "if (notebookContainer) {{\n",
       "    x.observe(notebookContainer, {childList: true});\n",
       "}}\n",
       "\n",
       "// Listen for the clearing of the current output cell\n",
       "var outputEl = gd.closest('.output');\n",
       "if (outputEl) {{\n",
       "    x.observe(outputEl, {childList: true});\n",
       "}}\n",
       "\n",
       "                        })                };                });            </script>        </div>"
      ]
     },
     "metadata": {},
     "output_type": "display_data"
    }
   ],
   "source": [
    "moderna_df, moderna_timeline = filter_by_vaccy(df, ['moderna'])\n",
    "print(moderna_df.shape)\n",
    "fig = px.bar(moderna_timeline, x='date', y='count', color='polarity')\n",
    "fig.show()"
   ]
  },
  {
   "cell_type": "code",
   "execution_count": 128,
   "metadata": {
    "ExecuteTime": {
     "end_time": "2021-03-22T18:45:20.763215Z",
     "start_time": "2021-03-22T18:45:20.657509Z"
    }
   },
   "outputs": [
    {
     "data": {
      "text/html": [
       "<div>\n",
       "<style scoped>\n",
       "    .dataframe tbody tr th:only-of-type {\n",
       "        vertical-align: middle;\n",
       "    }\n",
       "\n",
       "    .dataframe tbody tr th {\n",
       "        vertical-align: top;\n",
       "    }\n",
       "\n",
       "    .dataframe thead th {\n",
       "        text-align: right;\n",
       "    }\n",
       "</style>\n",
       "<table border=\"1\" class=\"dataframe\">\n",
       "  <thead>\n",
       "    <tr style=\"text-align: right;\">\n",
       "      <th></th>\n",
       "      <th>id</th>\n",
       "      <th>user_name</th>\n",
       "      <th>user_location</th>\n",
       "      <th>user_description</th>\n",
       "      <th>user_created</th>\n",
       "      <th>user_followers</th>\n",
       "      <th>user_friends</th>\n",
       "      <th>user_favourites</th>\n",
       "      <th>user_verified</th>\n",
       "      <th>date</th>\n",
       "      <th>text</th>\n",
       "      <th>hashtags</th>\n",
       "      <th>source</th>\n",
       "      <th>retweets</th>\n",
       "      <th>favorites</th>\n",
       "      <th>is_retweet</th>\n",
       "      <th>polarity</th>\n",
       "      <th>subjectivity</th>\n",
       "      <th>sentiment</th>\n",
       "    </tr>\n",
       "  </thead>\n",
       "  <tbody>\n",
       "    <tr>\n",
       "      <th>0</th>\n",
       "      <td>1400484186411044865</td>\n",
       "      <td>Rosie</td>\n",
       "      <td>Delta Quadrant</td>\n",
       "      <td>Particle 010 also known as the Mother of God, but, I mostly just go by Rosie, or Rose, not one to stand on ceremony.</td>\n",
       "      <td>2016-08-28 23:14:58</td>\n",
       "      <td>64</td>\n",
       "      <td>177</td>\n",
       "      <td>6477</td>\n",
       "      <td>False</td>\n",
       "      <td>2021-06-03</td>\n",
       "      <td>@IPACCanada When people get sick or die from #astrazeneca who pays the bills?  RE: Ontario esp for items not covere… https://t.co/zX6gzGbYLZ</td>\n",
       "      <td>['astrazeneca']</td>\n",
       "      <td>Twitter Web App</td>\n",
       "      <td>0</td>\n",
       "      <td>0</td>\n",
       "      <td>False</td>\n",
       "      <td>-0.714286</td>\n",
       "      <td>0.857143</td>\n",
       "      <td>negative</td>\n",
       "    </tr>\n",
       "    <tr>\n",
       "      <th>1</th>\n",
       "      <td>1381560425410662406</td>\n",
       "      <td>Phil.one</td>\n",
       "      <td>Florida, USA</td>\n",
       "      <td>Retired Physics Teacher.  Sharing is caring.  Heavily invested in Crypto since 2012.  More money than I'll ever spend.  Donate regularly.  Husband. Father. Free</td>\n",
       "      <td>2009-12-21 06:09:33</td>\n",
       "      <td>97</td>\n",
       "      <td>192</td>\n",
       "      <td>220</td>\n",
       "      <td>False</td>\n",
       "      <td>2021-04-12</td>\n",
       "      <td>Don't be selfish!\\n\\n#COVID19 #coronavirus #vaccine #VaccinePassports #spirituality #awaken #viral #AstraZeneca… https://t.co/99TGRw7n8S</td>\n",
       "      <td>['COVID19', 'coronavirus', 'vaccine', 'VaccinePassports', 'spirituality', 'awaken', 'viral', 'AstraZeneca']</td>\n",
       "      <td>Twitter Web App</td>\n",
       "      <td>0</td>\n",
       "      <td>0</td>\n",
       "      <td>False</td>\n",
       "      <td>-0.625000</td>\n",
       "      <td>1.000000</td>\n",
       "      <td>negative</td>\n",
       "    </tr>\n",
       "    <tr>\n",
       "      <th>2</th>\n",
       "      <td>1375455313554505731</td>\n",
       "      <td>Sarah #CO2ISLIFE #COVIDisaSeasonalRespiratoryVirus</td>\n",
       "      <td>SW England, UK</td>\n",
       "      <td>Don’t let MSM and organised provocations divide us. We need to work together.</td>\n",
       "      <td>2011-07-03 09:50:25</td>\n",
       "      <td>2441</td>\n",
       "      <td>3659</td>\n",
       "      <td>61534</td>\n",
       "      <td>False</td>\n",
       "      <td>2021-03-26</td>\n",
       "      <td>@SandraWeeden @therealbiostate People are suggesting that the #AstraZenecavaccine isn’t as dangerous as the… https://t.co/LH1bkf2pM8</td>\n",
       "      <td>['AstraZenecavaccine']</td>\n",
       "      <td>Twitter for iPhone</td>\n",
       "      <td>3</td>\n",
       "      <td>3</td>\n",
       "      <td>False</td>\n",
       "      <td>-0.600000</td>\n",
       "      <td>0.900000</td>\n",
       "      <td>negative</td>\n",
       "    </tr>\n",
       "    <tr>\n",
       "      <th>3</th>\n",
       "      <td>1405856617074135047</td>\n",
       "      <td>Jane Brown</td>\n",
       "      <td>Toronto, ON</td>\n",
       "      <td>Assoc. News Director @zoomerradio @classical963fm / The Morning Zoom with Sam &amp; Jane https://t.co/uZ39jqk6S9 / @BladderCancerCA Advocate #InMemoryOfMom / #WeTheNorth</td>\n",
       "      <td>2013-02-28 16:39:40</td>\n",
       "      <td>2940</td>\n",
       "      <td>1665</td>\n",
       "      <td>7869</td>\n",
       "      <td>False</td>\n",
       "      <td>2021-06-18</td>\n",
       "      <td>Confused, frustrated or worried if you've received 2 doses of #AstraZeneca? Don't be, say the experts, despite new… https://t.co/KTY30wIB60</td>\n",
       "      <td>['AstraZeneca']</td>\n",
       "      <td>Twitter Web App</td>\n",
       "      <td>3</td>\n",
       "      <td>8</td>\n",
       "      <td>False</td>\n",
       "      <td>-0.550000</td>\n",
       "      <td>0.450000</td>\n",
       "      <td>negative</td>\n",
       "    </tr>\n",
       "    <tr>\n",
       "      <th>4</th>\n",
       "      <td>1374419458299596804</td>\n",
       "      <td>Dr.med. Bernd Kynast</td>\n",
       "      <td>Milky way,  I can see aliens !</td>\n",
       "      <td>Medical Oncology, Molecular Genetics, ArmsTech &amp; 'Businessman',Commander (Navy, Reserve)  #Instagram DrKynast #USA done #Passion4Prussia</td>\n",
       "      <td>2016-09-07 02:03:23</td>\n",
       "      <td>3257</td>\n",
       "      <td>3908</td>\n",
       "      <td>21395</td>\n",
       "      <td>False</td>\n",
       "      <td>2021-03-23</td>\n",
       "      <td>@EricTopol @AstraZeneca @NIH Making of #scandal sitting in @WhiteHouse #Glasshouse of corrupt @POTUS &amp;amp; controversia… https://t.co/dsD1FATJNu</td>\n",
       "      <td>['scandal', 'Glasshouse']</td>\n",
       "      <td>Twitter for Android</td>\n",
       "      <td>0</td>\n",
       "      <td>0</td>\n",
       "      <td>False</td>\n",
       "      <td>-0.500000</td>\n",
       "      <td>1.000000</td>\n",
       "      <td>negative</td>\n",
       "    </tr>\n",
       "    <tr>\n",
       "      <th>5</th>\n",
       "      <td>1409238705773191182</td>\n",
       "      <td>ARUP B</td>\n",
       "      <td>MUMBAI</td>\n",
       "      <td>A knowledge junkie whose interests are much more varied than his skills...</td>\n",
       "      <td>2009-11-12 08:05:35</td>\n",
       "      <td>145</td>\n",
       "      <td>147</td>\n",
       "      <td>3685</td>\n",
       "      <td>False</td>\n",
       "      <td>2021-06-27</td>\n",
       "      <td>It's blatant vaccine racism by #EuropeanUnion &amp;amp; \\n@WHO when they differentiate between #COVISHIELD &amp;amp; #AstraZeneca, d… https://t.co/l3sFI4ROyh</td>\n",
       "      <td>['EuropeanUnion', 'COVISHIELD', 'AstraZeneca']</td>\n",
       "      <td>Twitter Web App</td>\n",
       "      <td>0</td>\n",
       "      <td>1</td>\n",
       "      <td>False</td>\n",
       "      <td>-0.500000</td>\n",
       "      <td>0.500000</td>\n",
       "      <td>negative</td>\n",
       "    </tr>\n",
       "    <tr>\n",
       "      <th>6</th>\n",
       "      <td>1375140983805988867</td>\n",
       "      <td>El Muy Lorenzo</td>\n",
       "      <td>elmuylorenzo29@gmail.com</td>\n",
       "      <td>Humorous and satirical perspective on academia and life in general. Sole producer and distributor of ZNA.</td>\n",
       "      <td>2011-04-14 13:19:35</td>\n",
       "      <td>36</td>\n",
       "      <td>269</td>\n",
       "      <td>9</td>\n",
       "      <td>False</td>\n",
       "      <td>2021-03-25</td>\n",
       "      <td>#Putin is trying to discredit the @AstraZeneca vaccine by spreading fake news about its safety in order to boost th… https://t.co/SdeAEzGq5r</td>\n",
       "      <td>['Putin']</td>\n",
       "      <td>Twitter Web App</td>\n",
       "      <td>0</td>\n",
       "      <td>0</td>\n",
       "      <td>False</td>\n",
       "      <td>-0.500000</td>\n",
       "      <td>1.000000</td>\n",
       "      <td>negative</td>\n",
       "    </tr>\n",
       "    <tr>\n",
       "      <th>7</th>\n",
       "      <td>1415283569078030341</td>\n",
       "      <td>Fiddler 😊 🎶. #gtto</td>\n",
       "      <td>South West England</td>\n",
       "      <td>#Fiddler and sometimes #accordionist.\\nLikes to arrive by #bicycle 🚲.  Not a big fan of hugging, except for bunnies.\\n#FBPR #GTTO</td>\n",
       "      <td>2021-03-28 23:53:03</td>\n",
       "      <td>2764</td>\n",
       "      <td>4768</td>\n",
       "      <td>4821</td>\n",
       "      <td>False</td>\n",
       "      <td>2021-07-14</td>\n",
       "      <td>Anyone here been refused entry to #France for having the wrong vaccine batch number?\\n\\n#astrazenecavaccine… https://t.co/v2vzNA4l2N</td>\n",
       "      <td>['France', 'astrazenecavaccine']</td>\n",
       "      <td>Twitter for Android</td>\n",
       "      <td>0</td>\n",
       "      <td>0</td>\n",
       "      <td>False</td>\n",
       "      <td>-0.500000</td>\n",
       "      <td>0.900000</td>\n",
       "      <td>negative</td>\n",
       "    </tr>\n",
       "    <tr>\n",
       "      <th>8</th>\n",
       "      <td>1372852916705505283</td>\n",
       "      <td>El Muy Lorenzo</td>\n",
       "      <td>elmuylorenzo29@gmail.com</td>\n",
       "      <td>Humorous and satirical perspective on academia and life in general. Sole producer and distributor of ZNA.</td>\n",
       "      <td>2011-04-14 13:19:35</td>\n",
       "      <td>36</td>\n",
       "      <td>269</td>\n",
       "      <td>9</td>\n",
       "      <td>False</td>\n",
       "      <td>2021-03-19</td>\n",
       "      <td>#Russia is spreading fake news about the safety of the @AstraZeneca vaccine so as to discourage its use &amp;amp; increase… https://t.co/lB09XGXWNw</td>\n",
       "      <td>['Russia']</td>\n",
       "      <td>Twitter Web App</td>\n",
       "      <td>0</td>\n",
       "      <td>0</td>\n",
       "      <td>False</td>\n",
       "      <td>-0.500000</td>\n",
       "      <td>1.000000</td>\n",
       "      <td>negative</td>\n",
       "    </tr>\n",
       "    <tr>\n",
       "      <th>9</th>\n",
       "      <td>1372528673161678855</td>\n",
       "      <td>Hazel 💙 #BackTo60 💐😉</td>\n",
       "      <td>Herts/roots in Essex</td>\n",
       "      <td>The most important things in my life are my family and being happy! Travelholic✈️ (My own views) 🤔🤭😉 #50sWomen #BackTo60</td>\n",
       "      <td>2014-09-18 13:02:33</td>\n",
       "      <td>850</td>\n",
       "      <td>392</td>\n",
       "      <td>13310</td>\n",
       "      <td>False</td>\n",
       "      <td>2021-03-18</td>\n",
       "      <td>Sorry if this appears to be a silly question 🙋‍♀️ \\n\\nWhy is the #AstraZeneca vaccine being produced in India 🇮🇳 &amp;amp; NO… https://t.co/3hlHj7h6hU</td>\n",
       "      <td>['AstraZeneca']</td>\n",
       "      <td>Twitter for iPad</td>\n",
       "      <td>0</td>\n",
       "      <td>1</td>\n",
       "      <td>False</td>\n",
       "      <td>-0.500000</td>\n",
       "      <td>0.937500</td>\n",
       "      <td>negative</td>\n",
       "    </tr>\n",
       "    <tr>\n",
       "      <th>10</th>\n",
       "      <td>1376987247195607046</td>\n",
       "      <td>Nyambariga Nyabwari</td>\n",
       "      <td>Kisii, Kenya</td>\n",
       "      <td>Taxpayer</td>\n",
       "      <td>2015-03-10 19:21:08</td>\n",
       "      <td>14586</td>\n",
       "      <td>861</td>\n",
       "      <td>114716</td>\n",
       "      <td>False</td>\n",
       "      <td>2021-03-30</td>\n",
       "      <td>@WilliamsRuto The poor Kenyans you call hustlers will receive #astrazenecavaccine while their Lord Hustler and his… https://t.co/coNp138QY2</td>\n",
       "      <td>['astrazenecavaccine']</td>\n",
       "      <td>Twitter for Android</td>\n",
       "      <td>0</td>\n",
       "      <td>4</td>\n",
       "      <td>False</td>\n",
       "      <td>-0.400000</td>\n",
       "      <td>0.600000</td>\n",
       "      <td>negative</td>\n",
       "    </tr>\n",
       "    <tr>\n",
       "      <th>11</th>\n",
       "      <td>1381966982312960010</td>\n",
       "      <td>Provo🐱EUr. I think, therefore I am. 🇪🇺native.</td>\n",
       "      <td>1996 BrExodus 2020</td>\n",
       "      <td>'Common sense is not so common.' \\n\\n'Those who can make you believe absurdities can make you commit atrocities.' \\n\\n'We must cultivate OUR 🇪🇺 garden.'\\n\\nVoltaire</td>\n",
       "      <td>2011-12-13 05:05:30</td>\n",
       "      <td>883</td>\n",
       "      <td>871</td>\n",
       "      <td>31600</td>\n",
       "      <td>False</td>\n",
       "      <td>2021-04-13</td>\n",
       "      <td>@DaveKeating Bad news for the EU: Europeans rejecting #astrazeneca, same issues with  #JohnsonandJohnson,\\nthe US ar… https://t.co/pJd3jBdpBh</td>\n",
       "      <td>['astrazeneca', 'JohnsonandJohnson']</td>\n",
       "      <td>Twitter Web App</td>\n",
       "      <td>0</td>\n",
       "      <td>0</td>\n",
       "      <td>False</td>\n",
       "      <td>-0.350000</td>\n",
       "      <td>0.395833</td>\n",
       "      <td>negative</td>\n",
       "    </tr>\n",
       "    <tr>\n",
       "      <th>12</th>\n",
       "      <td>1362108697498030084</td>\n",
       "      <td>Ricarda Milstein</td>\n",
       "      <td>Hamburg - Berlin</td>\n",
       "      <td>Health Economist @unihh/@hche_uhh. Passion for Asia and baroque music. All views are my own. RT ≠ endorsement.</td>\n",
       "      <td>2014-09-24 20:22:30</td>\n",
       "      <td>388</td>\n",
       "      <td>387</td>\n",
       "      <td>3863</td>\n",
       "      <td>False</td>\n",
       "      <td>2021-02-17</td>\n",
       "      <td>The @tagesspiegel reports that only 2% of 🇩🇪 would choose #AstraZeneca. Thank god it's not that bad: Approx. 50% ar… https://t.co/ZE2hnjtGTG</td>\n",
       "      <td>['AstraZeneca']</td>\n",
       "      <td>Twitter Web App</td>\n",
       "      <td>8</td>\n",
       "      <td>10</td>\n",
       "      <td>False</td>\n",
       "      <td>-0.350000</td>\n",
       "      <td>0.833333</td>\n",
       "      <td>negative</td>\n",
       "    </tr>\n",
       "    <tr>\n",
       "      <th>13</th>\n",
       "      <td>1372087893959831552</td>\n",
       "      <td>Vicki - Liberal Lifer 🇨🇦🍁🇨🇦</td>\n",
       "      <td>True North Strong &amp; Free 🇨🇦</td>\n",
       "      <td>Pigmentation does not Define us! A Gracious Character, Compassion, Love for Humanity Does! #LGBTQ #BLM #WearTwoMasks 😷😷 Religion=LOB or🤷🏼‍♀️Agnostic</td>\n",
       "      <td>2013-11-09 02:16:43</td>\n",
       "      <td>2262</td>\n",
       "      <td>4289</td>\n",
       "      <td>16531</td>\n",
       "      <td>False</td>\n",
       "      <td>2021-03-17</td>\n",
       "      <td>@mariannef58 @ctvottawa Who knew turning 65 in 🇨🇦 would be so complicated?\\n#AstraZeneca very minimal chance of rare… https://t.co/dmTiPZdJSZ</td>\n",
       "      <td>['AstraZeneca']</td>\n",
       "      <td>Twitter for iPad</td>\n",
       "      <td>0</td>\n",
       "      <td>0</td>\n",
       "      <td>False</td>\n",
       "      <td>-0.315000</td>\n",
       "      <td>0.890000</td>\n",
       "      <td>negative</td>\n",
       "    </tr>\n",
       "    <tr>\n",
       "      <th>14</th>\n",
       "      <td>1380022527997661191</td>\n",
       "      <td>Andrew Haglington</td>\n",
       "      <td>At Home Rebel</td>\n",
       "      <td>#RejoinEU #FBPE \\nANDREW HAGLINGTON\\n#Environmental Expert \\n#TheSocialGroup Director #TheManWhoInventedSocialNetworking #HappyList #Comedy #Scifi #Writer #Artist</td>\n",
       "      <td>2009-11-12 12:50:22</td>\n",
       "      <td>4996</td>\n",
       "      <td>5048</td>\n",
       "      <td>21444</td>\n",
       "      <td>False</td>\n",
       "      <td>2021-04-08</td>\n",
       "      <td>@Karenlovecheese If they happen to mention the #AstraZeneca #vaccine, \\nmaybe ask if they mean the \\n#Brexit #Boris… https://t.co/YGY8YRiKfD</td>\n",
       "      <td>['AstraZeneca', 'vaccine', 'Brexit', 'Boris']</td>\n",
       "      <td>Twitter for Android</td>\n",
       "      <td>1</td>\n",
       "      <td>3</td>\n",
       "      <td>False</td>\n",
       "      <td>-0.312500</td>\n",
       "      <td>0.687500</td>\n",
       "      <td>negative</td>\n",
       "    </tr>\n",
       "    <tr>\n",
       "      <th>15</th>\n",
       "      <td>1371892765622157313</td>\n",
       "      <td>Lockdown</td>\n",
       "      <td>Middle East</td>\n",
       "      <td>Electrical engineer. RT ≠ endorsement.</td>\n",
       "      <td>2009-05-06 23:01:25</td>\n",
       "      <td>1081</td>\n",
       "      <td>426</td>\n",
       "      <td>1379</td>\n",
       "      <td>False</td>\n",
       "      <td>2021-03-16</td>\n",
       "      <td>Fuck you @who how you advice people to take the shit, #AstraZeneca vaccine is disease, after teasted got extremely… https://t.co/QZOsNE42zs</td>\n",
       "      <td>['AstraZeneca']</td>\n",
       "      <td>Twitter for Android</td>\n",
       "      <td>0</td>\n",
       "      <td>0</td>\n",
       "      <td>False</td>\n",
       "      <td>-0.300000</td>\n",
       "      <td>0.700000</td>\n",
       "      <td>negative</td>\n",
       "    </tr>\n",
       "    <tr>\n",
       "      <th>16</th>\n",
       "      <td>1398669829767372802</td>\n",
       "      <td>Dr. Himmy Jan</td>\n",
       "      <td>Earth</td>\n",
       "      <td>Be it human or natural: I love beauty. Studied at the University of MN, USA. Professor &amp; Director! RTs aren't endorsement!</td>\n",
       "      <td>2016-03-18 16:31:26</td>\n",
       "      <td>3674</td>\n",
       "      <td>3945</td>\n",
       "      <td>53155</td>\n",
       "      <td>False</td>\n",
       "      <td>2021-05-29</td>\n",
       "      <td>There was no #AstraZeneca  on 25.4.2021. they are killing us. I am in grade 21. If I can be treated so rudely. How… https://t.co/U7Fi4ssaIC</td>\n",
       "      <td>['AstraZeneca']</td>\n",
       "      <td>Twitter for Android</td>\n",
       "      <td>0</td>\n",
       "      <td>1</td>\n",
       "      <td>False</td>\n",
       "      <td>-0.300000</td>\n",
       "      <td>0.600000</td>\n",
       "      <td>negative</td>\n",
       "    </tr>\n",
       "    <tr>\n",
       "      <th>17</th>\n",
       "      <td>1402630166707281921</td>\n",
       "      <td>Manish Shukla</td>\n",
       "      <td>New Delhi, India</td>\n",
       "      <td>Journalist, Covers Defence, Security &amp; Foreign Affairs  related issues.</td>\n",
       "      <td>2009-06-20 13:08:49</td>\n",
       "      <td>4345</td>\n",
       "      <td>428</td>\n",
       "      <td>3154</td>\n",
       "      <td>False</td>\n",
       "      <td>2021-06-09</td>\n",
       "      <td>All Govt employee of #Pakistan are taking #AstraZeneca vaccine while common #Pakistani has been asked to take… https://t.co/HHC5VoSeSu</td>\n",
       "      <td>['Pakistan', 'AstraZeneca', 'Pakistani']</td>\n",
       "      <td>Twitter for Android</td>\n",
       "      <td>6</td>\n",
       "      <td>15</td>\n",
       "      <td>False</td>\n",
       "      <td>-0.300000</td>\n",
       "      <td>0.500000</td>\n",
       "      <td>negative</td>\n",
       "    </tr>\n",
       "    <tr>\n",
       "      <th>18</th>\n",
       "      <td>1402634899723407362</td>\n",
       "      <td>Tabassum🇮🇳</td>\n",
       "      <td>Kupwara, Jammu And Kashmir, In</td>\n",
       "      <td>🇮🇳I am Indian Muslim 🇮🇳🇮🇳 and Proud To be a Muslim🇮🇳</td>\n",
       "      <td>2021-03-20 09:53:22</td>\n",
       "      <td>673</td>\n",
       "      <td>682</td>\n",
       "      <td>1209</td>\n",
       "      <td>False</td>\n",
       "      <td>2021-06-09</td>\n",
       "      <td>#pakistan\\nAll Government employees of #pakistan are taking #AstraZeneca vaccine while common #Pakistani don’t have… https://t.co/mdvKdgiCCj</td>\n",
       "      <td>['pakistan', 'pakistan', 'AstraZeneca', 'Pakistani']</td>\n",
       "      <td>Twitter for Mac</td>\n",
       "      <td>24</td>\n",
       "      <td>34</td>\n",
       "      <td>False</td>\n",
       "      <td>-0.300000</td>\n",
       "      <td>0.500000</td>\n",
       "      <td>negative</td>\n",
       "    </tr>\n",
       "    <tr>\n",
       "      <th>19</th>\n",
       "      <td>1398696311059365897</td>\n",
       "      <td>Dr. Himmy Jan</td>\n",
       "      <td>Earth</td>\n",
       "      <td>Be it human or natural: I love beauty. Studied at the University of MN, USA. Professor &amp; Director! RTs aren't endorsement!</td>\n",
       "      <td>2016-03-18 16:31:26</td>\n",
       "      <td>3674</td>\n",
       "      <td>3945</td>\n",
       "      <td>53155</td>\n",
       "      <td>False</td>\n",
       "      <td>2021-05-29</td>\n",
       "      <td>There was no #AstraZeneca  on 25.4.2021. they are killing us. I am in grade 21. If I can be treated so rudely,  how… https://t.co/jeOqf3Y52R</td>\n",
       "      <td>['AstraZeneca']</td>\n",
       "      <td>Twitter for Android</td>\n",
       "      <td>0</td>\n",
       "      <td>1</td>\n",
       "      <td>False</td>\n",
       "      <td>-0.300000</td>\n",
       "      <td>0.600000</td>\n",
       "      <td>negative</td>\n",
       "    </tr>\n",
       "  </tbody>\n",
       "</table>\n",
       "</div>"
      ],
      "text/plain": [
       "                     id                                           user_name  \\\n",
       "0   1400484186411044865                                               Rosie   \n",
       "1   1381560425410662406                                            Phil.one   \n",
       "2   1375455313554505731  Sarah #CO2ISLIFE #COVIDisaSeasonalRespiratoryVirus   \n",
       "3   1405856617074135047                                          Jane Brown   \n",
       "4   1374419458299596804                                Dr.med. Bernd Kynast   \n",
       "5   1409238705773191182                                              ARUP B   \n",
       "6   1375140983805988867                                      El Muy Lorenzo   \n",
       "7   1415283569078030341                                  Fiddler 😊 🎶. #gtto   \n",
       "8   1372852916705505283                                      El Muy Lorenzo   \n",
       "9   1372528673161678855                                Hazel 💙 #BackTo60 💐😉   \n",
       "10  1376987247195607046                                 Nyambariga Nyabwari   \n",
       "11  1381966982312960010       Provo🐱EUr. I think, therefore I am. 🇪🇺native.   \n",
       "12  1362108697498030084                                    Ricarda Milstein   \n",
       "13  1372087893959831552                         Vicki - Liberal Lifer 🇨🇦🍁🇨🇦   \n",
       "14  1380022527997661191                                   Andrew Haglington   \n",
       "15  1371892765622157313                                            Lockdown   \n",
       "16  1398669829767372802                                       Dr. Himmy Jan   \n",
       "17  1402630166707281921                                       Manish Shukla   \n",
       "18  1402634899723407362                                          Tabassum🇮🇳   \n",
       "19  1398696311059365897                                       Dr. Himmy Jan   \n",
       "\n",
       "                     user_location  \\\n",
       "0                   Delta Quadrant   \n",
       "1                     Florida, USA   \n",
       "2                   SW England, UK   \n",
       "3                      Toronto, ON   \n",
       "4   Milky way,  I can see aliens !   \n",
       "5                           MUMBAI   \n",
       "6         elmuylorenzo29@gmail.com   \n",
       "7               South West England   \n",
       "8         elmuylorenzo29@gmail.com   \n",
       "9             Herts/roots in Essex   \n",
       "10                    Kisii, Kenya   \n",
       "11              1996 BrExodus 2020   \n",
       "12                Hamburg - Berlin   \n",
       "13     True North Strong & Free 🇨🇦   \n",
       "14                   At Home Rebel   \n",
       "15                     Middle East   \n",
       "16                          Earth    \n",
       "17                New Delhi, India   \n",
       "18  Kupwara, Jammu And Kashmir, In   \n",
       "19                          Earth    \n",
       "\n",
       "                                                                                                                                                         user_description  \\\n",
       "0                                                    Particle 010 also known as the Mother of God, but, I mostly just go by Rosie, or Rose, not one to stand on ceremony.   \n",
       "1        Retired Physics Teacher.  Sharing is caring.  Heavily invested in Crypto since 2012.  More money than I'll ever spend.  Donate regularly.  Husband. Father. Free   \n",
       "2                                                                                           Don’t let MSM and organised provocations divide us. We need to work together.   \n",
       "3   Assoc. News Director @zoomerradio @classical963fm / The Morning Zoom with Sam & Jane https://t.co/uZ39jqk6S9 / @BladderCancerCA Advocate #InMemoryOfMom / #WeTheNorth   \n",
       "4                                Medical Oncology, Molecular Genetics, ArmsTech & 'Businessman',Commander (Navy, Reserve)  #Instagram DrKynast #USA done #Passion4Prussia   \n",
       "5                                                                                              A knowledge junkie whose interests are much more varied than his skills...   \n",
       "6                                                               Humorous and satirical perspective on academia and life in general. Sole producer and distributor of ZNA.   \n",
       "7                                       #Fiddler and sometimes #accordionist.\\nLikes to arrive by #bicycle 🚲.  Not a big fan of hugging, except for bunnies.\\n#FBPR #GTTO   \n",
       "8                                                               Humorous and satirical perspective on academia and life in general. Sole producer and distributor of ZNA.   \n",
       "9                                                The most important things in my life are my family and being happy! Travelholic✈️ (My own views) 🤔🤭😉 #50sWomen #BackTo60   \n",
       "10                                                                                                                                                               Taxpayer   \n",
       "11   'Common sense is not so common.' \\n\\n'Those who can make you believe absurdities can make you commit atrocities.' \\n\\n'We must cultivate OUR 🇪🇺 garden.'\\n\\nVoltaire   \n",
       "12                                                         Health Economist @unihh/@hche_uhh. Passion for Asia and baroque music. All views are my own. RT ≠ endorsement.   \n",
       "13                   Pigmentation does not Define us! A Gracious Character, Compassion, Love for Humanity Does! #LGBTQ #BLM #WearTwoMasks 😷😷 Religion=LOB or🤷🏼‍♀️Agnostic   \n",
       "14     #RejoinEU #FBPE \\nANDREW HAGLINGTON\\n#Environmental Expert \\n#TheSocialGroup Director #TheManWhoInventedSocialNetworking #HappyList #Comedy #Scifi #Writer #Artist   \n",
       "15                                                                                                                                 Electrical engineer. RT ≠ endorsement.   \n",
       "16                                             Be it human or natural: I love beauty. Studied at the University of MN, USA. Professor & Director! RTs aren't endorsement!   \n",
       "17                                                                                                Journalist, Covers Defence, Security & Foreign Affairs  related issues.   \n",
       "18                                                                                                                   🇮🇳I am Indian Muslim 🇮🇳🇮🇳 and Proud To be a Muslim🇮🇳   \n",
       "19                                             Be it human or natural: I love beauty. Studied at the University of MN, USA. Professor & Director! RTs aren't endorsement!   \n",
       "\n",
       "           user_created  user_followers  user_friends  user_favourites  \\\n",
       "0   2016-08-28 23:14:58              64           177             6477   \n",
       "1   2009-12-21 06:09:33              97           192              220   \n",
       "2   2011-07-03 09:50:25            2441          3659            61534   \n",
       "3   2013-02-28 16:39:40            2940          1665             7869   \n",
       "4   2016-09-07 02:03:23            3257          3908            21395   \n",
       "5   2009-11-12 08:05:35             145           147             3685   \n",
       "6   2011-04-14 13:19:35              36           269                9   \n",
       "7   2021-03-28 23:53:03            2764          4768             4821   \n",
       "8   2011-04-14 13:19:35              36           269                9   \n",
       "9   2014-09-18 13:02:33             850           392            13310   \n",
       "10  2015-03-10 19:21:08           14586           861           114716   \n",
       "11  2011-12-13 05:05:30             883           871            31600   \n",
       "12  2014-09-24 20:22:30             388           387             3863   \n",
       "13  2013-11-09 02:16:43            2262          4289            16531   \n",
       "14  2009-11-12 12:50:22            4996          5048            21444   \n",
       "15  2009-05-06 23:01:25            1081           426             1379   \n",
       "16  2016-03-18 16:31:26            3674          3945            53155   \n",
       "17  2009-06-20 13:08:49            4345           428             3154   \n",
       "18  2021-03-20 09:53:22             673           682             1209   \n",
       "19  2016-03-18 16:31:26            3674          3945            53155   \n",
       "\n",
       "    user_verified        date  \\\n",
       "0           False  2021-06-03   \n",
       "1           False  2021-04-12   \n",
       "2           False  2021-03-26   \n",
       "3           False  2021-06-18   \n",
       "4           False  2021-03-23   \n",
       "5           False  2021-06-27   \n",
       "6           False  2021-03-25   \n",
       "7           False  2021-07-14   \n",
       "8           False  2021-03-19   \n",
       "9           False  2021-03-18   \n",
       "10          False  2021-03-30   \n",
       "11          False  2021-04-13   \n",
       "12          False  2021-02-17   \n",
       "13          False  2021-03-17   \n",
       "14          False  2021-04-08   \n",
       "15          False  2021-03-16   \n",
       "16          False  2021-05-29   \n",
       "17          False  2021-06-09   \n",
       "18          False  2021-06-09   \n",
       "19          False  2021-05-29   \n",
       "\n",
       "                                                                                                                                                     text  \\\n",
       "0            @IPACCanada When people get sick or die from #astrazeneca who pays the bills?  RE: Ontario esp for items not covere… https://t.co/zX6gzGbYLZ   \n",
       "1                Don't be selfish!\\n\\n#COVID19 #coronavirus #vaccine #VaccinePassports #spirituality #awaken #viral #AstraZeneca… https://t.co/99TGRw7n8S   \n",
       "2                    @SandraWeeden @therealbiostate People are suggesting that the #AstraZenecavaccine isn’t as dangerous as the… https://t.co/LH1bkf2pM8   \n",
       "3             Confused, frustrated or worried if you've received 2 doses of #AstraZeneca? Don't be, say the experts, despite new… https://t.co/KTY30wIB60   \n",
       "4        @EricTopol @AstraZeneca @NIH Making of #scandal sitting in @WhiteHouse #Glasshouse of corrupt @POTUS &amp; controversia… https://t.co/dsD1FATJNu   \n",
       "5   It's blatant vaccine racism by #EuropeanUnion &amp; \\n@WHO when they differentiate between #COVISHIELD &amp; #AstraZeneca, d… https://t.co/l3sFI4ROyh   \n",
       "6            #Putin is trying to discredit the @AstraZeneca vaccine by spreading fake news about its safety in order to boost th… https://t.co/SdeAEzGq5r   \n",
       "7                    Anyone here been refused entry to #France for having the wrong vaccine batch number?\\n\\n#astrazenecavaccine… https://t.co/v2vzNA4l2N   \n",
       "8         #Russia is spreading fake news about the safety of the @AstraZeneca vaccine so as to discourage its use &amp; increase… https://t.co/lB09XGXWNw   \n",
       "9      Sorry if this appears to be a silly question 🙋‍♀️ \\n\\nWhy is the #AstraZeneca vaccine being produced in India 🇮🇳 &amp; NO… https://t.co/3hlHj7h6hU   \n",
       "10            @WilliamsRuto The poor Kenyans you call hustlers will receive #astrazenecavaccine while their Lord Hustler and his… https://t.co/coNp138QY2   \n",
       "11          @DaveKeating Bad news for the EU: Europeans rejecting #astrazeneca, same issues with  #JohnsonandJohnson,\\nthe US ar… https://t.co/pJd3jBdpBh   \n",
       "12           The @tagesspiegel reports that only 2% of 🇩🇪 would choose #AstraZeneca. Thank god it's not that bad: Approx. 50% ar… https://t.co/ZE2hnjtGTG   \n",
       "13          @mariannef58 @ctvottawa Who knew turning 65 in 🇨🇦 would be so complicated?\\n#AstraZeneca very minimal chance of rare… https://t.co/dmTiPZdJSZ   \n",
       "14           @Karenlovecheese If they happen to mention the #AstraZeneca #vaccine, \\nmaybe ask if they mean the \\n#Brexit #Boris… https://t.co/YGY8YRiKfD   \n",
       "15            Fuck you @who how you advice people to take the shit, #AstraZeneca vaccine is disease, after teasted got extremely… https://t.co/QZOsNE42zs   \n",
       "16            There was no #AstraZeneca  on 25.4.2021. they are killing us. I am in grade 21. If I can be treated so rudely. How… https://t.co/U7Fi4ssaIC   \n",
       "17                 All Govt employee of #Pakistan are taking #AstraZeneca vaccine while common #Pakistani has been asked to take… https://t.co/HHC5VoSeSu   \n",
       "18           #pakistan\\nAll Government employees of #pakistan are taking #AstraZeneca vaccine while common #Pakistani don’t have… https://t.co/mdvKdgiCCj   \n",
       "19           There was no #AstraZeneca  on 25.4.2021. they are killing us. I am in grade 21. If I can be treated so rudely,  how… https://t.co/jeOqf3Y52R   \n",
       "\n",
       "                                                                                                       hashtags  \\\n",
       "0                                                                                               ['astrazeneca']   \n",
       "1   ['COVID19', 'coronavirus', 'vaccine', 'VaccinePassports', 'spirituality', 'awaken', 'viral', 'AstraZeneca']   \n",
       "2                                                                                        ['AstraZenecavaccine']   \n",
       "3                                                                                               ['AstraZeneca']   \n",
       "4                                                                                     ['scandal', 'Glasshouse']   \n",
       "5                                                                ['EuropeanUnion', 'COVISHIELD', 'AstraZeneca']   \n",
       "6                                                                                                     ['Putin']   \n",
       "7                                                                              ['France', 'astrazenecavaccine']   \n",
       "8                                                                                                    ['Russia']   \n",
       "9                                                                                               ['AstraZeneca']   \n",
       "10                                                                                       ['astrazenecavaccine']   \n",
       "11                                                                         ['astrazeneca', 'JohnsonandJohnson']   \n",
       "12                                                                                              ['AstraZeneca']   \n",
       "13                                                                                              ['AstraZeneca']   \n",
       "14                                                                ['AstraZeneca', 'vaccine', 'Brexit', 'Boris']   \n",
       "15                                                                                              ['AstraZeneca']   \n",
       "16                                                                                              ['AstraZeneca']   \n",
       "17                                                                     ['Pakistan', 'AstraZeneca', 'Pakistani']   \n",
       "18                                                         ['pakistan', 'pakistan', 'AstraZeneca', 'Pakistani']   \n",
       "19                                                                                              ['AstraZeneca']   \n",
       "\n",
       "                 source  retweets  favorites  is_retweet  polarity  \\\n",
       "0       Twitter Web App         0          0       False -0.714286   \n",
       "1       Twitter Web App         0          0       False -0.625000   \n",
       "2    Twitter for iPhone         3          3       False -0.600000   \n",
       "3       Twitter Web App         3          8       False -0.550000   \n",
       "4   Twitter for Android         0          0       False -0.500000   \n",
       "5       Twitter Web App         0          1       False -0.500000   \n",
       "6       Twitter Web App         0          0       False -0.500000   \n",
       "7   Twitter for Android         0          0       False -0.500000   \n",
       "8       Twitter Web App         0          0       False -0.500000   \n",
       "9      Twitter for iPad         0          1       False -0.500000   \n",
       "10  Twitter for Android         0          4       False -0.400000   \n",
       "11      Twitter Web App         0          0       False -0.350000   \n",
       "12      Twitter Web App         8         10       False -0.350000   \n",
       "13     Twitter for iPad         0          0       False -0.315000   \n",
       "14  Twitter for Android         1          3       False -0.312500   \n",
       "15  Twitter for Android         0          0       False -0.300000   \n",
       "16  Twitter for Android         0          1       False -0.300000   \n",
       "17  Twitter for Android         6         15       False -0.300000   \n",
       "18      Twitter for Mac        24         34       False -0.300000   \n",
       "19  Twitter for Android         0          1       False -0.300000   \n",
       "\n",
       "    subjectivity sentiment  \n",
       "0       0.857143  negative  \n",
       "1       1.000000  negative  \n",
       "2       0.900000  negative  \n",
       "3       0.450000  negative  \n",
       "4       1.000000  negative  \n",
       "5       0.500000  negative  \n",
       "6       1.000000  negative  \n",
       "7       0.900000  negative  \n",
       "8       1.000000  negative  \n",
       "9       0.937500  negative  \n",
       "10      0.600000  negative  \n",
       "11      0.395833  negative  \n",
       "12      0.833333  negative  \n",
       "13      0.890000  negative  \n",
       "14      0.687500  negative  \n",
       "15      0.700000  negative  \n",
       "16      0.600000  negative  \n",
       "17      0.500000  negative  \n",
       "18      0.500000  negative  \n",
       "19      0.600000  negative  "
      ]
     },
     "execution_count": 128,
     "metadata": {},
     "output_type": "execute_result"
    }
   ],
   "source": [
    "astra_df, astra_timeline = filter_by_vaccy(df, ['astrazeneca'])\n",
    "astra_df.sort_values(by='polarity', ascending=True).reset_index(drop=True).head(n=20)"
   ]
  },
  {
   "cell_type": "code",
   "execution_count": 129,
   "metadata": {
    "ExecuteTime": {
     "end_time": "2021-03-22T18:45:20.907758Z",
     "start_time": "2021-03-22T18:45:20.765441Z"
    }
   },
   "outputs": [
    {
     "data": {
      "text/html": [
       "<div>\n",
       "<style scoped>\n",
       "    .dataframe tbody tr th:only-of-type {\n",
       "        vertical-align: middle;\n",
       "    }\n",
       "\n",
       "    .dataframe tbody tr th {\n",
       "        vertical-align: top;\n",
       "    }\n",
       "\n",
       "    .dataframe thead th {\n",
       "        text-align: right;\n",
       "    }\n",
       "</style>\n",
       "<table border=\"1\" class=\"dataframe\">\n",
       "  <thead>\n",
       "    <tr style=\"text-align: right;\">\n",
       "      <th></th>\n",
       "      <th>id</th>\n",
       "      <th>user_name</th>\n",
       "      <th>user_location</th>\n",
       "      <th>user_description</th>\n",
       "      <th>user_created</th>\n",
       "      <th>user_followers</th>\n",
       "      <th>user_friends</th>\n",
       "      <th>user_favourites</th>\n",
       "      <th>user_verified</th>\n",
       "      <th>date</th>\n",
       "      <th>text</th>\n",
       "      <th>hashtags</th>\n",
       "      <th>source</th>\n",
       "      <th>retweets</th>\n",
       "      <th>favorites</th>\n",
       "      <th>is_retweet</th>\n",
       "      <th>polarity</th>\n",
       "      <th>subjectivity</th>\n",
       "      <th>sentiment</th>\n",
       "    </tr>\n",
       "  </thead>\n",
       "  <tbody>\n",
       "    <tr>\n",
       "      <th>0</th>\n",
       "      <td>1403222820742602759</td>\n",
       "      <td>Surupa</td>\n",
       "      <td>Kolkata, India</td>\n",
       "      <td>Data analyst|Baker|Entrepreneur</td>\n",
       "      <td>2016-10-02 05:29:59</td>\n",
       "      <td>41</td>\n",
       "      <td>43</td>\n",
       "      <td>329</td>\n",
       "      <td>False</td>\n",
       "      <td>2021-06-11</td>\n",
       "      <td>@ajay43 And I m still feeling horrible after yesterday’s jab 😫#Covaxin , grocery #Petrol 😫😫</td>\n",
       "      <td>['Covaxin', 'Petrol']</td>\n",
       "      <td>Twitter for iPhone</td>\n",
       "      <td>0</td>\n",
       "      <td>3</td>\n",
       "      <td>False</td>\n",
       "      <td>-1.0</td>\n",
       "      <td>1.0</td>\n",
       "      <td>negative</td>\n",
       "    </tr>\n",
       "    <tr>\n",
       "      <th>1</th>\n",
       "      <td>1403351212078997511</td>\n",
       "      <td>Shre Mys</td>\n",
       "      <td>Mysore, India</td>\n",
       "      <td>engg. , aviation n rail enthusiasm, lambo fan,\\nBorn Mysorean</td>\n",
       "      <td>2019-10-28 17:03:34</td>\n",
       "      <td>63</td>\n",
       "      <td>31</td>\n",
       "      <td>10036</td>\n",
       "      <td>False</td>\n",
       "      <td>2021-06-11</td>\n",
       "      <td>@sandeeprrao1991 Annoyingly I had to take #covaxin instead of #Covishield \\nI may have to make India Tour now !!!</td>\n",
       "      <td>['covaxin', 'Covishield']</td>\n",
       "      <td>Twitter Web App</td>\n",
       "      <td>0</td>\n",
       "      <td>1</td>\n",
       "      <td>False</td>\n",
       "      <td>-1.0</td>\n",
       "      <td>0.9</td>\n",
       "      <td>negative</td>\n",
       "    </tr>\n",
       "    <tr>\n",
       "      <th>2</th>\n",
       "      <td>1421463826772369410</td>\n",
       "      <td>Yogi Patel</td>\n",
       "      <td>India</td>\n",
       "      <td>Digital Marketer.🚩\\nInterested in anything and everything. If I'm following you, you're a classic memer/educator/domain expert/statistician/my twitter crush 😃</td>\n",
       "      <td>2009-06-28 10:34:24</td>\n",
       "      <td>349</td>\n",
       "      <td>890</td>\n",
       "      <td>24165</td>\n",
       "      <td>False</td>\n",
       "      <td>2021-07-31</td>\n",
       "      <td>@sardesairajdeep @GKangInd Why this vicious lady is NOT booked for spreading vaccine hesitancy against #COVAXIN is… https://t.co/EDC9FUz2PL</td>\n",
       "      <td>['COVAXIN']</td>\n",
       "      <td>Twitter for Android</td>\n",
       "      <td>0</td>\n",
       "      <td>0</td>\n",
       "      <td>False</td>\n",
       "      <td>-1.0</td>\n",
       "      <td>1.0</td>\n",
       "      <td>negative</td>\n",
       "    </tr>\n",
       "    <tr>\n",
       "      <th>3</th>\n",
       "      <td>1367125195664818178</td>\n",
       "      <td>Prasenjit Bhakat</td>\n",
       "      <td>Jhargram,W Bengal,India</td>\n",
       "      <td>Past President (2011-12): Rotary Jhargram Green, Rotary Int'l Dist 3291;\\r\\n \\r\\n\\r\\n\\r\\n\\r\\n\\r\\n\\r\\n\\r\\nConsumer Activist,Secretary: Consumer Guidance Center.</td>\n",
       "      <td>2009-08-31 02:14:30</td>\n",
       "      <td>390</td>\n",
       "      <td>1658</td>\n",
       "      <td>5071</td>\n",
       "      <td>False</td>\n",
       "      <td>2021-03-03</td>\n",
       "      <td>@ShamikaRavi @BharatBiotech Shocking #clinicaltrials of COVAXIN #COVID19Vaccine. Signs of #Covaxin recipients taken… https://t.co/kWLuW6tz0i</td>\n",
       "      <td>['clinicaltrials', 'COVID19Vaccine', 'Covaxin']</td>\n",
       "      <td>Twitter Web App</td>\n",
       "      <td>0</td>\n",
       "      <td>0</td>\n",
       "      <td>False</td>\n",
       "      <td>-1.0</td>\n",
       "      <td>1.0</td>\n",
       "      <td>negative</td>\n",
       "    </tr>\n",
       "    <tr>\n",
       "      <th>4</th>\n",
       "      <td>1422607546288726023</td>\n",
       "      <td>FirstNameJohn</td>\n",
       "      <td>United States Circus</td>\n",
       "      <td>Don't Listen To Me!! “Ring The F$&amp;@ing Bell You Pansy” - Joseph \"Blue\" Pulaski</td>\n",
       "      <td>2009-04-18 14:22:22</td>\n",
       "      <td>68</td>\n",
       "      <td>33</td>\n",
       "      <td>1029</td>\n",
       "      <td>False</td>\n",
       "      <td>2021-08-03</td>\n",
       "      <td>We are not anti-vax you idiots! We are not test dummies! Give us #COVAXIN @FDA @BharatBiotech @WHO @Ocugen @US_FDA… https://t.co/1fGEqo2ZAt</td>\n",
       "      <td>['COVAXIN']</td>\n",
       "      <td>Twitter for iPhone</td>\n",
       "      <td>4</td>\n",
       "      <td>14</td>\n",
       "      <td>False</td>\n",
       "      <td>-1.0</td>\n",
       "      <td>0.8</td>\n",
       "      <td>negative</td>\n",
       "    </tr>\n",
       "    <tr>\n",
       "      <th>5</th>\n",
       "      <td>1393887353236705281</td>\n",
       "      <td>अजित..</td>\n",
       "      <td>Nashik, India</td>\n",
       "      <td>भारतीय 🇮🇳</td>\n",
       "      <td>2010-07-31 18:14:44</td>\n",
       "      <td>248</td>\n",
       "      <td>630</td>\n",
       "      <td>6469</td>\n",
       "      <td>False</td>\n",
       "      <td>2021-05-16</td>\n",
       "      <td>That's horrible..\\n#CovishieldVaccine \\n#covaxin \\n#BlackMarketing https://t.co/hRFawKzuBb</td>\n",
       "      <td>['CovishieldVaccine', 'covaxin', 'BlackMarketing']</td>\n",
       "      <td>Twitter for Android</td>\n",
       "      <td>0</td>\n",
       "      <td>0</td>\n",
       "      <td>False</td>\n",
       "      <td>-1.0</td>\n",
       "      <td>1.0</td>\n",
       "      <td>negative</td>\n",
       "    </tr>\n",
       "    <tr>\n",
       "      <th>6</th>\n",
       "      <td>1367125088739418112</td>\n",
       "      <td>Prasenjit Bhakat</td>\n",
       "      <td>Jhargram,W Bengal,India</td>\n",
       "      <td>Past President (2011-12): Rotary Jhargram Green, Rotary Int'l Dist 3291;\\r\\n \\r\\n\\r\\n\\r\\n\\r\\n\\r\\n\\r\\n\\r\\nConsumer Activist,Secretary: Consumer Guidance Center.</td>\n",
       "      <td>2009-08-31 02:14:30</td>\n",
       "      <td>390</td>\n",
       "      <td>1658</td>\n",
       "      <td>5071</td>\n",
       "      <td>False</td>\n",
       "      <td>2021-03-03</td>\n",
       "      <td>@gurpreetscheema @Milan_reports @BharatBiotech @IndiaToday Shocking #clinicaltrials of COVAXIN #COVID19Vaccine. Sig… https://t.co/1Baj3QqeRk</td>\n",
       "      <td>['clinicaltrials', 'COVID19Vaccine']</td>\n",
       "      <td>Twitter Web App</td>\n",
       "      <td>0</td>\n",
       "      <td>0</td>\n",
       "      <td>False</td>\n",
       "      <td>-1.0</td>\n",
       "      <td>1.0</td>\n",
       "      <td>negative</td>\n",
       "    </tr>\n",
       "    <tr>\n",
       "      <th>7</th>\n",
       "      <td>1422257222306906121</td>\n",
       "      <td>Sansani Reporter</td>\n",
       "      <td>Meme-dia House</td>\n",
       "      <td>Take The Vax anyway you're sheep and Television Watching News Believer\\nBut don't force your Kids or anyone</td>\n",
       "      <td>2021-06-18 07:52:34</td>\n",
       "      <td>148</td>\n",
       "      <td>790</td>\n",
       "      <td>3217</td>\n",
       "      <td>False</td>\n",
       "      <td>2021-08-02</td>\n",
       "      <td>@kmgav @SreenivasanJain @OnReality_Check I see it as Worst way of Justifying vaccine Deaths\\n#COVAXIN \\n\\nif you don't… https://t.co/iYx7taswDB</td>\n",
       "      <td>['COVAXIN']</td>\n",
       "      <td>Twitter Web App</td>\n",
       "      <td>0</td>\n",
       "      <td>0</td>\n",
       "      <td>False</td>\n",
       "      <td>-1.0</td>\n",
       "      <td>1.0</td>\n",
       "      <td>negative</td>\n",
       "    </tr>\n",
       "    <tr>\n",
       "      <th>8</th>\n",
       "      <td>1382365264969228289</td>\n",
       "      <td>Bhakt 🇮🇳🌷🇮🇳</td>\n",
       "      <td>वसुधैव कुटुंबकम्</td>\n",
       "      <td>#MainBhiChowkidar🌷'अहिंसा परमोधर्म: धर्म हिंसा तदैवच'\\nRetweets are not my views.Follod by @GKapoor.\\nBJP membership 1073738617</td>\n",
       "      <td>2014-01-25 09:19:52</td>\n",
       "      <td>390</td>\n",
       "      <td>389</td>\n",
       "      <td>50014</td>\n",
       "      <td>False</td>\n",
       "      <td>2021-04-14</td>\n",
       "      <td>A shocking incident:\\nRajasthan where 320 doses of #Covaxin vaccine were stolen from the @INCIndia office in… https://t.co/fDPB1kezPi</td>\n",
       "      <td>['Covaxin']</td>\n",
       "      <td>Twitter for Android</td>\n",
       "      <td>0</td>\n",
       "      <td>1</td>\n",
       "      <td>False</td>\n",
       "      <td>-1.0</td>\n",
       "      <td>1.0</td>\n",
       "      <td>negative</td>\n",
       "    </tr>\n",
       "    <tr>\n",
       "      <th>9</th>\n",
       "      <td>1385019433161170944</td>\n",
       "      <td>theHammy</td>\n",
       "      <td>California, USA</td>\n",
       "      <td>A human.</td>\n",
       "      <td>2016-09-25 10:59:03</td>\n",
       "      <td>62</td>\n",
       "      <td>154</td>\n",
       "      <td>12414</td>\n",
       "      <td>False</td>\n",
       "      <td>2021-04-21</td>\n",
       "      <td>🚨🚨🚨#OCGN with an insane After Hours Run!!! Look at that.\\nCovaxin News\\n#Bullish $OCGN #WeBull #MOASS #Covaxin… https://t.co/njmG0HojP1</td>\n",
       "      <td>['OCGN', 'Bullish', 'WeBull', 'MOASS', 'Covaxin']</td>\n",
       "      <td>Twitter for iPhone</td>\n",
       "      <td>0</td>\n",
       "      <td>0</td>\n",
       "      <td>False</td>\n",
       "      <td>-1.0</td>\n",
       "      <td>1.0</td>\n",
       "      <td>negative</td>\n",
       "    </tr>\n",
       "    <tr>\n",
       "      <th>10</th>\n",
       "      <td>1384767178528858114</td>\n",
       "      <td>shreekant kumar</td>\n",
       "      <td>Ahmadabad City, India</td>\n",
       "      <td>Development sector professional, RTs are no endorsement and my views are my personal and not represent any organisation.</td>\n",
       "      <td>2010-09-02 14:23:21</td>\n",
       "      <td>204</td>\n",
       "      <td>546</td>\n",
       "      <td>71688</td>\n",
       "      <td>False</td>\n",
       "      <td>2021-04-21</td>\n",
       "      <td>I hope people doubting #covaxin will take note of it. What a pathetic scene it was when head of Bharat Biotech was… https://t.co/rD1v6xXTWO</td>\n",
       "      <td>['covaxin']</td>\n",
       "      <td>Twitter for Android</td>\n",
       "      <td>0</td>\n",
       "      <td>1</td>\n",
       "      <td>False</td>\n",
       "      <td>-1.0</td>\n",
       "      <td>1.0</td>\n",
       "      <td>negative</td>\n",
       "    </tr>\n",
       "    <tr>\n",
       "      <th>11</th>\n",
       "      <td>1384922242912505857</td>\n",
       "      <td>Gurjot</td>\n",
       "      <td>Punjab, India</td>\n",
       "      <td>BEING MALE IS MATTER OF BIRTH\\nBEING GENTLEMEN IS MATTER OF CHOICE</td>\n",
       "      <td>2019-04-18 04:06:02</td>\n",
       "      <td>14</td>\n",
       "      <td>37</td>\n",
       "      <td>973</td>\n",
       "      <td>False</td>\n",
       "      <td>2021-04-21</td>\n",
       "      <td>Worst decision ever by govt to charge for vaccine. #Covishield #Covaxin https://t.co/pJqOn0oLvH</td>\n",
       "      <td>['Covishield', 'Covaxin']</td>\n",
       "      <td>Twitter for Android</td>\n",
       "      <td>0</td>\n",
       "      <td>1</td>\n",
       "      <td>False</td>\n",
       "      <td>-1.0</td>\n",
       "      <td>1.0</td>\n",
       "      <td>negative</td>\n",
       "    </tr>\n",
       "    <tr>\n",
       "      <th>12</th>\n",
       "      <td>1410647772102119430</td>\n",
       "      <td>ROZ</td>\n",
       "      <td>Wales U.K.</td>\n",
       "      <td>Free spirit - artist 😄 there’s treatment Vit D Ivermectin Zinc fights cv! trying to follow the awake to see how many we are!!  #freelivesmatter #enoughisenough</td>\n",
       "      <td>2020-12-20 08:44:41</td>\n",
       "      <td>1448</td>\n",
       "      <td>2492</td>\n",
       "      <td>33495</td>\n",
       "      <td>False</td>\n",
       "      <td>2021-07-01</td>\n",
       "      <td>How does a drug that treats the nasty get ignored ? 👉#ivermectin #ToryLies #Covaxin #IndiaFightsCorona #AstraZenaca… https://t.co/SJY2GtOL5S</td>\n",
       "      <td>['ivermectin', 'ToryLies', 'Covaxin', 'IndiaFightsCorona', 'AstraZenaca']</td>\n",
       "      <td>Twitter for iPhone</td>\n",
       "      <td>3</td>\n",
       "      <td>2</td>\n",
       "      <td>False</td>\n",
       "      <td>-1.0</td>\n",
       "      <td>1.0</td>\n",
       "      <td>negative</td>\n",
       "    </tr>\n",
       "    <tr>\n",
       "      <th>13</th>\n",
       "      <td>1422262771778007043</td>\n",
       "      <td>Sansani Reporter</td>\n",
       "      <td>Meme-dia House</td>\n",
       "      <td>Take The Vax anyway you're sheep and Television Watching News Believer\\nBut don't force your Kids or anyone</td>\n",
       "      <td>2021-06-18 07:52:34</td>\n",
       "      <td>148</td>\n",
       "      <td>790</td>\n",
       "      <td>3217</td>\n",
       "      <td>False</td>\n",
       "      <td>2021-08-02</td>\n",
       "      <td>@Abhishe37105730 Worst way to justify Deaths after vax\\n#COVAXIN \\nhttps://t.co/kS3fMW4aRS</td>\n",
       "      <td>['COVAXIN']</td>\n",
       "      <td>Twitter Web App</td>\n",
       "      <td>0</td>\n",
       "      <td>0</td>\n",
       "      <td>False</td>\n",
       "      <td>-1.0</td>\n",
       "      <td>1.0</td>\n",
       "      <td>negative</td>\n",
       "    </tr>\n",
       "    <tr>\n",
       "      <th>14</th>\n",
       "      <td>1394539072744431619</td>\n",
       "      <td>Akriti Dokania</td>\n",
       "      <td>London, England</td>\n",
       "      <td>VC at 🐙 but at heart a full time product manager (ex-MSFT). 'Inclusion' is what needs to happen next. Tweets here are mine.</td>\n",
       "      <td>2010-05-23 04:13:59</td>\n",
       "      <td>509</td>\n",
       "      <td>813</td>\n",
       "      <td>974</td>\n",
       "      <td>False</td>\n",
       "      <td>2021-05-18</td>\n",
       "      <td>@bppoddar terrible and horrible arrangements. No one should get jabbed here. #covaxin</td>\n",
       "      <td>['covaxin']</td>\n",
       "      <td>Twitter for iPhone</td>\n",
       "      <td>0</td>\n",
       "      <td>0</td>\n",
       "      <td>False</td>\n",
       "      <td>-1.0</td>\n",
       "      <td>1.0</td>\n",
       "      <td>negative</td>\n",
       "    </tr>\n",
       "    <tr>\n",
       "      <th>15</th>\n",
       "      <td>1376975759776968706</td>\n",
       "      <td>Rupinder Sayal</td>\n",
       "      <td>India</td>\n",
       "      <td>Biologist by training, and loves to teach! Founder of Spartan Tutorials.</td>\n",
       "      <td>2010-10-31 18:19:15</td>\n",
       "      <td>220</td>\n",
       "      <td>1043</td>\n",
       "      <td>4557</td>\n",
       "      <td>False</td>\n",
       "      <td>2021-03-30</td>\n",
       "      <td>This is some seriously horrible piece of news.\\n#COVID19Vaccine #Covaxin #bharatbiotech \\nhttps://t.co/93zBSjgAKr</td>\n",
       "      <td>['COVID19Vaccine', 'Covaxin', 'bharatbiotech']</td>\n",
       "      <td>Twitter Web App</td>\n",
       "      <td>0</td>\n",
       "      <td>0</td>\n",
       "      <td>False</td>\n",
       "      <td>-1.0</td>\n",
       "      <td>1.0</td>\n",
       "      <td>negative</td>\n",
       "    </tr>\n",
       "    <tr>\n",
       "      <th>16</th>\n",
       "      <td>1384841482654261250</td>\n",
       "      <td>Sri Sri Mumbaitiger</td>\n",
       "      <td>ÜT: 18.987942,72.813965</td>\n",
       "      <td>Mumbaikar. Loves cats, cricket and politics.  \\nMotto: Don't ask what you can do for country. Ask what is for lunch.</td>\n",
       "      <td>2009-10-23 07:19:14</td>\n",
       "      <td>209</td>\n",
       "      <td>835</td>\n",
       "      <td>491</td>\n",
       "      <td>False</td>\n",
       "      <td>2021-04-21</td>\n",
       "      <td>Spread ro anyone who is afraid of taking vaccine!!! #VaccinesWork #CovidVaccine #COVID19 #Covishield #Covaxin https://t.co/88ITsUJ3yB</td>\n",
       "      <td>['VaccinesWork', 'CovidVaccine', 'COVID19', 'Covishield', 'Covaxin']</td>\n",
       "      <td>Twitter for Android</td>\n",
       "      <td>0</td>\n",
       "      <td>0</td>\n",
       "      <td>False</td>\n",
       "      <td>-1.0</td>\n",
       "      <td>0.9</td>\n",
       "      <td>negative</td>\n",
       "    </tr>\n",
       "    <tr>\n",
       "      <th>17</th>\n",
       "      <td>1397500620005806086</td>\n",
       "      <td>Animesh Bishnoi</td>\n",
       "      <td>बनारस</td>\n",
       "      <td>Education sector #India #Politics #TeamIndia #CenterTiltedRight #IAmNewIndia #MMA #CR7</td>\n",
       "      <td>2010-05-05 20:58:40</td>\n",
       "      <td>530</td>\n",
       "      <td>575</td>\n",
       "      <td>5072</td>\n",
       "      <td>False</td>\n",
       "      <td>2021-05-26</td>\n",
       "      <td>What’s happening @myogiadityanath ji? This is insane #CovishieldVaccine #Covaxin @srinivasiyc \\n\\nhttps://t.co/fMXdeEuPaS</td>\n",
       "      <td>['CovishieldVaccine', 'Covaxin']</td>\n",
       "      <td>Twitter for iPhone</td>\n",
       "      <td>0</td>\n",
       "      <td>1</td>\n",
       "      <td>False</td>\n",
       "      <td>-1.0</td>\n",
       "      <td>1.0</td>\n",
       "      <td>negative</td>\n",
       "    </tr>\n",
       "    <tr>\n",
       "      <th>18</th>\n",
       "      <td>1379698602612645891</td>\n",
       "      <td>Nikhil K.</td>\n",
       "      <td>Mumbai, India</td>\n",
       "      <td>Political Commentator. Media Professional. Scotch Lover. Ghazal Enthusiast. (Moving to this new account from the old one)\\n जय हिंद, जय महाराष्ट्र 🇮🇳</td>\n",
       "      <td>2021-03-31 14:12:21</td>\n",
       "      <td>27</td>\n",
       "      <td>345</td>\n",
       "      <td>71</td>\n",
       "      <td>False</td>\n",
       "      <td>2021-04-07</td>\n",
       "      <td>@PritishNandy Vicious people like you are treating the #Indian vaccines like #Covishield and #Covaxin with derision… https://t.co/j18FUfeDfv</td>\n",
       "      <td>['Indian', 'Covishield', 'Covaxin']</td>\n",
       "      <td>Twitter for Android</td>\n",
       "      <td>0</td>\n",
       "      <td>1</td>\n",
       "      <td>False</td>\n",
       "      <td>-1.0</td>\n",
       "      <td>1.0</td>\n",
       "      <td>negative</td>\n",
       "    </tr>\n",
       "    <tr>\n",
       "      <th>19</th>\n",
       "      <td>1415235934962929665</td>\n",
       "      <td>Prabhat Sinha 🇮🇳</td>\n",
       "      <td>New Delhi, India</td>\n",
       "      <td>Mediator &amp; Government Relations Past: Biz Consulting. Advertising. Broadcasting &amp; Digital. Lecturer Speaker. Writer. Mentor. https://t.co/ofpekZihl9</td>\n",
       "      <td>2010-08-14 09:42:34</td>\n",
       "      <td>940</td>\n",
       "      <td>1516</td>\n",
       "      <td>1663</td>\n",
       "      <td>False</td>\n",
       "      <td>2021-07-14</td>\n",
       "      <td>@Smita_Sharma @China_Amb_India @EOIBeijing @mukhia_ji #covaxin must get recognised. Or it’s horrible for them to go… https://t.co/Jq9kIYswwK</td>\n",
       "      <td>['covaxin']</td>\n",
       "      <td>Twitter for iPhone</td>\n",
       "      <td>1</td>\n",
       "      <td>2</td>\n",
       "      <td>False</td>\n",
       "      <td>-1.0</td>\n",
       "      <td>1.0</td>\n",
       "      <td>negative</td>\n",
       "    </tr>\n",
       "  </tbody>\n",
       "</table>\n",
       "</div>"
      ],
      "text/plain": [
       "                     id            user_name            user_location  \\\n",
       "0   1403222820742602759               Surupa           Kolkata, India   \n",
       "1   1403351212078997511             Shre Mys            Mysore, India   \n",
       "2   1421463826772369410           Yogi Patel                    India   \n",
       "3   1367125195664818178     Prasenjit Bhakat  Jhargram,W Bengal,India   \n",
       "4   1422607546288726023        FirstNameJohn     United States Circus   \n",
       "5   1393887353236705281               अजित..            Nashik, India   \n",
       "6   1367125088739418112     Prasenjit Bhakat  Jhargram,W Bengal,India   \n",
       "7   1422257222306906121     Sansani Reporter           Meme-dia House   \n",
       "8   1382365264969228289          Bhakt 🇮🇳🌷🇮🇳         वसुधैव कुटुंबकम्   \n",
       "9   1385019433161170944             theHammy          California, USA   \n",
       "10  1384767178528858114      shreekant kumar    Ahmadabad City, India   \n",
       "11  1384922242912505857               Gurjot            Punjab, India   \n",
       "12  1410647772102119430                  ROZ               Wales U.K.   \n",
       "13  1422262771778007043     Sansani Reporter           Meme-dia House   \n",
       "14  1394539072744431619       Akriti Dokania          London, England   \n",
       "15  1376975759776968706       Rupinder Sayal                    India   \n",
       "16  1384841482654261250  Sri Sri Mumbaitiger  ÜT: 18.987942,72.813965   \n",
       "17  1397500620005806086      Animesh Bishnoi                    बनारस   \n",
       "18  1379698602612645891            Nikhil K.            Mumbai, India   \n",
       "19  1415235934962929665     Prabhat Sinha 🇮🇳         New Delhi, India   \n",
       "\n",
       "                                                                                                                                                   user_description  \\\n",
       "0                                                                                                                                   Data analyst|Baker|Entrepreneur   \n",
       "1                                                                                                     engg. , aviation n rail enthusiasm, lambo fan,\\nBorn Mysorean   \n",
       "2    Digital Marketer.🚩\\nInterested in anything and everything. If I'm following you, you're a classic memer/educator/domain expert/statistician/my twitter crush 😃   \n",
       "3   Past President (2011-12): Rotary Jhargram Green, Rotary Int'l Dist 3291;\\r\\n \\r\\n\\r\\n\\r\\n\\r\\n\\r\\n\\r\\n\\r\\nConsumer Activist,Secretary: Consumer Guidance Center.   \n",
       "4                                                                                    Don't Listen To Me!! “Ring The F$&@ing Bell You Pansy” - Joseph \"Blue\" Pulaski   \n",
       "5                                                                                                                                                         भारतीय 🇮🇳   \n",
       "6   Past President (2011-12): Rotary Jhargram Green, Rotary Int'l Dist 3291;\\r\\n \\r\\n\\r\\n\\r\\n\\r\\n\\r\\n\\r\\n\\r\\nConsumer Activist,Secretary: Consumer Guidance Center.   \n",
       "7                                                       Take The Vax anyway you're sheep and Television Watching News Believer\\nBut don't force your Kids or anyone   \n",
       "8                                   #MainBhiChowkidar🌷'अहिंसा परमोधर्म: धर्म हिंसा तदैवच'\\nRetweets are not my views.Follod by @GKapoor.\\nBJP membership 1073738617   \n",
       "9                                                                                                                                                          A human.   \n",
       "10                                         Development sector professional, RTs are no endorsement and my views are my personal and not represent any organisation.   \n",
       "11                                                                                               BEING MALE IS MATTER OF BIRTH\\nBEING GENTLEMEN IS MATTER OF CHOICE   \n",
       "12  Free spirit - artist 😄 there’s treatment Vit D Ivermectin Zinc fights cv! trying to follow the awake to see how many we are!!  #freelivesmatter #enoughisenough   \n",
       "13                                                      Take The Vax anyway you're sheep and Television Watching News Believer\\nBut don't force your Kids or anyone   \n",
       "14                                      VC at 🐙 but at heart a full time product manager (ex-MSFT). 'Inclusion' is what needs to happen next. Tweets here are mine.   \n",
       "15                                                                                         Biologist by training, and loves to teach! Founder of Spartan Tutorials.   \n",
       "16                                             Mumbaikar. Loves cats, cricket and politics.  \\nMotto: Don't ask what you can do for country. Ask what is for lunch.   \n",
       "17                                                                           Education sector #India #Politics #TeamIndia #CenterTiltedRight #IAmNewIndia #MMA #CR7   \n",
       "18            Political Commentator. Media Professional. Scotch Lover. Ghazal Enthusiast. (Moving to this new account from the old one)\\n जय हिंद, जय महाराष्ट्र 🇮🇳   \n",
       "19             Mediator & Government Relations Past: Biz Consulting. Advertising. Broadcasting & Digital. Lecturer Speaker. Writer. Mentor. https://t.co/ofpekZihl9   \n",
       "\n",
       "           user_created  user_followers  user_friends  user_favourites  \\\n",
       "0   2016-10-02 05:29:59              41            43              329   \n",
       "1   2019-10-28 17:03:34              63            31            10036   \n",
       "2   2009-06-28 10:34:24             349           890            24165   \n",
       "3   2009-08-31 02:14:30             390          1658             5071   \n",
       "4   2009-04-18 14:22:22              68            33             1029   \n",
       "5   2010-07-31 18:14:44             248           630             6469   \n",
       "6   2009-08-31 02:14:30             390          1658             5071   \n",
       "7   2021-06-18 07:52:34             148           790             3217   \n",
       "8   2014-01-25 09:19:52             390           389            50014   \n",
       "9   2016-09-25 10:59:03              62           154            12414   \n",
       "10  2010-09-02 14:23:21             204           546            71688   \n",
       "11  2019-04-18 04:06:02              14            37              973   \n",
       "12  2020-12-20 08:44:41            1448          2492            33495   \n",
       "13  2021-06-18 07:52:34             148           790             3217   \n",
       "14  2010-05-23 04:13:59             509           813              974   \n",
       "15  2010-10-31 18:19:15             220          1043             4557   \n",
       "16  2009-10-23 07:19:14             209           835              491   \n",
       "17  2010-05-05 20:58:40             530           575             5072   \n",
       "18  2021-03-31 14:12:21              27           345               71   \n",
       "19  2010-08-14 09:42:34             940          1516             1663   \n",
       "\n",
       "    user_verified        date  \\\n",
       "0           False  2021-06-11   \n",
       "1           False  2021-06-11   \n",
       "2           False  2021-07-31   \n",
       "3           False  2021-03-03   \n",
       "4           False  2021-08-03   \n",
       "5           False  2021-05-16   \n",
       "6           False  2021-03-03   \n",
       "7           False  2021-08-02   \n",
       "8           False  2021-04-14   \n",
       "9           False  2021-04-21   \n",
       "10          False  2021-04-21   \n",
       "11          False  2021-04-21   \n",
       "12          False  2021-07-01   \n",
       "13          False  2021-08-02   \n",
       "14          False  2021-05-18   \n",
       "15          False  2021-03-30   \n",
       "16          False  2021-04-21   \n",
       "17          False  2021-05-26   \n",
       "18          False  2021-04-07   \n",
       "19          False  2021-07-14   \n",
       "\n",
       "                                                                                                                                               text  \\\n",
       "0                                                       @ajay43 And I m still feeling horrible after yesterday’s jab 😫#Covaxin , grocery #Petrol 😫😫   \n",
       "1                                 @sandeeprrao1991 Annoyingly I had to take #covaxin instead of #Covishield \\nI may have to make India Tour now !!!   \n",
       "2       @sardesairajdeep @GKangInd Why this vicious lady is NOT booked for spreading vaccine hesitancy against #COVAXIN is… https://t.co/EDC9FUz2PL   \n",
       "3      @ShamikaRavi @BharatBiotech Shocking #clinicaltrials of COVAXIN #COVID19Vaccine. Signs of #Covaxin recipients taken… https://t.co/kWLuW6tz0i   \n",
       "4       We are not anti-vax you idiots! We are not test dummies! Give us #COVAXIN @FDA @BharatBiotech @WHO @Ocugen @US_FDA… https://t.co/1fGEqo2ZAt   \n",
       "5                                                        That's horrible..\\n#CovishieldVaccine \\n#covaxin \\n#BlackMarketing https://t.co/hRFawKzuBb   \n",
       "6      @gurpreetscheema @Milan_reports @BharatBiotech @IndiaToday Shocking #clinicaltrials of COVAXIN #COVID19Vaccine. Sig… https://t.co/1Baj3QqeRk   \n",
       "7   @kmgav @SreenivasanJain @OnReality_Check I see it as Worst way of Justifying vaccine Deaths\\n#COVAXIN \\n\\nif you don't… https://t.co/iYx7taswDB   \n",
       "8             A shocking incident:\\nRajasthan where 320 doses of #Covaxin vaccine were stolen from the @INCIndia office in… https://t.co/fDPB1kezPi   \n",
       "9           🚨🚨🚨#OCGN with an insane After Hours Run!!! Look at that.\\nCovaxin News\\n#Bullish $OCGN #WeBull #MOASS #Covaxin… https://t.co/njmG0HojP1   \n",
       "10      I hope people doubting #covaxin will take note of it. What a pathetic scene it was when head of Bharat Biotech was… https://t.co/rD1v6xXTWO   \n",
       "11                                                  Worst decision ever by govt to charge for vaccine. #Covishield #Covaxin https://t.co/pJqOn0oLvH   \n",
       "12     How does a drug that treats the nasty get ignored ? 👉#ivermectin #ToryLies #Covaxin #IndiaFightsCorona #AstraZenaca… https://t.co/SJY2GtOL5S   \n",
       "13                                                       @Abhishe37105730 Worst way to justify Deaths after vax\\n#COVAXIN \\nhttps://t.co/kS3fMW4aRS   \n",
       "14                                                            @bppoddar terrible and horrible arrangements. No one should get jabbed here. #covaxin   \n",
       "15                                This is some seriously horrible piece of news.\\n#COVID19Vaccine #Covaxin #bharatbiotech \\nhttps://t.co/93zBSjgAKr   \n",
       "16            Spread ro anyone who is afraid of taking vaccine!!! #VaccinesWork #CovidVaccine #COVID19 #Covishield #Covaxin https://t.co/88ITsUJ3yB   \n",
       "17                        What’s happening @myogiadityanath ji? This is insane #CovishieldVaccine #Covaxin @srinivasiyc \\n\\nhttps://t.co/fMXdeEuPaS   \n",
       "18     @PritishNandy Vicious people like you are treating the #Indian vaccines like #Covishield and #Covaxin with derision… https://t.co/j18FUfeDfv   \n",
       "19     @Smita_Sharma @China_Amb_India @EOIBeijing @mukhia_ji #covaxin must get recognised. Or it’s horrible for them to go… https://t.co/Jq9kIYswwK   \n",
       "\n",
       "                                                                     hashtags  \\\n",
       "0                                                       ['Covaxin', 'Petrol']   \n",
       "1                                                   ['covaxin', 'Covishield']   \n",
       "2                                                                 ['COVAXIN']   \n",
       "3                             ['clinicaltrials', 'COVID19Vaccine', 'Covaxin']   \n",
       "4                                                                 ['COVAXIN']   \n",
       "5                          ['CovishieldVaccine', 'covaxin', 'BlackMarketing']   \n",
       "6                                        ['clinicaltrials', 'COVID19Vaccine']   \n",
       "7                                                                 ['COVAXIN']   \n",
       "8                                                                 ['Covaxin']   \n",
       "9                           ['OCGN', 'Bullish', 'WeBull', 'MOASS', 'Covaxin']   \n",
       "10                                                                ['covaxin']   \n",
       "11                                                  ['Covishield', 'Covaxin']   \n",
       "12  ['ivermectin', 'ToryLies', 'Covaxin', 'IndiaFightsCorona', 'AstraZenaca']   \n",
       "13                                                                ['COVAXIN']   \n",
       "14                                                                ['covaxin']   \n",
       "15                             ['COVID19Vaccine', 'Covaxin', 'bharatbiotech']   \n",
       "16       ['VaccinesWork', 'CovidVaccine', 'COVID19', 'Covishield', 'Covaxin']   \n",
       "17                                           ['CovishieldVaccine', 'Covaxin']   \n",
       "18                                        ['Indian', 'Covishield', 'Covaxin']   \n",
       "19                                                                ['covaxin']   \n",
       "\n",
       "                 source  retweets  favorites  is_retweet  polarity  \\\n",
       "0    Twitter for iPhone         0          3       False      -1.0   \n",
       "1       Twitter Web App         0          1       False      -1.0   \n",
       "2   Twitter for Android         0          0       False      -1.0   \n",
       "3       Twitter Web App         0          0       False      -1.0   \n",
       "4    Twitter for iPhone         4         14       False      -1.0   \n",
       "5   Twitter for Android         0          0       False      -1.0   \n",
       "6       Twitter Web App         0          0       False      -1.0   \n",
       "7       Twitter Web App         0          0       False      -1.0   \n",
       "8   Twitter for Android         0          1       False      -1.0   \n",
       "9    Twitter for iPhone         0          0       False      -1.0   \n",
       "10  Twitter for Android         0          1       False      -1.0   \n",
       "11  Twitter for Android         0          1       False      -1.0   \n",
       "12   Twitter for iPhone         3          2       False      -1.0   \n",
       "13      Twitter Web App         0          0       False      -1.0   \n",
       "14   Twitter for iPhone         0          0       False      -1.0   \n",
       "15      Twitter Web App         0          0       False      -1.0   \n",
       "16  Twitter for Android         0          0       False      -1.0   \n",
       "17   Twitter for iPhone         0          1       False      -1.0   \n",
       "18  Twitter for Android         0          1       False      -1.0   \n",
       "19   Twitter for iPhone         1          2       False      -1.0   \n",
       "\n",
       "    subjectivity sentiment  \n",
       "0            1.0  negative  \n",
       "1            0.9  negative  \n",
       "2            1.0  negative  \n",
       "3            1.0  negative  \n",
       "4            0.8  negative  \n",
       "5            1.0  negative  \n",
       "6            1.0  negative  \n",
       "7            1.0  negative  \n",
       "8            1.0  negative  \n",
       "9            1.0  negative  \n",
       "10           1.0  negative  \n",
       "11           1.0  negative  \n",
       "12           1.0  negative  \n",
       "13           1.0  negative  \n",
       "14           1.0  negative  \n",
       "15           1.0  negative  \n",
       "16           0.9  negative  \n",
       "17           1.0  negative  \n",
       "18           1.0  negative  \n",
       "19           1.0  negative  "
      ]
     },
     "execution_count": 129,
     "metadata": {},
     "output_type": "execute_result"
    }
   ],
   "source": [
    "covaxin_df, covaxin_timeline = filter_by_vaccy(df, ['covaxin'])\n",
    "covaxin_df.sort_values(by='polarity', ascending=True).reset_index(drop=True).head(n=20)"
   ]
  },
  {
   "cell_type": "code",
   "execution_count": null,
   "metadata": {},
   "outputs": [],
   "source": []
  },
  {
   "cell_type": "code",
   "execution_count": null,
   "metadata": {},
   "outputs": [],
   "source": []
  },
  {
   "cell_type": "code",
   "execution_count": null,
   "metadata": {},
   "outputs": [],
   "source": []
  },
  {
   "cell_type": "code",
   "execution_count": null,
   "metadata": {},
   "outputs": [],
   "source": []
  }
 ],
 "metadata": {
  "colab": {
   "collapsed_sections": [],
   "name": "DS4B: NLP Workshop",
   "provenance": [],
   "toc_visible": true
  },
  "kernelspec": {
   "display_name": "Python 3",
   "language": "python",
   "name": "python3"
  },
  "language_info": {
   "codemirror_mode": {
    "name": "ipython",
    "version": 3
   },
   "file_extension": ".py",
   "mimetype": "text/x-python",
   "name": "python",
   "nbconvert_exporter": "python",
   "pygments_lexer": "ipython3",
   "version": "3.9.5"
  },
  "toc": {
   "base_numbering": 1,
   "nav_menu": {},
   "number_sections": false,
   "sideBar": true,
   "skip_h1_title": false,
   "title_cell": "Table of Contents",
   "title_sidebar": "Contents",
   "toc_cell": false,
   "toc_position": {},
   "toc_section_display": true,
   "toc_window_display": false
  },
  "varInspector": {
   "cols": {
    "lenName": 16,
    "lenType": 16,
    "lenVar": 40
   },
   "kernels_config": {
    "python": {
     "delete_cmd_postfix": "",
     "delete_cmd_prefix": "del ",
     "library": "var_list.py",
     "varRefreshCmd": "print(var_dic_list())"
    },
    "r": {
     "delete_cmd_postfix": ") ",
     "delete_cmd_prefix": "rm(",
     "library": "var_list.r",
     "varRefreshCmd": "cat(var_dic_list()) "
    }
   },
   "types_to_exclude": [
    "module",
    "function",
    "builtin_function_or_method",
    "instance",
    "_Feature"
   ],
   "window_display": false
  }
 },
 "nbformat": 4,
 "nbformat_minor": 1
}
